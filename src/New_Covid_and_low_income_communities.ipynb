{
 "metadata": {
  "language_info": {
   "codemirror_mode": {
    "name": "ipython",
    "version": 3
   },
   "file_extension": ".py",
   "mimetype": "text/x-python",
   "name": "python",
   "nbconvert_exporter": "python",
   "pygments_lexer": "ipython3",
   "version": "3.8.6-final"
  },
  "orig_nbformat": 2,
  "kernelspec": {
   "name": "python3",
   "display_name": "Python 3.8.6 64-bit",
   "metadata": {
    "interpreter": {
     "hash": "c2316e4715708642abe7c846478028027e1ce27bd63622a3ee2c35bd906806a9"
    }
   }
  }
 },
 "nbformat": 4,
 "nbformat_minor": 2,
 "cells": [
  {
   "source": [
    "# Setup Dependencies for Notebook use"
   ],
   "cell_type": "markdown",
   "metadata": {}
  },
  {
   "cell_type": "code",
   "execution_count": 365,
   "metadata": {},
   "outputs": [],
   "source": [
    "# Dependencies\n",
    "import matplotlib.pyplot as plt\n",
    "import pandas as pd\n",
    "import scipy.stats as st\n",
    "import numpy as np\n",
    "import requests as rq\n",
    "import random as rnd\n",
    "import gmaps\n",
    "import os\n",
    "import json\n",
    "import time\n",
    "\n",
    "# Import API key\n",
    "import config\n",
    "\n",
    "# Configure gmaps\n",
    "gkey = config.gkey\n",
    "gmaps.configure(api_key=gkey)"
   ]
  },
  {
   "source": [
    "# Data Extraction - Setting relative path | Importing csv files in directory | Reading in with Pandas"
   ],
   "cell_type": "markdown",
   "metadata": {}
  },
  {
   "cell_type": "code",
   "execution_count": 366,
   "metadata": {},
   "outputs": [],
   "source": [
    "notebook_path = os.getcwd()\n",
    "parent_dir = notebook_path[0:-4]"
   ]
  },
  {
   "cell_type": "code",
   "execution_count": 367,
   "metadata": {},
   "outputs": [],
   "source": [
    "dataset_filelist = [\"1_county_level_confirmed_cases.csv\",\"2_cases_and_deaths_by_county_timeseries.csv\",\"weekly-claims-by-county-twc.csv\",\"texas_county_med_income.csv\"]\n",
    "for csv in dataset_filelist:   \n",
    "    for root, dirs, files in os.walk(parent_dir):\n",
    "        if csv in files:\n",
    "            if csv == dataset_filelist[0]:\n",
    "                covid_dataset1 = (os.path.join(root, csv))\n",
    "            elif csv == dataset_filelist[1]:\n",
    "               covid_dataset2 =  (os.path.join(root, csv))\n",
    "            elif csv == dataset_filelist[2]:\n",
    "               unemployment_dataset =  (os.path.join(root, csv))\n",
    "            else:\n",
    "                texas_median_income = (os.path.join(root, csv))"
   ]
  },
  {
   "cell_type": "code",
   "execution_count": 368,
   "metadata": {},
   "outputs": [],
   "source": [
    "ConfirmedByCounty_Covid = pd.read_csv('https://query.data.world/s/tmtcsyi5cadisfgsziloo4c7sesaon') # Dataset covid_dataset1 can be used as a subsuite for live data grab. limited by date of csv download\n",
    "CaseDeathsBy_County_timeseries = pd.read_csv('https://query.data.world/s/ipaqguramdyfp27ppx72n3sgtkj6xu', parse_dates=['date']) # Dataset covid_dataset2 can be used as a subsuite for live data grab. limited by date of csv download\n",
    "unemployment_dataset = pd.read_csv(unemployment_dataset)\n",
    "texas_median_income = pd.read_csv(texas_median_income)"
   ]
  },
  {
   "source": [
    "#  Initial Data Review - Take a look at data in raw form after loading with Pandas"
   ],
   "cell_type": "markdown",
   "metadata": {}
  },
  {
   "cell_type": "code",
   "execution_count": 369,
   "metadata": {},
   "outputs": [
    {
     "output_type": "execute_result",
     "data": {
      "text/plain": [
       "               last_update location_type    state county_name  \\\n",
       "0  2020-11-20 00:26:45 UTC        county  Alabama     Autauga   \n",
       "1  2020-11-20 00:26:45 UTC        county  Alabama     Baldwin   \n",
       "2  2020-11-20 00:26:45 UTC        county  Alabama     Barbour   \n",
       "3  2020-11-20 00:26:45 UTC        county  Alabama        Bibb   \n",
       "4  2020-11-20 00:26:45 UTC        county  Alabama      Blount   \n",
       "\n",
       "       county_name_long  fips_code        lat        lon   NCHS_urbanization  \\\n",
       "0  Autauga, Alabama, US     1001.0  32.539527 -86.644082        Medium metro   \n",
       "1  Baldwin, Alabama, US     1003.0  30.727750 -87.722071         Small metro   \n",
       "2  Barbour, Alabama, US     1005.0  31.868263 -85.387129            Non-core   \n",
       "3     Bibb, Alabama, US     1007.0  32.996421 -87.125115  Large fringe metro   \n",
       "4   Blount, Alabama, US     1009.0  33.982109 -86.567906  Large fringe metro   \n",
       "\n",
       "   total_population  confirmed  confirmed_per_100000  deaths  \\\n",
       "0           55200.0       2554               4626.81      39   \n",
       "1          208107.0       7933               3811.98      84   \n",
       "2           25782.0       1145               4441.08      10   \n",
       "3           22527.0       1011               4487.95      18   \n",
       "4           57645.0       2683               4654.35      35   \n",
       "\n",
       "   deaths_per_100000  \n",
       "0              70.65  \n",
       "1              40.36  \n",
       "2              38.79  \n",
       "3              79.90  \n",
       "4              60.72  "
      ],
      "text/html": "<div>\n<style scoped>\n    .dataframe tbody tr th:only-of-type {\n        vertical-align: middle;\n    }\n\n    .dataframe tbody tr th {\n        vertical-align: top;\n    }\n\n    .dataframe thead th {\n        text-align: right;\n    }\n</style>\n<table border=\"1\" class=\"dataframe\">\n  <thead>\n    <tr style=\"text-align: right;\">\n      <th></th>\n      <th>last_update</th>\n      <th>location_type</th>\n      <th>state</th>\n      <th>county_name</th>\n      <th>county_name_long</th>\n      <th>fips_code</th>\n      <th>lat</th>\n      <th>lon</th>\n      <th>NCHS_urbanization</th>\n      <th>total_population</th>\n      <th>confirmed</th>\n      <th>confirmed_per_100000</th>\n      <th>deaths</th>\n      <th>deaths_per_100000</th>\n    </tr>\n  </thead>\n  <tbody>\n    <tr>\n      <th>0</th>\n      <td>2020-11-20 00:26:45 UTC</td>\n      <td>county</td>\n      <td>Alabama</td>\n      <td>Autauga</td>\n      <td>Autauga, Alabama, US</td>\n      <td>1001.0</td>\n      <td>32.539527</td>\n      <td>-86.644082</td>\n      <td>Medium metro</td>\n      <td>55200.0</td>\n      <td>2554</td>\n      <td>4626.81</td>\n      <td>39</td>\n      <td>70.65</td>\n    </tr>\n    <tr>\n      <th>1</th>\n      <td>2020-11-20 00:26:45 UTC</td>\n      <td>county</td>\n      <td>Alabama</td>\n      <td>Baldwin</td>\n      <td>Baldwin, Alabama, US</td>\n      <td>1003.0</td>\n      <td>30.727750</td>\n      <td>-87.722071</td>\n      <td>Small metro</td>\n      <td>208107.0</td>\n      <td>7933</td>\n      <td>3811.98</td>\n      <td>84</td>\n      <td>40.36</td>\n    </tr>\n    <tr>\n      <th>2</th>\n      <td>2020-11-20 00:26:45 UTC</td>\n      <td>county</td>\n      <td>Alabama</td>\n      <td>Barbour</td>\n      <td>Barbour, Alabama, US</td>\n      <td>1005.0</td>\n      <td>31.868263</td>\n      <td>-85.387129</td>\n      <td>Non-core</td>\n      <td>25782.0</td>\n      <td>1145</td>\n      <td>4441.08</td>\n      <td>10</td>\n      <td>38.79</td>\n    </tr>\n    <tr>\n      <th>3</th>\n      <td>2020-11-20 00:26:45 UTC</td>\n      <td>county</td>\n      <td>Alabama</td>\n      <td>Bibb</td>\n      <td>Bibb, Alabama, US</td>\n      <td>1007.0</td>\n      <td>32.996421</td>\n      <td>-87.125115</td>\n      <td>Large fringe metro</td>\n      <td>22527.0</td>\n      <td>1011</td>\n      <td>4487.95</td>\n      <td>18</td>\n      <td>79.90</td>\n    </tr>\n    <tr>\n      <th>4</th>\n      <td>2020-11-20 00:26:45 UTC</td>\n      <td>county</td>\n      <td>Alabama</td>\n      <td>Blount</td>\n      <td>Blount, Alabama, US</td>\n      <td>1009.0</td>\n      <td>33.982109</td>\n      <td>-86.567906</td>\n      <td>Large fringe metro</td>\n      <td>57645.0</td>\n      <td>2683</td>\n      <td>4654.35</td>\n      <td>35</td>\n      <td>60.72</td>\n    </tr>\n  </tbody>\n</table>\n</div>"
     },
     "metadata": {},
     "execution_count": 369
    }
   ],
   "source": [
    "# Covid-19 cases by county as of date in last_update column - Overall Confirms and Deaths\n",
    "ConfirmedByCounty_Covid.head()"
   ]
  },
  {
   "cell_type": "code",
   "execution_count": 370,
   "metadata": {},
   "outputs": [
    {
     "output_type": "execute_result",
     "data": {
      "text/plain": [
       "        uid location_type  fips_code location_name        state       date  \\\n",
       "0  63072001        county    72001.0      Adjuntas  Puerto Rico 2020-01-22   \n",
       "1  63072001        county    72001.0      Adjuntas  Puerto Rico 2020-01-23   \n",
       "2  63072001        county    72001.0      Adjuntas  Puerto Rico 2020-01-24   \n",
       "3  63072001        county    72001.0      Adjuntas  Puerto Rico 2020-01-25   \n",
       "4  63072001        county    72001.0      Adjuntas  Puerto Rico 2020-01-26   \n",
       "\n",
       "   total_population  cumulative_cases  cumulative_cases_per_100_000  \\\n",
       "0           18181.0                 0                           0.0   \n",
       "1           18181.0                 0                           0.0   \n",
       "2           18181.0                 0                           0.0   \n",
       "3           18181.0                 0                           0.0   \n",
       "4           18181.0                 0                           0.0   \n",
       "\n",
       "   cumulative_deaths  cumulative_deaths_per_100_000  new_cases  new_deaths  \\\n",
       "0                  0                            0.0        NaN         NaN   \n",
       "1                  0                            0.0        0.0         0.0   \n",
       "2                  0                            0.0        0.0         0.0   \n",
       "3                  0                            0.0        0.0         0.0   \n",
       "4                  0                            0.0        0.0         0.0   \n",
       "\n",
       "   new_cases_per_100_000  new_deaths_per_100_000  new_cases_7_day_rolling_avg  \\\n",
       "0                    NaN                     NaN                          NaN   \n",
       "1                    0.0                     0.0                          NaN   \n",
       "2                    0.0                     0.0                          NaN   \n",
       "3                    0.0                     0.0                          NaN   \n",
       "4                    0.0                     0.0                          NaN   \n",
       "\n",
       "   new_deaths_7_day_rolling_avg  \n",
       "0                           NaN  \n",
       "1                           NaN  \n",
       "2                           NaN  \n",
       "3                           NaN  \n",
       "4                           NaN  "
      ],
      "text/html": "<div>\n<style scoped>\n    .dataframe tbody tr th:only-of-type {\n        vertical-align: middle;\n    }\n\n    .dataframe tbody tr th {\n        vertical-align: top;\n    }\n\n    .dataframe thead th {\n        text-align: right;\n    }\n</style>\n<table border=\"1\" class=\"dataframe\">\n  <thead>\n    <tr style=\"text-align: right;\">\n      <th></th>\n      <th>uid</th>\n      <th>location_type</th>\n      <th>fips_code</th>\n      <th>location_name</th>\n      <th>state</th>\n      <th>date</th>\n      <th>total_population</th>\n      <th>cumulative_cases</th>\n      <th>cumulative_cases_per_100_000</th>\n      <th>cumulative_deaths</th>\n      <th>cumulative_deaths_per_100_000</th>\n      <th>new_cases</th>\n      <th>new_deaths</th>\n      <th>new_cases_per_100_000</th>\n      <th>new_deaths_per_100_000</th>\n      <th>new_cases_7_day_rolling_avg</th>\n      <th>new_deaths_7_day_rolling_avg</th>\n    </tr>\n  </thead>\n  <tbody>\n    <tr>\n      <th>0</th>\n      <td>63072001</td>\n      <td>county</td>\n      <td>72001.0</td>\n      <td>Adjuntas</td>\n      <td>Puerto Rico</td>\n      <td>2020-01-22</td>\n      <td>18181.0</td>\n      <td>0</td>\n      <td>0.0</td>\n      <td>0</td>\n      <td>0.0</td>\n      <td>NaN</td>\n      <td>NaN</td>\n      <td>NaN</td>\n      <td>NaN</td>\n      <td>NaN</td>\n      <td>NaN</td>\n    </tr>\n    <tr>\n      <th>1</th>\n      <td>63072001</td>\n      <td>county</td>\n      <td>72001.0</td>\n      <td>Adjuntas</td>\n      <td>Puerto Rico</td>\n      <td>2020-01-23</td>\n      <td>18181.0</td>\n      <td>0</td>\n      <td>0.0</td>\n      <td>0</td>\n      <td>0.0</td>\n      <td>0.0</td>\n      <td>0.0</td>\n      <td>0.0</td>\n      <td>0.0</td>\n      <td>NaN</td>\n      <td>NaN</td>\n    </tr>\n    <tr>\n      <th>2</th>\n      <td>63072001</td>\n      <td>county</td>\n      <td>72001.0</td>\n      <td>Adjuntas</td>\n      <td>Puerto Rico</td>\n      <td>2020-01-24</td>\n      <td>18181.0</td>\n      <td>0</td>\n      <td>0.0</td>\n      <td>0</td>\n      <td>0.0</td>\n      <td>0.0</td>\n      <td>0.0</td>\n      <td>0.0</td>\n      <td>0.0</td>\n      <td>NaN</td>\n      <td>NaN</td>\n    </tr>\n    <tr>\n      <th>3</th>\n      <td>63072001</td>\n      <td>county</td>\n      <td>72001.0</td>\n      <td>Adjuntas</td>\n      <td>Puerto Rico</td>\n      <td>2020-01-25</td>\n      <td>18181.0</td>\n      <td>0</td>\n      <td>0.0</td>\n      <td>0</td>\n      <td>0.0</td>\n      <td>0.0</td>\n      <td>0.0</td>\n      <td>0.0</td>\n      <td>0.0</td>\n      <td>NaN</td>\n      <td>NaN</td>\n    </tr>\n    <tr>\n      <th>4</th>\n      <td>63072001</td>\n      <td>county</td>\n      <td>72001.0</td>\n      <td>Adjuntas</td>\n      <td>Puerto Rico</td>\n      <td>2020-01-26</td>\n      <td>18181.0</td>\n      <td>0</td>\n      <td>0.0</td>\n      <td>0</td>\n      <td>0.0</td>\n      <td>0.0</td>\n      <td>0.0</td>\n      <td>0.0</td>\n      <td>0.0</td>\n      <td>NaN</td>\n      <td>NaN</td>\n    </tr>\n  </tbody>\n</table>\n</div>"
     },
     "metadata": {},
     "execution_count": 370
    }
   ],
   "source": [
    "# Covid-19 cases by county timeseries cumulative outlook, start of pandemic to as of pull date\n",
    "CaseDeathsBy_County_timeseries.head()"
   ]
  },
  {
   "cell_type": "code",
   "execution_count": 371,
   "metadata": {},
   "outputs": [
    {
     "output_type": "execute_result",
     "data": {
      "text/plain": [
       "     County  11/7/2020  10/31/2020  10/24/2020  10/17/2020  10/10/2020  \\\n",
       "0  Anderson       51.0        42.0        79.0        54.0        63.0   \n",
       "1   Andrews       12.0        17.0        17.0        17.0        30.0   \n",
       "2  Angelina       83.0        77.0        89.0        80.0        98.0   \n",
       "3   Aransas       20.0        32.0        22.0        40.0        18.0   \n",
       "4    Archer        5.0         3.0         6.0         5.0        10.0   \n",
       "\n",
       "   10/3/2020  9/26/2020  9/19/2020  9/12/2020  ...  5/9/2020  5/2/2020  \\\n",
       "0       64.0       64.0       61.0       66.0  ...     153.0     181.0   \n",
       "1       25.0       21.0       18.0       32.0  ...      96.0     117.0   \n",
       "2      103.0      100.0      119.0      107.0  ...     273.0     463.0   \n",
       "3       26.0       35.0       25.0       31.0  ...      92.0     154.0   \n",
       "4        6.0        5.0        4.0        5.0  ...      20.0      32.0   \n",
       "\n",
       "   4/25/2020  4/18/2020  4/11/2020  4/4/2020  3/28/2020  3/21/2020  3/14/2020  \\\n",
       "0      176.0      183.0      205.0     252.0      180.0      101.0       18.0   \n",
       "1      133.0      143.0      165.0     143.0       95.0       50.0       16.0   \n",
       "2      388.0      449.0      495.0     689.0      452.0      227.0       37.0   \n",
       "3      109.0      160.0      155.0     230.0      217.0       70.0       10.0   \n",
       "4       24.0       41.0       34.0      58.0       42.0       20.0        1.0   \n",
       "\n",
       "   3/7/2020  \n",
       "0      20.0  \n",
       "1       1.0  \n",
       "2      37.0  \n",
       "3       9.0  \n",
       "4       2.0  \n",
       "\n",
       "[5 rows x 37 columns]"
      ],
      "text/html": "<div>\n<style scoped>\n    .dataframe tbody tr th:only-of-type {\n        vertical-align: middle;\n    }\n\n    .dataframe tbody tr th {\n        vertical-align: top;\n    }\n\n    .dataframe thead th {\n        text-align: right;\n    }\n</style>\n<table border=\"1\" class=\"dataframe\">\n  <thead>\n    <tr style=\"text-align: right;\">\n      <th></th>\n      <th>County</th>\n      <th>11/7/2020</th>\n      <th>10/31/2020</th>\n      <th>10/24/2020</th>\n      <th>10/17/2020</th>\n      <th>10/10/2020</th>\n      <th>10/3/2020</th>\n      <th>9/26/2020</th>\n      <th>9/19/2020</th>\n      <th>9/12/2020</th>\n      <th>...</th>\n      <th>5/9/2020</th>\n      <th>5/2/2020</th>\n      <th>4/25/2020</th>\n      <th>4/18/2020</th>\n      <th>4/11/2020</th>\n      <th>4/4/2020</th>\n      <th>3/28/2020</th>\n      <th>3/21/2020</th>\n      <th>3/14/2020</th>\n      <th>3/7/2020</th>\n    </tr>\n  </thead>\n  <tbody>\n    <tr>\n      <th>0</th>\n      <td>Anderson</td>\n      <td>51.0</td>\n      <td>42.0</td>\n      <td>79.0</td>\n      <td>54.0</td>\n      <td>63.0</td>\n      <td>64.0</td>\n      <td>64.0</td>\n      <td>61.0</td>\n      <td>66.0</td>\n      <td>...</td>\n      <td>153.0</td>\n      <td>181.0</td>\n      <td>176.0</td>\n      <td>183.0</td>\n      <td>205.0</td>\n      <td>252.0</td>\n      <td>180.0</td>\n      <td>101.0</td>\n      <td>18.0</td>\n      <td>20.0</td>\n    </tr>\n    <tr>\n      <th>1</th>\n      <td>Andrews</td>\n      <td>12.0</td>\n      <td>17.0</td>\n      <td>17.0</td>\n      <td>17.0</td>\n      <td>30.0</td>\n      <td>25.0</td>\n      <td>21.0</td>\n      <td>18.0</td>\n      <td>32.0</td>\n      <td>...</td>\n      <td>96.0</td>\n      <td>117.0</td>\n      <td>133.0</td>\n      <td>143.0</td>\n      <td>165.0</td>\n      <td>143.0</td>\n      <td>95.0</td>\n      <td>50.0</td>\n      <td>16.0</td>\n      <td>1.0</td>\n    </tr>\n    <tr>\n      <th>2</th>\n      <td>Angelina</td>\n      <td>83.0</td>\n      <td>77.0</td>\n      <td>89.0</td>\n      <td>80.0</td>\n      <td>98.0</td>\n      <td>103.0</td>\n      <td>100.0</td>\n      <td>119.0</td>\n      <td>107.0</td>\n      <td>...</td>\n      <td>273.0</td>\n      <td>463.0</td>\n      <td>388.0</td>\n      <td>449.0</td>\n      <td>495.0</td>\n      <td>689.0</td>\n      <td>452.0</td>\n      <td>227.0</td>\n      <td>37.0</td>\n      <td>37.0</td>\n    </tr>\n    <tr>\n      <th>3</th>\n      <td>Aransas</td>\n      <td>20.0</td>\n      <td>32.0</td>\n      <td>22.0</td>\n      <td>40.0</td>\n      <td>18.0</td>\n      <td>26.0</td>\n      <td>35.0</td>\n      <td>25.0</td>\n      <td>31.0</td>\n      <td>...</td>\n      <td>92.0</td>\n      <td>154.0</td>\n      <td>109.0</td>\n      <td>160.0</td>\n      <td>155.0</td>\n      <td>230.0</td>\n      <td>217.0</td>\n      <td>70.0</td>\n      <td>10.0</td>\n      <td>9.0</td>\n    </tr>\n    <tr>\n      <th>4</th>\n      <td>Archer</td>\n      <td>5.0</td>\n      <td>3.0</td>\n      <td>6.0</td>\n      <td>5.0</td>\n      <td>10.0</td>\n      <td>6.0</td>\n      <td>5.0</td>\n      <td>4.0</td>\n      <td>5.0</td>\n      <td>...</td>\n      <td>20.0</td>\n      <td>32.0</td>\n      <td>24.0</td>\n      <td>41.0</td>\n      <td>34.0</td>\n      <td>58.0</td>\n      <td>42.0</td>\n      <td>20.0</td>\n      <td>1.0</td>\n      <td>2.0</td>\n    </tr>\n  </tbody>\n</table>\n<p>5 rows × 37 columns</p>\n</div>"
     },
     "metadata": {},
     "execution_count": 371
    }
   ],
   "source": [
    "# Texas county unemployment data timeseries - Data starts in march\n",
    "unemployment_dataset.head()"
   ]
  },
  {
   "cell_type": "code",
   "execution_count": 372,
   "metadata": {},
   "outputs": [
    {
     "output_type": "execute_result",
     "data": {
      "text/plain": [
       "     County Median Household Income\n",
       "0  Anderson                $45,969 \n",
       "1   Andrews                $84,946 \n",
       "2  Angelina                $46,653 \n",
       "3   Aransas                $46,912 \n",
       "4    Archer                $61,190 "
      ],
      "text/html": "<div>\n<style scoped>\n    .dataframe tbody tr th:only-of-type {\n        vertical-align: middle;\n    }\n\n    .dataframe tbody tr th {\n        vertical-align: top;\n    }\n\n    .dataframe thead th {\n        text-align: right;\n    }\n</style>\n<table border=\"1\" class=\"dataframe\">\n  <thead>\n    <tr style=\"text-align: right;\">\n      <th></th>\n      <th>County</th>\n      <th>Median Household Income</th>\n    </tr>\n  </thead>\n  <tbody>\n    <tr>\n      <th>0</th>\n      <td>Anderson</td>\n      <td>$45,969</td>\n    </tr>\n    <tr>\n      <th>1</th>\n      <td>Andrews</td>\n      <td>$84,946</td>\n    </tr>\n    <tr>\n      <th>2</th>\n      <td>Angelina</td>\n      <td>$46,653</td>\n    </tr>\n    <tr>\n      <th>3</th>\n      <td>Aransas</td>\n      <td>$46,912</td>\n    </tr>\n    <tr>\n      <th>4</th>\n      <td>Archer</td>\n      <td>$61,190</td>\n    </tr>\n  </tbody>\n</table>\n</div>"
     },
     "metadata": {},
     "execution_count": 372
    }
   ],
   "source": [
    "# Data set of median household income by Texas counties - Data source: U.S. Census Bureau. Small Area Income & Poverty Estimates. (2019)\n",
    "texas_median_income.head()"
   ]
  },
  {
   "source": [
    "# Data Cleansing - Removing unused data, corercting data types, getting rid of Incorrect or invalid data, etc..."
   ],
   "cell_type": "markdown",
   "metadata": {}
  },
  {
   "source": [
    "## Let's clean Texas Median Income"
   ],
   "cell_type": "markdown",
   "metadata": {}
  },
  {
   "cell_type": "code",
   "execution_count": 373,
   "metadata": {},
   "outputs": [],
   "source": [
    "texas_median_income['Median Household Income'] = texas_median_income['Median Household Income'].str.replace('$','').str.replace(',','').astype(float)"
   ]
  },
  {
   "cell_type": "code",
   "execution_count": 374,
   "metadata": {},
   "outputs": [
    {
     "output_type": "execute_result",
     "data": {
      "text/plain": [
       "     County  Median Household Income\n",
       "0  Anderson                  45969.0\n",
       "1   Andrews                  84946.0\n",
       "2  Angelina                  46653.0\n",
       "3   Aransas                  46912.0\n",
       "4    Archer                  61190.0"
      ],
      "text/html": "<div>\n<style scoped>\n    .dataframe tbody tr th:only-of-type {\n        vertical-align: middle;\n    }\n\n    .dataframe tbody tr th {\n        vertical-align: top;\n    }\n\n    .dataframe thead th {\n        text-align: right;\n    }\n</style>\n<table border=\"1\" class=\"dataframe\">\n  <thead>\n    <tr style=\"text-align: right;\">\n      <th></th>\n      <th>County</th>\n      <th>Median Household Income</th>\n    </tr>\n  </thead>\n  <tbody>\n    <tr>\n      <th>0</th>\n      <td>Anderson</td>\n      <td>45969.0</td>\n    </tr>\n    <tr>\n      <th>1</th>\n      <td>Andrews</td>\n      <td>84946.0</td>\n    </tr>\n    <tr>\n      <th>2</th>\n      <td>Angelina</td>\n      <td>46653.0</td>\n    </tr>\n    <tr>\n      <th>3</th>\n      <td>Aransas</td>\n      <td>46912.0</td>\n    </tr>\n    <tr>\n      <th>4</th>\n      <td>Archer</td>\n      <td>61190.0</td>\n    </tr>\n  </tbody>\n</table>\n</div>"
     },
     "metadata": {},
     "execution_count": 374
    }
   ],
   "source": [
    "# Display cleaned DataFrame\n",
    "texas_median_income.head()"
   ]
  },
  {
   "cell_type": "code",
   "execution_count": 375,
   "metadata": {},
   "outputs": [
    {
     "output_type": "execute_result",
     "data": {
      "text/plain": [
       "       Median Household Income\n",
       "count               254.000000\n",
       "mean              51302.248031\n",
       "std               12220.163942\n",
       "min               30076.000000\n",
       "25%               43253.750000\n",
       "50%               48541.500000\n",
       "75%               56199.250000\n",
       "max              102858.000000"
      ],
      "text/html": "<div>\n<style scoped>\n    .dataframe tbody tr th:only-of-type {\n        vertical-align: middle;\n    }\n\n    .dataframe tbody tr th {\n        vertical-align: top;\n    }\n\n    .dataframe thead th {\n        text-align: right;\n    }\n</style>\n<table border=\"1\" class=\"dataframe\">\n  <thead>\n    <tr style=\"text-align: right;\">\n      <th></th>\n      <th>Median Household Income</th>\n    </tr>\n  </thead>\n  <tbody>\n    <tr>\n      <th>count</th>\n      <td>254.000000</td>\n    </tr>\n    <tr>\n      <th>mean</th>\n      <td>51302.248031</td>\n    </tr>\n    <tr>\n      <th>std</th>\n      <td>12220.163942</td>\n    </tr>\n    <tr>\n      <th>min</th>\n      <td>30076.000000</td>\n    </tr>\n    <tr>\n      <th>25%</th>\n      <td>43253.750000</td>\n    </tr>\n    <tr>\n      <th>50%</th>\n      <td>48541.500000</td>\n    </tr>\n    <tr>\n      <th>75%</th>\n      <td>56199.250000</td>\n    </tr>\n    <tr>\n      <th>max</th>\n      <td>102858.000000</td>\n    </tr>\n  </tbody>\n</table>\n</div>"
     },
     "metadata": {},
     "execution_count": 375
    }
   ],
   "source": [
    "# Get preliminary statistical outlook \n",
    "texas_median_income.describe()"
   ]
  },
  {
   "source": [
    "## Let's clean our first Covid-19 dataset. These are up-to-date cases with confirmed cases and deaths as of the last_update column."
   ],
   "cell_type": "markdown",
   "metadata": {}
  },
  {
   "cell_type": "code",
   "execution_count": 376,
   "metadata": {},
   "outputs": [],
   "source": [
    "Texas_ConfirmedByCounty_Covid = ConfirmedByCounty_Covid.loc[ConfirmedByCounty_Covid['state'] == 'Texas'].dropna(subset=['lat','lon'])\n",
    "Texas_ConfirmedByCounty_Covid = Texas_ConfirmedByCounty_Covid.drop(columns=[\"location_type\",\"state\",\"county_name_long\",\"fips_code\"])"
   ]
  },
  {
   "cell_type": "code",
   "execution_count": 377,
   "metadata": {},
   "outputs": [
    {
     "output_type": "execute_result",
     "data": {
      "text/plain": [
       "                  last_update county_name        lat         lon  \\\n",
       "2599  2020-11-20 00:26:45 UTC    Anderson  31.815347  -95.653548   \n",
       "2600  2020-11-20 00:26:45 UTC     Andrews  32.304686 -102.637655   \n",
       "2601  2020-11-20 00:26:45 UTC    Angelina  31.254573  -94.609015   \n",
       "2602  2020-11-20 00:26:45 UTC     Aransas  28.105562  -96.999505   \n",
       "2603  2020-11-20 00:26:45 UTC      Archer  33.615700  -98.687546   \n",
       "\n",
       "     NCHS_urbanization  total_population  confirmed  confirmed_per_100000  \\\n",
       "2599      Micropolitan           57863.0       3101               5359.21   \n",
       "2600      Micropolitan           17818.0        940               5275.56   \n",
       "2601      Micropolitan           87607.0       2497               2850.23   \n",
       "2602      Medium metro           24763.0        376               1518.39   \n",
       "2603       Small metro            8789.0        220               2503.13   \n",
       "\n",
       "      deaths  deaths_per_100000  \n",
       "2599      46              79.50  \n",
       "2600      13              72.96  \n",
       "2601      97             110.72  \n",
       "2602      18              72.69  \n",
       "2603       2              22.76  "
      ],
      "text/html": "<div>\n<style scoped>\n    .dataframe tbody tr th:only-of-type {\n        vertical-align: middle;\n    }\n\n    .dataframe tbody tr th {\n        vertical-align: top;\n    }\n\n    .dataframe thead th {\n        text-align: right;\n    }\n</style>\n<table border=\"1\" class=\"dataframe\">\n  <thead>\n    <tr style=\"text-align: right;\">\n      <th></th>\n      <th>last_update</th>\n      <th>county_name</th>\n      <th>lat</th>\n      <th>lon</th>\n      <th>NCHS_urbanization</th>\n      <th>total_population</th>\n      <th>confirmed</th>\n      <th>confirmed_per_100000</th>\n      <th>deaths</th>\n      <th>deaths_per_100000</th>\n    </tr>\n  </thead>\n  <tbody>\n    <tr>\n      <th>2599</th>\n      <td>2020-11-20 00:26:45 UTC</td>\n      <td>Anderson</td>\n      <td>31.815347</td>\n      <td>-95.653548</td>\n      <td>Micropolitan</td>\n      <td>57863.0</td>\n      <td>3101</td>\n      <td>5359.21</td>\n      <td>46</td>\n      <td>79.50</td>\n    </tr>\n    <tr>\n      <th>2600</th>\n      <td>2020-11-20 00:26:45 UTC</td>\n      <td>Andrews</td>\n      <td>32.304686</td>\n      <td>-102.637655</td>\n      <td>Micropolitan</td>\n      <td>17818.0</td>\n      <td>940</td>\n      <td>5275.56</td>\n      <td>13</td>\n      <td>72.96</td>\n    </tr>\n    <tr>\n      <th>2601</th>\n      <td>2020-11-20 00:26:45 UTC</td>\n      <td>Angelina</td>\n      <td>31.254573</td>\n      <td>-94.609015</td>\n      <td>Micropolitan</td>\n      <td>87607.0</td>\n      <td>2497</td>\n      <td>2850.23</td>\n      <td>97</td>\n      <td>110.72</td>\n    </tr>\n    <tr>\n      <th>2602</th>\n      <td>2020-11-20 00:26:45 UTC</td>\n      <td>Aransas</td>\n      <td>28.105562</td>\n      <td>-96.999505</td>\n      <td>Medium metro</td>\n      <td>24763.0</td>\n      <td>376</td>\n      <td>1518.39</td>\n      <td>18</td>\n      <td>72.69</td>\n    </tr>\n    <tr>\n      <th>2603</th>\n      <td>2020-11-20 00:26:45 UTC</td>\n      <td>Archer</td>\n      <td>33.615700</td>\n      <td>-98.687546</td>\n      <td>Small metro</td>\n      <td>8789.0</td>\n      <td>220</td>\n      <td>2503.13</td>\n      <td>2</td>\n      <td>22.76</td>\n    </tr>\n  </tbody>\n</table>\n</div>"
     },
     "metadata": {},
     "execution_count": 377
    }
   ],
   "source": [
    "# Display cleaned DataFrame\n",
    "Texas_ConfirmedByCounty_Covid.head()"
   ]
  },
  {
   "cell_type": "code",
   "execution_count": 378,
   "metadata": {},
   "outputs": [
    {
     "output_type": "execute_result",
     "data": {
      "text/plain": [
       "              lat         lon  total_population      confirmed  \\\n",
       "count  254.000000  254.000000      2.540000e+02     254.000000   \n",
       "mean    31.660643  -98.653069      1.097842e+05    4348.527559   \n",
       "std      2.173436    2.670036      3.963104e+05   16291.879809   \n",
       "min     26.145242 -106.236327      1.020000e+02       1.000000   \n",
       "25%     30.126978 -100.778688      7.099750e+03     196.250000   \n",
       "50%     31.783209  -98.543035      1.858450e+04     577.000000   \n",
       "75%     33.177285  -96.573857      4.987325e+04    1664.250000   \n",
       "max     36.278291  -93.744088      4.602523e+06  178811.000000   \n",
       "\n",
       "       confirmed_per_100000       deaths  deaths_per_100000  \n",
       "count            254.000000   254.000000         254.000000  \n",
       "mean            3505.931772    80.964567          92.600787  \n",
       "std             1858.912053   279.074506          65.868153  \n",
       "min              438.600000     0.000000           0.000000  \n",
       "25%             2241.417500     6.000000          49.527500  \n",
       "50%             2971.030000    15.000000          75.610000  \n",
       "75%             4467.105000    46.750000         121.020000  \n",
       "max            11181.840000  2943.000000         348.190000  "
      ],
      "text/html": "<div>\n<style scoped>\n    .dataframe tbody tr th:only-of-type {\n        vertical-align: middle;\n    }\n\n    .dataframe tbody tr th {\n        vertical-align: top;\n    }\n\n    .dataframe thead th {\n        text-align: right;\n    }\n</style>\n<table border=\"1\" class=\"dataframe\">\n  <thead>\n    <tr style=\"text-align: right;\">\n      <th></th>\n      <th>lat</th>\n      <th>lon</th>\n      <th>total_population</th>\n      <th>confirmed</th>\n      <th>confirmed_per_100000</th>\n      <th>deaths</th>\n      <th>deaths_per_100000</th>\n    </tr>\n  </thead>\n  <tbody>\n    <tr>\n      <th>count</th>\n      <td>254.000000</td>\n      <td>254.000000</td>\n      <td>2.540000e+02</td>\n      <td>254.000000</td>\n      <td>254.000000</td>\n      <td>254.000000</td>\n      <td>254.000000</td>\n    </tr>\n    <tr>\n      <th>mean</th>\n      <td>31.660643</td>\n      <td>-98.653069</td>\n      <td>1.097842e+05</td>\n      <td>4348.527559</td>\n      <td>3505.931772</td>\n      <td>80.964567</td>\n      <td>92.600787</td>\n    </tr>\n    <tr>\n      <th>std</th>\n      <td>2.173436</td>\n      <td>2.670036</td>\n      <td>3.963104e+05</td>\n      <td>16291.879809</td>\n      <td>1858.912053</td>\n      <td>279.074506</td>\n      <td>65.868153</td>\n    </tr>\n    <tr>\n      <th>min</th>\n      <td>26.145242</td>\n      <td>-106.236327</td>\n      <td>1.020000e+02</td>\n      <td>1.000000</td>\n      <td>438.600000</td>\n      <td>0.000000</td>\n      <td>0.000000</td>\n    </tr>\n    <tr>\n      <th>25%</th>\n      <td>30.126978</td>\n      <td>-100.778688</td>\n      <td>7.099750e+03</td>\n      <td>196.250000</td>\n      <td>2241.417500</td>\n      <td>6.000000</td>\n      <td>49.527500</td>\n    </tr>\n    <tr>\n      <th>50%</th>\n      <td>31.783209</td>\n      <td>-98.543035</td>\n      <td>1.858450e+04</td>\n      <td>577.000000</td>\n      <td>2971.030000</td>\n      <td>15.000000</td>\n      <td>75.610000</td>\n    </tr>\n    <tr>\n      <th>75%</th>\n      <td>33.177285</td>\n      <td>-96.573857</td>\n      <td>4.987325e+04</td>\n      <td>1664.250000</td>\n      <td>4467.105000</td>\n      <td>46.750000</td>\n      <td>121.020000</td>\n    </tr>\n    <tr>\n      <th>max</th>\n      <td>36.278291</td>\n      <td>-93.744088</td>\n      <td>4.602523e+06</td>\n      <td>178811.000000</td>\n      <td>11181.840000</td>\n      <td>2943.000000</td>\n      <td>348.190000</td>\n    </tr>\n  </tbody>\n</table>\n</div>"
     },
     "metadata": {},
     "execution_count": 378
    }
   ],
   "source": [
    "# Get preliminary statistical outlook \n",
    "Texas_ConfirmedByCounty_Covid.describe()"
   ]
  },
  {
   "source": [
    "## Next we'll clean-up our Covid-19 data timeseries that focuses on deaths and cases that are calculated cumulatively over time "
   ],
   "cell_type": "markdown",
   "metadata": {}
  },
  {
   "cell_type": "code",
   "execution_count": 379,
   "metadata": {},
   "outputs": [],
   "source": [
    "columns_todrop = []\n",
    "Texas_CaseDeathsBy_County_timeseries = CaseDeathsBy_County_timeseries.loc[(CaseDeathsBy_County_timeseries['state'] == 'Texas') & (CaseDeathsBy_County_timeseries['location_name'] != 'Unassigned') & (CaseDeathsBy_County_timeseries['location_name'] != 'Out of TX')]\n",
    "Texas_CaseDeathsBy_County_timeseries = Texas_CaseDeathsBy_County_timeseries.loc[Texas_CaseDeathsBy_County_timeseries['date'] >= '2020-03-01']\n",
    "for column in Texas_CaseDeathsBy_County_timeseries.columns:\n",
    "    if column.startswith('new'):\n",
    "        columns_todrop.append(column)\n",
    "for drop in columns_todrop:\n",
    "    Texas_CaseDeathsBy_County_timeseries = Texas_CaseDeathsBy_County_timeseries.drop(columns=drop)\n",
    "\n",
    "# Drop all other unused columns\n",
    "\n",
    "Texas_CaseDeathsBy_County_timeseries = Texas_CaseDeathsBy_County_timeseries.drop(columns=[\"uid\",\"location_type\",\"state\"]).set_index('date')"
   ]
  },
  {
   "cell_type": "code",
   "execution_count": 380,
   "metadata": {},
   "outputs": [
    {
     "output_type": "execute_result",
     "data": {
      "text/plain": [
       "            fips_code location_name  total_population  cumulative_cases  \\\n",
       "date                                                                      \n",
       "2020-03-01    48001.0      Anderson           57863.0                 0   \n",
       "2020-03-02    48001.0      Anderson           57863.0                 0   \n",
       "2020-03-03    48001.0      Anderson           57863.0                 0   \n",
       "2020-03-04    48001.0      Anderson           57863.0                 0   \n",
       "2020-03-05    48001.0      Anderson           57863.0                 0   \n",
       "\n",
       "            cumulative_cases_per_100_000  cumulative_deaths  \\\n",
       "date                                                          \n",
       "2020-03-01                           0.0                  0   \n",
       "2020-03-02                           0.0                  0   \n",
       "2020-03-03                           0.0                  0   \n",
       "2020-03-04                           0.0                  0   \n",
       "2020-03-05                           0.0                  0   \n",
       "\n",
       "            cumulative_deaths_per_100_000  \n",
       "date                                       \n",
       "2020-03-01                            0.0  \n",
       "2020-03-02                            0.0  \n",
       "2020-03-03                            0.0  \n",
       "2020-03-04                            0.0  \n",
       "2020-03-05                            0.0  "
      ],
      "text/html": "<div>\n<style scoped>\n    .dataframe tbody tr th:only-of-type {\n        vertical-align: middle;\n    }\n\n    .dataframe tbody tr th {\n        vertical-align: top;\n    }\n\n    .dataframe thead th {\n        text-align: right;\n    }\n</style>\n<table border=\"1\" class=\"dataframe\">\n  <thead>\n    <tr style=\"text-align: right;\">\n      <th></th>\n      <th>fips_code</th>\n      <th>location_name</th>\n      <th>total_population</th>\n      <th>cumulative_cases</th>\n      <th>cumulative_cases_per_100_000</th>\n      <th>cumulative_deaths</th>\n      <th>cumulative_deaths_per_100_000</th>\n    </tr>\n    <tr>\n      <th>date</th>\n      <th></th>\n      <th></th>\n      <th></th>\n      <th></th>\n      <th></th>\n      <th></th>\n      <th></th>\n    </tr>\n  </thead>\n  <tbody>\n    <tr>\n      <th>2020-03-01</th>\n      <td>48001.0</td>\n      <td>Anderson</td>\n      <td>57863.0</td>\n      <td>0</td>\n      <td>0.0</td>\n      <td>0</td>\n      <td>0.0</td>\n    </tr>\n    <tr>\n      <th>2020-03-02</th>\n      <td>48001.0</td>\n      <td>Anderson</td>\n      <td>57863.0</td>\n      <td>0</td>\n      <td>0.0</td>\n      <td>0</td>\n      <td>0.0</td>\n    </tr>\n    <tr>\n      <th>2020-03-03</th>\n      <td>48001.0</td>\n      <td>Anderson</td>\n      <td>57863.0</td>\n      <td>0</td>\n      <td>0.0</td>\n      <td>0</td>\n      <td>0.0</td>\n    </tr>\n    <tr>\n      <th>2020-03-04</th>\n      <td>48001.0</td>\n      <td>Anderson</td>\n      <td>57863.0</td>\n      <td>0</td>\n      <td>0.0</td>\n      <td>0</td>\n      <td>0.0</td>\n    </tr>\n    <tr>\n      <th>2020-03-05</th>\n      <td>48001.0</td>\n      <td>Anderson</td>\n      <td>57863.0</td>\n      <td>0</td>\n      <td>0.0</td>\n      <td>0</td>\n      <td>0.0</td>\n    </tr>\n  </tbody>\n</table>\n</div>"
     },
     "metadata": {},
     "execution_count": 380
    }
   ],
   "source": [
    "# Display cleaned DataFrame\n",
    "Texas_CaseDeathsBy_County_timeseries.head()"
   ]
  },
  {
   "cell_type": "code",
   "execution_count": 381,
   "metadata": {},
   "outputs": [
    {
     "output_type": "execute_result",
     "data": {
      "text/plain": [
       "          fips_code  total_population  cumulative_cases  \\\n",
       "count  66802.000000      6.680200e+04      66802.000000   \n",
       "mean   48254.000000      1.097842e+05       1449.341172   \n",
       "std      146.646929      3.955325e+05       7831.583236   \n",
       "min    48001.000000      1.020000e+02          0.000000   \n",
       "25%    48127.000000      7.092000e+03          4.000000   \n",
       "50%    48254.000000      1.858450e+04         64.000000   \n",
       "75%    48381.000000      4.998700e+04        418.000000   \n",
       "max    48507.000000      4.602523e+06     177466.000000   \n",
       "\n",
       "       cumulative_cases_per_100_000  cumulative_deaths  \\\n",
       "count                  66802.000000       66802.000000   \n",
       "mean                    1055.936214          28.501213   \n",
       "std                     1382.727070         150.623510   \n",
       "min                        0.000000           0.000000   \n",
       "25%                       30.392500           0.000000   \n",
       "50%                      438.210000           1.000000   \n",
       "75%                     1651.810000          10.000000   \n",
       "max                    10932.740000        2928.000000   \n",
       "\n",
       "       cumulative_deaths_per_100_000  \n",
       "count                   66802.000000  \n",
       "mean                       27.353493  \n",
       "std                        45.246288  \n",
       "min                         0.000000  \n",
       "25%                         0.000000  \n",
       "50%                         4.960000  \n",
       "75%                        38.750000  \n",
       "max                       348.190000  "
      ],
      "text/html": "<div>\n<style scoped>\n    .dataframe tbody tr th:only-of-type {\n        vertical-align: middle;\n    }\n\n    .dataframe tbody tr th {\n        vertical-align: top;\n    }\n\n    .dataframe thead th {\n        text-align: right;\n    }\n</style>\n<table border=\"1\" class=\"dataframe\">\n  <thead>\n    <tr style=\"text-align: right;\">\n      <th></th>\n      <th>fips_code</th>\n      <th>total_population</th>\n      <th>cumulative_cases</th>\n      <th>cumulative_cases_per_100_000</th>\n      <th>cumulative_deaths</th>\n      <th>cumulative_deaths_per_100_000</th>\n    </tr>\n  </thead>\n  <tbody>\n    <tr>\n      <th>count</th>\n      <td>66802.000000</td>\n      <td>6.680200e+04</td>\n      <td>66802.000000</td>\n      <td>66802.000000</td>\n      <td>66802.000000</td>\n      <td>66802.000000</td>\n    </tr>\n    <tr>\n      <th>mean</th>\n      <td>48254.000000</td>\n      <td>1.097842e+05</td>\n      <td>1449.341172</td>\n      <td>1055.936214</td>\n      <td>28.501213</td>\n      <td>27.353493</td>\n    </tr>\n    <tr>\n      <th>std</th>\n      <td>146.646929</td>\n      <td>3.955325e+05</td>\n      <td>7831.583236</td>\n      <td>1382.727070</td>\n      <td>150.623510</td>\n      <td>45.246288</td>\n    </tr>\n    <tr>\n      <th>min</th>\n      <td>48001.000000</td>\n      <td>1.020000e+02</td>\n      <td>0.000000</td>\n      <td>0.000000</td>\n      <td>0.000000</td>\n      <td>0.000000</td>\n    </tr>\n    <tr>\n      <th>25%</th>\n      <td>48127.000000</td>\n      <td>7.092000e+03</td>\n      <td>4.000000</td>\n      <td>30.392500</td>\n      <td>0.000000</td>\n      <td>0.000000</td>\n    </tr>\n    <tr>\n      <th>50%</th>\n      <td>48254.000000</td>\n      <td>1.858450e+04</td>\n      <td>64.000000</td>\n      <td>438.210000</td>\n      <td>1.000000</td>\n      <td>4.960000</td>\n    </tr>\n    <tr>\n      <th>75%</th>\n      <td>48381.000000</td>\n      <td>4.998700e+04</td>\n      <td>418.000000</td>\n      <td>1651.810000</td>\n      <td>10.000000</td>\n      <td>38.750000</td>\n    </tr>\n    <tr>\n      <th>max</th>\n      <td>48507.000000</td>\n      <td>4.602523e+06</td>\n      <td>177466.000000</td>\n      <td>10932.740000</td>\n      <td>2928.000000</td>\n      <td>348.190000</td>\n    </tr>\n  </tbody>\n</table>\n</div>"
     },
     "metadata": {},
     "execution_count": 381
    }
   ],
   "source": [
    "# Get preliminary statistical outlook \n",
    "Texas_CaseDeathsBy_County_timeseries.describe()"
   ]
  },
  {
   "source": [
    "## Create a subset of Covid-19 Timeseries that only has results for End of Month rows"
   ],
   "cell_type": "markdown",
   "metadata": {}
  },
  {
   "cell_type": "code",
   "execution_count": 382,
   "metadata": {},
   "outputs": [],
   "source": [
    "endofmonth_Covid_timeseries = Texas_CaseDeathsBy_County_timeseries[(Texas_CaseDeathsBy_County_timeseries.index + pd.Timedelta(days=1)).day == 1]\n",
    "current_month_Covid_timeseries = Texas_CaseDeathsBy_County_timeseries.loc['2020-11-11']\n",
    "endofmonth_Covid_timeseries = endofmonth_Covid_timeseries.append(current_month_Covid_timeseries)"
   ]
  },
  {
   "cell_type": "code",
   "execution_count": 383,
   "metadata": {},
   "outputs": [
    {
     "output_type": "execute_result",
     "data": {
      "text/plain": [
       "            fips_code location_name  total_population  cumulative_cases  \\\n",
       "date                                                                      \n",
       "2020-03-31    48001.0      Anderson           57863.0                 1   \n",
       "2020-04-30    48001.0      Anderson           57863.0                29   \n",
       "2020-05-31    48001.0      Anderson           57863.0                72   \n",
       "2020-06-30    48001.0      Anderson           57863.0              1032   \n",
       "2020-07-31    48001.0      Anderson           57863.0              2196   \n",
       "\n",
       "            cumulative_cases_per_100_000  cumulative_deaths  \\\n",
       "date                                                          \n",
       "2020-03-31                          1.73                  0   \n",
       "2020-04-30                         50.12                  0   \n",
       "2020-05-31                        124.43                  0   \n",
       "2020-06-30                       1783.52                  2   \n",
       "2020-07-31                       3795.17                  8   \n",
       "\n",
       "            cumulative_deaths_per_100_000  \n",
       "date                                       \n",
       "2020-03-31                           0.00  \n",
       "2020-04-30                           0.00  \n",
       "2020-05-31                           0.00  \n",
       "2020-06-30                           3.46  \n",
       "2020-07-31                          13.83  "
      ],
      "text/html": "<div>\n<style scoped>\n    .dataframe tbody tr th:only-of-type {\n        vertical-align: middle;\n    }\n\n    .dataframe tbody tr th {\n        vertical-align: top;\n    }\n\n    .dataframe thead th {\n        text-align: right;\n    }\n</style>\n<table border=\"1\" class=\"dataframe\">\n  <thead>\n    <tr style=\"text-align: right;\">\n      <th></th>\n      <th>fips_code</th>\n      <th>location_name</th>\n      <th>total_population</th>\n      <th>cumulative_cases</th>\n      <th>cumulative_cases_per_100_000</th>\n      <th>cumulative_deaths</th>\n      <th>cumulative_deaths_per_100_000</th>\n    </tr>\n    <tr>\n      <th>date</th>\n      <th></th>\n      <th></th>\n      <th></th>\n      <th></th>\n      <th></th>\n      <th></th>\n      <th></th>\n    </tr>\n  </thead>\n  <tbody>\n    <tr>\n      <th>2020-03-31</th>\n      <td>48001.0</td>\n      <td>Anderson</td>\n      <td>57863.0</td>\n      <td>1</td>\n      <td>1.73</td>\n      <td>0</td>\n      <td>0.00</td>\n    </tr>\n    <tr>\n      <th>2020-04-30</th>\n      <td>48001.0</td>\n      <td>Anderson</td>\n      <td>57863.0</td>\n      <td>29</td>\n      <td>50.12</td>\n      <td>0</td>\n      <td>0.00</td>\n    </tr>\n    <tr>\n      <th>2020-05-31</th>\n      <td>48001.0</td>\n      <td>Anderson</td>\n      <td>57863.0</td>\n      <td>72</td>\n      <td>124.43</td>\n      <td>0</td>\n      <td>0.00</td>\n    </tr>\n    <tr>\n      <th>2020-06-30</th>\n      <td>48001.0</td>\n      <td>Anderson</td>\n      <td>57863.0</td>\n      <td>1032</td>\n      <td>1783.52</td>\n      <td>2</td>\n      <td>3.46</td>\n    </tr>\n    <tr>\n      <th>2020-07-31</th>\n      <td>48001.0</td>\n      <td>Anderson</td>\n      <td>57863.0</td>\n      <td>2196</td>\n      <td>3795.17</td>\n      <td>8</td>\n      <td>13.83</td>\n    </tr>\n  </tbody>\n</table>\n</div>"
     },
     "metadata": {},
     "execution_count": 383
    }
   ],
   "source": [
    "# Display new DataFrame showing filtered resultset\n",
    "endofmonth_Covid_timeseries.head()"
   ]
  },
  {
   "source": [
    "### Cleaning up unemployment dataset and manipulating data as needed"
   ],
   "cell_type": "markdown",
   "metadata": {}
  },
  {
   "cell_type": "code",
   "execution_count": 384,
   "metadata": {},
   "outputs": [],
   "source": [
    "unemployment_claims = unemployment_dataset.copy()\n",
    "unemployment_claims = unemployment_claims.transpose()\n",
    "unemployment_claims = unemployment_claims.fillna(0)\n",
    "\n",
    "unemployment_claims.columns = [''] * len(unemployment_claims.columns)\n",
    "unemployment_header = unemployment_claims.iloc[0]\n",
    "unemployment_claims = unemployment_claims[1:]\n",
    "unemployment_claims.columns = unemployment_header\n",
    "unemployment_claims.index.names = ['Date']\n",
    "unemployment_claims.columns.names = ['']\n",
    "\n",
    "unemployment_claims.index = pd.to_datetime(unemployment_claims.index)"
   ]
  },
  {
   "cell_type": "code",
   "execution_count": 385,
   "metadata": {},
   "outputs": [
    {
     "output_type": "execute_result",
     "data": {
      "text/plain": [
       "           Anderson Andrews Angelina Aransas Archer Armstrong Atascosa Austin  \\\n",
       "Date                                                                            \n",
       "2020-11-07       51      12       83      20      5         0       57     29   \n",
       "2020-10-31       42      17       77      32      3         1       46     28   \n",
       "2020-10-24       79      17       89      22      6         0       36     23   \n",
       "2020-10-17       54      17       80      40      5         1       35     26   \n",
       "2020-10-10       63      30       98      18     10         2       40     32   \n",
       "\n",
       "           Bailey Bandera  ... Willacy Williamson Wilson Winkler Wise Wood  \\\n",
       "Date                       ...                                               \n",
       "2020-11-07     12      18  ...      26        455     32      11   52   39   \n",
       "2020-10-31      3      23  ...      24        422     28       7   74   31   \n",
       "2020-10-24      1      13  ...      51        409     34       8   65   33   \n",
       "2020-10-17      4      24  ...      43        434     30      15   45   26   \n",
       "2020-10-10      3      11  ...      24        484     41      11   57   38   \n",
       "\n",
       "           Yoakum Young Zapata Zavala  \n",
       "Date                                   \n",
       "2020-11-07      8    12     19     21  \n",
       "2020-10-31     14    16     20     11  \n",
       "2020-10-24      8    17     27     18  \n",
       "2020-10-17      6    17     27     12  \n",
       "2020-10-10      6    19     22     16  \n",
       "\n",
       "[5 rows x 254 columns]"
      ],
      "text/html": "<div>\n<style scoped>\n    .dataframe tbody tr th:only-of-type {\n        vertical-align: middle;\n    }\n\n    .dataframe tbody tr th {\n        vertical-align: top;\n    }\n\n    .dataframe thead th {\n        text-align: right;\n    }\n</style>\n<table border=\"1\" class=\"dataframe\">\n  <thead>\n    <tr style=\"text-align: right;\">\n      <th></th>\n      <th>Anderson</th>\n      <th>Andrews</th>\n      <th>Angelina</th>\n      <th>Aransas</th>\n      <th>Archer</th>\n      <th>Armstrong</th>\n      <th>Atascosa</th>\n      <th>Austin</th>\n      <th>Bailey</th>\n      <th>Bandera</th>\n      <th>...</th>\n      <th>Willacy</th>\n      <th>Williamson</th>\n      <th>Wilson</th>\n      <th>Winkler</th>\n      <th>Wise</th>\n      <th>Wood</th>\n      <th>Yoakum</th>\n      <th>Young</th>\n      <th>Zapata</th>\n      <th>Zavala</th>\n    </tr>\n    <tr>\n      <th>Date</th>\n      <th></th>\n      <th></th>\n      <th></th>\n      <th></th>\n      <th></th>\n      <th></th>\n      <th></th>\n      <th></th>\n      <th></th>\n      <th></th>\n      <th></th>\n      <th></th>\n      <th></th>\n      <th></th>\n      <th></th>\n      <th></th>\n      <th></th>\n      <th></th>\n      <th></th>\n      <th></th>\n      <th></th>\n    </tr>\n  </thead>\n  <tbody>\n    <tr>\n      <th>2020-11-07</th>\n      <td>51</td>\n      <td>12</td>\n      <td>83</td>\n      <td>20</td>\n      <td>5</td>\n      <td>0</td>\n      <td>57</td>\n      <td>29</td>\n      <td>12</td>\n      <td>18</td>\n      <td>...</td>\n      <td>26</td>\n      <td>455</td>\n      <td>32</td>\n      <td>11</td>\n      <td>52</td>\n      <td>39</td>\n      <td>8</td>\n      <td>12</td>\n      <td>19</td>\n      <td>21</td>\n    </tr>\n    <tr>\n      <th>2020-10-31</th>\n      <td>42</td>\n      <td>17</td>\n      <td>77</td>\n      <td>32</td>\n      <td>3</td>\n      <td>1</td>\n      <td>46</td>\n      <td>28</td>\n      <td>3</td>\n      <td>23</td>\n      <td>...</td>\n      <td>24</td>\n      <td>422</td>\n      <td>28</td>\n      <td>7</td>\n      <td>74</td>\n      <td>31</td>\n      <td>14</td>\n      <td>16</td>\n      <td>20</td>\n      <td>11</td>\n    </tr>\n    <tr>\n      <th>2020-10-24</th>\n      <td>79</td>\n      <td>17</td>\n      <td>89</td>\n      <td>22</td>\n      <td>6</td>\n      <td>0</td>\n      <td>36</td>\n      <td>23</td>\n      <td>1</td>\n      <td>13</td>\n      <td>...</td>\n      <td>51</td>\n      <td>409</td>\n      <td>34</td>\n      <td>8</td>\n      <td>65</td>\n      <td>33</td>\n      <td>8</td>\n      <td>17</td>\n      <td>27</td>\n      <td>18</td>\n    </tr>\n    <tr>\n      <th>2020-10-17</th>\n      <td>54</td>\n      <td>17</td>\n      <td>80</td>\n      <td>40</td>\n      <td>5</td>\n      <td>1</td>\n      <td>35</td>\n      <td>26</td>\n      <td>4</td>\n      <td>24</td>\n      <td>...</td>\n      <td>43</td>\n      <td>434</td>\n      <td>30</td>\n      <td>15</td>\n      <td>45</td>\n      <td>26</td>\n      <td>6</td>\n      <td>17</td>\n      <td>27</td>\n      <td>12</td>\n    </tr>\n    <tr>\n      <th>2020-10-10</th>\n      <td>63</td>\n      <td>30</td>\n      <td>98</td>\n      <td>18</td>\n      <td>10</td>\n      <td>2</td>\n      <td>40</td>\n      <td>32</td>\n      <td>3</td>\n      <td>11</td>\n      <td>...</td>\n      <td>24</td>\n      <td>484</td>\n      <td>41</td>\n      <td>11</td>\n      <td>57</td>\n      <td>38</td>\n      <td>6</td>\n      <td>19</td>\n      <td>22</td>\n      <td>16</td>\n    </tr>\n  </tbody>\n</table>\n<p>5 rows × 254 columns</p>\n</div>"
     },
     "metadata": {},
     "execution_count": 385
    }
   ],
   "source": [
    "unemployment_claims.head()"
   ]
  },
  {
   "cell_type": "code",
   "execution_count": 386,
   "metadata": {},
   "outputs": [
    {
     "output_type": "execute_result",
     "data": {
      "text/plain": [
       "        Anderson  Andrews  Angelina  Aransas  Archer  Armstrong  Atascosa  \\\n",
       "count       36.0     36.0      36.0     36.0    36.0       36.0      36.0   \n",
       "unique      34.0     32.0      35.0     32.0    22.0        8.0      34.0   \n",
       "top         64.0     17.0      37.0     63.0     5.0        2.0      96.0   \n",
       "freq         2.0      3.0       2.0      2.0     5.0        8.0       2.0   \n",
       "\n",
       "        Austin  Bailey  Bandera  ...  Willacy  Williamson  Wilson  Winkler  \\\n",
       "count     36.0    36.0     36.0  ...     36.0        36.0    36.0     36.0   \n",
       "unique    34.0    12.0     29.0  ...     31.0        35.0    33.0     26.0   \n",
       "top       29.0     3.0     18.0  ...     29.0       678.0    41.0      8.0   \n",
       "freq       2.0     8.0      3.0  ...      2.0         2.0     3.0      3.0   \n",
       "\n",
       "        Wise  Wood  Yoakum  Young  Zapata  Zavala  \n",
       "count   36.0  36.0    36.0   36.0    36.0    36.0  \n",
       "unique  34.0  34.0    25.0   29.0    29.0    24.0  \n",
       "top     59.0  89.0    13.0   18.0     7.0    21.0  \n",
       "freq     2.0   2.0     3.0    3.0     2.0     3.0  \n",
       "\n",
       "[4 rows x 254 columns]"
      ],
      "text/html": "<div>\n<style scoped>\n    .dataframe tbody tr th:only-of-type {\n        vertical-align: middle;\n    }\n\n    .dataframe tbody tr th {\n        vertical-align: top;\n    }\n\n    .dataframe thead th {\n        text-align: right;\n    }\n</style>\n<table border=\"1\" class=\"dataframe\">\n  <thead>\n    <tr style=\"text-align: right;\">\n      <th></th>\n      <th>Anderson</th>\n      <th>Andrews</th>\n      <th>Angelina</th>\n      <th>Aransas</th>\n      <th>Archer</th>\n      <th>Armstrong</th>\n      <th>Atascosa</th>\n      <th>Austin</th>\n      <th>Bailey</th>\n      <th>Bandera</th>\n      <th>...</th>\n      <th>Willacy</th>\n      <th>Williamson</th>\n      <th>Wilson</th>\n      <th>Winkler</th>\n      <th>Wise</th>\n      <th>Wood</th>\n      <th>Yoakum</th>\n      <th>Young</th>\n      <th>Zapata</th>\n      <th>Zavala</th>\n    </tr>\n  </thead>\n  <tbody>\n    <tr>\n      <th>count</th>\n      <td>36.0</td>\n      <td>36.0</td>\n      <td>36.0</td>\n      <td>36.0</td>\n      <td>36.0</td>\n      <td>36.0</td>\n      <td>36.0</td>\n      <td>36.0</td>\n      <td>36.0</td>\n      <td>36.0</td>\n      <td>...</td>\n      <td>36.0</td>\n      <td>36.0</td>\n      <td>36.0</td>\n      <td>36.0</td>\n      <td>36.0</td>\n      <td>36.0</td>\n      <td>36.0</td>\n      <td>36.0</td>\n      <td>36.0</td>\n      <td>36.0</td>\n    </tr>\n    <tr>\n      <th>unique</th>\n      <td>34.0</td>\n      <td>32.0</td>\n      <td>35.0</td>\n      <td>32.0</td>\n      <td>22.0</td>\n      <td>8.0</td>\n      <td>34.0</td>\n      <td>34.0</td>\n      <td>12.0</td>\n      <td>29.0</td>\n      <td>...</td>\n      <td>31.0</td>\n      <td>35.0</td>\n      <td>33.0</td>\n      <td>26.0</td>\n      <td>34.0</td>\n      <td>34.0</td>\n      <td>25.0</td>\n      <td>29.0</td>\n      <td>29.0</td>\n      <td>24.0</td>\n    </tr>\n    <tr>\n      <th>top</th>\n      <td>64.0</td>\n      <td>17.0</td>\n      <td>37.0</td>\n      <td>63.0</td>\n      <td>5.0</td>\n      <td>2.0</td>\n      <td>96.0</td>\n      <td>29.0</td>\n      <td>3.0</td>\n      <td>18.0</td>\n      <td>...</td>\n      <td>29.0</td>\n      <td>678.0</td>\n      <td>41.0</td>\n      <td>8.0</td>\n      <td>59.0</td>\n      <td>89.0</td>\n      <td>13.0</td>\n      <td>18.0</td>\n      <td>7.0</td>\n      <td>21.0</td>\n    </tr>\n    <tr>\n      <th>freq</th>\n      <td>2.0</td>\n      <td>3.0</td>\n      <td>2.0</td>\n      <td>2.0</td>\n      <td>5.0</td>\n      <td>8.0</td>\n      <td>2.0</td>\n      <td>2.0</td>\n      <td>8.0</td>\n      <td>3.0</td>\n      <td>...</td>\n      <td>2.0</td>\n      <td>2.0</td>\n      <td>3.0</td>\n      <td>3.0</td>\n      <td>2.0</td>\n      <td>2.0</td>\n      <td>3.0</td>\n      <td>3.0</td>\n      <td>2.0</td>\n      <td>3.0</td>\n    </tr>\n  </tbody>\n</table>\n<p>4 rows × 254 columns</p>\n</div>"
     },
     "metadata": {},
     "execution_count": 386
    }
   ],
   "source": [
    "unemployment_claims.describe()"
   ]
  },
  {
   "source": [
    "# Data Wrangling - Recalculating and storing needed values | Further Reshaping and transformation needed for secondary subsets | Merges"
   ],
   "cell_type": "markdown",
   "metadata": {}
  },
  {
   "cell_type": "code",
   "execution_count": 387,
   "metadata": {},
   "outputs": [
    {
     "output_type": "stream",
     "name": "stdout",
     "text": [
      "[3809, 24918, 35925, 98408, 275233, 194446, 140280, 159242, 90075]\n"
     ]
    }
   ],
   "source": [
    "# Using the endofmonth_Covid_timeseries DF Calculate Distinct EOM numbers for each month outside of the cumulative numbers\n",
    "date_list = endofmonth_Covid_timeseries.index.unique()\n",
    "cumulative_numbers = []\n",
    "cumulative_numbers.append(endofmonth_Covid_timeseries.loc['2020-03-31']['cumulative_cases'].sum())\n",
    "for d in range(len(date_list)-1):\n",
    "    cumulative_numbers.append((endofmonth_Covid_timeseries.loc[date_list[d+1]]['cumulative_cases'].sum()) - (endofmonth_Covid_timeseries.loc[date_list[d]]['cumulative_cases'].sum()))\n",
    "print(cumulative_numbers)"
   ]
  },
  {
   "source": [
    "## HUD - Median Household Incomes(Family of 4) - Incomes over 57K"
   ],
   "cell_type": "markdown",
   "metadata": {}
  },
  {
   "cell_type": "code",
   "execution_count": 388,
   "metadata": {},
   "outputs": [
    {
     "output_type": "execute_result",
     "data": {
      "text/plain": [
       "       County  Median Household Income\n",
       "1     Andrews                  84946.0\n",
       "4      Archer                  61190.0\n",
       "5   Armstrong                  57210.0\n",
       "7      Austin                  59942.0\n",
       "10    Bastrop                  61883.0"
      ],
      "text/html": "<div>\n<style scoped>\n    .dataframe tbody tr th:only-of-type {\n        vertical-align: middle;\n    }\n\n    .dataframe tbody tr th {\n        vertical-align: top;\n    }\n\n    .dataframe thead th {\n        text-align: right;\n    }\n</style>\n<table border=\"1\" class=\"dataframe\">\n  <thead>\n    <tr style=\"text-align: right;\">\n      <th></th>\n      <th>County</th>\n      <th>Median Household Income</th>\n    </tr>\n  </thead>\n  <tbody>\n    <tr>\n      <th>1</th>\n      <td>Andrews</td>\n      <td>84946.0</td>\n    </tr>\n    <tr>\n      <th>4</th>\n      <td>Archer</td>\n      <td>61190.0</td>\n    </tr>\n    <tr>\n      <th>5</th>\n      <td>Armstrong</td>\n      <td>57210.0</td>\n    </tr>\n    <tr>\n      <th>7</th>\n      <td>Austin</td>\n      <td>59942.0</td>\n    </tr>\n    <tr>\n      <th>10</th>\n      <td>Bastrop</td>\n      <td>61883.0</td>\n    </tr>\n  </tbody>\n</table>\n</div>"
     },
     "metadata": {},
     "execution_count": 388
    }
   ],
   "source": [
    "texas_income_above57k = texas_median_income.loc[(texas_median_income['Median Household Income'] > 57000)]\n",
    "texas_income_above57k.head()"
   ]
  },
  {
   "source": [
    "## Incomes that qualify as low imcome per HUD data. Less than or equal to 57K but greater than 36K"
   ],
   "cell_type": "markdown",
   "metadata": {}
  },
  {
   "cell_type": "code",
   "execution_count": 389,
   "metadata": {},
   "outputs": [
    {
     "output_type": "execute_result",
     "data": {
      "text/plain": [
       "     County  Median Household Income\n",
       "0  Anderson                  45969.0\n",
       "2  Angelina                  46653.0\n",
       "3   Aransas                  46912.0\n",
       "6  Atascosa                  50594.0\n",
       "8    Bailey                  45051.0"
      ],
      "text/html": "<div>\n<style scoped>\n    .dataframe tbody tr th:only-of-type {\n        vertical-align: middle;\n    }\n\n    .dataframe tbody tr th {\n        vertical-align: top;\n    }\n\n    .dataframe thead th {\n        text-align: right;\n    }\n</style>\n<table border=\"1\" class=\"dataframe\">\n  <thead>\n    <tr style=\"text-align: right;\">\n      <th></th>\n      <th>County</th>\n      <th>Median Household Income</th>\n    </tr>\n  </thead>\n  <tbody>\n    <tr>\n      <th>0</th>\n      <td>Anderson</td>\n      <td>45969.0</td>\n    </tr>\n    <tr>\n      <th>2</th>\n      <td>Angelina</td>\n      <td>46653.0</td>\n    </tr>\n    <tr>\n      <th>3</th>\n      <td>Aransas</td>\n      <td>46912.0</td>\n    </tr>\n    <tr>\n      <th>6</th>\n      <td>Atascosa</td>\n      <td>50594.0</td>\n    </tr>\n    <tr>\n      <th>8</th>\n      <td>Bailey</td>\n      <td>45051.0</td>\n    </tr>\n  </tbody>\n</table>\n</div>"
     },
     "metadata": {},
     "execution_count": 389
    }
   ],
   "source": [
    "texas_low_income = texas_median_income.loc[(texas_median_income['Median Household Income'] <= 57000) & (texas_median_income['Median Household Income'] > 36000)]\n",
    "texas_low_income.head()"
   ]
  },
  {
   "source": [
    "## Incomes that qualify as very low imcome per HUD data. Less than or equal to 36K but greater than 26K"
   ],
   "cell_type": "markdown",
   "metadata": {}
  },
  {
   "cell_type": "code",
   "execution_count": 390,
   "metadata": {},
   "outputs": [
    {
     "output_type": "execute_result",
     "data": {
      "text/plain": [
       "       County  Median Household Income\n",
       "23     Brooks                  30116.0\n",
       "65      Duval                  35156.0\n",
       "95       Hall                  32597.0\n",
       "161  Maverick                  35594.0\n",
       "163    Menard                  35881.0"
      ],
      "text/html": "<div>\n<style scoped>\n    .dataframe tbody tr th:only-of-type {\n        vertical-align: middle;\n    }\n\n    .dataframe tbody tr th {\n        vertical-align: top;\n    }\n\n    .dataframe thead th {\n        text-align: right;\n    }\n</style>\n<table border=\"1\" class=\"dataframe\">\n  <thead>\n    <tr style=\"text-align: right;\">\n      <th></th>\n      <th>County</th>\n      <th>Median Household Income</th>\n    </tr>\n  </thead>\n  <tbody>\n    <tr>\n      <th>23</th>\n      <td>Brooks</td>\n      <td>30116.0</td>\n    </tr>\n    <tr>\n      <th>65</th>\n      <td>Duval</td>\n      <td>35156.0</td>\n    </tr>\n    <tr>\n      <th>95</th>\n      <td>Hall</td>\n      <td>32597.0</td>\n    </tr>\n    <tr>\n      <th>161</th>\n      <td>Maverick</td>\n      <td>35594.0</td>\n    </tr>\n    <tr>\n      <th>163</th>\n      <td>Menard</td>\n      <td>35881.0</td>\n    </tr>\n  </tbody>\n</table>\n</div>"
     },
     "metadata": {},
     "execution_count": 390
    }
   ],
   "source": [
    "texas_verylow_income = texas_median_income.loc[(texas_median_income['Median Household Income'] <= 36000) & (texas_median_income['Median Household Income'] > 26000)]\n",
    "texas_verylow_income.head()"
   ]
  },
  {
   "source": [
    "## Some more transforming and Wrangling of unemployment data"
   ],
   "cell_type": "markdown",
   "metadata": {}
  },
  {
   "cell_type": "code",
   "execution_count": 391,
   "metadata": {},
   "outputs": [],
   "source": [
    "# claims_data_merged, reshaped, and some clean-up\n",
    "claims_data_merged_above57k = unemployment_dataset.merge(texas_income_above57k, left_on='County', right_on='County')\n",
    "claims_data_merged_low = unemployment_dataset.merge(texas_low_income, left_on='County', right_on='County')\n",
    "claims_data_merged_very_low = unemployment_dataset.merge(texas_verylow_income, left_on='County', right_on='County')\n",
    "\n",
    "claims_data_merged_above57k = claims_data_merged_above57k.drop(columns=['Median Household Income'])\n",
    "claims_data_merged_low = claims_data_merged_low.drop(columns=['Median Household Income'])\n",
    "claims_data_merged_very_low = claims_data_merged_very_low.drop(columns=['Median Household Income'])\n",
    "\n",
    "claims_data_merged_above57k = claims_data_merged_above57k.transpose()\n",
    "claims_data_merged_above57k = claims_data_merged_above57k.fillna(0)\n",
    "\n",
    "claims_data_merged_low = claims_data_merged_low.transpose()\n",
    "claims_data_merged_low = claims_data_merged_low.fillna(0)\n",
    "\n",
    "claims_data_merged_very_low = claims_data_merged_very_low.transpose()\n",
    "claims_data_merged_very_low = claims_data_merged_very_low.fillna(0)"
   ]
  },
  {
   "cell_type": "code",
   "execution_count": 392,
   "metadata": {},
   "outputs": [],
   "source": [
    "# Reshape both DFs bring the counties up to the column level and re-indexing \n",
    "claims_data_merged_above57k.columns = [''] * len(claims_data_merged_above57k.columns)\n",
    "claims_data_merged_header = claims_data_merged_above57k.iloc[0]\n",
    "claims_data_merged_above57k = claims_data_merged_above57k[1:]\n",
    "claims_data_merged_above57k.columns = claims_data_merged_header\n",
    "claims_data_merged_above57k.index.names = ['Date']\n",
    "claims_data_merged_above57k.columns.names = ['']\n",
    "\n",
    "claims_data_merged_low.columns = [''] * len(claims_data_merged_low.columns)\n",
    "claims_data_merged_header = claims_data_merged_low.iloc[0]\n",
    "claims_data_merged_low = claims_data_merged_low[1:]\n",
    "claims_data_merged_low.columns = claims_data_merged_header\n",
    "claims_data_merged_low.index.names = ['Date']\n",
    "claims_data_merged_low.columns.names = ['']\n",
    "\n",
    "claims_data_merged_very_low.columns = [''] * len(claims_data_merged_very_low.columns)\n",
    "claims_data_merged_very_low_header = claims_data_merged_very_low.iloc[0]\n",
    "claims_data_merged_very_low = claims_data_merged_very_low[1:]\n",
    "claims_data_merged_very_low.columns = claims_data_merged_very_low_header\n",
    "claims_data_merged_very_low.index.names = ['Date']\n",
    "claims_data_merged_very_low.columns.names = ['']"
   ]
  },
  {
   "cell_type": "code",
   "execution_count": 393,
   "metadata": {},
   "outputs": [],
   "source": [
    "# Transform index into a datetime format for later manipulation\n",
    "claims_data_merged_above57k.index = pd.to_datetime(claims_data_merged_above57k.index)\n",
    "claims_data_merged_low.index = pd.to_datetime(claims_data_merged_low.index)\n",
    "claims_data_merged_very_low.index = pd.to_datetime(claims_data_merged_very_low.index)"
   ]
  },
  {
   "cell_type": "code",
   "execution_count": 394,
   "metadata": {},
   "outputs": [
    {
     "output_type": "execute_result",
     "data": {
      "text/plain": [
       "           Andrews Archer Armstrong Austin Bastrop Blanco Borden Brazoria  \\\n",
       "Date                                                                        \n",
       "2020-11-07      12      5         0     29      54      2      0      455   \n",
       "2020-10-31      17      3         1     28      75      4      0      429   \n",
       "2020-10-24      17      6         0     23      81      2      0      456   \n",
       "2020-10-17      17      5         1     26      77      6      0      435   \n",
       "2020-10-10      30     10         2     32      70      7      0      531   \n",
       "\n",
       "           Carson Chambers  ... Sherman Somervell Sterling Tarrant Travis  \\\n",
       "Date                        ...                                             \n",
       "2020-11-07      0       76  ...       2         8        0    2279   1026   \n",
       "2020-10-31      2       73  ...       2         4        2    2327    997   \n",
       "2020-10-24      2       59  ...       1         5        3    2342   1055   \n",
       "2020-10-17      4       63  ...       2         5        3    2296   1208   \n",
       "2020-10-10      7       71  ...       2        10        2    2923   1234   \n",
       "\n",
       "           Waller Williamson Wilson Wise Yoakum  \n",
       "Date                                             \n",
       "2020-11-07     40        455     32   52      8  \n",
       "2020-10-31     55        422     28   74     14  \n",
       "2020-10-24     49        409     34   65      8  \n",
       "2020-10-17     47        434     30   45      6  \n",
       "2020-10-10     64        484     41   57      6  \n",
       "\n",
       "[5 rows x 56 columns]"
      ],
      "text/html": "<div>\n<style scoped>\n    .dataframe tbody tr th:only-of-type {\n        vertical-align: middle;\n    }\n\n    .dataframe tbody tr th {\n        vertical-align: top;\n    }\n\n    .dataframe thead th {\n        text-align: right;\n    }\n</style>\n<table border=\"1\" class=\"dataframe\">\n  <thead>\n    <tr style=\"text-align: right;\">\n      <th></th>\n      <th>Andrews</th>\n      <th>Archer</th>\n      <th>Armstrong</th>\n      <th>Austin</th>\n      <th>Bastrop</th>\n      <th>Blanco</th>\n      <th>Borden</th>\n      <th>Brazoria</th>\n      <th>Carson</th>\n      <th>Chambers</th>\n      <th>...</th>\n      <th>Sherman</th>\n      <th>Somervell</th>\n      <th>Sterling</th>\n      <th>Tarrant</th>\n      <th>Travis</th>\n      <th>Waller</th>\n      <th>Williamson</th>\n      <th>Wilson</th>\n      <th>Wise</th>\n      <th>Yoakum</th>\n    </tr>\n    <tr>\n      <th>Date</th>\n      <th></th>\n      <th></th>\n      <th></th>\n      <th></th>\n      <th></th>\n      <th></th>\n      <th></th>\n      <th></th>\n      <th></th>\n      <th></th>\n      <th></th>\n      <th></th>\n      <th></th>\n      <th></th>\n      <th></th>\n      <th></th>\n      <th></th>\n      <th></th>\n      <th></th>\n      <th></th>\n      <th></th>\n    </tr>\n  </thead>\n  <tbody>\n    <tr>\n      <th>2020-11-07</th>\n      <td>12</td>\n      <td>5</td>\n      <td>0</td>\n      <td>29</td>\n      <td>54</td>\n      <td>2</td>\n      <td>0</td>\n      <td>455</td>\n      <td>0</td>\n      <td>76</td>\n      <td>...</td>\n      <td>2</td>\n      <td>8</td>\n      <td>0</td>\n      <td>2279</td>\n      <td>1026</td>\n      <td>40</td>\n      <td>455</td>\n      <td>32</td>\n      <td>52</td>\n      <td>8</td>\n    </tr>\n    <tr>\n      <th>2020-10-31</th>\n      <td>17</td>\n      <td>3</td>\n      <td>1</td>\n      <td>28</td>\n      <td>75</td>\n      <td>4</td>\n      <td>0</td>\n      <td>429</td>\n      <td>2</td>\n      <td>73</td>\n      <td>...</td>\n      <td>2</td>\n      <td>4</td>\n      <td>2</td>\n      <td>2327</td>\n      <td>997</td>\n      <td>55</td>\n      <td>422</td>\n      <td>28</td>\n      <td>74</td>\n      <td>14</td>\n    </tr>\n    <tr>\n      <th>2020-10-24</th>\n      <td>17</td>\n      <td>6</td>\n      <td>0</td>\n      <td>23</td>\n      <td>81</td>\n      <td>2</td>\n      <td>0</td>\n      <td>456</td>\n      <td>2</td>\n      <td>59</td>\n      <td>...</td>\n      <td>1</td>\n      <td>5</td>\n      <td>3</td>\n      <td>2342</td>\n      <td>1055</td>\n      <td>49</td>\n      <td>409</td>\n      <td>34</td>\n      <td>65</td>\n      <td>8</td>\n    </tr>\n    <tr>\n      <th>2020-10-17</th>\n      <td>17</td>\n      <td>5</td>\n      <td>1</td>\n      <td>26</td>\n      <td>77</td>\n      <td>6</td>\n      <td>0</td>\n      <td>435</td>\n      <td>4</td>\n      <td>63</td>\n      <td>...</td>\n      <td>2</td>\n      <td>5</td>\n      <td>3</td>\n      <td>2296</td>\n      <td>1208</td>\n      <td>47</td>\n      <td>434</td>\n      <td>30</td>\n      <td>45</td>\n      <td>6</td>\n    </tr>\n    <tr>\n      <th>2020-10-10</th>\n      <td>30</td>\n      <td>10</td>\n      <td>2</td>\n      <td>32</td>\n      <td>70</td>\n      <td>7</td>\n      <td>0</td>\n      <td>531</td>\n      <td>7</td>\n      <td>71</td>\n      <td>...</td>\n      <td>2</td>\n      <td>10</td>\n      <td>2</td>\n      <td>2923</td>\n      <td>1234</td>\n      <td>64</td>\n      <td>484</td>\n      <td>41</td>\n      <td>57</td>\n      <td>6</td>\n    </tr>\n  </tbody>\n</table>\n<p>5 rows × 56 columns</p>\n</div>"
     },
     "metadata": {},
     "execution_count": 394
    }
   ],
   "source": [
    "claims_data_merged_above57k.head()"
   ]
  },
  {
   "cell_type": "code",
   "execution_count": 395,
   "metadata": {},
   "outputs": [
    {
     "output_type": "execute_result",
     "data": {
      "text/plain": [
       "           Anderson Angelina Aransas Atascosa Bailey Bandera Baylor Bee Bell  \\\n",
       "Date                                                                           \n",
       "2020-11-07       51       83      20       57     12      18      2  34  428   \n",
       "2020-10-31       42       77      32       46      3      23      5  20  408   \n",
       "2020-10-24       79       89      22       36      1      13      2  24  359   \n",
       "2020-10-17       54       80      40       35      4      24      2  19  364   \n",
       "2020-10-10       63       98      18       40      3      11      3  41  436   \n",
       "\n",
       "           Bexar  ... Ward Washington Webb Wharton Wheeler Wichita Wilbarger  \\\n",
       "Date              ...                                                          \n",
       "2020-11-07  1952  ...   24         33  241      36       9     159        20   \n",
       "2020-10-31  2002  ...   14         30  248      36       3     151        11   \n",
       "2020-10-24  1842  ...   17         24  246      49       4     159        18   \n",
       "2020-10-17  1766  ...   23         34  248      41       9     156        22   \n",
       "2020-10-10  2319  ...   19         37  318      38      10     176        24   \n",
       "\n",
       "           Winkler Wood Young  \n",
       "Date                           \n",
       "2020-11-07      11   39    12  \n",
       "2020-10-31       7   31    16  \n",
       "2020-10-24       8   33    17  \n",
       "2020-10-17      15   26    17  \n",
       "2020-10-10      11   38    19  \n",
       "\n",
       "[5 rows x 188 columns]"
      ],
      "text/html": "<div>\n<style scoped>\n    .dataframe tbody tr th:only-of-type {\n        vertical-align: middle;\n    }\n\n    .dataframe tbody tr th {\n        vertical-align: top;\n    }\n\n    .dataframe thead th {\n        text-align: right;\n    }\n</style>\n<table border=\"1\" class=\"dataframe\">\n  <thead>\n    <tr style=\"text-align: right;\">\n      <th></th>\n      <th>Anderson</th>\n      <th>Angelina</th>\n      <th>Aransas</th>\n      <th>Atascosa</th>\n      <th>Bailey</th>\n      <th>Bandera</th>\n      <th>Baylor</th>\n      <th>Bee</th>\n      <th>Bell</th>\n      <th>Bexar</th>\n      <th>...</th>\n      <th>Ward</th>\n      <th>Washington</th>\n      <th>Webb</th>\n      <th>Wharton</th>\n      <th>Wheeler</th>\n      <th>Wichita</th>\n      <th>Wilbarger</th>\n      <th>Winkler</th>\n      <th>Wood</th>\n      <th>Young</th>\n    </tr>\n    <tr>\n      <th>Date</th>\n      <th></th>\n      <th></th>\n      <th></th>\n      <th></th>\n      <th></th>\n      <th></th>\n      <th></th>\n      <th></th>\n      <th></th>\n      <th></th>\n      <th></th>\n      <th></th>\n      <th></th>\n      <th></th>\n      <th></th>\n      <th></th>\n      <th></th>\n      <th></th>\n      <th></th>\n      <th></th>\n      <th></th>\n    </tr>\n  </thead>\n  <tbody>\n    <tr>\n      <th>2020-11-07</th>\n      <td>51</td>\n      <td>83</td>\n      <td>20</td>\n      <td>57</td>\n      <td>12</td>\n      <td>18</td>\n      <td>2</td>\n      <td>34</td>\n      <td>428</td>\n      <td>1952</td>\n      <td>...</td>\n      <td>24</td>\n      <td>33</td>\n      <td>241</td>\n      <td>36</td>\n      <td>9</td>\n      <td>159</td>\n      <td>20</td>\n      <td>11</td>\n      <td>39</td>\n      <td>12</td>\n    </tr>\n    <tr>\n      <th>2020-10-31</th>\n      <td>42</td>\n      <td>77</td>\n      <td>32</td>\n      <td>46</td>\n      <td>3</td>\n      <td>23</td>\n      <td>5</td>\n      <td>20</td>\n      <td>408</td>\n      <td>2002</td>\n      <td>...</td>\n      <td>14</td>\n      <td>30</td>\n      <td>248</td>\n      <td>36</td>\n      <td>3</td>\n      <td>151</td>\n      <td>11</td>\n      <td>7</td>\n      <td>31</td>\n      <td>16</td>\n    </tr>\n    <tr>\n      <th>2020-10-24</th>\n      <td>79</td>\n      <td>89</td>\n      <td>22</td>\n      <td>36</td>\n      <td>1</td>\n      <td>13</td>\n      <td>2</td>\n      <td>24</td>\n      <td>359</td>\n      <td>1842</td>\n      <td>...</td>\n      <td>17</td>\n      <td>24</td>\n      <td>246</td>\n      <td>49</td>\n      <td>4</td>\n      <td>159</td>\n      <td>18</td>\n      <td>8</td>\n      <td>33</td>\n      <td>17</td>\n    </tr>\n    <tr>\n      <th>2020-10-17</th>\n      <td>54</td>\n      <td>80</td>\n      <td>40</td>\n      <td>35</td>\n      <td>4</td>\n      <td>24</td>\n      <td>2</td>\n      <td>19</td>\n      <td>364</td>\n      <td>1766</td>\n      <td>...</td>\n      <td>23</td>\n      <td>34</td>\n      <td>248</td>\n      <td>41</td>\n      <td>9</td>\n      <td>156</td>\n      <td>22</td>\n      <td>15</td>\n      <td>26</td>\n      <td>17</td>\n    </tr>\n    <tr>\n      <th>2020-10-10</th>\n      <td>63</td>\n      <td>98</td>\n      <td>18</td>\n      <td>40</td>\n      <td>3</td>\n      <td>11</td>\n      <td>3</td>\n      <td>41</td>\n      <td>436</td>\n      <td>2319</td>\n      <td>...</td>\n      <td>19</td>\n      <td>37</td>\n      <td>318</td>\n      <td>38</td>\n      <td>10</td>\n      <td>176</td>\n      <td>24</td>\n      <td>11</td>\n      <td>38</td>\n      <td>19</td>\n    </tr>\n  </tbody>\n</table>\n<p>5 rows × 188 columns</p>\n</div>"
     },
     "metadata": {},
     "execution_count": 395
    }
   ],
   "source": [
    "# Display merged claims data for low income category\n",
    "claims_data_merged_low.head()"
   ]
  },
  {
   "cell_type": "code",
   "execution_count": 396,
   "metadata": {},
   "outputs": [
    {
     "output_type": "execute_result",
     "data": {
      "text/plain": [
       "           Brooks Duval Hall Maverick Menard Starr Willacy Zapata Zavala\n",
       "Date                                                                    \n",
       "2020-11-07      7    21    2      138      2   178      26     19     21\n",
       "2020-10-31      9    10    2      241      1   124      24     20     11\n",
       "2020-10-24      8    16    1      111      2   152      51     27     18\n",
       "2020-10-17     13     9    4      100      0   143      43     27     12\n",
       "2020-10-10     12    19    3       99      1   139      24     22     16"
      ],
      "text/html": "<div>\n<style scoped>\n    .dataframe tbody tr th:only-of-type {\n        vertical-align: middle;\n    }\n\n    .dataframe tbody tr th {\n        vertical-align: top;\n    }\n\n    .dataframe thead th {\n        text-align: right;\n    }\n</style>\n<table border=\"1\" class=\"dataframe\">\n  <thead>\n    <tr style=\"text-align: right;\">\n      <th></th>\n      <th>Brooks</th>\n      <th>Duval</th>\n      <th>Hall</th>\n      <th>Maverick</th>\n      <th>Menard</th>\n      <th>Starr</th>\n      <th>Willacy</th>\n      <th>Zapata</th>\n      <th>Zavala</th>\n    </tr>\n    <tr>\n      <th>Date</th>\n      <th></th>\n      <th></th>\n      <th></th>\n      <th></th>\n      <th></th>\n      <th></th>\n      <th></th>\n      <th></th>\n      <th></th>\n    </tr>\n  </thead>\n  <tbody>\n    <tr>\n      <th>2020-11-07</th>\n      <td>7</td>\n      <td>21</td>\n      <td>2</td>\n      <td>138</td>\n      <td>2</td>\n      <td>178</td>\n      <td>26</td>\n      <td>19</td>\n      <td>21</td>\n    </tr>\n    <tr>\n      <th>2020-10-31</th>\n      <td>9</td>\n      <td>10</td>\n      <td>2</td>\n      <td>241</td>\n      <td>1</td>\n      <td>124</td>\n      <td>24</td>\n      <td>20</td>\n      <td>11</td>\n    </tr>\n    <tr>\n      <th>2020-10-24</th>\n      <td>8</td>\n      <td>16</td>\n      <td>1</td>\n      <td>111</td>\n      <td>2</td>\n      <td>152</td>\n      <td>51</td>\n      <td>27</td>\n      <td>18</td>\n    </tr>\n    <tr>\n      <th>2020-10-17</th>\n      <td>13</td>\n      <td>9</td>\n      <td>4</td>\n      <td>100</td>\n      <td>0</td>\n      <td>143</td>\n      <td>43</td>\n      <td>27</td>\n      <td>12</td>\n    </tr>\n    <tr>\n      <th>2020-10-10</th>\n      <td>12</td>\n      <td>19</td>\n      <td>3</td>\n      <td>99</td>\n      <td>1</td>\n      <td>139</td>\n      <td>24</td>\n      <td>22</td>\n      <td>16</td>\n    </tr>\n  </tbody>\n</table>\n</div>"
     },
     "metadata": {},
     "execution_count": 396
    }
   ],
   "source": [
    "# Display merged claims data for very low income category\n",
    "claims_data_merged_very_low.head()"
   ]
  },
  {
   "cell_type": "code",
   "execution_count": 397,
   "metadata": {},
   "outputs": [
    {
     "output_type": "execute_result",
     "data": {
      "text/plain": [
       "            fips_code    County  total_population  cumulative_cases  \\\n",
       "date                                                                  \n",
       "2020-03-31    48001.0  Anderson           57863.0                 1   \n",
       "2020-04-30    48001.0  Anderson           57863.0                29   \n",
       "2020-05-31    48001.0  Anderson           57863.0                72   \n",
       "2020-06-30    48001.0  Anderson           57863.0              1032   \n",
       "2020-07-31    48001.0  Anderson           57863.0              2196   \n",
       "...               ...       ...               ...               ...   \n",
       "2020-07-31    48503.0     Young           18114.0               133   \n",
       "2020-08-31    48503.0     Young           18114.0               244   \n",
       "2020-09-30    48503.0     Young           18114.0               332   \n",
       "2020-10-31    48503.0     Young           18114.0               620   \n",
       "2020-11-11    48503.0     Young           18114.0               704   \n",
       "\n",
       "            cumulative_cases_per_100_000  cumulative_deaths  \\\n",
       "date                                                          \n",
       "2020-03-31                          1.73                  0   \n",
       "2020-04-30                         50.12                  0   \n",
       "2020-05-31                        124.43                  0   \n",
       "2020-06-30                       1783.52                  2   \n",
       "2020-07-31                       3795.17                  8   \n",
       "...                                  ...                ...   \n",
       "2020-07-31                        734.24                  3   \n",
       "2020-08-31                       1347.02                  6   \n",
       "2020-09-30                       1832.84                  6   \n",
       "2020-10-31                       3422.77                 10   \n",
       "2020-11-11                       3886.50                 13   \n",
       "\n",
       "            cumulative_deaths_per_100_000  Median Household Income  \n",
       "date                                                                \n",
       "2020-03-31                           0.00                  45969.0  \n",
       "2020-04-30                           0.00                  45969.0  \n",
       "2020-05-31                           0.00                  45969.0  \n",
       "2020-06-30                           3.46                  45969.0  \n",
       "2020-07-31                          13.83                  45969.0  \n",
       "...                                   ...                      ...  \n",
       "2020-07-31                          16.56                  49301.0  \n",
       "2020-08-31                          33.12                  49301.0  \n",
       "2020-09-30                          33.12                  49301.0  \n",
       "2020-10-31                          55.21                  49301.0  \n",
       "2020-11-11                          71.77                  49301.0  \n",
       "\n",
       "[1701 rows x 8 columns]"
      ],
      "text/html": "<div>\n<style scoped>\n    .dataframe tbody tr th:only-of-type {\n        vertical-align: middle;\n    }\n\n    .dataframe tbody tr th {\n        vertical-align: top;\n    }\n\n    .dataframe thead th {\n        text-align: right;\n    }\n</style>\n<table border=\"1\" class=\"dataframe\">\n  <thead>\n    <tr style=\"text-align: right;\">\n      <th></th>\n      <th>fips_code</th>\n      <th>County</th>\n      <th>total_population</th>\n      <th>cumulative_cases</th>\n      <th>cumulative_cases_per_100_000</th>\n      <th>cumulative_deaths</th>\n      <th>cumulative_deaths_per_100_000</th>\n      <th>Median Household Income</th>\n    </tr>\n    <tr>\n      <th>date</th>\n      <th></th>\n      <th></th>\n      <th></th>\n      <th></th>\n      <th></th>\n      <th></th>\n      <th></th>\n      <th></th>\n    </tr>\n  </thead>\n  <tbody>\n    <tr>\n      <th>2020-03-31</th>\n      <td>48001.0</td>\n      <td>Anderson</td>\n      <td>57863.0</td>\n      <td>1</td>\n      <td>1.73</td>\n      <td>0</td>\n      <td>0.00</td>\n      <td>45969.0</td>\n    </tr>\n    <tr>\n      <th>2020-04-30</th>\n      <td>48001.0</td>\n      <td>Anderson</td>\n      <td>57863.0</td>\n      <td>29</td>\n      <td>50.12</td>\n      <td>0</td>\n      <td>0.00</td>\n      <td>45969.0</td>\n    </tr>\n    <tr>\n      <th>2020-05-31</th>\n      <td>48001.0</td>\n      <td>Anderson</td>\n      <td>57863.0</td>\n      <td>72</td>\n      <td>124.43</td>\n      <td>0</td>\n      <td>0.00</td>\n      <td>45969.0</td>\n    </tr>\n    <tr>\n      <th>2020-06-30</th>\n      <td>48001.0</td>\n      <td>Anderson</td>\n      <td>57863.0</td>\n      <td>1032</td>\n      <td>1783.52</td>\n      <td>2</td>\n      <td>3.46</td>\n      <td>45969.0</td>\n    </tr>\n    <tr>\n      <th>2020-07-31</th>\n      <td>48001.0</td>\n      <td>Anderson</td>\n      <td>57863.0</td>\n      <td>2196</td>\n      <td>3795.17</td>\n      <td>8</td>\n      <td>13.83</td>\n      <td>45969.0</td>\n    </tr>\n    <tr>\n      <th>...</th>\n      <td>...</td>\n      <td>...</td>\n      <td>...</td>\n      <td>...</td>\n      <td>...</td>\n      <td>...</td>\n      <td>...</td>\n      <td>...</td>\n    </tr>\n    <tr>\n      <th>2020-07-31</th>\n      <td>48503.0</td>\n      <td>Young</td>\n      <td>18114.0</td>\n      <td>133</td>\n      <td>734.24</td>\n      <td>3</td>\n      <td>16.56</td>\n      <td>49301.0</td>\n    </tr>\n    <tr>\n      <th>2020-08-31</th>\n      <td>48503.0</td>\n      <td>Young</td>\n      <td>18114.0</td>\n      <td>244</td>\n      <td>1347.02</td>\n      <td>6</td>\n      <td>33.12</td>\n      <td>49301.0</td>\n    </tr>\n    <tr>\n      <th>2020-09-30</th>\n      <td>48503.0</td>\n      <td>Young</td>\n      <td>18114.0</td>\n      <td>332</td>\n      <td>1832.84</td>\n      <td>6</td>\n      <td>33.12</td>\n      <td>49301.0</td>\n    </tr>\n    <tr>\n      <th>2020-10-31</th>\n      <td>48503.0</td>\n      <td>Young</td>\n      <td>18114.0</td>\n      <td>620</td>\n      <td>3422.77</td>\n      <td>10</td>\n      <td>55.21</td>\n      <td>49301.0</td>\n    </tr>\n    <tr>\n      <th>2020-11-11</th>\n      <td>48503.0</td>\n      <td>Young</td>\n      <td>18114.0</td>\n      <td>704</td>\n      <td>3886.50</td>\n      <td>13</td>\n      <td>71.77</td>\n      <td>49301.0</td>\n    </tr>\n  </tbody>\n</table>\n<p>1701 rows × 8 columns</p>\n</div>"
     },
     "metadata": {},
     "execution_count": 397
    }
   ],
   "source": [
    "endofmonth_Covid_timeseries_lowincome = endofmonth_Covid_timeseries.rename(columns={\"location_name\":\"County\"})\n",
    "endofmonth_Covid_timeseries_lowincome = endofmonth_Covid_timeseries_lowincome.reset_index()\n",
    "combined_low_income_covidcases = pd.merge(endofmonth_Covid_timeseries_lowincome, texas_low_income, on='County').set_index('date')\n",
    "combined_low_income_covidcases = combined_low_income_covidcases.dropna(how='any')\n",
    "combined_low_income_covidcases"
   ]
  },
  {
   "cell_type": "code",
   "execution_count": 398,
   "metadata": {},
   "outputs": [
    {
     "output_type": "execute_result",
     "data": {
      "text/plain": [
       "            fips_code  County  total_population  cumulative_cases  \\\n",
       "date                                                                \n",
       "2020-03-31    48047.0  Brooks            7180.0                 0   \n",
       "2020-04-30    48047.0  Brooks            7180.0                 1   \n",
       "2020-05-31    48047.0  Brooks            7180.0                 1   \n",
       "2020-06-30    48047.0  Brooks            7180.0                 3   \n",
       "2020-07-31    48047.0  Brooks            7180.0                84   \n",
       "\n",
       "            cumulative_cases_per_100_000  cumulative_deaths  \\\n",
       "date                                                          \n",
       "2020-03-31                          0.00                  0   \n",
       "2020-04-30                         13.93                  0   \n",
       "2020-05-31                         13.93                  0   \n",
       "2020-06-30                         41.78                  0   \n",
       "2020-07-31                       1169.92                  1   \n",
       "\n",
       "            cumulative_deaths_per_100_000  Median Household Income  \n",
       "date                                                                \n",
       "2020-03-31                           0.00                  30116.0  \n",
       "2020-04-30                           0.00                  30116.0  \n",
       "2020-05-31                           0.00                  30116.0  \n",
       "2020-06-30                           0.00                  30116.0  \n",
       "2020-07-31                          13.93                  30116.0  "
      ],
      "text/html": "<div>\n<style scoped>\n    .dataframe tbody tr th:only-of-type {\n        vertical-align: middle;\n    }\n\n    .dataframe tbody tr th {\n        vertical-align: top;\n    }\n\n    .dataframe thead th {\n        text-align: right;\n    }\n</style>\n<table border=\"1\" class=\"dataframe\">\n  <thead>\n    <tr style=\"text-align: right;\">\n      <th></th>\n      <th>fips_code</th>\n      <th>County</th>\n      <th>total_population</th>\n      <th>cumulative_cases</th>\n      <th>cumulative_cases_per_100_000</th>\n      <th>cumulative_deaths</th>\n      <th>cumulative_deaths_per_100_000</th>\n      <th>Median Household Income</th>\n    </tr>\n    <tr>\n      <th>date</th>\n      <th></th>\n      <th></th>\n      <th></th>\n      <th></th>\n      <th></th>\n      <th></th>\n      <th></th>\n      <th></th>\n    </tr>\n  </thead>\n  <tbody>\n    <tr>\n      <th>2020-03-31</th>\n      <td>48047.0</td>\n      <td>Brooks</td>\n      <td>7180.0</td>\n      <td>0</td>\n      <td>0.00</td>\n      <td>0</td>\n      <td>0.00</td>\n      <td>30116.0</td>\n    </tr>\n    <tr>\n      <th>2020-04-30</th>\n      <td>48047.0</td>\n      <td>Brooks</td>\n      <td>7180.0</td>\n      <td>1</td>\n      <td>13.93</td>\n      <td>0</td>\n      <td>0.00</td>\n      <td>30116.0</td>\n    </tr>\n    <tr>\n      <th>2020-05-31</th>\n      <td>48047.0</td>\n      <td>Brooks</td>\n      <td>7180.0</td>\n      <td>1</td>\n      <td>13.93</td>\n      <td>0</td>\n      <td>0.00</td>\n      <td>30116.0</td>\n    </tr>\n    <tr>\n      <th>2020-06-30</th>\n      <td>48047.0</td>\n      <td>Brooks</td>\n      <td>7180.0</td>\n      <td>3</td>\n      <td>41.78</td>\n      <td>0</td>\n      <td>0.00</td>\n      <td>30116.0</td>\n    </tr>\n    <tr>\n      <th>2020-07-31</th>\n      <td>48047.0</td>\n      <td>Brooks</td>\n      <td>7180.0</td>\n      <td>84</td>\n      <td>1169.92</td>\n      <td>1</td>\n      <td>13.93</td>\n      <td>30116.0</td>\n    </tr>\n  </tbody>\n</table>\n</div>"
     },
     "metadata": {},
     "execution_count": 398
    }
   ],
   "source": [
    "endofmonth_Covid_timeseries_verylowincome = endofmonth_Covid_timeseries.rename(columns={\"location_name\":\"County\"})\n",
    "endofmonth_Covid_timeseries_verylowincome = endofmonth_Covid_timeseries_verylowincome.reset_index()\n",
    "combined_very_low_income_covidcases = pd.merge(endofmonth_Covid_timeseries_verylowincome, texas_verylow_income, on='County').set_index('date')\n",
    "combined_very_low_income_covidcases = combined_very_low_income_covidcases.dropna(how='any')\n",
    "combined_very_low_income_covidcases.head()"
   ]
  },
  {
   "source": [
    "# Analysis - DataFrame calculations and Graph plotting"
   ],
   "cell_type": "markdown",
   "metadata": {}
  },
  {
   "source": [
    "### Setting up claims data for calculations and plotting using resampling and matplotlib"
   ],
   "cell_type": "markdown",
   "metadata": {}
  },
  {
   "cell_type": "code",
   "execution_count": 399,
   "metadata": {},
   "outputs": [],
   "source": [
    "unemployment_claims_monthly = unemployment_claims.resample('M').sum()\n",
    "unemployment_claims_monthly_by_county = unemployment_claims_monthly.sum(axis=0) \n",
    "\n",
    "claims_monthly_totals = unemployment_claims_monthly.sum(axis=1)\n",
    "total_claims_per_month_df = pd.DataFrame()"
   ]
  },
  {
   "cell_type": "code",
   "execution_count": 400,
   "metadata": {},
   "outputs": [],
   "source": [
    "above_lowincome_claims_monthly = claims_data_merged_above57k.resample('M').sum()\n",
    "low_income_claims_monthly = claims_data_merged_low.resample('M').sum()\n",
    "very_low_income_claims_monthly = claims_data_merged_very_low.resample('M').sum()"
   ]
  },
  {
   "cell_type": "code",
   "execution_count": 401,
   "metadata": {},
   "outputs": [
    {
     "output_type": "execute_result",
     "data": {
      "text/plain": [
       "            Claims per Month Above Low Income  Claims per Month Low Income  \\\n",
       "Date                                                                         \n",
       "2020-03-31                           305903.0                     139761.0   \n",
       "2020-04-30                           564877.0                     273291.0   \n",
       "2020-05-31                           386642.0                     198815.0   \n",
       "2020-06-30                           204972.0                     110807.0   \n",
       "2020-07-31                           201863.0                     118853.0   \n",
       "\n",
       "            Claims per Month Very Low Income  \n",
       "Date                                          \n",
       "2020-03-31                            2175.0  \n",
       "2020-04-30                            4652.0  \n",
       "2020-05-31                            5546.0  \n",
       "2020-06-30                            3158.0  \n",
       "2020-07-31                            2933.0  "
      ],
      "text/html": "<div>\n<style scoped>\n    .dataframe tbody tr th:only-of-type {\n        vertical-align: middle;\n    }\n\n    .dataframe tbody tr th {\n        vertical-align: top;\n    }\n\n    .dataframe thead th {\n        text-align: right;\n    }\n</style>\n<table border=\"1\" class=\"dataframe\">\n  <thead>\n    <tr style=\"text-align: right;\">\n      <th></th>\n      <th>Claims per Month Above Low Income</th>\n      <th>Claims per Month Low Income</th>\n      <th>Claims per Month Very Low Income</th>\n    </tr>\n    <tr>\n      <th>Date</th>\n      <th></th>\n      <th></th>\n      <th></th>\n    </tr>\n  </thead>\n  <tbody>\n    <tr>\n      <th>2020-03-31</th>\n      <td>305903.0</td>\n      <td>139761.0</td>\n      <td>2175.0</td>\n    </tr>\n    <tr>\n      <th>2020-04-30</th>\n      <td>564877.0</td>\n      <td>273291.0</td>\n      <td>4652.0</td>\n    </tr>\n    <tr>\n      <th>2020-05-31</th>\n      <td>386642.0</td>\n      <td>198815.0</td>\n      <td>5546.0</td>\n    </tr>\n    <tr>\n      <th>2020-06-30</th>\n      <td>204972.0</td>\n      <td>110807.0</td>\n      <td>3158.0</td>\n    </tr>\n    <tr>\n      <th>2020-07-31</th>\n      <td>201863.0</td>\n      <td>118853.0</td>\n      <td>2933.0</td>\n    </tr>\n  </tbody>\n</table>\n</div>"
     },
     "metadata": {},
     "execution_count": 401
    }
   ],
   "source": [
    "low_income_claims_monthly_sum  = low_income_claims_monthly.sum(axis=1) \n",
    "above_lowincome_claims_monthly_sum = above_lowincome_claims_monthly.sum(axis=1)\n",
    "very_low_income_claims_monthly_sum  = very_low_income_claims_monthly.sum(axis=1) \n",
    "\n",
    "total_claims_per_month_df['Claims per Month Above Low Income'] = above_lowincome_claims_monthly_sum\n",
    "total_claims_per_month_df['Claims per Month Low Income'] = low_income_claims_monthly_sum\n",
    "total_claims_per_month_df['Claims per Month Very Low Income'] = very_low_income_claims_monthly_sum\n",
    "\n",
    "total_claims_per_month_df.head() #Display total claims data"
   ]
  },
  {
   "cell_type": "code",
   "execution_count": 402,
   "metadata": {},
   "outputs": [],
   "source": [
    "date = total_claims_per_month_df.index.month_name().str.slice(stop=3)"
   ]
  },
  {
   "cell_type": "code",
   "execution_count": 403,
   "metadata": {},
   "outputs": [
    {
     "output_type": "execute_result",
     "data": {
      "text/plain": [
       "      Numbers\n",
       "Date         \n",
       "Mar      3809\n",
       "Apr     24918\n",
       "May     35925\n",
       "Jun     98408\n",
       "Jul    275233"
      ],
      "text/html": "<div>\n<style scoped>\n    .dataframe tbody tr th:only-of-type {\n        vertical-align: middle;\n    }\n\n    .dataframe tbody tr th {\n        vertical-align: top;\n    }\n\n    .dataframe thead th {\n        text-align: right;\n    }\n</style>\n<table border=\"1\" class=\"dataframe\">\n  <thead>\n    <tr style=\"text-align: right;\">\n      <th></th>\n      <th>Numbers</th>\n    </tr>\n    <tr>\n      <th>Date</th>\n      <th></th>\n    </tr>\n  </thead>\n  <tbody>\n    <tr>\n      <th>Mar</th>\n      <td>3809</td>\n    </tr>\n    <tr>\n      <th>Apr</th>\n      <td>24918</td>\n    </tr>\n    <tr>\n      <th>May</th>\n      <td>35925</td>\n    </tr>\n    <tr>\n      <th>Jun</th>\n      <td>98408</td>\n    </tr>\n    <tr>\n      <th>Jul</th>\n      <td>275233</td>\n    </tr>\n  </tbody>\n</table>\n</div>"
     },
     "metadata": {},
     "execution_count": 403
    }
   ],
   "source": [
    "# Covid cases to be used for line plot\n",
    "cumulative_numbers_df = pd.DataFrame(cumulative_numbers,index=date)\n",
    "cumulative_numbers_df.columns = ['Numbers']\n",
    "cumulative_numbers_df.head()"
   ]
  },
  {
   "source": [
    "### Plot Chart for Texas claims by county and Covid-19 cases"
   ],
   "cell_type": "markdown",
   "metadata": {}
  },
  {
   "cell_type": "code",
   "execution_count": 404,
   "metadata": {},
   "outputs": [
    {
     "output_type": "display_data",
     "data": {
      "text/plain": "<Figure size 1008x504 with 1 Axes>",
      "image/svg+xml": "<?xml version=\"1.0\" encoding=\"utf-8\" standalone=\"no\"?>\r\n<!DOCTYPE svg PUBLIC \"-//W3C//DTD SVG 1.1//EN\"\r\n  \"http://www.w3.org/Graphics/SVG/1.1/DTD/svg11.dtd\">\r\n<!-- Created with matplotlib (https://matplotlib.org/) -->\r\n<svg height=\"451.39125pt\" version=\"1.1\" viewBox=\"0 0 854.453125 451.39125\" width=\"854.453125pt\" xmlns=\"http://www.w3.org/2000/svg\" xmlns:xlink=\"http://www.w3.org/1999/xlink\">\r\n <metadata>\r\n  <rdf:RDF xmlns:cc=\"http://creativecommons.org/ns#\" xmlns:dc=\"http://purl.org/dc/elements/1.1/\" xmlns:rdf=\"http://www.w3.org/1999/02/22-rdf-syntax-ns#\">\r\n   <cc:Work>\r\n    <dc:type rdf:resource=\"http://purl.org/dc/dcmitype/StillImage\"/>\r\n    <dc:date>2020-11-19T20:14:28.998764</dc:date>\r\n    <dc:format>image/svg+xml</dc:format>\r\n    <dc:creator>\r\n     <cc:Agent>\r\n      <dc:title>Matplotlib v3.3.2, https://matplotlib.org/</dc:title>\r\n     </cc:Agent>\r\n    </dc:creator>\r\n   </cc:Work>\r\n  </rdf:RDF>\r\n </metadata>\r\n <defs>\r\n  <style type=\"text/css\">*{stroke-linecap:butt;stroke-linejoin:round;}</style>\r\n </defs>\r\n <g id=\"figure_1\">\r\n  <g id=\"patch_1\">\r\n   <path d=\"M 0 451.39125 \r\nL 854.453125 451.39125 \r\nL 854.453125 0 \r\nL 0 0 \r\nz\r\n\" style=\"fill:none;\"/>\r\n  </g>\r\n  <g id=\"axes_1\">\r\n   <g id=\"patch_2\">\r\n    <path d=\"M 66.053125 402.838125 \r\nL 847.253125 402.838125 \r\nL 847.253125 22.318125 \r\nL 66.053125 22.318125 \r\nz\r\n\" style=\"fill:#ffffff;\"/>\r\n   </g>\r\n   <g id=\"patch_3\">\r\n    <path clip-path=\"url(#peb6b472909)\" d=\"M 88.120922 402.838125 \r\nL 119.015837 402.838125 \r\nL 119.015837 271.304408 \r\nL 88.120922 271.304408 \r\nz\r\n\" style=\"fill:#1f77b4;\"/>\r\n   </g>\r\n   <g id=\"patch_4\">\r\n    <path clip-path=\"url(#peb6b472909)\" d=\"M 176.392108 402.838125 \r\nL 207.287023 402.838125 \r\nL 207.287023 159.94946 \r\nL 176.392108 159.94946 \r\nz\r\n\" style=\"fill:#1f77b4;\"/>\r\n   </g>\r\n   <g id=\"patch_5\">\r\n    <path clip-path=\"url(#peb6b472909)\" d=\"M 264.663294 402.838125 \r\nL 295.55821 402.838125 \r\nL 295.55821 236.587845 \r\nL 264.663294 236.587845 \r\nz\r\n\" style=\"fill:#1f77b4;\"/>\r\n   </g>\r\n   <g id=\"patch_6\">\r\n    <path clip-path=\"url(#peb6b472909)\" d=\"M 352.934481 402.838125 \r\nL 383.829396 402.838125 \r\nL 383.829396 314.703229 \r\nL 352.934481 314.703229 \r\nz\r\n\" style=\"fill:#1f77b4;\"/>\r\n   </g>\r\n   <g id=\"patch_7\">\r\n    <path clip-path=\"url(#peb6b472909)\" d=\"M 441.205667 402.838125 \r\nL 472.100583 402.838125 \r\nL 472.100583 316.040053 \r\nL 441.205667 316.040053 \r\nz\r\n\" style=\"fill:#1f77b4;\"/>\r\n   </g>\r\n   <g id=\"patch_8\">\r\n    <path clip-path=\"url(#peb6b472909)\" d=\"M 529.476854 402.838125 \r\nL 560.371769 402.838125 \r\nL 560.371769 336.367166 \r\nL 529.476854 336.367166 \r\nz\r\n\" style=\"fill:#1f77b4;\"/>\r\n   </g>\r\n   <g id=\"patch_9\">\r\n    <path clip-path=\"url(#peb6b472909)\" d=\"M 617.74804 402.838125 \r\nL 648.642956 402.838125 \r\nL 648.642956 357.924037 \r\nL 617.74804 357.924037 \r\nz\r\n\" style=\"fill:#1f77b4;\"/>\r\n   </g>\r\n   <g id=\"patch_10\">\r\n    <path clip-path=\"url(#peb6b472909)\" d=\"M 706.019227 402.838125 \r\nL 736.914142 402.838125 \r\nL 736.914142 357.184462 \r\nL 706.019227 357.184462 \r\nz\r\n\" style=\"fill:#1f77b4;\"/>\r\n   </g>\r\n   <g id=\"patch_11\">\r\n    <path clip-path=\"url(#peb6b472909)\" d=\"M 794.290413 402.838125 \r\nL 825.185328 402.838125 \r\nL 825.185328 394.405688 \r\nL 794.290413 394.405688 \r\nz\r\n\" style=\"fill:#1f77b4;\"/>\r\n   </g>\r\n   <g id=\"patch_12\">\r\n    <path clip-path=\"url(#peb6b472909)\" d=\"M 88.120922 271.304408 \r\nL 119.015837 271.304408 \r\nL 119.015837 211.209268 \r\nL 88.120922 211.209268 \r\nz\r\n\" style=\"fill:#ff7f0e;\"/>\r\n   </g>\r\n   <g id=\"patch_13\">\r\n    <path clip-path=\"url(#peb6b472909)\" d=\"M 176.392108 159.94946 \r\nL 207.287023 159.94946 \r\nL 207.287023 42.438415 \r\nL 176.392108 42.438415 \r\nz\r\n\" style=\"fill:#ff7f0e;\"/>\r\n   </g>\r\n   <g id=\"patch_14\">\r\n    <path clip-path=\"url(#peb6b472909)\" d=\"M 264.663294 236.587845 \r\nL 295.55821 236.587845 \r\nL 295.55821 151.100367 \r\nL 264.663294 151.100367 \r\nz\r\n\" style=\"fill:#ff7f0e;\"/>\r\n   </g>\r\n   <g id=\"patch_15\">\r\n    <path clip-path=\"url(#peb6b472909)\" d=\"M 352.934481 314.703229 \r\nL 383.829396 314.703229 \r\nL 383.829396 267.057876 \r\nL 352.934481 267.057876 \r\nz\r\n\" style=\"fill:#ff7f0e;\"/>\r\n   </g>\r\n   <g id=\"patch_16\">\r\n    <path clip-path=\"url(#peb6b472909)\" d=\"M 441.205667 316.040053 \r\nL 472.100583 316.040053 \r\nL 472.100583 264.93504 \r\nL 441.205667 264.93504 \r\nz\r\n\" style=\"fill:#ff7f0e;\"/>\r\n   </g>\r\n   <g id=\"patch_17\">\r\n    <path clip-path=\"url(#peb6b472909)\" d=\"M 529.476854 336.367166 \r\nL 560.371769 336.367166 \r\nL 560.371769 298.088177 \r\nL 529.476854 298.088177 \r\nz\r\n\" style=\"fill:#ff7f0e;\"/>\r\n   </g>\r\n   <g id=\"patch_18\">\r\n    <path clip-path=\"url(#peb6b472909)\" d=\"M 617.74804 357.924037 \r\nL 648.642956 357.924037 \r\nL 648.642956 332.192871 \r\nL 617.74804 332.192871 \r\nz\r\n\" style=\"fill:#ff7f0e;\"/>\r\n   </g>\r\n   <g id=\"patch_19\">\r\n    <path clip-path=\"url(#peb6b472909)\" d=\"M 706.019227 357.184462 \r\nL 736.914142 357.184462 \r\nL 736.914142 330.128513 \r\nL 706.019227 330.128513 \r\nz\r\n\" style=\"fill:#ff7f0e;\"/>\r\n   </g>\r\n   <g id=\"patch_20\">\r\n    <path clip-path=\"url(#peb6b472909)\" d=\"M 794.290413 394.405688 \r\nL 825.185328 394.405688 \r\nL 825.185328 388.88425 \r\nL 794.290413 388.88425 \r\nz\r\n\" style=\"fill:#ff7f0e;\"/>\r\n   </g>\r\n   <g id=\"patch_21\">\r\n    <path clip-path=\"url(#peb6b472909)\" d=\"M 88.120922 211.209268 \r\nL 119.015837 211.209268 \r\nL 119.015837 210.27405 \r\nL 88.120922 210.27405 \r\nz\r\n\" style=\"fill:#2ca02c;\"/>\r\n   </g>\r\n   <g id=\"patch_22\">\r\n    <path clip-path=\"url(#peb6b472909)\" d=\"M 176.392108 42.438415 \r\nL 207.287023 42.438415 \r\nL 207.287023 40.438125 \r\nL 176.392108 40.438125 \r\nz\r\n\" style=\"fill:#2ca02c;\"/>\r\n   </g>\r\n   <g id=\"patch_23\">\r\n    <path clip-path=\"url(#peb6b472909)\" d=\"M 264.663294 151.100367 \r\nL 295.55821 151.100367 \r\nL 295.55821 148.71567 \r\nL 264.663294 148.71567 \r\nz\r\n\" style=\"fill:#2ca02c;\"/>\r\n   </g>\r\n   <g id=\"patch_24\">\r\n    <path clip-path=\"url(#peb6b472909)\" d=\"M 352.934481 267.057876 \r\nL 383.829396 267.057876 \r\nL 383.829396 265.699983 \r\nL 352.934481 265.699983 \r\nz\r\n\" style=\"fill:#2ca02c;\"/>\r\n   </g>\r\n   <g id=\"patch_25\">\r\n    <path clip-path=\"url(#peb6b472909)\" d=\"M 441.205667 264.93504 \r\nL 472.100583 264.93504 \r\nL 472.100583 263.673893 \r\nL 441.205667 263.673893 \r\nz\r\n\" style=\"fill:#2ca02c;\"/>\r\n   </g>\r\n   <g id=\"patch_26\">\r\n    <path clip-path=\"url(#peb6b472909)\" d=\"M 529.476854 298.088177 \r\nL 560.371769 298.088177 \r\nL 560.371769 297.066962 \r\nL 529.476854 297.066962 \r\nz\r\n\" style=\"fill:#2ca02c;\"/>\r\n   </g>\r\n   <g id=\"patch_27\">\r\n    <path clip-path=\"url(#peb6b472909)\" d=\"M 617.74804 332.192871 \r\nL 648.642956 332.192871 \r\nL 648.642956 331.576273 \r\nL 617.74804 331.576273 \r\nz\r\n\" style=\"fill:#2ca02c;\"/>\r\n   </g>\r\n   <g id=\"patch_28\">\r\n    <path clip-path=\"url(#peb6b472909)\" d=\"M 706.019227 330.128513 \r\nL 736.914142 330.128513 \r\nL 736.914142 329.34594 \r\nL 706.019227 329.34594 \r\nz\r\n\" style=\"fill:#2ca02c;\"/>\r\n   </g>\r\n   <g id=\"patch_29\">\r\n    <path clip-path=\"url(#peb6b472909)\" d=\"M 794.290413 388.88425 \r\nL 825.185328 388.88425 \r\nL 825.185328 388.706236 \r\nL 794.290413 388.706236 \r\nz\r\n\" style=\"fill:#2ca02c;\"/>\r\n   </g>\r\n   <g id=\"matplotlib.axis_1\">\r\n    <g id=\"xtick_1\">\r\n     <g id=\"line2d_1\">\r\n      <defs>\r\n       <path d=\"M 0 0 \r\nL 0 3.5 \r\n\" id=\"m677a877fde\" style=\"stroke:#000000;stroke-width:0.8;\"/>\r\n      </defs>\r\n      <g>\r\n       <use style=\"stroke:#000000;stroke-width:0.8;\" x=\"103.568379\" xlink:href=\"#m677a877fde\" y=\"402.838125\"/>\r\n      </g>\r\n     </g>\r\n     <g id=\"text_1\">\r\n      <!-- Mar -->\r\n      <g transform=\"translate(106.327754 428.705312)rotate(-90)scale(0.1 -0.1)\">\r\n       <defs>\r\n        <path d=\"M 9.8125 72.90625 \r\nL 24.515625 72.90625 \r\nL 43.109375 23.296875 \r\nL 61.8125 72.90625 \r\nL 76.515625 72.90625 \r\nL 76.515625 0 \r\nL 66.890625 0 \r\nL 66.890625 64.015625 \r\nL 48.09375 14.015625 \r\nL 38.1875 14.015625 \r\nL 19.390625 64.015625 \r\nL 19.390625 0 \r\nL 9.8125 0 \r\nz\r\n\" id=\"DejaVuSans-77\"/>\r\n        <path d=\"M 34.28125 27.484375 \r\nQ 23.390625 27.484375 19.1875 25 \r\nQ 14.984375 22.515625 14.984375 16.5 \r\nQ 14.984375 11.71875 18.140625 8.90625 \r\nQ 21.296875 6.109375 26.703125 6.109375 \r\nQ 34.1875 6.109375 38.703125 11.40625 \r\nQ 43.21875 16.703125 43.21875 25.484375 \r\nL 43.21875 27.484375 \r\nz\r\nM 52.203125 31.203125 \r\nL 52.203125 0 \r\nL 43.21875 0 \r\nL 43.21875 8.296875 \r\nQ 40.140625 3.328125 35.546875 0.953125 \r\nQ 30.953125 -1.421875 24.3125 -1.421875 \r\nQ 15.921875 -1.421875 10.953125 3.296875 \r\nQ 6 8.015625 6 15.921875 \r\nQ 6 25.140625 12.171875 29.828125 \r\nQ 18.359375 34.515625 30.609375 34.515625 \r\nL 43.21875 34.515625 \r\nL 43.21875 35.40625 \r\nQ 43.21875 41.609375 39.140625 45 \r\nQ 35.0625 48.390625 27.6875 48.390625 \r\nQ 23 48.390625 18.546875 47.265625 \r\nQ 14.109375 46.140625 10.015625 43.890625 \r\nL 10.015625 52.203125 \r\nQ 14.9375 54.109375 19.578125 55.046875 \r\nQ 24.21875 56 28.609375 56 \r\nQ 40.484375 56 46.34375 49.84375 \r\nQ 52.203125 43.703125 52.203125 31.203125 \r\nz\r\n\" id=\"DejaVuSans-97\"/>\r\n        <path d=\"M 41.109375 46.296875 \r\nQ 39.59375 47.171875 37.8125 47.578125 \r\nQ 36.03125 48 33.890625 48 \r\nQ 26.265625 48 22.1875 43.046875 \r\nQ 18.109375 38.09375 18.109375 28.8125 \r\nL 18.109375 0 \r\nL 9.078125 0 \r\nL 9.078125 54.6875 \r\nL 18.109375 54.6875 \r\nL 18.109375 46.1875 \r\nQ 20.953125 51.171875 25.484375 53.578125 \r\nQ 30.03125 56 36.53125 56 \r\nQ 37.453125 56 38.578125 55.875 \r\nQ 39.703125 55.765625 41.0625 55.515625 \r\nz\r\n\" id=\"DejaVuSans-114\"/>\r\n       </defs>\r\n       <use xlink:href=\"#DejaVuSans-77\"/>\r\n       <use x=\"86.279297\" xlink:href=\"#DejaVuSans-97\"/>\r\n       <use x=\"147.558594\" xlink:href=\"#DejaVuSans-114\"/>\r\n      </g>\r\n     </g>\r\n    </g>\r\n    <g id=\"xtick_2\">\r\n     <g id=\"line2d_2\">\r\n      <g>\r\n       <use style=\"stroke:#000000;stroke-width:0.8;\" x=\"191.839566\" xlink:href=\"#m677a877fde\" y=\"402.838125\"/>\r\n      </g>\r\n     </g>\r\n     <g id=\"text_2\">\r\n      <!-- Apr -->\r\n      <g transform=\"translate(194.598941 427.138125)rotate(-90)scale(0.1 -0.1)\">\r\n       <defs>\r\n        <path d=\"M 34.1875 63.1875 \r\nL 20.796875 26.90625 \r\nL 47.609375 26.90625 \r\nz\r\nM 28.609375 72.90625 \r\nL 39.796875 72.90625 \r\nL 67.578125 0 \r\nL 57.328125 0 \r\nL 50.6875 18.703125 \r\nL 17.828125 18.703125 \r\nL 11.1875 0 \r\nL 0.78125 0 \r\nz\r\n\" id=\"DejaVuSans-65\"/>\r\n        <path d=\"M 18.109375 8.203125 \r\nL 18.109375 -20.796875 \r\nL 9.078125 -20.796875 \r\nL 9.078125 54.6875 \r\nL 18.109375 54.6875 \r\nL 18.109375 46.390625 \r\nQ 20.953125 51.265625 25.265625 53.625 \r\nQ 29.59375 56 35.59375 56 \r\nQ 45.5625 56 51.78125 48.09375 \r\nQ 58.015625 40.1875 58.015625 27.296875 \r\nQ 58.015625 14.40625 51.78125 6.484375 \r\nQ 45.5625 -1.421875 35.59375 -1.421875 \r\nQ 29.59375 -1.421875 25.265625 0.953125 \r\nQ 20.953125 3.328125 18.109375 8.203125 \r\nz\r\nM 48.6875 27.296875 \r\nQ 48.6875 37.203125 44.609375 42.84375 \r\nQ 40.53125 48.484375 33.40625 48.484375 \r\nQ 26.265625 48.484375 22.1875 42.84375 \r\nQ 18.109375 37.203125 18.109375 27.296875 \r\nQ 18.109375 17.390625 22.1875 11.75 \r\nQ 26.265625 6.109375 33.40625 6.109375 \r\nQ 40.53125 6.109375 44.609375 11.75 \r\nQ 48.6875 17.390625 48.6875 27.296875 \r\nz\r\n\" id=\"DejaVuSans-112\"/>\r\n       </defs>\r\n       <use xlink:href=\"#DejaVuSans-65\"/>\r\n       <use x=\"68.408203\" xlink:href=\"#DejaVuSans-112\"/>\r\n       <use x=\"131.884766\" xlink:href=\"#DejaVuSans-114\"/>\r\n      </g>\r\n     </g>\r\n    </g>\r\n    <g id=\"xtick_3\">\r\n     <g id=\"line2d_3\">\r\n      <g>\r\n       <use style=\"stroke:#000000;stroke-width:0.8;\" x=\"280.110752\" xlink:href=\"#m677a877fde\" y=\"402.838125\"/>\r\n      </g>\r\n     </g>\r\n     <g id=\"text_3\">\r\n      <!-- May -->\r\n      <g transform=\"translate(282.870127 430.513125)rotate(-90)scale(0.1 -0.1)\">\r\n       <defs>\r\n        <path d=\"M 32.171875 -5.078125 \r\nQ 28.375 -14.84375 24.75 -17.8125 \r\nQ 21.140625 -20.796875 15.09375 -20.796875 \r\nL 7.90625 -20.796875 \r\nL 7.90625 -13.28125 \r\nL 13.1875 -13.28125 \r\nQ 16.890625 -13.28125 18.9375 -11.515625 \r\nQ 21 -9.765625 23.484375 -3.21875 \r\nL 25.09375 0.875 \r\nL 2.984375 54.6875 \r\nL 12.5 54.6875 \r\nL 29.59375 11.921875 \r\nL 46.6875 54.6875 \r\nL 56.203125 54.6875 \r\nz\r\n\" id=\"DejaVuSans-121\"/>\r\n       </defs>\r\n       <use xlink:href=\"#DejaVuSans-77\"/>\r\n       <use x=\"86.279297\" xlink:href=\"#DejaVuSans-97\"/>\r\n       <use x=\"147.558594\" xlink:href=\"#DejaVuSans-121\"/>\r\n      </g>\r\n     </g>\r\n    </g>\r\n    <g id=\"xtick_4\">\r\n     <g id=\"line2d_4\">\r\n      <g>\r\n       <use style=\"stroke:#000000;stroke-width:0.8;\" x=\"368.381939\" xlink:href=\"#m677a877fde\" y=\"402.838125\"/>\r\n      </g>\r\n     </g>\r\n     <g id=\"text_4\">\r\n      <!-- Jun -->\r\n      <g transform=\"translate(371.141314 425.463125)rotate(-90)scale(0.1 -0.1)\">\r\n       <defs>\r\n        <path d=\"M 9.8125 72.90625 \r\nL 19.671875 72.90625 \r\nL 19.671875 5.078125 \r\nQ 19.671875 -8.109375 14.671875 -14.0625 \r\nQ 9.671875 -20.015625 -1.421875 -20.015625 \r\nL -5.171875 -20.015625 \r\nL -5.171875 -11.71875 \r\nL -2.09375 -11.71875 \r\nQ 4.4375 -11.71875 7.125 -8.046875 \r\nQ 9.8125 -4.390625 9.8125 5.078125 \r\nz\r\n\" id=\"DejaVuSans-74\"/>\r\n        <path d=\"M 8.5 21.578125 \r\nL 8.5 54.6875 \r\nL 17.484375 54.6875 \r\nL 17.484375 21.921875 \r\nQ 17.484375 14.15625 20.5 10.265625 \r\nQ 23.53125 6.390625 29.59375 6.390625 \r\nQ 36.859375 6.390625 41.078125 11.03125 \r\nQ 45.3125 15.671875 45.3125 23.6875 \r\nL 45.3125 54.6875 \r\nL 54.296875 54.6875 \r\nL 54.296875 0 \r\nL 45.3125 0 \r\nL 45.3125 8.40625 \r\nQ 42.046875 3.421875 37.71875 1 \r\nQ 33.40625 -1.421875 27.6875 -1.421875 \r\nQ 18.265625 -1.421875 13.375 4.4375 \r\nQ 8.5 10.296875 8.5 21.578125 \r\nz\r\nM 31.109375 56 \r\nz\r\n\" id=\"DejaVuSans-117\"/>\r\n        <path d=\"M 54.890625 33.015625 \r\nL 54.890625 0 \r\nL 45.90625 0 \r\nL 45.90625 32.71875 \r\nQ 45.90625 40.484375 42.875 44.328125 \r\nQ 39.84375 48.1875 33.796875 48.1875 \r\nQ 26.515625 48.1875 22.3125 43.546875 \r\nQ 18.109375 38.921875 18.109375 30.90625 \r\nL 18.109375 0 \r\nL 9.078125 0 \r\nL 9.078125 54.6875 \r\nL 18.109375 54.6875 \r\nL 18.109375 46.1875 \r\nQ 21.34375 51.125 25.703125 53.5625 \r\nQ 30.078125 56 35.796875 56 \r\nQ 45.21875 56 50.046875 50.171875 \r\nQ 54.890625 44.34375 54.890625 33.015625 \r\nz\r\n\" id=\"DejaVuSans-110\"/>\r\n       </defs>\r\n       <use xlink:href=\"#DejaVuSans-74\"/>\r\n       <use x=\"29.492188\" xlink:href=\"#DejaVuSans-117\"/>\r\n       <use x=\"92.871094\" xlink:href=\"#DejaVuSans-110\"/>\r\n      </g>\r\n     </g>\r\n    </g>\r\n    <g id=\"xtick_5\">\r\n     <g id=\"line2d_5\">\r\n      <g>\r\n       <use style=\"stroke:#000000;stroke-width:0.8;\" x=\"456.653125\" xlink:href=\"#m677a877fde\" y=\"402.838125\"/>\r\n      </g>\r\n     </g>\r\n     <g id=\"text_5\">\r\n      <!-- Jul -->\r\n      <g transform=\"translate(459.4125 421.90375)rotate(-90)scale(0.1 -0.1)\">\r\n       <defs>\r\n        <path d=\"M 9.421875 75.984375 \r\nL 18.40625 75.984375 \r\nL 18.40625 0 \r\nL 9.421875 0 \r\nz\r\n\" id=\"DejaVuSans-108\"/>\r\n       </defs>\r\n       <use xlink:href=\"#DejaVuSans-74\"/>\r\n       <use x=\"29.492188\" xlink:href=\"#DejaVuSans-117\"/>\r\n       <use x=\"92.871094\" xlink:href=\"#DejaVuSans-108\"/>\r\n      </g>\r\n     </g>\r\n    </g>\r\n    <g id=\"xtick_6\">\r\n     <g id=\"line2d_6\">\r\n      <g>\r\n       <use style=\"stroke:#000000;stroke-width:0.8;\" x=\"544.924311\" xlink:href=\"#m677a877fde\" y=\"402.838125\"/>\r\n      </g>\r\n     </g>\r\n     <g id=\"text_6\">\r\n      <!-- Aug -->\r\n      <g transform=\"translate(547.683686 429.364687)rotate(-90)scale(0.1 -0.1)\">\r\n       <defs>\r\n        <path d=\"M 45.40625 27.984375 \r\nQ 45.40625 37.75 41.375 43.109375 \r\nQ 37.359375 48.484375 30.078125 48.484375 \r\nQ 22.859375 48.484375 18.828125 43.109375 \r\nQ 14.796875 37.75 14.796875 27.984375 \r\nQ 14.796875 18.265625 18.828125 12.890625 \r\nQ 22.859375 7.515625 30.078125 7.515625 \r\nQ 37.359375 7.515625 41.375 12.890625 \r\nQ 45.40625 18.265625 45.40625 27.984375 \r\nz\r\nM 54.390625 6.78125 \r\nQ 54.390625 -7.171875 48.1875 -13.984375 \r\nQ 42 -20.796875 29.203125 -20.796875 \r\nQ 24.46875 -20.796875 20.265625 -20.09375 \r\nQ 16.0625 -19.390625 12.109375 -17.921875 \r\nL 12.109375 -9.1875 \r\nQ 16.0625 -11.328125 19.921875 -12.34375 \r\nQ 23.78125 -13.375 27.78125 -13.375 \r\nQ 36.625 -13.375 41.015625 -8.765625 \r\nQ 45.40625 -4.15625 45.40625 5.171875 \r\nL 45.40625 9.625 \r\nQ 42.625 4.78125 38.28125 2.390625 \r\nQ 33.9375 0 27.875 0 \r\nQ 17.828125 0 11.671875 7.65625 \r\nQ 5.515625 15.328125 5.515625 27.984375 \r\nQ 5.515625 40.671875 11.671875 48.328125 \r\nQ 17.828125 56 27.875 56 \r\nQ 33.9375 56 38.28125 53.609375 \r\nQ 42.625 51.21875 45.40625 46.390625 \r\nL 45.40625 54.6875 \r\nL 54.390625 54.6875 \r\nz\r\n\" id=\"DejaVuSans-103\"/>\r\n       </defs>\r\n       <use xlink:href=\"#DejaVuSans-65\"/>\r\n       <use x=\"68.408203\" xlink:href=\"#DejaVuSans-117\"/>\r\n       <use x=\"131.787109\" xlink:href=\"#DejaVuSans-103\"/>\r\n      </g>\r\n     </g>\r\n    </g>\r\n    <g id=\"xtick_7\">\r\n     <g id=\"line2d_7\">\r\n      <g>\r\n       <use style=\"stroke:#000000;stroke-width:0.8;\" x=\"633.195498\" xlink:href=\"#m677a877fde\" y=\"402.838125\"/>\r\n      </g>\r\n     </g>\r\n     <g id=\"text_7\">\r\n      <!-- Sep -->\r\n      <g transform=\"translate(635.954873 428.688125)rotate(-90)scale(0.1 -0.1)\">\r\n       <defs>\r\n        <path d=\"M 53.515625 70.515625 \r\nL 53.515625 60.890625 \r\nQ 47.90625 63.578125 42.921875 64.890625 \r\nQ 37.9375 66.21875 33.296875 66.21875 \r\nQ 25.25 66.21875 20.875 63.09375 \r\nQ 16.5 59.96875 16.5 54.203125 \r\nQ 16.5 49.359375 19.40625 46.890625 \r\nQ 22.3125 44.4375 30.421875 42.921875 \r\nL 36.375 41.703125 \r\nQ 47.40625 39.59375 52.65625 34.296875 \r\nQ 57.90625 29 57.90625 20.125 \r\nQ 57.90625 9.515625 50.796875 4.046875 \r\nQ 43.703125 -1.421875 29.984375 -1.421875 \r\nQ 24.8125 -1.421875 18.96875 -0.25 \r\nQ 13.140625 0.921875 6.890625 3.21875 \r\nL 6.890625 13.375 \r\nQ 12.890625 10.015625 18.65625 8.296875 \r\nQ 24.421875 6.59375 29.984375 6.59375 \r\nQ 38.421875 6.59375 43.015625 9.90625 \r\nQ 47.609375 13.234375 47.609375 19.390625 \r\nQ 47.609375 24.75 44.3125 27.78125 \r\nQ 41.015625 30.8125 33.5 32.328125 \r\nL 27.484375 33.5 \r\nQ 16.453125 35.6875 11.515625 40.375 \r\nQ 6.59375 45.0625 6.59375 53.421875 \r\nQ 6.59375 63.09375 13.40625 68.65625 \r\nQ 20.21875 74.21875 32.171875 74.21875 \r\nQ 37.3125 74.21875 42.625 73.28125 \r\nQ 47.953125 72.359375 53.515625 70.515625 \r\nz\r\n\" id=\"DejaVuSans-83\"/>\r\n        <path d=\"M 56.203125 29.59375 \r\nL 56.203125 25.203125 \r\nL 14.890625 25.203125 \r\nQ 15.484375 15.921875 20.484375 11.0625 \r\nQ 25.484375 6.203125 34.421875 6.203125 \r\nQ 39.59375 6.203125 44.453125 7.46875 \r\nQ 49.3125 8.734375 54.109375 11.28125 \r\nL 54.109375 2.78125 \r\nQ 49.265625 0.734375 44.1875 -0.34375 \r\nQ 39.109375 -1.421875 33.890625 -1.421875 \r\nQ 20.796875 -1.421875 13.15625 6.1875 \r\nQ 5.515625 13.8125 5.515625 26.8125 \r\nQ 5.515625 40.234375 12.765625 48.109375 \r\nQ 20.015625 56 32.328125 56 \r\nQ 43.359375 56 49.78125 48.890625 \r\nQ 56.203125 41.796875 56.203125 29.59375 \r\nz\r\nM 47.21875 32.234375 \r\nQ 47.125 39.59375 43.09375 43.984375 \r\nQ 39.0625 48.390625 32.421875 48.390625 \r\nQ 24.90625 48.390625 20.390625 44.140625 \r\nQ 15.875 39.890625 15.1875 32.171875 \r\nz\r\n\" id=\"DejaVuSans-101\"/>\r\n       </defs>\r\n       <use xlink:href=\"#DejaVuSans-83\"/>\r\n       <use x=\"63.476562\" xlink:href=\"#DejaVuSans-101\"/>\r\n       <use x=\"125\" xlink:href=\"#DejaVuSans-112\"/>\r\n      </g>\r\n     </g>\r\n    </g>\r\n    <g id=\"xtick_8\">\r\n     <g id=\"line2d_8\">\r\n      <g>\r\n       <use style=\"stroke:#000000;stroke-width:0.8;\" x=\"721.466684\" xlink:href=\"#m677a877fde\" y=\"402.838125\"/>\r\n      </g>\r\n     </g>\r\n     <g id=\"text_8\">\r\n      <!-- Oct -->\r\n      <g transform=\"translate(724.226059 427.12875)rotate(-90)scale(0.1 -0.1)\">\r\n       <defs>\r\n        <path d=\"M 39.40625 66.21875 \r\nQ 28.65625 66.21875 22.328125 58.203125 \r\nQ 16.015625 50.203125 16.015625 36.375 \r\nQ 16.015625 22.609375 22.328125 14.59375 \r\nQ 28.65625 6.59375 39.40625 6.59375 \r\nQ 50.140625 6.59375 56.421875 14.59375 \r\nQ 62.703125 22.609375 62.703125 36.375 \r\nQ 62.703125 50.203125 56.421875 58.203125 \r\nQ 50.140625 66.21875 39.40625 66.21875 \r\nz\r\nM 39.40625 74.21875 \r\nQ 54.734375 74.21875 63.90625 63.9375 \r\nQ 73.09375 53.65625 73.09375 36.375 \r\nQ 73.09375 19.140625 63.90625 8.859375 \r\nQ 54.734375 -1.421875 39.40625 -1.421875 \r\nQ 24.03125 -1.421875 14.8125 8.828125 \r\nQ 5.609375 19.09375 5.609375 36.375 \r\nQ 5.609375 53.65625 14.8125 63.9375 \r\nQ 24.03125 74.21875 39.40625 74.21875 \r\nz\r\n\" id=\"DejaVuSans-79\"/>\r\n        <path d=\"M 48.78125 52.59375 \r\nL 48.78125 44.1875 \r\nQ 44.96875 46.296875 41.140625 47.34375 \r\nQ 37.3125 48.390625 33.40625 48.390625 \r\nQ 24.65625 48.390625 19.8125 42.84375 \r\nQ 14.984375 37.3125 14.984375 27.296875 \r\nQ 14.984375 17.28125 19.8125 11.734375 \r\nQ 24.65625 6.203125 33.40625 6.203125 \r\nQ 37.3125 6.203125 41.140625 7.25 \r\nQ 44.96875 8.296875 48.78125 10.40625 \r\nL 48.78125 2.09375 \r\nQ 45.015625 0.34375 40.984375 -0.53125 \r\nQ 36.96875 -1.421875 32.421875 -1.421875 \r\nQ 20.0625 -1.421875 12.78125 6.34375 \r\nQ 5.515625 14.109375 5.515625 27.296875 \r\nQ 5.515625 40.671875 12.859375 48.328125 \r\nQ 20.21875 56 33.015625 56 \r\nQ 37.15625 56 41.109375 55.140625 \r\nQ 45.0625 54.296875 48.78125 52.59375 \r\nz\r\n\" id=\"DejaVuSans-99\"/>\r\n        <path d=\"M 18.3125 70.21875 \r\nL 18.3125 54.6875 \r\nL 36.8125 54.6875 \r\nL 36.8125 47.703125 \r\nL 18.3125 47.703125 \r\nL 18.3125 18.015625 \r\nQ 18.3125 11.328125 20.140625 9.421875 \r\nQ 21.96875 7.515625 27.59375 7.515625 \r\nL 36.8125 7.515625 \r\nL 36.8125 0 \r\nL 27.59375 0 \r\nQ 17.1875 0 13.234375 3.875 \r\nQ 9.28125 7.765625 9.28125 18.015625 \r\nL 9.28125 47.703125 \r\nL 2.6875 47.703125 \r\nL 2.6875 54.6875 \r\nL 9.28125 54.6875 \r\nL 9.28125 70.21875 \r\nz\r\n\" id=\"DejaVuSans-116\"/>\r\n       </defs>\r\n       <use xlink:href=\"#DejaVuSans-79\"/>\r\n       <use x=\"78.710938\" xlink:href=\"#DejaVuSans-99\"/>\r\n       <use x=\"133.691406\" xlink:href=\"#DejaVuSans-116\"/>\r\n      </g>\r\n     </g>\r\n    </g>\r\n    <g id=\"xtick_9\">\r\n     <g id=\"line2d_9\">\r\n      <g>\r\n       <use style=\"stroke:#000000;stroke-width:0.8;\" x=\"809.737871\" xlink:href=\"#m677a877fde\" y=\"402.838125\"/>\r\n      </g>\r\n     </g>\r\n     <g id=\"text_9\">\r\n      <!-- Nov -->\r\n      <g transform=\"translate(812.497246 429.356875)rotate(-90)scale(0.1 -0.1)\">\r\n       <defs>\r\n        <path d=\"M 9.8125 72.90625 \r\nL 23.09375 72.90625 \r\nL 55.421875 11.921875 \r\nL 55.421875 72.90625 \r\nL 64.984375 72.90625 \r\nL 64.984375 0 \r\nL 51.703125 0 \r\nL 19.390625 60.984375 \r\nL 19.390625 0 \r\nL 9.8125 0 \r\nz\r\n\" id=\"DejaVuSans-78\"/>\r\n        <path d=\"M 30.609375 48.390625 \r\nQ 23.390625 48.390625 19.1875 42.75 \r\nQ 14.984375 37.109375 14.984375 27.296875 \r\nQ 14.984375 17.484375 19.15625 11.84375 \r\nQ 23.34375 6.203125 30.609375 6.203125 \r\nQ 37.796875 6.203125 41.984375 11.859375 \r\nQ 46.1875 17.53125 46.1875 27.296875 \r\nQ 46.1875 37.015625 41.984375 42.703125 \r\nQ 37.796875 48.390625 30.609375 48.390625 \r\nz\r\nM 30.609375 56 \r\nQ 42.328125 56 49.015625 48.375 \r\nQ 55.71875 40.765625 55.71875 27.296875 \r\nQ 55.71875 13.875 49.015625 6.21875 \r\nQ 42.328125 -1.421875 30.609375 -1.421875 \r\nQ 18.84375 -1.421875 12.171875 6.21875 \r\nQ 5.515625 13.875 5.515625 27.296875 \r\nQ 5.515625 40.765625 12.171875 48.375 \r\nQ 18.84375 56 30.609375 56 \r\nz\r\n\" id=\"DejaVuSans-111\"/>\r\n        <path d=\"M 2.984375 54.6875 \r\nL 12.5 54.6875 \r\nL 29.59375 8.796875 \r\nL 46.6875 54.6875 \r\nL 56.203125 54.6875 \r\nL 35.6875 0 \r\nL 23.484375 0 \r\nz\r\n\" id=\"DejaVuSans-118\"/>\r\n       </defs>\r\n       <use xlink:href=\"#DejaVuSans-78\"/>\r\n       <use x=\"74.804688\" xlink:href=\"#DejaVuSans-111\"/>\r\n       <use x=\"135.986328\" xlink:href=\"#DejaVuSans-118\"/>\r\n      </g>\r\n     </g>\r\n    </g>\r\n    <g id=\"text_10\">\r\n     <!-- Claims &amp; Cases per Month -->\r\n     <g transform=\"translate(390.770313 442.111562)scale(0.1 -0.1)\">\r\n      <defs>\r\n       <path d=\"M 64.40625 67.28125 \r\nL 64.40625 56.890625 \r\nQ 59.421875 61.53125 53.78125 63.8125 \r\nQ 48.140625 66.109375 41.796875 66.109375 \r\nQ 29.296875 66.109375 22.65625 58.46875 \r\nQ 16.015625 50.828125 16.015625 36.375 \r\nQ 16.015625 21.96875 22.65625 14.328125 \r\nQ 29.296875 6.6875 41.796875 6.6875 \r\nQ 48.140625 6.6875 53.78125 8.984375 \r\nQ 59.421875 11.28125 64.40625 15.921875 \r\nL 64.40625 5.609375 \r\nQ 59.234375 2.09375 53.4375 0.328125 \r\nQ 47.65625 -1.421875 41.21875 -1.421875 \r\nQ 24.65625 -1.421875 15.125 8.703125 \r\nQ 5.609375 18.84375 5.609375 36.375 \r\nQ 5.609375 53.953125 15.125 64.078125 \r\nQ 24.65625 74.21875 41.21875 74.21875 \r\nQ 47.75 74.21875 53.53125 72.484375 \r\nQ 59.328125 70.75 64.40625 67.28125 \r\nz\r\n\" id=\"DejaVuSans-67\"/>\r\n       <path d=\"M 9.421875 54.6875 \r\nL 18.40625 54.6875 \r\nL 18.40625 0 \r\nL 9.421875 0 \r\nz\r\nM 9.421875 75.984375 \r\nL 18.40625 75.984375 \r\nL 18.40625 64.59375 \r\nL 9.421875 64.59375 \r\nz\r\n\" id=\"DejaVuSans-105\"/>\r\n       <path d=\"M 52 44.1875 \r\nQ 55.375 50.25 60.0625 53.125 \r\nQ 64.75 56 71.09375 56 \r\nQ 79.640625 56 84.28125 50.015625 \r\nQ 88.921875 44.046875 88.921875 33.015625 \r\nL 88.921875 0 \r\nL 79.890625 0 \r\nL 79.890625 32.71875 \r\nQ 79.890625 40.578125 77.09375 44.375 \r\nQ 74.3125 48.1875 68.609375 48.1875 \r\nQ 61.625 48.1875 57.5625 43.546875 \r\nQ 53.515625 38.921875 53.515625 30.90625 \r\nL 53.515625 0 \r\nL 44.484375 0 \r\nL 44.484375 32.71875 \r\nQ 44.484375 40.625 41.703125 44.40625 \r\nQ 38.921875 48.1875 33.109375 48.1875 \r\nQ 26.21875 48.1875 22.15625 43.53125 \r\nQ 18.109375 38.875 18.109375 30.90625 \r\nL 18.109375 0 \r\nL 9.078125 0 \r\nL 9.078125 54.6875 \r\nL 18.109375 54.6875 \r\nL 18.109375 46.1875 \r\nQ 21.1875 51.21875 25.484375 53.609375 \r\nQ 29.78125 56 35.6875 56 \r\nQ 41.65625 56 45.828125 52.96875 \r\nQ 50 49.953125 52 44.1875 \r\nz\r\n\" id=\"DejaVuSans-109\"/>\r\n       <path d=\"M 44.28125 53.078125 \r\nL 44.28125 44.578125 \r\nQ 40.484375 46.53125 36.375 47.5 \r\nQ 32.28125 48.484375 27.875 48.484375 \r\nQ 21.1875 48.484375 17.84375 46.4375 \r\nQ 14.5 44.390625 14.5 40.28125 \r\nQ 14.5 37.15625 16.890625 35.375 \r\nQ 19.28125 33.59375 26.515625 31.984375 \r\nL 29.59375 31.296875 \r\nQ 39.15625 29.25 43.1875 25.515625 \r\nQ 47.21875 21.78125 47.21875 15.09375 \r\nQ 47.21875 7.46875 41.1875 3.015625 \r\nQ 35.15625 -1.421875 24.609375 -1.421875 \r\nQ 20.21875 -1.421875 15.453125 -0.5625 \r\nQ 10.6875 0.296875 5.421875 2 \r\nL 5.421875 11.28125 \r\nQ 10.40625 8.6875 15.234375 7.390625 \r\nQ 20.0625 6.109375 24.8125 6.109375 \r\nQ 31.15625 6.109375 34.5625 8.28125 \r\nQ 37.984375 10.453125 37.984375 14.40625 \r\nQ 37.984375 18.0625 35.515625 20.015625 \r\nQ 33.0625 21.96875 24.703125 23.78125 \r\nL 21.578125 24.515625 \r\nQ 13.234375 26.265625 9.515625 29.90625 \r\nQ 5.8125 33.546875 5.8125 39.890625 \r\nQ 5.8125 47.609375 11.28125 51.796875 \r\nQ 16.75 56 26.8125 56 \r\nQ 31.78125 56 36.171875 55.265625 \r\nQ 40.578125 54.546875 44.28125 53.078125 \r\nz\r\n\" id=\"DejaVuSans-115\"/>\r\n       <path id=\"DejaVuSans-32\"/>\r\n       <path d=\"M 24.3125 39.203125 \r\nQ 19.875 35.25 17.796875 31.3125 \r\nQ 15.71875 27.390625 15.71875 23.09375 \r\nQ 15.71875 15.96875 20.890625 11.234375 \r\nQ 26.078125 6.5 33.890625 6.5 \r\nQ 38.53125 6.5 42.578125 8.03125 \r\nQ 46.625 9.578125 50.203125 12.703125 \r\nz\r\nM 31.203125 44.671875 \r\nL 56 19.28125 \r\nQ 58.890625 23.640625 60.5 28.59375 \r\nQ 62.109375 33.546875 62.40625 39.109375 \r\nL 71.484375 39.109375 \r\nQ 70.90625 32.671875 68.359375 26.359375 \r\nQ 65.828125 20.0625 61.28125 13.921875 \r\nL 74.90625 0 \r\nL 62.59375 0 \r\nL 55.609375 7.171875 \r\nQ 50.53125 2.828125 44.96875 0.703125 \r\nQ 39.40625 -1.421875 33.015625 -1.421875 \r\nQ 21.234375 -1.421875 13.765625 5.296875 \r\nQ 6.296875 12.015625 6.296875 22.515625 \r\nQ 6.296875 28.765625 9.5625 34.25 \r\nQ 12.84375 39.75 19.390625 44.578125 \r\nQ 17.046875 47.65625 15.8125 50.703125 \r\nQ 14.59375 53.765625 14.59375 56.6875 \r\nQ 14.59375 64.59375 20.015625 69.40625 \r\nQ 25.4375 74.21875 34.421875 74.21875 \r\nQ 38.484375 74.21875 42.5 73.34375 \r\nQ 46.53125 72.46875 50.6875 70.703125 \r\nL 50.6875 61.8125 \r\nQ 46.4375 64.109375 42.578125 65.296875 \r\nQ 38.71875 66.5 35.40625 66.5 \r\nQ 30.28125 66.5 27.078125 63.78125 \r\nQ 23.875 61.078125 23.875 56.78125 \r\nQ 23.875 54.296875 25.3125 51.78125 \r\nQ 26.765625 49.265625 31.203125 44.671875 \r\nz\r\n\" id=\"DejaVuSans-38\"/>\r\n       <path d=\"M 54.890625 33.015625 \r\nL 54.890625 0 \r\nL 45.90625 0 \r\nL 45.90625 32.71875 \r\nQ 45.90625 40.484375 42.875 44.328125 \r\nQ 39.84375 48.1875 33.796875 48.1875 \r\nQ 26.515625 48.1875 22.3125 43.546875 \r\nQ 18.109375 38.921875 18.109375 30.90625 \r\nL 18.109375 0 \r\nL 9.078125 0 \r\nL 9.078125 75.984375 \r\nL 18.109375 75.984375 \r\nL 18.109375 46.1875 \r\nQ 21.34375 51.125 25.703125 53.5625 \r\nQ 30.078125 56 35.796875 56 \r\nQ 45.21875 56 50.046875 50.171875 \r\nQ 54.890625 44.34375 54.890625 33.015625 \r\nz\r\n\" id=\"DejaVuSans-104\"/>\r\n      </defs>\r\n      <use xlink:href=\"#DejaVuSans-67\"/>\r\n      <use x=\"69.824219\" xlink:href=\"#DejaVuSans-108\"/>\r\n      <use x=\"97.607422\" xlink:href=\"#DejaVuSans-97\"/>\r\n      <use x=\"158.886719\" xlink:href=\"#DejaVuSans-105\"/>\r\n      <use x=\"186.669922\" xlink:href=\"#DejaVuSans-109\"/>\r\n      <use x=\"284.082031\" xlink:href=\"#DejaVuSans-115\"/>\r\n      <use x=\"336.181641\" xlink:href=\"#DejaVuSans-32\"/>\r\n      <use x=\"367.96875\" xlink:href=\"#DejaVuSans-38\"/>\r\n      <use x=\"445.947266\" xlink:href=\"#DejaVuSans-32\"/>\r\n      <use x=\"477.734375\" xlink:href=\"#DejaVuSans-67\"/>\r\n      <use x=\"547.558594\" xlink:href=\"#DejaVuSans-97\"/>\r\n      <use x=\"608.837891\" xlink:href=\"#DejaVuSans-115\"/>\r\n      <use x=\"660.9375\" xlink:href=\"#DejaVuSans-101\"/>\r\n      <use x=\"722.460938\" xlink:href=\"#DejaVuSans-115\"/>\r\n      <use x=\"774.560547\" xlink:href=\"#DejaVuSans-32\"/>\r\n      <use x=\"806.347656\" xlink:href=\"#DejaVuSans-112\"/>\r\n      <use x=\"869.824219\" xlink:href=\"#DejaVuSans-101\"/>\r\n      <use x=\"931.347656\" xlink:href=\"#DejaVuSans-114\"/>\r\n      <use x=\"972.460938\" xlink:href=\"#DejaVuSans-32\"/>\r\n      <use x=\"1004.248047\" xlink:href=\"#DejaVuSans-77\"/>\r\n      <use x=\"1090.527344\" xlink:href=\"#DejaVuSans-111\"/>\r\n      <use x=\"1151.708984\" xlink:href=\"#DejaVuSans-110\"/>\r\n      <use x=\"1215.087891\" xlink:href=\"#DejaVuSans-116\"/>\r\n      <use x=\"1254.296875\" xlink:href=\"#DejaVuSans-104\"/>\r\n     </g>\r\n    </g>\r\n   </g>\r\n   <g id=\"matplotlib.axis_2\">\r\n    <g id=\"ytick_1\">\r\n     <g id=\"line2d_10\">\r\n      <defs>\r\n       <path d=\"M 0 0 \r\nL -3.5 0 \r\n\" id=\"me895e91cea\" style=\"stroke:#000000;stroke-width:0.8;\"/>\r\n      </defs>\r\n      <g>\r\n       <use style=\"stroke:#000000;stroke-width:0.8;\" x=\"66.053125\" xlink:href=\"#me895e91cea\" y=\"402.838125\"/>\r\n      </g>\r\n     </g>\r\n     <g id=\"text_11\">\r\n      <!-- 0 -->\r\n      <g transform=\"translate(52.690625 406.637344)scale(0.1 -0.1)\">\r\n       <defs>\r\n        <path d=\"M 31.78125 66.40625 \r\nQ 24.171875 66.40625 20.328125 58.90625 \r\nQ 16.5 51.421875 16.5 36.375 \r\nQ 16.5 21.390625 20.328125 13.890625 \r\nQ 24.171875 6.390625 31.78125 6.390625 \r\nQ 39.453125 6.390625 43.28125 13.890625 \r\nQ 47.125 21.390625 47.125 36.375 \r\nQ 47.125 51.421875 43.28125 58.90625 \r\nQ 39.453125 66.40625 31.78125 66.40625 \r\nz\r\nM 31.78125 74.21875 \r\nQ 44.046875 74.21875 50.515625 64.515625 \r\nQ 56.984375 54.828125 56.984375 36.375 \r\nQ 56.984375 17.96875 50.515625 8.265625 \r\nQ 44.046875 -1.421875 31.78125 -1.421875 \r\nQ 19.53125 -1.421875 13.0625 8.265625 \r\nQ 6.59375 17.96875 6.59375 36.375 \r\nQ 6.59375 54.828125 13.0625 64.515625 \r\nQ 19.53125 74.21875 31.78125 74.21875 \r\nz\r\n\" id=\"DejaVuSans-48\"/>\r\n       </defs>\r\n       <use xlink:href=\"#DejaVuSans-48\"/>\r\n      </g>\r\n     </g>\r\n    </g>\r\n    <g id=\"ytick_2\">\r\n     <g id=\"line2d_11\">\r\n      <g>\r\n       <use style=\"stroke:#000000;stroke-width:0.8;\" x=\"66.053125\" xlink:href=\"#me895e91cea\" y=\"359.83962\"/>\r\n      </g>\r\n     </g>\r\n     <g id=\"text_12\">\r\n      <!-- 100000 -->\r\n      <g transform=\"translate(20.878125 363.638839)scale(0.1 -0.1)\">\r\n       <defs>\r\n        <path d=\"M 12.40625 8.296875 \r\nL 28.515625 8.296875 \r\nL 28.515625 63.921875 \r\nL 10.984375 60.40625 \r\nL 10.984375 69.390625 \r\nL 28.421875 72.90625 \r\nL 38.28125 72.90625 \r\nL 38.28125 8.296875 \r\nL 54.390625 8.296875 \r\nL 54.390625 0 \r\nL 12.40625 0 \r\nz\r\n\" id=\"DejaVuSans-49\"/>\r\n       </defs>\r\n       <use xlink:href=\"#DejaVuSans-49\"/>\r\n       <use x=\"63.623047\" xlink:href=\"#DejaVuSans-48\"/>\r\n       <use x=\"127.246094\" xlink:href=\"#DejaVuSans-48\"/>\r\n       <use x=\"190.869141\" xlink:href=\"#DejaVuSans-48\"/>\r\n       <use x=\"254.492188\" xlink:href=\"#DejaVuSans-48\"/>\r\n       <use x=\"318.115234\" xlink:href=\"#DejaVuSans-48\"/>\r\n      </g>\r\n     </g>\r\n    </g>\r\n    <g id=\"ytick_3\">\r\n     <g id=\"line2d_12\">\r\n      <g>\r\n       <use style=\"stroke:#000000;stroke-width:0.8;\" x=\"66.053125\" xlink:href=\"#me895e91cea\" y=\"316.841115\"/>\r\n      </g>\r\n     </g>\r\n     <g id=\"text_13\">\r\n      <!-- 200000 -->\r\n      <g transform=\"translate(20.878125 320.640334)scale(0.1 -0.1)\">\r\n       <defs>\r\n        <path d=\"M 19.1875 8.296875 \r\nL 53.609375 8.296875 \r\nL 53.609375 0 \r\nL 7.328125 0 \r\nL 7.328125 8.296875 \r\nQ 12.9375 14.109375 22.625 23.890625 \r\nQ 32.328125 33.6875 34.8125 36.53125 \r\nQ 39.546875 41.84375 41.421875 45.53125 \r\nQ 43.3125 49.21875 43.3125 52.78125 \r\nQ 43.3125 58.59375 39.234375 62.25 \r\nQ 35.15625 65.921875 28.609375 65.921875 \r\nQ 23.96875 65.921875 18.8125 64.3125 \r\nQ 13.671875 62.703125 7.8125 59.421875 \r\nL 7.8125 69.390625 \r\nQ 13.765625 71.78125 18.9375 73 \r\nQ 24.125 74.21875 28.421875 74.21875 \r\nQ 39.75 74.21875 46.484375 68.546875 \r\nQ 53.21875 62.890625 53.21875 53.421875 \r\nQ 53.21875 48.921875 51.53125 44.890625 \r\nQ 49.859375 40.875 45.40625 35.40625 \r\nQ 44.1875 33.984375 37.640625 27.21875 \r\nQ 31.109375 20.453125 19.1875 8.296875 \r\nz\r\n\" id=\"DejaVuSans-50\"/>\r\n       </defs>\r\n       <use xlink:href=\"#DejaVuSans-50\"/>\r\n       <use x=\"63.623047\" xlink:href=\"#DejaVuSans-48\"/>\r\n       <use x=\"127.246094\" xlink:href=\"#DejaVuSans-48\"/>\r\n       <use x=\"190.869141\" xlink:href=\"#DejaVuSans-48\"/>\r\n       <use x=\"254.492188\" xlink:href=\"#DejaVuSans-48\"/>\r\n       <use x=\"318.115234\" xlink:href=\"#DejaVuSans-48\"/>\r\n      </g>\r\n     </g>\r\n    </g>\r\n    <g id=\"ytick_4\">\r\n     <g id=\"line2d_13\">\r\n      <g>\r\n       <use style=\"stroke:#000000;stroke-width:0.8;\" x=\"66.053125\" xlink:href=\"#me895e91cea\" y=\"273.84261\"/>\r\n      </g>\r\n     </g>\r\n     <g id=\"text_14\">\r\n      <!-- 300000 -->\r\n      <g transform=\"translate(20.878125 277.641829)scale(0.1 -0.1)\">\r\n       <defs>\r\n        <path d=\"M 40.578125 39.3125 \r\nQ 47.65625 37.796875 51.625 33 \r\nQ 55.609375 28.21875 55.609375 21.1875 \r\nQ 55.609375 10.40625 48.1875 4.484375 \r\nQ 40.765625 -1.421875 27.09375 -1.421875 \r\nQ 22.515625 -1.421875 17.65625 -0.515625 \r\nQ 12.796875 0.390625 7.625 2.203125 \r\nL 7.625 11.71875 \r\nQ 11.71875 9.328125 16.59375 8.109375 \r\nQ 21.484375 6.890625 26.8125 6.890625 \r\nQ 36.078125 6.890625 40.9375 10.546875 \r\nQ 45.796875 14.203125 45.796875 21.1875 \r\nQ 45.796875 27.640625 41.28125 31.265625 \r\nQ 36.765625 34.90625 28.71875 34.90625 \r\nL 20.21875 34.90625 \r\nL 20.21875 43.015625 \r\nL 29.109375 43.015625 \r\nQ 36.375 43.015625 40.234375 45.921875 \r\nQ 44.09375 48.828125 44.09375 54.296875 \r\nQ 44.09375 59.90625 40.109375 62.90625 \r\nQ 36.140625 65.921875 28.71875 65.921875 \r\nQ 24.65625 65.921875 20.015625 65.03125 \r\nQ 15.375 64.15625 9.8125 62.3125 \r\nL 9.8125 71.09375 \r\nQ 15.4375 72.65625 20.34375 73.4375 \r\nQ 25.25 74.21875 29.59375 74.21875 \r\nQ 40.828125 74.21875 47.359375 69.109375 \r\nQ 53.90625 64.015625 53.90625 55.328125 \r\nQ 53.90625 49.265625 50.4375 45.09375 \r\nQ 46.96875 40.921875 40.578125 39.3125 \r\nz\r\n\" id=\"DejaVuSans-51\"/>\r\n       </defs>\r\n       <use xlink:href=\"#DejaVuSans-51\"/>\r\n       <use x=\"63.623047\" xlink:href=\"#DejaVuSans-48\"/>\r\n       <use x=\"127.246094\" xlink:href=\"#DejaVuSans-48\"/>\r\n       <use x=\"190.869141\" xlink:href=\"#DejaVuSans-48\"/>\r\n       <use x=\"254.492188\" xlink:href=\"#DejaVuSans-48\"/>\r\n       <use x=\"318.115234\" xlink:href=\"#DejaVuSans-48\"/>\r\n      </g>\r\n     </g>\r\n    </g>\r\n    <g id=\"ytick_5\">\r\n     <g id=\"line2d_14\">\r\n      <g>\r\n       <use style=\"stroke:#000000;stroke-width:0.8;\" x=\"66.053125\" xlink:href=\"#me895e91cea\" y=\"230.844105\"/>\r\n      </g>\r\n     </g>\r\n     <g id=\"text_15\">\r\n      <!-- 400000 -->\r\n      <g transform=\"translate(20.878125 234.643324)scale(0.1 -0.1)\">\r\n       <defs>\r\n        <path d=\"M 37.796875 64.3125 \r\nL 12.890625 25.390625 \r\nL 37.796875 25.390625 \r\nz\r\nM 35.203125 72.90625 \r\nL 47.609375 72.90625 \r\nL 47.609375 25.390625 \r\nL 58.015625 25.390625 \r\nL 58.015625 17.1875 \r\nL 47.609375 17.1875 \r\nL 47.609375 0 \r\nL 37.796875 0 \r\nL 37.796875 17.1875 \r\nL 4.890625 17.1875 \r\nL 4.890625 26.703125 \r\nz\r\n\" id=\"DejaVuSans-52\"/>\r\n       </defs>\r\n       <use xlink:href=\"#DejaVuSans-52\"/>\r\n       <use x=\"63.623047\" xlink:href=\"#DejaVuSans-48\"/>\r\n       <use x=\"127.246094\" xlink:href=\"#DejaVuSans-48\"/>\r\n       <use x=\"190.869141\" xlink:href=\"#DejaVuSans-48\"/>\r\n       <use x=\"254.492188\" xlink:href=\"#DejaVuSans-48\"/>\r\n       <use x=\"318.115234\" xlink:href=\"#DejaVuSans-48\"/>\r\n      </g>\r\n     </g>\r\n    </g>\r\n    <g id=\"ytick_6\">\r\n     <g id=\"line2d_15\">\r\n      <g>\r\n       <use style=\"stroke:#000000;stroke-width:0.8;\" x=\"66.053125\" xlink:href=\"#me895e91cea\" y=\"187.8456\"/>\r\n      </g>\r\n     </g>\r\n     <g id=\"text_16\">\r\n      <!-- 500000 -->\r\n      <g transform=\"translate(20.878125 191.644819)scale(0.1 -0.1)\">\r\n       <defs>\r\n        <path d=\"M 10.796875 72.90625 \r\nL 49.515625 72.90625 \r\nL 49.515625 64.59375 \r\nL 19.828125 64.59375 \r\nL 19.828125 46.734375 \r\nQ 21.96875 47.46875 24.109375 47.828125 \r\nQ 26.265625 48.1875 28.421875 48.1875 \r\nQ 40.625 48.1875 47.75 41.5 \r\nQ 54.890625 34.8125 54.890625 23.390625 \r\nQ 54.890625 11.625 47.5625 5.09375 \r\nQ 40.234375 -1.421875 26.90625 -1.421875 \r\nQ 22.3125 -1.421875 17.546875 -0.640625 \r\nQ 12.796875 0.140625 7.71875 1.703125 \r\nL 7.71875 11.625 \r\nQ 12.109375 9.234375 16.796875 8.0625 \r\nQ 21.484375 6.890625 26.703125 6.890625 \r\nQ 35.15625 6.890625 40.078125 11.328125 \r\nQ 45.015625 15.765625 45.015625 23.390625 \r\nQ 45.015625 31 40.078125 35.4375 \r\nQ 35.15625 39.890625 26.703125 39.890625 \r\nQ 22.75 39.890625 18.8125 39.015625 \r\nQ 14.890625 38.140625 10.796875 36.28125 \r\nz\r\n\" id=\"DejaVuSans-53\"/>\r\n       </defs>\r\n       <use xlink:href=\"#DejaVuSans-53\"/>\r\n       <use x=\"63.623047\" xlink:href=\"#DejaVuSans-48\"/>\r\n       <use x=\"127.246094\" xlink:href=\"#DejaVuSans-48\"/>\r\n       <use x=\"190.869141\" xlink:href=\"#DejaVuSans-48\"/>\r\n       <use x=\"254.492188\" xlink:href=\"#DejaVuSans-48\"/>\r\n       <use x=\"318.115234\" xlink:href=\"#DejaVuSans-48\"/>\r\n      </g>\r\n     </g>\r\n    </g>\r\n    <g id=\"ytick_7\">\r\n     <g id=\"line2d_16\">\r\n      <g>\r\n       <use style=\"stroke:#000000;stroke-width:0.8;\" x=\"66.053125\" xlink:href=\"#me895e91cea\" y=\"144.847095\"/>\r\n      </g>\r\n     </g>\r\n     <g id=\"text_17\">\r\n      <!-- 600000 -->\r\n      <g transform=\"translate(20.878125 148.646314)scale(0.1 -0.1)\">\r\n       <defs>\r\n        <path d=\"M 33.015625 40.375 \r\nQ 26.375 40.375 22.484375 35.828125 \r\nQ 18.609375 31.296875 18.609375 23.390625 \r\nQ 18.609375 15.53125 22.484375 10.953125 \r\nQ 26.375 6.390625 33.015625 6.390625 \r\nQ 39.65625 6.390625 43.53125 10.953125 \r\nQ 47.40625 15.53125 47.40625 23.390625 \r\nQ 47.40625 31.296875 43.53125 35.828125 \r\nQ 39.65625 40.375 33.015625 40.375 \r\nz\r\nM 52.59375 71.296875 \r\nL 52.59375 62.3125 \r\nQ 48.875 64.0625 45.09375 64.984375 \r\nQ 41.3125 65.921875 37.59375 65.921875 \r\nQ 27.828125 65.921875 22.671875 59.328125 \r\nQ 17.53125 52.734375 16.796875 39.40625 \r\nQ 19.671875 43.65625 24.015625 45.921875 \r\nQ 28.375 48.1875 33.59375 48.1875 \r\nQ 44.578125 48.1875 50.953125 41.515625 \r\nQ 57.328125 34.859375 57.328125 23.390625 \r\nQ 57.328125 12.15625 50.6875 5.359375 \r\nQ 44.046875 -1.421875 33.015625 -1.421875 \r\nQ 20.359375 -1.421875 13.671875 8.265625 \r\nQ 6.984375 17.96875 6.984375 36.375 \r\nQ 6.984375 53.65625 15.1875 63.9375 \r\nQ 23.390625 74.21875 37.203125 74.21875 \r\nQ 40.921875 74.21875 44.703125 73.484375 \r\nQ 48.484375 72.75 52.59375 71.296875 \r\nz\r\n\" id=\"DejaVuSans-54\"/>\r\n       </defs>\r\n       <use xlink:href=\"#DejaVuSans-54\"/>\r\n       <use x=\"63.623047\" xlink:href=\"#DejaVuSans-48\"/>\r\n       <use x=\"127.246094\" xlink:href=\"#DejaVuSans-48\"/>\r\n       <use x=\"190.869141\" xlink:href=\"#DejaVuSans-48\"/>\r\n       <use x=\"254.492188\" xlink:href=\"#DejaVuSans-48\"/>\r\n       <use x=\"318.115234\" xlink:href=\"#DejaVuSans-48\"/>\r\n      </g>\r\n     </g>\r\n    </g>\r\n    <g id=\"ytick_8\">\r\n     <g id=\"line2d_17\">\r\n      <g>\r\n       <use style=\"stroke:#000000;stroke-width:0.8;\" x=\"66.053125\" xlink:href=\"#me895e91cea\" y=\"101.84859\"/>\r\n      </g>\r\n     </g>\r\n     <g id=\"text_18\">\r\n      <!-- 700000 -->\r\n      <g transform=\"translate(20.878125 105.647809)scale(0.1 -0.1)\">\r\n       <defs>\r\n        <path d=\"M 8.203125 72.90625 \r\nL 55.078125 72.90625 \r\nL 55.078125 68.703125 \r\nL 28.609375 0 \r\nL 18.3125 0 \r\nL 43.21875 64.59375 \r\nL 8.203125 64.59375 \r\nz\r\n\" id=\"DejaVuSans-55\"/>\r\n       </defs>\r\n       <use xlink:href=\"#DejaVuSans-55\"/>\r\n       <use x=\"63.623047\" xlink:href=\"#DejaVuSans-48\"/>\r\n       <use x=\"127.246094\" xlink:href=\"#DejaVuSans-48\"/>\r\n       <use x=\"190.869141\" xlink:href=\"#DejaVuSans-48\"/>\r\n       <use x=\"254.492188\" xlink:href=\"#DejaVuSans-48\"/>\r\n       <use x=\"318.115234\" xlink:href=\"#DejaVuSans-48\"/>\r\n      </g>\r\n     </g>\r\n    </g>\r\n    <g id=\"ytick_9\">\r\n     <g id=\"line2d_18\">\r\n      <g>\r\n       <use style=\"stroke:#000000;stroke-width:0.8;\" x=\"66.053125\" xlink:href=\"#me895e91cea\" y=\"58.850085\"/>\r\n      </g>\r\n     </g>\r\n     <g id=\"text_19\">\r\n      <!-- 800000 -->\r\n      <g transform=\"translate(20.878125 62.649304)scale(0.1 -0.1)\">\r\n       <defs>\r\n        <path d=\"M 31.78125 34.625 \r\nQ 24.75 34.625 20.71875 30.859375 \r\nQ 16.703125 27.09375 16.703125 20.515625 \r\nQ 16.703125 13.921875 20.71875 10.15625 \r\nQ 24.75 6.390625 31.78125 6.390625 \r\nQ 38.8125 6.390625 42.859375 10.171875 \r\nQ 46.921875 13.96875 46.921875 20.515625 \r\nQ 46.921875 27.09375 42.890625 30.859375 \r\nQ 38.875 34.625 31.78125 34.625 \r\nz\r\nM 21.921875 38.8125 \r\nQ 15.578125 40.375 12.03125 44.71875 \r\nQ 8.5 49.078125 8.5 55.328125 \r\nQ 8.5 64.0625 14.71875 69.140625 \r\nQ 20.953125 74.21875 31.78125 74.21875 \r\nQ 42.671875 74.21875 48.875 69.140625 \r\nQ 55.078125 64.0625 55.078125 55.328125 \r\nQ 55.078125 49.078125 51.53125 44.71875 \r\nQ 48 40.375 41.703125 38.8125 \r\nQ 48.828125 37.15625 52.796875 32.3125 \r\nQ 56.78125 27.484375 56.78125 20.515625 \r\nQ 56.78125 9.90625 50.3125 4.234375 \r\nQ 43.84375 -1.421875 31.78125 -1.421875 \r\nQ 19.734375 -1.421875 13.25 4.234375 \r\nQ 6.78125 9.90625 6.78125 20.515625 \r\nQ 6.78125 27.484375 10.78125 32.3125 \r\nQ 14.796875 37.15625 21.921875 38.8125 \r\nz\r\nM 18.3125 54.390625 \r\nQ 18.3125 48.734375 21.84375 45.5625 \r\nQ 25.390625 42.390625 31.78125 42.390625 \r\nQ 38.140625 42.390625 41.71875 45.5625 \r\nQ 45.3125 48.734375 45.3125 54.390625 \r\nQ 45.3125 60.0625 41.71875 63.234375 \r\nQ 38.140625 66.40625 31.78125 66.40625 \r\nQ 25.390625 66.40625 21.84375 63.234375 \r\nQ 18.3125 60.0625 18.3125 54.390625 \r\nz\r\n\" id=\"DejaVuSans-56\"/>\r\n       </defs>\r\n       <use xlink:href=\"#DejaVuSans-56\"/>\r\n       <use x=\"63.623047\" xlink:href=\"#DejaVuSans-48\"/>\r\n       <use x=\"127.246094\" xlink:href=\"#DejaVuSans-48\"/>\r\n       <use x=\"190.869141\" xlink:href=\"#DejaVuSans-48\"/>\r\n       <use x=\"254.492188\" xlink:href=\"#DejaVuSans-48\"/>\r\n       <use x=\"318.115234\" xlink:href=\"#DejaVuSans-48\"/>\r\n      </g>\r\n     </g>\r\n    </g>\r\n    <g id=\"text_20\">\r\n     <!-- # of Claims -->\r\n     <g transform=\"translate(14.798438 241.574219)rotate(-90)scale(0.1 -0.1)\">\r\n      <defs>\r\n       <path d=\"M 51.125 44 \r\nL 36.921875 44 \r\nL 32.8125 27.6875 \r\nL 47.125 27.6875 \r\nz\r\nM 43.796875 71.78125 \r\nL 38.71875 51.515625 \r\nL 52.984375 51.515625 \r\nL 58.109375 71.78125 \r\nL 65.921875 71.78125 \r\nL 60.890625 51.515625 \r\nL 76.125 51.515625 \r\nL 76.125 44 \r\nL 58.984375 44 \r\nL 54.984375 27.6875 \r\nL 70.515625 27.6875 \r\nL 70.515625 20.21875 \r\nL 53.078125 20.21875 \r\nL 48 0 \r\nL 40.1875 0 \r\nL 45.21875 20.21875 \r\nL 30.90625 20.21875 \r\nL 25.875 0 \r\nL 18.015625 0 \r\nL 23.09375 20.21875 \r\nL 7.71875 20.21875 \r\nL 7.71875 27.6875 \r\nL 24.90625 27.6875 \r\nL 29 44 \r\nL 13.28125 44 \r\nL 13.28125 51.515625 \r\nL 30.90625 51.515625 \r\nL 35.890625 71.78125 \r\nz\r\n\" id=\"DejaVuSans-35\"/>\r\n       <path d=\"M 37.109375 75.984375 \r\nL 37.109375 68.5 \r\nL 28.515625 68.5 \r\nQ 23.6875 68.5 21.796875 66.546875 \r\nQ 19.921875 64.59375 19.921875 59.515625 \r\nL 19.921875 54.6875 \r\nL 34.71875 54.6875 \r\nL 34.71875 47.703125 \r\nL 19.921875 47.703125 \r\nL 19.921875 0 \r\nL 10.890625 0 \r\nL 10.890625 47.703125 \r\nL 2.296875 47.703125 \r\nL 2.296875 54.6875 \r\nL 10.890625 54.6875 \r\nL 10.890625 58.5 \r\nQ 10.890625 67.625 15.140625 71.796875 \r\nQ 19.390625 75.984375 28.609375 75.984375 \r\nz\r\n\" id=\"DejaVuSans-102\"/>\r\n      </defs>\r\n      <use xlink:href=\"#DejaVuSans-35\"/>\r\n      <use x=\"83.789062\" xlink:href=\"#DejaVuSans-32\"/>\r\n      <use x=\"115.576172\" xlink:href=\"#DejaVuSans-111\"/>\r\n      <use x=\"176.757812\" xlink:href=\"#DejaVuSans-102\"/>\r\n      <use x=\"211.962891\" xlink:href=\"#DejaVuSans-32\"/>\r\n      <use x=\"243.75\" xlink:href=\"#DejaVuSans-67\"/>\r\n      <use x=\"313.574219\" xlink:href=\"#DejaVuSans-108\"/>\r\n      <use x=\"341.357422\" xlink:href=\"#DejaVuSans-97\"/>\r\n      <use x=\"402.636719\" xlink:href=\"#DejaVuSans-105\"/>\r\n      <use x=\"430.419922\" xlink:href=\"#DejaVuSans-109\"/>\r\n      <use x=\"527.832031\" xlink:href=\"#DejaVuSans-115\"/>\r\n     </g>\r\n    </g>\r\n   </g>\r\n   <g id=\"line2d_19\">\r\n    <path clip-path=\"url(#peb6b472909)\" d=\"M 103.568379 401.200312 \r\nL 191.839566 392.123758 \r\nL 280.110752 387.390912 \r\nL 368.381939 360.524156 \r\nL 456.653125 284.49205 \r\nL 544.924311 319.229252 \r\nL 633.195498 342.519822 \r\nL 721.466684 334.366446 \r\nL 809.737871 364.107222 \r\n\" style=\"fill:none;stroke:#ff0000;stroke-linecap:square;stroke-width:1.5;\"/>\r\n    <defs>\r\n     <path d=\"M 0 3 \r\nC 0.795609 3 1.55874 2.683901 2.12132 2.12132 \r\nC 2.683901 1.55874 3 0.795609 3 0 \r\nC 3 -0.795609 2.683901 -1.55874 2.12132 -2.12132 \r\nC 1.55874 -2.683901 0.795609 -3 0 -3 \r\nC -0.795609 -3 -1.55874 -2.683901 -2.12132 -2.12132 \r\nC -2.683901 -1.55874 -3 -0.795609 -3 0 \r\nC -3 0.795609 -2.683901 1.55874 -2.12132 2.12132 \r\nC -1.55874 2.683901 -0.795609 3 0 3 \r\nz\r\n\" id=\"m90ea4bc7d7\" style=\"stroke:#ff0000;\"/>\r\n    </defs>\r\n    <g clip-path=\"url(#peb6b472909)\">\r\n     <use style=\"fill:#ff0000;stroke:#ff0000;\" x=\"103.568379\" xlink:href=\"#m90ea4bc7d7\" y=\"401.200312\"/>\r\n     <use style=\"fill:#ff0000;stroke:#ff0000;\" x=\"191.839566\" xlink:href=\"#m90ea4bc7d7\" y=\"392.123758\"/>\r\n     <use style=\"fill:#ff0000;stroke:#ff0000;\" x=\"280.110752\" xlink:href=\"#m90ea4bc7d7\" y=\"387.390912\"/>\r\n     <use style=\"fill:#ff0000;stroke:#ff0000;\" x=\"368.381939\" xlink:href=\"#m90ea4bc7d7\" y=\"360.524156\"/>\r\n     <use style=\"fill:#ff0000;stroke:#ff0000;\" x=\"456.653125\" xlink:href=\"#m90ea4bc7d7\" y=\"284.49205\"/>\r\n     <use style=\"fill:#ff0000;stroke:#ff0000;\" x=\"544.924311\" xlink:href=\"#m90ea4bc7d7\" y=\"319.229252\"/>\r\n     <use style=\"fill:#ff0000;stroke:#ff0000;\" x=\"633.195498\" xlink:href=\"#m90ea4bc7d7\" y=\"342.519822\"/>\r\n     <use style=\"fill:#ff0000;stroke:#ff0000;\" x=\"721.466684\" xlink:href=\"#m90ea4bc7d7\" y=\"334.366446\"/>\r\n     <use style=\"fill:#ff0000;stroke:#ff0000;\" x=\"809.737871\" xlink:href=\"#m90ea4bc7d7\" y=\"364.107222\"/>\r\n    </g>\r\n   </g>\r\n   <g id=\"patch_30\">\r\n    <path d=\"M 66.053125 402.838125 \r\nL 66.053125 22.318125 \r\n\" style=\"fill:none;stroke:#000000;stroke-linecap:square;stroke-linejoin:miter;stroke-width:0.8;\"/>\r\n   </g>\r\n   <g id=\"patch_31\">\r\n    <path d=\"M 847.253125 402.838125 \r\nL 847.253125 22.318125 \r\n\" style=\"fill:none;stroke:#000000;stroke-linecap:square;stroke-linejoin:miter;stroke-width:0.8;\"/>\r\n   </g>\r\n   <g id=\"patch_32\">\r\n    <path d=\"M 66.053125 402.838125 \r\nL 847.253125 402.838125 \r\n\" style=\"fill:none;stroke:#000000;stroke-linecap:square;stroke-linejoin:miter;stroke-width:0.8;\"/>\r\n   </g>\r\n   <g id=\"patch_33\">\r\n    <path d=\"M 66.053125 22.318125 \r\nL 847.253125 22.318125 \r\n\" style=\"fill:none;stroke:#000000;stroke-linecap:square;stroke-linejoin:miter;stroke-width:0.8;\"/>\r\n   </g>\r\n   <g id=\"text_21\">\r\n    <!-- Texas Monthly Unemployment Claims FY20 -->\r\n    <g transform=\"translate(327.376563 16.318125)scale(0.12 -0.12)\">\r\n     <defs>\r\n      <path d=\"M -0.296875 72.90625 \r\nL 61.375 72.90625 \r\nL 61.375 64.59375 \r\nL 35.5 64.59375 \r\nL 35.5 0 \r\nL 25.59375 0 \r\nL 25.59375 64.59375 \r\nL -0.296875 64.59375 \r\nz\r\n\" id=\"DejaVuSans-84\"/>\r\n      <path d=\"M 54.890625 54.6875 \r\nL 35.109375 28.078125 \r\nL 55.90625 0 \r\nL 45.3125 0 \r\nL 29.390625 21.484375 \r\nL 13.484375 0 \r\nL 2.875 0 \r\nL 24.125 28.609375 \r\nL 4.6875 54.6875 \r\nL 15.28125 54.6875 \r\nL 29.78125 35.203125 \r\nL 44.28125 54.6875 \r\nz\r\n\" id=\"DejaVuSans-120\"/>\r\n      <path d=\"M 8.6875 72.90625 \r\nL 18.609375 72.90625 \r\nL 18.609375 28.609375 \r\nQ 18.609375 16.890625 22.84375 11.734375 \r\nQ 27.09375 6.59375 36.625 6.59375 \r\nQ 46.09375 6.59375 50.34375 11.734375 \r\nQ 54.59375 16.890625 54.59375 28.609375 \r\nL 54.59375 72.90625 \r\nL 64.5 72.90625 \r\nL 64.5 27.390625 \r\nQ 64.5 13.140625 57.4375 5.859375 \r\nQ 50.390625 -1.421875 36.625 -1.421875 \r\nQ 22.796875 -1.421875 15.734375 5.859375 \r\nQ 8.6875 13.140625 8.6875 27.390625 \r\nz\r\n\" id=\"DejaVuSans-85\"/>\r\n      <path d=\"M 9.8125 72.90625 \r\nL 51.703125 72.90625 \r\nL 51.703125 64.59375 \r\nL 19.671875 64.59375 \r\nL 19.671875 43.109375 \r\nL 48.578125 43.109375 \r\nL 48.578125 34.8125 \r\nL 19.671875 34.8125 \r\nL 19.671875 0 \r\nL 9.8125 0 \r\nz\r\n\" id=\"DejaVuSans-70\"/>\r\n      <path d=\"M -0.203125 72.90625 \r\nL 10.40625 72.90625 \r\nL 30.609375 42.921875 \r\nL 50.6875 72.90625 \r\nL 61.28125 72.90625 \r\nL 35.5 34.71875 \r\nL 35.5 0 \r\nL 25.59375 0 \r\nL 25.59375 34.71875 \r\nz\r\n\" id=\"DejaVuSans-89\"/>\r\n     </defs>\r\n     <use xlink:href=\"#DejaVuSans-84\"/>\r\n     <use x=\"44.083984\" xlink:href=\"#DejaVuSans-101\"/>\r\n     <use x=\"103.857422\" xlink:href=\"#DejaVuSans-120\"/>\r\n     <use x=\"163.037109\" xlink:href=\"#DejaVuSans-97\"/>\r\n     <use x=\"224.316406\" xlink:href=\"#DejaVuSans-115\"/>\r\n     <use x=\"276.416016\" xlink:href=\"#DejaVuSans-32\"/>\r\n     <use x=\"308.203125\" xlink:href=\"#DejaVuSans-77\"/>\r\n     <use x=\"394.482422\" xlink:href=\"#DejaVuSans-111\"/>\r\n     <use x=\"455.664062\" xlink:href=\"#DejaVuSans-110\"/>\r\n     <use x=\"519.042969\" xlink:href=\"#DejaVuSans-116\"/>\r\n     <use x=\"558.251953\" xlink:href=\"#DejaVuSans-104\"/>\r\n     <use x=\"621.630859\" xlink:href=\"#DejaVuSans-108\"/>\r\n     <use x=\"649.414062\" xlink:href=\"#DejaVuSans-121\"/>\r\n     <use x=\"708.59375\" xlink:href=\"#DejaVuSans-32\"/>\r\n     <use x=\"740.380859\" xlink:href=\"#DejaVuSans-85\"/>\r\n     <use x=\"813.574219\" xlink:href=\"#DejaVuSans-110\"/>\r\n     <use x=\"876.953125\" xlink:href=\"#DejaVuSans-101\"/>\r\n     <use x=\"938.476562\" xlink:href=\"#DejaVuSans-109\"/>\r\n     <use x=\"1035.888672\" xlink:href=\"#DejaVuSans-112\"/>\r\n     <use x=\"1099.365234\" xlink:href=\"#DejaVuSans-108\"/>\r\n     <use x=\"1127.148438\" xlink:href=\"#DejaVuSans-111\"/>\r\n     <use x=\"1188.330078\" xlink:href=\"#DejaVuSans-121\"/>\r\n     <use x=\"1247.509766\" xlink:href=\"#DejaVuSans-109\"/>\r\n     <use x=\"1344.921875\" xlink:href=\"#DejaVuSans-101\"/>\r\n     <use x=\"1406.445312\" xlink:href=\"#DejaVuSans-110\"/>\r\n     <use x=\"1469.824219\" xlink:href=\"#DejaVuSans-116\"/>\r\n     <use x=\"1509.033203\" xlink:href=\"#DejaVuSans-32\"/>\r\n     <use x=\"1540.820312\" xlink:href=\"#DejaVuSans-67\"/>\r\n     <use x=\"1610.644531\" xlink:href=\"#DejaVuSans-108\"/>\r\n     <use x=\"1638.427734\" xlink:href=\"#DejaVuSans-97\"/>\r\n     <use x=\"1699.707031\" xlink:href=\"#DejaVuSans-105\"/>\r\n     <use x=\"1727.490234\" xlink:href=\"#DejaVuSans-109\"/>\r\n     <use x=\"1824.902344\" xlink:href=\"#DejaVuSans-115\"/>\r\n     <use x=\"1877.001953\" xlink:href=\"#DejaVuSans-32\"/>\r\n     <use x=\"1908.789062\" xlink:href=\"#DejaVuSans-70\"/>\r\n     <use x=\"1966.308594\" xlink:href=\"#DejaVuSans-89\"/>\r\n     <use x=\"2027.392578\" xlink:href=\"#DejaVuSans-50\"/>\r\n     <use x=\"2091.015625\" xlink:href=\"#DejaVuSans-48\"/>\r\n    </g>\r\n   </g>\r\n   <g id=\"legend_1\">\r\n    <g id=\"patch_34\">\r\n     <path d=\"M 676.140625 89.030625 \r\nL 840.253125 89.030625 \r\nQ 842.253125 89.030625 842.253125 87.030625 \r\nL 842.253125 29.318125 \r\nQ 842.253125 27.318125 840.253125 27.318125 \r\nL 676.140625 27.318125 \r\nQ 674.140625 27.318125 674.140625 29.318125 \r\nL 674.140625 87.030625 \r\nQ 674.140625 89.030625 676.140625 89.030625 \r\nz\r\n\" style=\"fill:#ffffff;opacity:0.8;stroke:#cccccc;stroke-linejoin:miter;\"/>\r\n    </g>\r\n    <g id=\"line2d_20\">\r\n     <path d=\"M 678.140625 35.416562 \r\nL 698.140625 35.416562 \r\n\" style=\"fill:none;stroke:#ff0000;stroke-linecap:square;stroke-width:1.5;\"/>\r\n    </g>\r\n    <g id=\"line2d_21\">\r\n     <g>\r\n      <use style=\"fill:#ff0000;stroke:#ff0000;\" x=\"688.140625\" xlink:href=\"#m90ea4bc7d7\" y=\"35.416562\"/>\r\n     </g>\r\n    </g>\r\n    <g id=\"text_22\">\r\n     <!-- Covid Cases -->\r\n     <g transform=\"translate(706.140625 38.916562)scale(0.1 -0.1)\">\r\n      <defs>\r\n       <path d=\"M 45.40625 46.390625 \r\nL 45.40625 75.984375 \r\nL 54.390625 75.984375 \r\nL 54.390625 0 \r\nL 45.40625 0 \r\nL 45.40625 8.203125 \r\nQ 42.578125 3.328125 38.25 0.953125 \r\nQ 33.9375 -1.421875 27.875 -1.421875 \r\nQ 17.96875 -1.421875 11.734375 6.484375 \r\nQ 5.515625 14.40625 5.515625 27.296875 \r\nQ 5.515625 40.1875 11.734375 48.09375 \r\nQ 17.96875 56 27.875 56 \r\nQ 33.9375 56 38.25 53.625 \r\nQ 42.578125 51.265625 45.40625 46.390625 \r\nz\r\nM 14.796875 27.296875 \r\nQ 14.796875 17.390625 18.875 11.75 \r\nQ 22.953125 6.109375 30.078125 6.109375 \r\nQ 37.203125 6.109375 41.296875 11.75 \r\nQ 45.40625 17.390625 45.40625 27.296875 \r\nQ 45.40625 37.203125 41.296875 42.84375 \r\nQ 37.203125 48.484375 30.078125 48.484375 \r\nQ 22.953125 48.484375 18.875 42.84375 \r\nQ 14.796875 37.203125 14.796875 27.296875 \r\nz\r\n\" id=\"DejaVuSans-100\"/>\r\n      </defs>\r\n      <use xlink:href=\"#DejaVuSans-67\"/>\r\n      <use x=\"69.824219\" xlink:href=\"#DejaVuSans-111\"/>\r\n      <use x=\"131.005859\" xlink:href=\"#DejaVuSans-118\"/>\r\n      <use x=\"190.185547\" xlink:href=\"#DejaVuSans-105\"/>\r\n      <use x=\"217.96875\" xlink:href=\"#DejaVuSans-100\"/>\r\n      <use x=\"281.445312\" xlink:href=\"#DejaVuSans-32\"/>\r\n      <use x=\"313.232422\" xlink:href=\"#DejaVuSans-67\"/>\r\n      <use x=\"383.056641\" xlink:href=\"#DejaVuSans-97\"/>\r\n      <use x=\"444.335938\" xlink:href=\"#DejaVuSans-115\"/>\r\n      <use x=\"496.435547\" xlink:href=\"#DejaVuSans-101\"/>\r\n      <use x=\"557.958984\" xlink:href=\"#DejaVuSans-115\"/>\r\n     </g>\r\n    </g>\r\n    <g id=\"patch_35\">\r\n     <path d=\"M 678.140625 53.594687 \r\nL 698.140625 53.594687 \r\nL 698.140625 46.594687 \r\nL 678.140625 46.594687 \r\nz\r\n\" style=\"fill:#1f77b4;\"/>\r\n    </g>\r\n    <g id=\"text_23\">\r\n     <!-- Counties Above 57K -->\r\n     <g transform=\"translate(706.140625 53.594687)scale(0.1 -0.1)\">\r\n      <defs>\r\n       <path d=\"M 48.6875 27.296875 \r\nQ 48.6875 37.203125 44.609375 42.84375 \r\nQ 40.53125 48.484375 33.40625 48.484375 \r\nQ 26.265625 48.484375 22.1875 42.84375 \r\nQ 18.109375 37.203125 18.109375 27.296875 \r\nQ 18.109375 17.390625 22.1875 11.75 \r\nQ 26.265625 6.109375 33.40625 6.109375 \r\nQ 40.53125 6.109375 44.609375 11.75 \r\nQ 48.6875 17.390625 48.6875 27.296875 \r\nz\r\nM 18.109375 46.390625 \r\nQ 20.953125 51.265625 25.265625 53.625 \r\nQ 29.59375 56 35.59375 56 \r\nQ 45.5625 56 51.78125 48.09375 \r\nQ 58.015625 40.1875 58.015625 27.296875 \r\nQ 58.015625 14.40625 51.78125 6.484375 \r\nQ 45.5625 -1.421875 35.59375 -1.421875 \r\nQ 29.59375 -1.421875 25.265625 0.953125 \r\nQ 20.953125 3.328125 18.109375 8.203125 \r\nL 18.109375 0 \r\nL 9.078125 0 \r\nL 9.078125 75.984375 \r\nL 18.109375 75.984375 \r\nz\r\n\" id=\"DejaVuSans-98\"/>\r\n       <path d=\"M 9.8125 72.90625 \r\nL 19.671875 72.90625 \r\nL 19.671875 42.09375 \r\nL 52.390625 72.90625 \r\nL 65.09375 72.90625 \r\nL 28.90625 38.921875 \r\nL 67.671875 0 \r\nL 54.6875 0 \r\nL 19.671875 35.109375 \r\nL 19.671875 0 \r\nL 9.8125 0 \r\nz\r\n\" id=\"DejaVuSans-75\"/>\r\n      </defs>\r\n      <use xlink:href=\"#DejaVuSans-67\"/>\r\n      <use x=\"69.824219\" xlink:href=\"#DejaVuSans-111\"/>\r\n      <use x=\"131.005859\" xlink:href=\"#DejaVuSans-117\"/>\r\n      <use x=\"194.384766\" xlink:href=\"#DejaVuSans-110\"/>\r\n      <use x=\"257.763672\" xlink:href=\"#DejaVuSans-116\"/>\r\n      <use x=\"296.972656\" xlink:href=\"#DejaVuSans-105\"/>\r\n      <use x=\"324.755859\" xlink:href=\"#DejaVuSans-101\"/>\r\n      <use x=\"386.279297\" xlink:href=\"#DejaVuSans-115\"/>\r\n      <use x=\"438.378906\" xlink:href=\"#DejaVuSans-32\"/>\r\n      <use x=\"470.166016\" xlink:href=\"#DejaVuSans-65\"/>\r\n      <use x=\"538.574219\" xlink:href=\"#DejaVuSans-98\"/>\r\n      <use x=\"602.050781\" xlink:href=\"#DejaVuSans-111\"/>\r\n      <use x=\"663.232422\" xlink:href=\"#DejaVuSans-118\"/>\r\n      <use x=\"722.412109\" xlink:href=\"#DejaVuSans-101\"/>\r\n      <use x=\"783.935547\" xlink:href=\"#DejaVuSans-32\"/>\r\n      <use x=\"815.722656\" xlink:href=\"#DejaVuSans-53\"/>\r\n      <use x=\"879.345703\" xlink:href=\"#DejaVuSans-55\"/>\r\n      <use x=\"942.96875\" xlink:href=\"#DejaVuSans-75\"/>\r\n     </g>\r\n    </g>\r\n    <g id=\"patch_36\">\r\n     <path d=\"M 678.140625 68.272812 \r\nL 698.140625 68.272812 \r\nL 698.140625 61.272812 \r\nL 678.140625 61.272812 \r\nz\r\n\" style=\"fill:#ff7f0e;\"/>\r\n    </g>\r\n    <g id=\"text_24\">\r\n     <!-- Low Income Counties -->\r\n     <g transform=\"translate(706.140625 68.272812)scale(0.1 -0.1)\">\r\n      <defs>\r\n       <path d=\"M 9.8125 72.90625 \r\nL 19.671875 72.90625 \r\nL 19.671875 8.296875 \r\nL 55.171875 8.296875 \r\nL 55.171875 0 \r\nL 9.8125 0 \r\nz\r\n\" id=\"DejaVuSans-76\"/>\r\n       <path d=\"M 4.203125 54.6875 \r\nL 13.1875 54.6875 \r\nL 24.421875 12.015625 \r\nL 35.59375 54.6875 \r\nL 46.1875 54.6875 \r\nL 57.421875 12.015625 \r\nL 68.609375 54.6875 \r\nL 77.59375 54.6875 \r\nL 63.28125 0 \r\nL 52.6875 0 \r\nL 40.921875 44.828125 \r\nL 29.109375 0 \r\nL 18.5 0 \r\nz\r\n\" id=\"DejaVuSans-119\"/>\r\n       <path d=\"M 9.8125 72.90625 \r\nL 19.671875 72.90625 \r\nL 19.671875 0 \r\nL 9.8125 0 \r\nz\r\n\" id=\"DejaVuSans-73\"/>\r\n      </defs>\r\n      <use xlink:href=\"#DejaVuSans-76\"/>\r\n      <use x=\"53.962891\" xlink:href=\"#DejaVuSans-111\"/>\r\n      <use x=\"115.144531\" xlink:href=\"#DejaVuSans-119\"/>\r\n      <use x=\"196.931641\" xlink:href=\"#DejaVuSans-32\"/>\r\n      <use x=\"228.71875\" xlink:href=\"#DejaVuSans-73\"/>\r\n      <use x=\"258.210938\" xlink:href=\"#DejaVuSans-110\"/>\r\n      <use x=\"321.589844\" xlink:href=\"#DejaVuSans-99\"/>\r\n      <use x=\"376.570312\" xlink:href=\"#DejaVuSans-111\"/>\r\n      <use x=\"437.751953\" xlink:href=\"#DejaVuSans-109\"/>\r\n      <use x=\"535.164062\" xlink:href=\"#DejaVuSans-101\"/>\r\n      <use x=\"596.6875\" xlink:href=\"#DejaVuSans-32\"/>\r\n      <use x=\"628.474609\" xlink:href=\"#DejaVuSans-67\"/>\r\n      <use x=\"698.298828\" xlink:href=\"#DejaVuSans-111\"/>\r\n      <use x=\"759.480469\" xlink:href=\"#DejaVuSans-117\"/>\r\n      <use x=\"822.859375\" xlink:href=\"#DejaVuSans-110\"/>\r\n      <use x=\"886.238281\" xlink:href=\"#DejaVuSans-116\"/>\r\n      <use x=\"925.447266\" xlink:href=\"#DejaVuSans-105\"/>\r\n      <use x=\"953.230469\" xlink:href=\"#DejaVuSans-101\"/>\r\n      <use x=\"1014.753906\" xlink:href=\"#DejaVuSans-115\"/>\r\n     </g>\r\n    </g>\r\n    <g id=\"patch_37\">\r\n     <path d=\"M 678.140625 82.950937 \r\nL 698.140625 82.950937 \r\nL 698.140625 75.950937 \r\nL 678.140625 75.950937 \r\nz\r\n\" style=\"fill:#2ca02c;\"/>\r\n    </g>\r\n    <g id=\"text_25\">\r\n     <!-- Very Low Income Counties -->\r\n     <g transform=\"translate(706.140625 82.950937)scale(0.1 -0.1)\">\r\n      <defs>\r\n       <path d=\"M 28.609375 0 \r\nL 0.78125 72.90625 \r\nL 11.078125 72.90625 \r\nL 34.1875 11.53125 \r\nL 57.328125 72.90625 \r\nL 67.578125 72.90625 \r\nL 39.796875 0 \r\nz\r\n\" id=\"DejaVuSans-86\"/>\r\n      </defs>\r\n      <use xlink:href=\"#DejaVuSans-86\"/>\r\n      <use x=\"60.658203\" xlink:href=\"#DejaVuSans-101\"/>\r\n      <use x=\"122.181641\" xlink:href=\"#DejaVuSans-114\"/>\r\n      <use x=\"163.294922\" xlink:href=\"#DejaVuSans-121\"/>\r\n      <use x=\"222.474609\" xlink:href=\"#DejaVuSans-32\"/>\r\n      <use x=\"254.261719\" xlink:href=\"#DejaVuSans-76\"/>\r\n      <use x=\"308.224609\" xlink:href=\"#DejaVuSans-111\"/>\r\n      <use x=\"369.40625\" xlink:href=\"#DejaVuSans-119\"/>\r\n      <use x=\"451.193359\" xlink:href=\"#DejaVuSans-32\"/>\r\n      <use x=\"482.980469\" xlink:href=\"#DejaVuSans-73\"/>\r\n      <use x=\"512.472656\" xlink:href=\"#DejaVuSans-110\"/>\r\n      <use x=\"575.851562\" xlink:href=\"#DejaVuSans-99\"/>\r\n      <use x=\"630.832031\" xlink:href=\"#DejaVuSans-111\"/>\r\n      <use x=\"692.013672\" xlink:href=\"#DejaVuSans-109\"/>\r\n      <use x=\"789.425781\" xlink:href=\"#DejaVuSans-101\"/>\r\n      <use x=\"850.949219\" xlink:href=\"#DejaVuSans-32\"/>\r\n      <use x=\"882.736328\" xlink:href=\"#DejaVuSans-67\"/>\r\n      <use x=\"952.560547\" xlink:href=\"#DejaVuSans-111\"/>\r\n      <use x=\"1013.742188\" xlink:href=\"#DejaVuSans-117\"/>\r\n      <use x=\"1077.121094\" xlink:href=\"#DejaVuSans-110\"/>\r\n      <use x=\"1140.5\" xlink:href=\"#DejaVuSans-116\"/>\r\n      <use x=\"1179.708984\" xlink:href=\"#DejaVuSans-105\"/>\r\n      <use x=\"1207.492188\" xlink:href=\"#DejaVuSans-101\"/>\r\n      <use x=\"1269.015625\" xlink:href=\"#DejaVuSans-115\"/>\r\n     </g>\r\n    </g>\r\n   </g>\r\n  </g>\r\n </g>\r\n <defs>\r\n  <clipPath id=\"peb6b472909\">\r\n   <rect height=\"380.52\" width=\"781.2\" x=\"66.053125\" y=\"22.318125\"/>\r\n  </clipPath>\r\n </defs>\r\n</svg>\r\n",
      "image/png": "[encoded data removed]"
     },
     "metadata": {
      "needs_background": "light"
     }
    }
   ],
   "source": [
    "ax1 = cumulative_numbers_df.plot(kind='line',color='red', marker='o')\n",
    "ax2 = total_claims_per_month_df.plot(kind='bar', stacked=True, width=.35, figsize=(14,7),ax=ax1)\n",
    "\n",
    "ax2.set_title('Texas Monthly Unemployment Claims FY20')\n",
    "ax2.legend(['Covid Cases','Counties Above 57K', 'Low Income Counties','Very Low Income Counties'])\n",
    "ax2.set_xlabel('Claims & Cases per Month')\n",
    "ax2.set_ylabel('# of Claims')\n",
    "ax2 = ax2.set_xticklabels(date)\n"
   ]
  },
  {
   "cell_type": "code",
   "execution_count": 405,
   "metadata": {},
   "outputs": [],
   "source": [
    "## Jazlyn"
   ]
  },
  {
   "cell_type": "code",
   "execution_count": 406,
   "metadata": {},
   "outputs": [
    {
     "output_type": "stream",
     "name": "stdout",
     "text": [
      "[1181.54, 12476.490000000002, 27601.08, 57755.899999999994, 178914.05, 152030.15999999997, 159288.04999999993, 223259.21999999997, 212538.74]\n"
     ]
    }
   ],
   "source": [
    "date_list = combined_low_income_covidcases.index.unique()\n",
    "cumulative_numbers_cases_lowIncome = []\n",
    "cumulative_numbers_cases_lowIncome.append(combined_low_income_covidcases.loc['2020-03-31']['cumulative_cases_per_100_000'].sum())\n",
    "for d in range(len(date_list)-1):\n",
    "    cumulative_numbers_cases_lowIncome.append((combined_low_income_covidcases.loc[date_list[d+1]]['cumulative_cases_per_100_000'].sum()) - (combined_low_income_covidcases.loc[date_list[d]]['cumulative_cases'].sum()))\n",
    "print(cumulative_numbers_cases_lowIncome)"
   ]
  },
  {
   "cell_type": "code",
   "execution_count": 407,
   "metadata": {},
   "outputs": [
    {
     "output_type": "stream",
     "name": "stdout",
     "text": [
      "[14.05, 198.75, 544.6299999999999, 3238.06, 13710.779999999999, 19811.14, 25450.550000000003, 29750.480000000003, 30858.370000000003]\n"
     ]
    }
   ],
   "source": [
    "date_list = combined_very_low_income_covidcases.index.unique()\n",
    "cumulative_numbers_cases_verylowIncome = []\n",
    "cumulative_numbers_cases_verylowIncome.append(combined_very_low_income_covidcases.loc['2020-03-31']['cumulative_cases_per_100_000'].sum())\n",
    "for d in range(len(date_list)-1):\n",
    "    cumulative_numbers_cases_verylowIncome.append((combined_very_low_income_covidcases.loc[date_list[d+1]]['cumulative_cases_per_100_000'].sum()) - (combined_very_low_income_covidcases.loc[date_list[d]]['cumulative_cases'].sum()))\n",
    "print(cumulative_numbers_cases_verylowIncome)"
   ]
  },
  {
   "cell_type": "code",
   "execution_count": 408,
   "metadata": {},
   "outputs": [
    {
     "output_type": "display_data",
     "data": {
      "text/plain": "<Figure size 1008x504 with 1 Axes>",
      "image/svg+xml": "<?xml version=\"1.0\" encoding=\"utf-8\" standalone=\"no\"?>\r\n<!DOCTYPE svg PUBLIC \"-//W3C//DTD SVG 1.1//EN\"\r\n  \"http://www.w3.org/Graphics/SVG/1.1/DTD/svg11.dtd\">\r\n<!-- Created with matplotlib (https://matplotlib.org/) -->\r\n<svg height=\"495.64625pt\" version=\"1.1\" viewBox=\"0 0 1000.903125 495.64625\" width=\"1000.903125pt\" xmlns=\"http://www.w3.org/2000/svg\" xmlns:xlink=\"http://www.w3.org/1999/xlink\">\r\n <metadata>\r\n  <rdf:RDF xmlns:cc=\"http://creativecommons.org/ns#\" xmlns:dc=\"http://purl.org/dc/elements/1.1/\" xmlns:rdf=\"http://www.w3.org/1999/02/22-rdf-syntax-ns#\">\r\n   <cc:Work>\r\n    <dc:type rdf:resource=\"http://purl.org/dc/dcmitype/StillImage\"/>\r\n    <dc:date>2020-11-19T20:14:31.742408</dc:date>\r\n    <dc:format>image/svg+xml</dc:format>\r\n    <dc:creator>\r\n     <cc:Agent>\r\n      <dc:title>Matplotlib v3.3.2, https://matplotlib.org/</dc:title>\r\n     </cc:Agent>\r\n    </dc:creator>\r\n   </cc:Work>\r\n  </rdf:RDF>\r\n </metadata>\r\n <defs>\r\n  <style type=\"text/css\">*{stroke-linecap:butt;stroke-linejoin:round;}</style>\r\n </defs>\r\n <g id=\"figure_1\">\r\n  <g id=\"patch_1\">\r\n   <path d=\"M 0 495.64625 \r\nL 1000.903125 495.64625 \r\nL 1000.903125 0 \r\nL 0 0 \r\nz\r\n\" style=\"fill:none;\"/>\r\n  </g>\r\n  <g id=\"axes_1\">\r\n   <g id=\"patch_2\">\r\n    <path d=\"M 66.053125 447.093125 \r\nL 993.703125 447.093125 \r\nL 993.703125 22.318125 \r\nL 66.053125 22.318125 \r\nz\r\n\" style=\"fill:#ffffff;\"/>\r\n   </g>\r\n   <g id=\"patch_3\">\r\n    <path clip-path=\"url(#pb335ab033d)\" d=\"M 108.219034 447.093125 \r\nL 142.145628 447.093125 \r\nL 142.145628 444.952164 \r\nL 108.219034 444.952164 \r\nz\r\n\" style=\"fill:#1f77b4;\"/>\r\n   </g>\r\n   <g id=\"patch_4\">\r\n    <path clip-path=\"url(#pb335ab033d)\" d=\"M 205.152158 447.093125 \r\nL 239.078752 447.093125 \r\nL 239.078752 424.485618 \r\nL 205.152158 424.485618 \r\nz\r\n\" style=\"fill:#1f77b4;\"/>\r\n   </g>\r\n   <g id=\"patch_5\">\r\n    <path clip-path=\"url(#pb335ab033d)\" d=\"M 302.085283 447.093125 \r\nL 336.011876 447.093125 \r\nL 336.011876 397.079732 \r\nL 302.085283 397.079732 \r\nz\r\n\" style=\"fill:#1f77b4;\"/>\r\n   </g>\r\n   <g id=\"patch_6\">\r\n    <path clip-path=\"url(#pb335ab033d)\" d=\"M 399.018407 447.093125 \r\nL 432.945001 447.093125 \r\nL 432.945001 342.438939 \r\nL 399.018407 342.438939 \r\nz\r\n\" style=\"fill:#1f77b4;\"/>\r\n   </g>\r\n   <g id=\"patch_7\">\r\n    <path clip-path=\"url(#pb335ab033d)\" d=\"M 495.951531 447.093125 \r\nL 529.878125 447.093125 \r\nL 529.878125 122.899334 \r\nL 495.951531 122.899334 \r\nz\r\n\" style=\"fill:#1f77b4;\"/>\r\n   </g>\r\n   <g id=\"patch_8\">\r\n    <path clip-path=\"url(#pb335ab033d)\" d=\"M 592.884656 447.093125 \r\nL 626.811249 447.093125 \r\nL 626.811249 171.613173 \r\nL 592.884656 171.613173 \r\nz\r\n\" style=\"fill:#1f77b4;\"/>\r\n   </g>\r\n   <g id=\"patch_9\">\r\n    <path clip-path=\"url(#pb335ab033d)\" d=\"M 689.81778 447.093125 \r\nL 723.744374 447.093125 \r\nL 723.744374 158.461814 \r\nL 689.81778 158.461814 \r\nz\r\n\" style=\"fill:#1f77b4;\"/>\r\n   </g>\r\n   <g id=\"patch_10\">\r\n    <path clip-path=\"url(#pb335ab033d)\" d=\"M 786.750905 447.093125 \r\nL 820.677498 447.093125 \r\nL 820.677498 42.545506 \r\nL 786.750905 42.545506 \r\nz\r\n\" style=\"fill:#1f77b4;\"/>\r\n   </g>\r\n   <g id=\"patch_11\">\r\n    <path clip-path=\"url(#pb335ab033d)\" d=\"M 883.684029 447.093125 \r\nL 917.610622 447.093125 \r\nL 917.610622 61.971108 \r\nL 883.684029 61.971108 \r\nz\r\n\" style=\"fill:#1f77b4;\"/>\r\n   </g>\r\n   <g id=\"patch_12\">\r\n    <path clip-path=\"url(#pb335ab033d)\" d=\"M 142.145628 447.093125 \r\nL 176.072221 447.093125 \r\nL 176.072221 447.067666 \r\nL 142.145628 447.067666 \r\nz\r\n\" style=\"fill:#ff7f0e;\"/>\r\n   </g>\r\n   <g id=\"patch_13\">\r\n    <path clip-path=\"url(#pb335ab033d)\" d=\"M 239.078752 447.093125 \r\nL 273.005345 447.093125 \r\nL 273.005345 446.732988 \r\nL 239.078752 446.732988 \r\nz\r\n\" style=\"fill:#ff7f0e;\"/>\r\n   </g>\r\n   <g id=\"patch_14\">\r\n    <path clip-path=\"url(#pb335ab033d)\" d=\"M 336.011876 447.093125 \r\nL 369.93847 447.093125 \r\nL 369.93847 446.106251 \r\nL 336.011876 446.106251 \r\nz\r\n\" style=\"fill:#ff7f0e;\"/>\r\n   </g>\r\n   <g id=\"patch_15\">\r\n    <path clip-path=\"url(#pb335ab033d)\" d=\"M 432.945001 447.093125 \r\nL 466.871594 447.093125 \r\nL 466.871594 441.225733 \r\nL 432.945001 441.225733 \r\nz\r\n\" style=\"fill:#ff7f0e;\"/>\r\n   </g>\r\n   <g id=\"patch_16\">\r\n    <path clip-path=\"url(#pb335ab033d)\" d=\"M 529.878125 447.093125 \r\nL 563.804719 447.093125 \r\nL 563.804719 422.249074 \r\nL 529.878125 422.249074 \r\nz\r\n\" style=\"fill:#ff7f0e;\"/>\r\n   </g>\r\n   <g id=\"patch_17\">\r\n    <path clip-path=\"url(#pb335ab033d)\" d=\"M 626.811249 447.093125 \r\nL 660.737843 447.093125 \r\nL 660.737843 411.19517 \r\nL 626.811249 411.19517 \r\nz\r\n\" style=\"fill:#ff7f0e;\"/>\r\n   </g>\r\n   <g id=\"patch_18\">\r\n    <path clip-path=\"url(#pb335ab033d)\" d=\"M 723.744374 447.093125 \r\nL 757.670967 447.093125 \r\nL 757.670967 400.97651 \r\nL 723.744374 400.97651 \r\nz\r\n\" style=\"fill:#ff7f0e;\"/>\r\n   </g>\r\n   <g id=\"patch_19\">\r\n    <path clip-path=\"url(#pb335ab033d)\" d=\"M 820.677498 447.093125 \r\nL 854.604092 447.093125 \r\nL 854.604092 393.185 \r\nL 820.677498 393.185 \r\nz\r\n\" style=\"fill:#ff7f0e;\"/>\r\n   </g>\r\n   <g id=\"patch_20\">\r\n    <path clip-path=\"url(#pb335ab033d)\" d=\"M 917.610622 447.093125 \r\nL 951.537216 447.093125 \r\nL 951.537216 391.177494 \r\nL 917.610622 391.177494 \r\nz\r\n\" style=\"fill:#ff7f0e;\"/>\r\n   </g>\r\n   <g id=\"matplotlib.axis_1\">\r\n    <g id=\"xtick_1\">\r\n     <g id=\"line2d_1\">\r\n      <defs>\r\n       <path d=\"M 0 0 \r\nL 0 3.5 \r\n\" id=\"mb3db6d31f4\" style=\"stroke:#000000;stroke-width:0.8;\"/>\r\n      </defs>\r\n      <g>\r\n       <use style=\"stroke:#000000;stroke-width:0.8;\" x=\"142.145628\" xlink:href=\"#mb3db6d31f4\" y=\"447.093125\"/>\r\n      </g>\r\n     </g>\r\n     <g id=\"text_1\">\r\n      <!-- Mar -->\r\n      <g transform=\"translate(144.905003 472.960312)rotate(-90)scale(0.1 -0.1)\">\r\n       <defs>\r\n        <path d=\"M 9.8125 72.90625 \r\nL 24.515625 72.90625 \r\nL 43.109375 23.296875 \r\nL 61.8125 72.90625 \r\nL 76.515625 72.90625 \r\nL 76.515625 0 \r\nL 66.890625 0 \r\nL 66.890625 64.015625 \r\nL 48.09375 14.015625 \r\nL 38.1875 14.015625 \r\nL 19.390625 64.015625 \r\nL 19.390625 0 \r\nL 9.8125 0 \r\nz\r\n\" id=\"DejaVuSans-77\"/>\r\n        <path d=\"M 34.28125 27.484375 \r\nQ 23.390625 27.484375 19.1875 25 \r\nQ 14.984375 22.515625 14.984375 16.5 \r\nQ 14.984375 11.71875 18.140625 8.90625 \r\nQ 21.296875 6.109375 26.703125 6.109375 \r\nQ 34.1875 6.109375 38.703125 11.40625 \r\nQ 43.21875 16.703125 43.21875 25.484375 \r\nL 43.21875 27.484375 \r\nz\r\nM 52.203125 31.203125 \r\nL 52.203125 0 \r\nL 43.21875 0 \r\nL 43.21875 8.296875 \r\nQ 40.140625 3.328125 35.546875 0.953125 \r\nQ 30.953125 -1.421875 24.3125 -1.421875 \r\nQ 15.921875 -1.421875 10.953125 3.296875 \r\nQ 6 8.015625 6 15.921875 \r\nQ 6 25.140625 12.171875 29.828125 \r\nQ 18.359375 34.515625 30.609375 34.515625 \r\nL 43.21875 34.515625 \r\nL 43.21875 35.40625 \r\nQ 43.21875 41.609375 39.140625 45 \r\nQ 35.0625 48.390625 27.6875 48.390625 \r\nQ 23 48.390625 18.546875 47.265625 \r\nQ 14.109375 46.140625 10.015625 43.890625 \r\nL 10.015625 52.203125 \r\nQ 14.9375 54.109375 19.578125 55.046875 \r\nQ 24.21875 56 28.609375 56 \r\nQ 40.484375 56 46.34375 49.84375 \r\nQ 52.203125 43.703125 52.203125 31.203125 \r\nz\r\n\" id=\"DejaVuSans-97\"/>\r\n        <path d=\"M 41.109375 46.296875 \r\nQ 39.59375 47.171875 37.8125 47.578125 \r\nQ 36.03125 48 33.890625 48 \r\nQ 26.265625 48 22.1875 43.046875 \r\nQ 18.109375 38.09375 18.109375 28.8125 \r\nL 18.109375 0 \r\nL 9.078125 0 \r\nL 9.078125 54.6875 \r\nL 18.109375 54.6875 \r\nL 18.109375 46.1875 \r\nQ 20.953125 51.171875 25.484375 53.578125 \r\nQ 30.03125 56 36.53125 56 \r\nQ 37.453125 56 38.578125 55.875 \r\nQ 39.703125 55.765625 41.0625 55.515625 \r\nz\r\n\" id=\"DejaVuSans-114\"/>\r\n       </defs>\r\n       <use xlink:href=\"#DejaVuSans-77\"/>\r\n       <use x=\"86.279297\" xlink:href=\"#DejaVuSans-97\"/>\r\n       <use x=\"147.558594\" xlink:href=\"#DejaVuSans-114\"/>\r\n      </g>\r\n     </g>\r\n    </g>\r\n    <g id=\"xtick_2\">\r\n     <g id=\"line2d_2\">\r\n      <g>\r\n       <use style=\"stroke:#000000;stroke-width:0.8;\" x=\"239.078752\" xlink:href=\"#mb3db6d31f4\" y=\"447.093125\"/>\r\n      </g>\r\n     </g>\r\n     <g id=\"text_2\">\r\n      <!-- Apr -->\r\n      <g transform=\"translate(241.838127 471.393125)rotate(-90)scale(0.1 -0.1)\">\r\n       <defs>\r\n        <path d=\"M 34.1875 63.1875 \r\nL 20.796875 26.90625 \r\nL 47.609375 26.90625 \r\nz\r\nM 28.609375 72.90625 \r\nL 39.796875 72.90625 \r\nL 67.578125 0 \r\nL 57.328125 0 \r\nL 50.6875 18.703125 \r\nL 17.828125 18.703125 \r\nL 11.1875 0 \r\nL 0.78125 0 \r\nz\r\n\" id=\"DejaVuSans-65\"/>\r\n        <path d=\"M 18.109375 8.203125 \r\nL 18.109375 -20.796875 \r\nL 9.078125 -20.796875 \r\nL 9.078125 54.6875 \r\nL 18.109375 54.6875 \r\nL 18.109375 46.390625 \r\nQ 20.953125 51.265625 25.265625 53.625 \r\nQ 29.59375 56 35.59375 56 \r\nQ 45.5625 56 51.78125 48.09375 \r\nQ 58.015625 40.1875 58.015625 27.296875 \r\nQ 58.015625 14.40625 51.78125 6.484375 \r\nQ 45.5625 -1.421875 35.59375 -1.421875 \r\nQ 29.59375 -1.421875 25.265625 0.953125 \r\nQ 20.953125 3.328125 18.109375 8.203125 \r\nz\r\nM 48.6875 27.296875 \r\nQ 48.6875 37.203125 44.609375 42.84375 \r\nQ 40.53125 48.484375 33.40625 48.484375 \r\nQ 26.265625 48.484375 22.1875 42.84375 \r\nQ 18.109375 37.203125 18.109375 27.296875 \r\nQ 18.109375 17.390625 22.1875 11.75 \r\nQ 26.265625 6.109375 33.40625 6.109375 \r\nQ 40.53125 6.109375 44.609375 11.75 \r\nQ 48.6875 17.390625 48.6875 27.296875 \r\nz\r\n\" id=\"DejaVuSans-112\"/>\r\n       </defs>\r\n       <use xlink:href=\"#DejaVuSans-65\"/>\r\n       <use x=\"68.408203\" xlink:href=\"#DejaVuSans-112\"/>\r\n       <use x=\"131.884766\" xlink:href=\"#DejaVuSans-114\"/>\r\n      </g>\r\n     </g>\r\n    </g>\r\n    <g id=\"xtick_3\">\r\n     <g id=\"line2d_3\">\r\n      <g>\r\n       <use style=\"stroke:#000000;stroke-width:0.8;\" x=\"336.011876\" xlink:href=\"#mb3db6d31f4\" y=\"447.093125\"/>\r\n      </g>\r\n     </g>\r\n     <g id=\"text_3\">\r\n      <!-- May -->\r\n      <g transform=\"translate(338.771251 474.768125)rotate(-90)scale(0.1 -0.1)\">\r\n       <defs>\r\n        <path d=\"M 32.171875 -5.078125 \r\nQ 28.375 -14.84375 24.75 -17.8125 \r\nQ 21.140625 -20.796875 15.09375 -20.796875 \r\nL 7.90625 -20.796875 \r\nL 7.90625 -13.28125 \r\nL 13.1875 -13.28125 \r\nQ 16.890625 -13.28125 18.9375 -11.515625 \r\nQ 21 -9.765625 23.484375 -3.21875 \r\nL 25.09375 0.875 \r\nL 2.984375 54.6875 \r\nL 12.5 54.6875 \r\nL 29.59375 11.921875 \r\nL 46.6875 54.6875 \r\nL 56.203125 54.6875 \r\nz\r\n\" id=\"DejaVuSans-121\"/>\r\n       </defs>\r\n       <use xlink:href=\"#DejaVuSans-77\"/>\r\n       <use x=\"86.279297\" xlink:href=\"#DejaVuSans-97\"/>\r\n       <use x=\"147.558594\" xlink:href=\"#DejaVuSans-121\"/>\r\n      </g>\r\n     </g>\r\n    </g>\r\n    <g id=\"xtick_4\">\r\n     <g id=\"line2d_4\">\r\n      <g>\r\n       <use style=\"stroke:#000000;stroke-width:0.8;\" x=\"432.945001\" xlink:href=\"#mb3db6d31f4\" y=\"447.093125\"/>\r\n      </g>\r\n     </g>\r\n     <g id=\"text_4\">\r\n      <!-- Jun -->\r\n      <g transform=\"translate(435.704376 469.718125)rotate(-90)scale(0.1 -0.1)\">\r\n       <defs>\r\n        <path d=\"M 9.8125 72.90625 \r\nL 19.671875 72.90625 \r\nL 19.671875 5.078125 \r\nQ 19.671875 -8.109375 14.671875 -14.0625 \r\nQ 9.671875 -20.015625 -1.421875 -20.015625 \r\nL -5.171875 -20.015625 \r\nL -5.171875 -11.71875 \r\nL -2.09375 -11.71875 \r\nQ 4.4375 -11.71875 7.125 -8.046875 \r\nQ 9.8125 -4.390625 9.8125 5.078125 \r\nz\r\n\" id=\"DejaVuSans-74\"/>\r\n        <path d=\"M 8.5 21.578125 \r\nL 8.5 54.6875 \r\nL 17.484375 54.6875 \r\nL 17.484375 21.921875 \r\nQ 17.484375 14.15625 20.5 10.265625 \r\nQ 23.53125 6.390625 29.59375 6.390625 \r\nQ 36.859375 6.390625 41.078125 11.03125 \r\nQ 45.3125 15.671875 45.3125 23.6875 \r\nL 45.3125 54.6875 \r\nL 54.296875 54.6875 \r\nL 54.296875 0 \r\nL 45.3125 0 \r\nL 45.3125 8.40625 \r\nQ 42.046875 3.421875 37.71875 1 \r\nQ 33.40625 -1.421875 27.6875 -1.421875 \r\nQ 18.265625 -1.421875 13.375 4.4375 \r\nQ 8.5 10.296875 8.5 21.578125 \r\nz\r\nM 31.109375 56 \r\nz\r\n\" id=\"DejaVuSans-117\"/>\r\n        <path d=\"M 54.890625 33.015625 \r\nL 54.890625 0 \r\nL 45.90625 0 \r\nL 45.90625 32.71875 \r\nQ 45.90625 40.484375 42.875 44.328125 \r\nQ 39.84375 48.1875 33.796875 48.1875 \r\nQ 26.515625 48.1875 22.3125 43.546875 \r\nQ 18.109375 38.921875 18.109375 30.90625 \r\nL 18.109375 0 \r\nL 9.078125 0 \r\nL 9.078125 54.6875 \r\nL 18.109375 54.6875 \r\nL 18.109375 46.1875 \r\nQ 21.34375 51.125 25.703125 53.5625 \r\nQ 30.078125 56 35.796875 56 \r\nQ 45.21875 56 50.046875 50.171875 \r\nQ 54.890625 44.34375 54.890625 33.015625 \r\nz\r\n\" id=\"DejaVuSans-110\"/>\r\n       </defs>\r\n       <use xlink:href=\"#DejaVuSans-74\"/>\r\n       <use x=\"29.492188\" xlink:href=\"#DejaVuSans-117\"/>\r\n       <use x=\"92.871094\" xlink:href=\"#DejaVuSans-110\"/>\r\n      </g>\r\n     </g>\r\n    </g>\r\n    <g id=\"xtick_5\">\r\n     <g id=\"line2d_5\">\r\n      <g>\r\n       <use style=\"stroke:#000000;stroke-width:0.8;\" x=\"529.878125\" xlink:href=\"#mb3db6d31f4\" y=\"447.093125\"/>\r\n      </g>\r\n     </g>\r\n     <g id=\"text_5\">\r\n      <!-- Jul -->\r\n      <g transform=\"translate(532.6375 466.15875)rotate(-90)scale(0.1 -0.1)\">\r\n       <defs>\r\n        <path d=\"M 9.421875 75.984375 \r\nL 18.40625 75.984375 \r\nL 18.40625 0 \r\nL 9.421875 0 \r\nz\r\n\" id=\"DejaVuSans-108\"/>\r\n       </defs>\r\n       <use xlink:href=\"#DejaVuSans-74\"/>\r\n       <use x=\"29.492188\" xlink:href=\"#DejaVuSans-117\"/>\r\n       <use x=\"92.871094\" xlink:href=\"#DejaVuSans-108\"/>\r\n      </g>\r\n     </g>\r\n    </g>\r\n    <g id=\"xtick_6\">\r\n     <g id=\"line2d_6\">\r\n      <g>\r\n       <use style=\"stroke:#000000;stroke-width:0.8;\" x=\"626.811249\" xlink:href=\"#mb3db6d31f4\" y=\"447.093125\"/>\r\n      </g>\r\n     </g>\r\n     <g id=\"text_6\">\r\n      <!-- Aug -->\r\n      <g transform=\"translate(629.570624 473.619687)rotate(-90)scale(0.1 -0.1)\">\r\n       <defs>\r\n        <path d=\"M 45.40625 27.984375 \r\nQ 45.40625 37.75 41.375 43.109375 \r\nQ 37.359375 48.484375 30.078125 48.484375 \r\nQ 22.859375 48.484375 18.828125 43.109375 \r\nQ 14.796875 37.75 14.796875 27.984375 \r\nQ 14.796875 18.265625 18.828125 12.890625 \r\nQ 22.859375 7.515625 30.078125 7.515625 \r\nQ 37.359375 7.515625 41.375 12.890625 \r\nQ 45.40625 18.265625 45.40625 27.984375 \r\nz\r\nM 54.390625 6.78125 \r\nQ 54.390625 -7.171875 48.1875 -13.984375 \r\nQ 42 -20.796875 29.203125 -20.796875 \r\nQ 24.46875 -20.796875 20.265625 -20.09375 \r\nQ 16.0625 -19.390625 12.109375 -17.921875 \r\nL 12.109375 -9.1875 \r\nQ 16.0625 -11.328125 19.921875 -12.34375 \r\nQ 23.78125 -13.375 27.78125 -13.375 \r\nQ 36.625 -13.375 41.015625 -8.765625 \r\nQ 45.40625 -4.15625 45.40625 5.171875 \r\nL 45.40625 9.625 \r\nQ 42.625 4.78125 38.28125 2.390625 \r\nQ 33.9375 0 27.875 0 \r\nQ 17.828125 0 11.671875 7.65625 \r\nQ 5.515625 15.328125 5.515625 27.984375 \r\nQ 5.515625 40.671875 11.671875 48.328125 \r\nQ 17.828125 56 27.875 56 \r\nQ 33.9375 56 38.28125 53.609375 \r\nQ 42.625 51.21875 45.40625 46.390625 \r\nL 45.40625 54.6875 \r\nL 54.390625 54.6875 \r\nz\r\n\" id=\"DejaVuSans-103\"/>\r\n       </defs>\r\n       <use xlink:href=\"#DejaVuSans-65\"/>\r\n       <use x=\"68.408203\" xlink:href=\"#DejaVuSans-117\"/>\r\n       <use x=\"131.787109\" xlink:href=\"#DejaVuSans-103\"/>\r\n      </g>\r\n     </g>\r\n    </g>\r\n    <g id=\"xtick_7\">\r\n     <g id=\"line2d_7\">\r\n      <g>\r\n       <use style=\"stroke:#000000;stroke-width:0.8;\" x=\"723.744374\" xlink:href=\"#mb3db6d31f4\" y=\"447.093125\"/>\r\n      </g>\r\n     </g>\r\n     <g id=\"text_7\">\r\n      <!-- Sep -->\r\n      <g transform=\"translate(726.503749 472.943125)rotate(-90)scale(0.1 -0.1)\">\r\n       <defs>\r\n        <path d=\"M 53.515625 70.515625 \r\nL 53.515625 60.890625 \r\nQ 47.90625 63.578125 42.921875 64.890625 \r\nQ 37.9375 66.21875 33.296875 66.21875 \r\nQ 25.25 66.21875 20.875 63.09375 \r\nQ 16.5 59.96875 16.5 54.203125 \r\nQ 16.5 49.359375 19.40625 46.890625 \r\nQ 22.3125 44.4375 30.421875 42.921875 \r\nL 36.375 41.703125 \r\nQ 47.40625 39.59375 52.65625 34.296875 \r\nQ 57.90625 29 57.90625 20.125 \r\nQ 57.90625 9.515625 50.796875 4.046875 \r\nQ 43.703125 -1.421875 29.984375 -1.421875 \r\nQ 24.8125 -1.421875 18.96875 -0.25 \r\nQ 13.140625 0.921875 6.890625 3.21875 \r\nL 6.890625 13.375 \r\nQ 12.890625 10.015625 18.65625 8.296875 \r\nQ 24.421875 6.59375 29.984375 6.59375 \r\nQ 38.421875 6.59375 43.015625 9.90625 \r\nQ 47.609375 13.234375 47.609375 19.390625 \r\nQ 47.609375 24.75 44.3125 27.78125 \r\nQ 41.015625 30.8125 33.5 32.328125 \r\nL 27.484375 33.5 \r\nQ 16.453125 35.6875 11.515625 40.375 \r\nQ 6.59375 45.0625 6.59375 53.421875 \r\nQ 6.59375 63.09375 13.40625 68.65625 \r\nQ 20.21875 74.21875 32.171875 74.21875 \r\nQ 37.3125 74.21875 42.625 73.28125 \r\nQ 47.953125 72.359375 53.515625 70.515625 \r\nz\r\n\" id=\"DejaVuSans-83\"/>\r\n        <path d=\"M 56.203125 29.59375 \r\nL 56.203125 25.203125 \r\nL 14.890625 25.203125 \r\nQ 15.484375 15.921875 20.484375 11.0625 \r\nQ 25.484375 6.203125 34.421875 6.203125 \r\nQ 39.59375 6.203125 44.453125 7.46875 \r\nQ 49.3125 8.734375 54.109375 11.28125 \r\nL 54.109375 2.78125 \r\nQ 49.265625 0.734375 44.1875 -0.34375 \r\nQ 39.109375 -1.421875 33.890625 -1.421875 \r\nQ 20.796875 -1.421875 13.15625 6.1875 \r\nQ 5.515625 13.8125 5.515625 26.8125 \r\nQ 5.515625 40.234375 12.765625 48.109375 \r\nQ 20.015625 56 32.328125 56 \r\nQ 43.359375 56 49.78125 48.890625 \r\nQ 56.203125 41.796875 56.203125 29.59375 \r\nz\r\nM 47.21875 32.234375 \r\nQ 47.125 39.59375 43.09375 43.984375 \r\nQ 39.0625 48.390625 32.421875 48.390625 \r\nQ 24.90625 48.390625 20.390625 44.140625 \r\nQ 15.875 39.890625 15.1875 32.171875 \r\nz\r\n\" id=\"DejaVuSans-101\"/>\r\n       </defs>\r\n       <use xlink:href=\"#DejaVuSans-83\"/>\r\n       <use x=\"63.476562\" xlink:href=\"#DejaVuSans-101\"/>\r\n       <use x=\"125\" xlink:href=\"#DejaVuSans-112\"/>\r\n      </g>\r\n     </g>\r\n    </g>\r\n    <g id=\"xtick_8\">\r\n     <g id=\"line2d_8\">\r\n      <g>\r\n       <use style=\"stroke:#000000;stroke-width:0.8;\" x=\"820.677498\" xlink:href=\"#mb3db6d31f4\" y=\"447.093125\"/>\r\n      </g>\r\n     </g>\r\n     <g id=\"text_8\">\r\n      <!-- Oct -->\r\n      <g transform=\"translate(823.436873 471.38375)rotate(-90)scale(0.1 -0.1)\">\r\n       <defs>\r\n        <path d=\"M 39.40625 66.21875 \r\nQ 28.65625 66.21875 22.328125 58.203125 \r\nQ 16.015625 50.203125 16.015625 36.375 \r\nQ 16.015625 22.609375 22.328125 14.59375 \r\nQ 28.65625 6.59375 39.40625 6.59375 \r\nQ 50.140625 6.59375 56.421875 14.59375 \r\nQ 62.703125 22.609375 62.703125 36.375 \r\nQ 62.703125 50.203125 56.421875 58.203125 \r\nQ 50.140625 66.21875 39.40625 66.21875 \r\nz\r\nM 39.40625 74.21875 \r\nQ 54.734375 74.21875 63.90625 63.9375 \r\nQ 73.09375 53.65625 73.09375 36.375 \r\nQ 73.09375 19.140625 63.90625 8.859375 \r\nQ 54.734375 -1.421875 39.40625 -1.421875 \r\nQ 24.03125 -1.421875 14.8125 8.828125 \r\nQ 5.609375 19.09375 5.609375 36.375 \r\nQ 5.609375 53.65625 14.8125 63.9375 \r\nQ 24.03125 74.21875 39.40625 74.21875 \r\nz\r\n\" id=\"DejaVuSans-79\"/>\r\n        <path d=\"M 48.78125 52.59375 \r\nL 48.78125 44.1875 \r\nQ 44.96875 46.296875 41.140625 47.34375 \r\nQ 37.3125 48.390625 33.40625 48.390625 \r\nQ 24.65625 48.390625 19.8125 42.84375 \r\nQ 14.984375 37.3125 14.984375 27.296875 \r\nQ 14.984375 17.28125 19.8125 11.734375 \r\nQ 24.65625 6.203125 33.40625 6.203125 \r\nQ 37.3125 6.203125 41.140625 7.25 \r\nQ 44.96875 8.296875 48.78125 10.40625 \r\nL 48.78125 2.09375 \r\nQ 45.015625 0.34375 40.984375 -0.53125 \r\nQ 36.96875 -1.421875 32.421875 -1.421875 \r\nQ 20.0625 -1.421875 12.78125 6.34375 \r\nQ 5.515625 14.109375 5.515625 27.296875 \r\nQ 5.515625 40.671875 12.859375 48.328125 \r\nQ 20.21875 56 33.015625 56 \r\nQ 37.15625 56 41.109375 55.140625 \r\nQ 45.0625 54.296875 48.78125 52.59375 \r\nz\r\n\" id=\"DejaVuSans-99\"/>\r\n        <path d=\"M 18.3125 70.21875 \r\nL 18.3125 54.6875 \r\nL 36.8125 54.6875 \r\nL 36.8125 47.703125 \r\nL 18.3125 47.703125 \r\nL 18.3125 18.015625 \r\nQ 18.3125 11.328125 20.140625 9.421875 \r\nQ 21.96875 7.515625 27.59375 7.515625 \r\nL 36.8125 7.515625 \r\nL 36.8125 0 \r\nL 27.59375 0 \r\nQ 17.1875 0 13.234375 3.875 \r\nQ 9.28125 7.765625 9.28125 18.015625 \r\nL 9.28125 47.703125 \r\nL 2.6875 47.703125 \r\nL 2.6875 54.6875 \r\nL 9.28125 54.6875 \r\nL 9.28125 70.21875 \r\nz\r\n\" id=\"DejaVuSans-116\"/>\r\n       </defs>\r\n       <use xlink:href=\"#DejaVuSans-79\"/>\r\n       <use x=\"78.710938\" xlink:href=\"#DejaVuSans-99\"/>\r\n       <use x=\"133.691406\" xlink:href=\"#DejaVuSans-116\"/>\r\n      </g>\r\n     </g>\r\n    </g>\r\n    <g id=\"xtick_9\">\r\n     <g id=\"line2d_9\">\r\n      <g>\r\n       <use style=\"stroke:#000000;stroke-width:0.8;\" x=\"917.610622\" xlink:href=\"#mb3db6d31f4\" y=\"447.093125\"/>\r\n      </g>\r\n     </g>\r\n     <g id=\"text_9\">\r\n      <!-- Nov -->\r\n      <g transform=\"translate(920.369997 473.611875)rotate(-90)scale(0.1 -0.1)\">\r\n       <defs>\r\n        <path d=\"M 9.8125 72.90625 \r\nL 23.09375 72.90625 \r\nL 55.421875 11.921875 \r\nL 55.421875 72.90625 \r\nL 64.984375 72.90625 \r\nL 64.984375 0 \r\nL 51.703125 0 \r\nL 19.390625 60.984375 \r\nL 19.390625 0 \r\nL 9.8125 0 \r\nz\r\n\" id=\"DejaVuSans-78\"/>\r\n        <path d=\"M 30.609375 48.390625 \r\nQ 23.390625 48.390625 19.1875 42.75 \r\nQ 14.984375 37.109375 14.984375 27.296875 \r\nQ 14.984375 17.484375 19.15625 11.84375 \r\nQ 23.34375 6.203125 30.609375 6.203125 \r\nQ 37.796875 6.203125 41.984375 11.859375 \r\nQ 46.1875 17.53125 46.1875 27.296875 \r\nQ 46.1875 37.015625 41.984375 42.703125 \r\nQ 37.796875 48.390625 30.609375 48.390625 \r\nz\r\nM 30.609375 56 \r\nQ 42.328125 56 49.015625 48.375 \r\nQ 55.71875 40.765625 55.71875 27.296875 \r\nQ 55.71875 13.875 49.015625 6.21875 \r\nQ 42.328125 -1.421875 30.609375 -1.421875 \r\nQ 18.84375 -1.421875 12.171875 6.21875 \r\nQ 5.515625 13.875 5.515625 27.296875 \r\nQ 5.515625 40.765625 12.171875 48.375 \r\nQ 18.84375 56 30.609375 56 \r\nz\r\n\" id=\"DejaVuSans-111\"/>\r\n        <path d=\"M 2.984375 54.6875 \r\nL 12.5 54.6875 \r\nL 29.59375 8.796875 \r\nL 46.6875 54.6875 \r\nL 56.203125 54.6875 \r\nL 35.6875 0 \r\nL 23.484375 0 \r\nz\r\n\" id=\"DejaVuSans-118\"/>\r\n       </defs>\r\n       <use xlink:href=\"#DejaVuSans-78\"/>\r\n       <use x=\"74.804688\" xlink:href=\"#DejaVuSans-111\"/>\r\n       <use x=\"135.986328\" xlink:href=\"#DejaVuSans-118\"/>\r\n      </g>\r\n     </g>\r\n    </g>\r\n    <g id=\"text_10\">\r\n     <!-- Months in 2020 -->\r\n     <g transform=\"translate(491.141406 486.366562)scale(0.1 -0.1)\">\r\n      <defs>\r\n       <path d=\"M 54.890625 33.015625 \r\nL 54.890625 0 \r\nL 45.90625 0 \r\nL 45.90625 32.71875 \r\nQ 45.90625 40.484375 42.875 44.328125 \r\nQ 39.84375 48.1875 33.796875 48.1875 \r\nQ 26.515625 48.1875 22.3125 43.546875 \r\nQ 18.109375 38.921875 18.109375 30.90625 \r\nL 18.109375 0 \r\nL 9.078125 0 \r\nL 9.078125 75.984375 \r\nL 18.109375 75.984375 \r\nL 18.109375 46.1875 \r\nQ 21.34375 51.125 25.703125 53.5625 \r\nQ 30.078125 56 35.796875 56 \r\nQ 45.21875 56 50.046875 50.171875 \r\nQ 54.890625 44.34375 54.890625 33.015625 \r\nz\r\n\" id=\"DejaVuSans-104\"/>\r\n       <path d=\"M 44.28125 53.078125 \r\nL 44.28125 44.578125 \r\nQ 40.484375 46.53125 36.375 47.5 \r\nQ 32.28125 48.484375 27.875 48.484375 \r\nQ 21.1875 48.484375 17.84375 46.4375 \r\nQ 14.5 44.390625 14.5 40.28125 \r\nQ 14.5 37.15625 16.890625 35.375 \r\nQ 19.28125 33.59375 26.515625 31.984375 \r\nL 29.59375 31.296875 \r\nQ 39.15625 29.25 43.1875 25.515625 \r\nQ 47.21875 21.78125 47.21875 15.09375 \r\nQ 47.21875 7.46875 41.1875 3.015625 \r\nQ 35.15625 -1.421875 24.609375 -1.421875 \r\nQ 20.21875 -1.421875 15.453125 -0.5625 \r\nQ 10.6875 0.296875 5.421875 2 \r\nL 5.421875 11.28125 \r\nQ 10.40625 8.6875 15.234375 7.390625 \r\nQ 20.0625 6.109375 24.8125 6.109375 \r\nQ 31.15625 6.109375 34.5625 8.28125 \r\nQ 37.984375 10.453125 37.984375 14.40625 \r\nQ 37.984375 18.0625 35.515625 20.015625 \r\nQ 33.0625 21.96875 24.703125 23.78125 \r\nL 21.578125 24.515625 \r\nQ 13.234375 26.265625 9.515625 29.90625 \r\nQ 5.8125 33.546875 5.8125 39.890625 \r\nQ 5.8125 47.609375 11.28125 51.796875 \r\nQ 16.75 56 26.8125 56 \r\nQ 31.78125 56 36.171875 55.265625 \r\nQ 40.578125 54.546875 44.28125 53.078125 \r\nz\r\n\" id=\"DejaVuSans-115\"/>\r\n       <path id=\"DejaVuSans-32\"/>\r\n       <path d=\"M 9.421875 54.6875 \r\nL 18.40625 54.6875 \r\nL 18.40625 0 \r\nL 9.421875 0 \r\nz\r\nM 9.421875 75.984375 \r\nL 18.40625 75.984375 \r\nL 18.40625 64.59375 \r\nL 9.421875 64.59375 \r\nz\r\n\" id=\"DejaVuSans-105\"/>\r\n       <path d=\"M 19.1875 8.296875 \r\nL 53.609375 8.296875 \r\nL 53.609375 0 \r\nL 7.328125 0 \r\nL 7.328125 8.296875 \r\nQ 12.9375 14.109375 22.625 23.890625 \r\nQ 32.328125 33.6875 34.8125 36.53125 \r\nQ 39.546875 41.84375 41.421875 45.53125 \r\nQ 43.3125 49.21875 43.3125 52.78125 \r\nQ 43.3125 58.59375 39.234375 62.25 \r\nQ 35.15625 65.921875 28.609375 65.921875 \r\nQ 23.96875 65.921875 18.8125 64.3125 \r\nQ 13.671875 62.703125 7.8125 59.421875 \r\nL 7.8125 69.390625 \r\nQ 13.765625 71.78125 18.9375 73 \r\nQ 24.125 74.21875 28.421875 74.21875 \r\nQ 39.75 74.21875 46.484375 68.546875 \r\nQ 53.21875 62.890625 53.21875 53.421875 \r\nQ 53.21875 48.921875 51.53125 44.890625 \r\nQ 49.859375 40.875 45.40625 35.40625 \r\nQ 44.1875 33.984375 37.640625 27.21875 \r\nQ 31.109375 20.453125 19.1875 8.296875 \r\nz\r\n\" id=\"DejaVuSans-50\"/>\r\n       <path d=\"M 31.78125 66.40625 \r\nQ 24.171875 66.40625 20.328125 58.90625 \r\nQ 16.5 51.421875 16.5 36.375 \r\nQ 16.5 21.390625 20.328125 13.890625 \r\nQ 24.171875 6.390625 31.78125 6.390625 \r\nQ 39.453125 6.390625 43.28125 13.890625 \r\nQ 47.125 21.390625 47.125 36.375 \r\nQ 47.125 51.421875 43.28125 58.90625 \r\nQ 39.453125 66.40625 31.78125 66.40625 \r\nz\r\nM 31.78125 74.21875 \r\nQ 44.046875 74.21875 50.515625 64.515625 \r\nQ 56.984375 54.828125 56.984375 36.375 \r\nQ 56.984375 17.96875 50.515625 8.265625 \r\nQ 44.046875 -1.421875 31.78125 -1.421875 \r\nQ 19.53125 -1.421875 13.0625 8.265625 \r\nQ 6.59375 17.96875 6.59375 36.375 \r\nQ 6.59375 54.828125 13.0625 64.515625 \r\nQ 19.53125 74.21875 31.78125 74.21875 \r\nz\r\n\" id=\"DejaVuSans-48\"/>\r\n      </defs>\r\n      <use xlink:href=\"#DejaVuSans-77\"/>\r\n      <use x=\"86.279297\" xlink:href=\"#DejaVuSans-111\"/>\r\n      <use x=\"147.460938\" xlink:href=\"#DejaVuSans-110\"/>\r\n      <use x=\"210.839844\" xlink:href=\"#DejaVuSans-116\"/>\r\n      <use x=\"250.048828\" xlink:href=\"#DejaVuSans-104\"/>\r\n      <use x=\"313.427734\" xlink:href=\"#DejaVuSans-115\"/>\r\n      <use x=\"365.527344\" xlink:href=\"#DejaVuSans-32\"/>\r\n      <use x=\"397.314453\" xlink:href=\"#DejaVuSans-105\"/>\r\n      <use x=\"425.097656\" xlink:href=\"#DejaVuSans-110\"/>\r\n      <use x=\"488.476562\" xlink:href=\"#DejaVuSans-32\"/>\r\n      <use x=\"520.263672\" xlink:href=\"#DejaVuSans-50\"/>\r\n      <use x=\"583.886719\" xlink:href=\"#DejaVuSans-48\"/>\r\n      <use x=\"647.509766\" xlink:href=\"#DejaVuSans-50\"/>\r\n      <use x=\"711.132812\" xlink:href=\"#DejaVuSans-48\"/>\r\n     </g>\r\n    </g>\r\n   </g>\r\n   <g id=\"matplotlib.axis_2\">\r\n    <g id=\"ytick_1\">\r\n     <g id=\"line2d_10\">\r\n      <defs>\r\n       <path d=\"M 0 0 \r\nL -3.5 0 \r\n\" id=\"m12a7c0c435\" style=\"stroke:#000000;stroke-width:0.8;\"/>\r\n      </defs>\r\n      <g>\r\n       <use style=\"stroke:#000000;stroke-width:0.8;\" x=\"66.053125\" xlink:href=\"#m12a7c0c435\" y=\"447.093125\"/>\r\n      </g>\r\n     </g>\r\n     <g id=\"text_11\">\r\n      <!-- 0 -->\r\n      <g transform=\"translate(52.690625 450.892344)scale(0.1 -0.1)\">\r\n       <use xlink:href=\"#DejaVuSans-48\"/>\r\n      </g>\r\n     </g>\r\n    </g>\r\n    <g id=\"ytick_2\">\r\n     <g id=\"line2d_11\">\r\n      <g>\r\n       <use style=\"stroke:#000000;stroke-width:0.8;\" x=\"66.053125\" xlink:href=\"#m12a7c0c435\" y=\"356.492697\"/>\r\n      </g>\r\n     </g>\r\n     <g id=\"text_12\">\r\n      <!-- 50000 -->\r\n      <g transform=\"translate(27.240625 360.291915)scale(0.1 -0.1)\">\r\n       <defs>\r\n        <path d=\"M 10.796875 72.90625 \r\nL 49.515625 72.90625 \r\nL 49.515625 64.59375 \r\nL 19.828125 64.59375 \r\nL 19.828125 46.734375 \r\nQ 21.96875 47.46875 24.109375 47.828125 \r\nQ 26.265625 48.1875 28.421875 48.1875 \r\nQ 40.625 48.1875 47.75 41.5 \r\nQ 54.890625 34.8125 54.890625 23.390625 \r\nQ 54.890625 11.625 47.5625 5.09375 \r\nQ 40.234375 -1.421875 26.90625 -1.421875 \r\nQ 22.3125 -1.421875 17.546875 -0.640625 \r\nQ 12.796875 0.140625 7.71875 1.703125 \r\nL 7.71875 11.625 \r\nQ 12.109375 9.234375 16.796875 8.0625 \r\nQ 21.484375 6.890625 26.703125 6.890625 \r\nQ 35.15625 6.890625 40.078125 11.328125 \r\nQ 45.015625 15.765625 45.015625 23.390625 \r\nQ 45.015625 31 40.078125 35.4375 \r\nQ 35.15625 39.890625 26.703125 39.890625 \r\nQ 22.75 39.890625 18.8125 39.015625 \r\nQ 14.890625 38.140625 10.796875 36.28125 \r\nz\r\n\" id=\"DejaVuSans-53\"/>\r\n       </defs>\r\n       <use xlink:href=\"#DejaVuSans-53\"/>\r\n       <use x=\"63.623047\" xlink:href=\"#DejaVuSans-48\"/>\r\n       <use x=\"127.246094\" xlink:href=\"#DejaVuSans-48\"/>\r\n       <use x=\"190.869141\" xlink:href=\"#DejaVuSans-48\"/>\r\n       <use x=\"254.492188\" xlink:href=\"#DejaVuSans-48\"/>\r\n      </g>\r\n     </g>\r\n    </g>\r\n    <g id=\"ytick_3\">\r\n     <g id=\"line2d_12\">\r\n      <g>\r\n       <use style=\"stroke:#000000;stroke-width:0.8;\" x=\"66.053125\" xlink:href=\"#m12a7c0c435\" y=\"265.892268\"/>\r\n      </g>\r\n     </g>\r\n     <g id=\"text_13\">\r\n      <!-- 100000 -->\r\n      <g transform=\"translate(20.878125 269.691487)scale(0.1 -0.1)\">\r\n       <defs>\r\n        <path d=\"M 12.40625 8.296875 \r\nL 28.515625 8.296875 \r\nL 28.515625 63.921875 \r\nL 10.984375 60.40625 \r\nL 10.984375 69.390625 \r\nL 28.421875 72.90625 \r\nL 38.28125 72.90625 \r\nL 38.28125 8.296875 \r\nL 54.390625 8.296875 \r\nL 54.390625 0 \r\nL 12.40625 0 \r\nz\r\n\" id=\"DejaVuSans-49\"/>\r\n       </defs>\r\n       <use xlink:href=\"#DejaVuSans-49\"/>\r\n       <use x=\"63.623047\" xlink:href=\"#DejaVuSans-48\"/>\r\n       <use x=\"127.246094\" xlink:href=\"#DejaVuSans-48\"/>\r\n       <use x=\"190.869141\" xlink:href=\"#DejaVuSans-48\"/>\r\n       <use x=\"254.492188\" xlink:href=\"#DejaVuSans-48\"/>\r\n       <use x=\"318.115234\" xlink:href=\"#DejaVuSans-48\"/>\r\n      </g>\r\n     </g>\r\n    </g>\r\n    <g id=\"ytick_4\">\r\n     <g id=\"line2d_13\">\r\n      <g>\r\n       <use style=\"stroke:#000000;stroke-width:0.8;\" x=\"66.053125\" xlink:href=\"#m12a7c0c435\" y=\"175.29184\"/>\r\n      </g>\r\n     </g>\r\n     <g id=\"text_14\">\r\n      <!-- 150000 -->\r\n      <g transform=\"translate(20.878125 179.091059)scale(0.1 -0.1)\">\r\n       <use xlink:href=\"#DejaVuSans-49\"/>\r\n       <use x=\"63.623047\" xlink:href=\"#DejaVuSans-53\"/>\r\n       <use x=\"127.246094\" xlink:href=\"#DejaVuSans-48\"/>\r\n       <use x=\"190.869141\" xlink:href=\"#DejaVuSans-48\"/>\r\n       <use x=\"254.492188\" xlink:href=\"#DejaVuSans-48\"/>\r\n       <use x=\"318.115234\" xlink:href=\"#DejaVuSans-48\"/>\r\n      </g>\r\n     </g>\r\n    </g>\r\n    <g id=\"ytick_5\">\r\n     <g id=\"line2d_14\">\r\n      <g>\r\n       <use style=\"stroke:#000000;stroke-width:0.8;\" x=\"66.053125\" xlink:href=\"#m12a7c0c435\" y=\"84.691412\"/>\r\n      </g>\r\n     </g>\r\n     <g id=\"text_15\">\r\n      <!-- 200000 -->\r\n      <g transform=\"translate(20.878125 88.490631)scale(0.1 -0.1)\">\r\n       <use xlink:href=\"#DejaVuSans-50\"/>\r\n       <use x=\"63.623047\" xlink:href=\"#DejaVuSans-48\"/>\r\n       <use x=\"127.246094\" xlink:href=\"#DejaVuSans-48\"/>\r\n       <use x=\"190.869141\" xlink:href=\"#DejaVuSans-48\"/>\r\n       <use x=\"254.492188\" xlink:href=\"#DejaVuSans-48\"/>\r\n       <use x=\"318.115234\" xlink:href=\"#DejaVuSans-48\"/>\r\n      </g>\r\n     </g>\r\n    </g>\r\n    <g id=\"text_16\">\r\n     <!-- Number of Cumulative COVID-19 cases per 100,000 -->\r\n     <g transform=\"translate(14.798437 365.016562)rotate(-90)scale(0.1 -0.1)\">\r\n      <defs>\r\n       <path d=\"M 52 44.1875 \r\nQ 55.375 50.25 60.0625 53.125 \r\nQ 64.75 56 71.09375 56 \r\nQ 79.640625 56 84.28125 50.015625 \r\nQ 88.921875 44.046875 88.921875 33.015625 \r\nL 88.921875 0 \r\nL 79.890625 0 \r\nL 79.890625 32.71875 \r\nQ 79.890625 40.578125 77.09375 44.375 \r\nQ 74.3125 48.1875 68.609375 48.1875 \r\nQ 61.625 48.1875 57.5625 43.546875 \r\nQ 53.515625 38.921875 53.515625 30.90625 \r\nL 53.515625 0 \r\nL 44.484375 0 \r\nL 44.484375 32.71875 \r\nQ 44.484375 40.625 41.703125 44.40625 \r\nQ 38.921875 48.1875 33.109375 48.1875 \r\nQ 26.21875 48.1875 22.15625 43.53125 \r\nQ 18.109375 38.875 18.109375 30.90625 \r\nL 18.109375 0 \r\nL 9.078125 0 \r\nL 9.078125 54.6875 \r\nL 18.109375 54.6875 \r\nL 18.109375 46.1875 \r\nQ 21.1875 51.21875 25.484375 53.609375 \r\nQ 29.78125 56 35.6875 56 \r\nQ 41.65625 56 45.828125 52.96875 \r\nQ 50 49.953125 52 44.1875 \r\nz\r\n\" id=\"DejaVuSans-109\"/>\r\n       <path d=\"M 48.6875 27.296875 \r\nQ 48.6875 37.203125 44.609375 42.84375 \r\nQ 40.53125 48.484375 33.40625 48.484375 \r\nQ 26.265625 48.484375 22.1875 42.84375 \r\nQ 18.109375 37.203125 18.109375 27.296875 \r\nQ 18.109375 17.390625 22.1875 11.75 \r\nQ 26.265625 6.109375 33.40625 6.109375 \r\nQ 40.53125 6.109375 44.609375 11.75 \r\nQ 48.6875 17.390625 48.6875 27.296875 \r\nz\r\nM 18.109375 46.390625 \r\nQ 20.953125 51.265625 25.265625 53.625 \r\nQ 29.59375 56 35.59375 56 \r\nQ 45.5625 56 51.78125 48.09375 \r\nQ 58.015625 40.1875 58.015625 27.296875 \r\nQ 58.015625 14.40625 51.78125 6.484375 \r\nQ 45.5625 -1.421875 35.59375 -1.421875 \r\nQ 29.59375 -1.421875 25.265625 0.953125 \r\nQ 20.953125 3.328125 18.109375 8.203125 \r\nL 18.109375 0 \r\nL 9.078125 0 \r\nL 9.078125 75.984375 \r\nL 18.109375 75.984375 \r\nz\r\n\" id=\"DejaVuSans-98\"/>\r\n       <path d=\"M 37.109375 75.984375 \r\nL 37.109375 68.5 \r\nL 28.515625 68.5 \r\nQ 23.6875 68.5 21.796875 66.546875 \r\nQ 19.921875 64.59375 19.921875 59.515625 \r\nL 19.921875 54.6875 \r\nL 34.71875 54.6875 \r\nL 34.71875 47.703125 \r\nL 19.921875 47.703125 \r\nL 19.921875 0 \r\nL 10.890625 0 \r\nL 10.890625 47.703125 \r\nL 2.296875 47.703125 \r\nL 2.296875 54.6875 \r\nL 10.890625 54.6875 \r\nL 10.890625 58.5 \r\nQ 10.890625 67.625 15.140625 71.796875 \r\nQ 19.390625 75.984375 28.609375 75.984375 \r\nz\r\n\" id=\"DejaVuSans-102\"/>\r\n       <path d=\"M 64.40625 67.28125 \r\nL 64.40625 56.890625 \r\nQ 59.421875 61.53125 53.78125 63.8125 \r\nQ 48.140625 66.109375 41.796875 66.109375 \r\nQ 29.296875 66.109375 22.65625 58.46875 \r\nQ 16.015625 50.828125 16.015625 36.375 \r\nQ 16.015625 21.96875 22.65625 14.328125 \r\nQ 29.296875 6.6875 41.796875 6.6875 \r\nQ 48.140625 6.6875 53.78125 8.984375 \r\nQ 59.421875 11.28125 64.40625 15.921875 \r\nL 64.40625 5.609375 \r\nQ 59.234375 2.09375 53.4375 0.328125 \r\nQ 47.65625 -1.421875 41.21875 -1.421875 \r\nQ 24.65625 -1.421875 15.125 8.703125 \r\nQ 5.609375 18.84375 5.609375 36.375 \r\nQ 5.609375 53.953125 15.125 64.078125 \r\nQ 24.65625 74.21875 41.21875 74.21875 \r\nQ 47.75 74.21875 53.53125 72.484375 \r\nQ 59.328125 70.75 64.40625 67.28125 \r\nz\r\n\" id=\"DejaVuSans-67\"/>\r\n       <path d=\"M 28.609375 0 \r\nL 0.78125 72.90625 \r\nL 11.078125 72.90625 \r\nL 34.1875 11.53125 \r\nL 57.328125 72.90625 \r\nL 67.578125 72.90625 \r\nL 39.796875 0 \r\nz\r\n\" id=\"DejaVuSans-86\"/>\r\n       <path d=\"M 9.8125 72.90625 \r\nL 19.671875 72.90625 \r\nL 19.671875 0 \r\nL 9.8125 0 \r\nz\r\n\" id=\"DejaVuSans-73\"/>\r\n       <path d=\"M 19.671875 64.796875 \r\nL 19.671875 8.109375 \r\nL 31.59375 8.109375 \r\nQ 46.6875 8.109375 53.6875 14.9375 \r\nQ 60.6875 21.78125 60.6875 36.53125 \r\nQ 60.6875 51.171875 53.6875 57.984375 \r\nQ 46.6875 64.796875 31.59375 64.796875 \r\nz\r\nM 9.8125 72.90625 \r\nL 30.078125 72.90625 \r\nQ 51.265625 72.90625 61.171875 64.09375 \r\nQ 71.09375 55.28125 71.09375 36.53125 \r\nQ 71.09375 17.671875 61.125 8.828125 \r\nQ 51.171875 0 30.078125 0 \r\nL 9.8125 0 \r\nz\r\n\" id=\"DejaVuSans-68\"/>\r\n       <path d=\"M 4.890625 31.390625 \r\nL 31.203125 31.390625 \r\nL 31.203125 23.390625 \r\nL 4.890625 23.390625 \r\nz\r\n\" id=\"DejaVuSans-45\"/>\r\n       <path d=\"M 10.984375 1.515625 \r\nL 10.984375 10.5 \r\nQ 14.703125 8.734375 18.5 7.8125 \r\nQ 22.3125 6.890625 25.984375 6.890625 \r\nQ 35.75 6.890625 40.890625 13.453125 \r\nQ 46.046875 20.015625 46.78125 33.40625 \r\nQ 43.953125 29.203125 39.59375 26.953125 \r\nQ 35.25 24.703125 29.984375 24.703125 \r\nQ 19.046875 24.703125 12.671875 31.3125 \r\nQ 6.296875 37.9375 6.296875 49.421875 \r\nQ 6.296875 60.640625 12.9375 67.421875 \r\nQ 19.578125 74.21875 30.609375 74.21875 \r\nQ 43.265625 74.21875 49.921875 64.515625 \r\nQ 56.59375 54.828125 56.59375 36.375 \r\nQ 56.59375 19.140625 48.40625 8.859375 \r\nQ 40.234375 -1.421875 26.421875 -1.421875 \r\nQ 22.703125 -1.421875 18.890625 -0.6875 \r\nQ 15.09375 0.046875 10.984375 1.515625 \r\nz\r\nM 30.609375 32.421875 \r\nQ 37.25 32.421875 41.125 36.953125 \r\nQ 45.015625 41.5 45.015625 49.421875 \r\nQ 45.015625 57.28125 41.125 61.84375 \r\nQ 37.25 66.40625 30.609375 66.40625 \r\nQ 23.96875 66.40625 20.09375 61.84375 \r\nQ 16.21875 57.28125 16.21875 49.421875 \r\nQ 16.21875 41.5 20.09375 36.953125 \r\nQ 23.96875 32.421875 30.609375 32.421875 \r\nz\r\n\" id=\"DejaVuSans-57\"/>\r\n       <path d=\"M 11.71875 12.40625 \r\nL 22.015625 12.40625 \r\nL 22.015625 4 \r\nL 14.015625 -11.625 \r\nL 7.71875 -11.625 \r\nL 11.71875 4 \r\nz\r\n\" id=\"DejaVuSans-44\"/>\r\n      </defs>\r\n      <use xlink:href=\"#DejaVuSans-78\"/>\r\n      <use x=\"74.804688\" xlink:href=\"#DejaVuSans-117\"/>\r\n      <use x=\"138.183594\" xlink:href=\"#DejaVuSans-109\"/>\r\n      <use x=\"235.595703\" xlink:href=\"#DejaVuSans-98\"/>\r\n      <use x=\"299.072266\" xlink:href=\"#DejaVuSans-101\"/>\r\n      <use x=\"360.595703\" xlink:href=\"#DejaVuSans-114\"/>\r\n      <use x=\"401.708984\" xlink:href=\"#DejaVuSans-32\"/>\r\n      <use x=\"433.496094\" xlink:href=\"#DejaVuSans-111\"/>\r\n      <use x=\"494.677734\" xlink:href=\"#DejaVuSans-102\"/>\r\n      <use x=\"529.882812\" xlink:href=\"#DejaVuSans-32\"/>\r\n      <use x=\"561.669922\" xlink:href=\"#DejaVuSans-67\"/>\r\n      <use x=\"631.494141\" xlink:href=\"#DejaVuSans-117\"/>\r\n      <use x=\"694.873047\" xlink:href=\"#DejaVuSans-109\"/>\r\n      <use x=\"792.285156\" xlink:href=\"#DejaVuSans-117\"/>\r\n      <use x=\"855.664062\" xlink:href=\"#DejaVuSans-108\"/>\r\n      <use x=\"883.447266\" xlink:href=\"#DejaVuSans-97\"/>\r\n      <use x=\"944.726562\" xlink:href=\"#DejaVuSans-116\"/>\r\n      <use x=\"983.935547\" xlink:href=\"#DejaVuSans-105\"/>\r\n      <use x=\"1011.71875\" xlink:href=\"#DejaVuSans-118\"/>\r\n      <use x=\"1070.898438\" xlink:href=\"#DejaVuSans-101\"/>\r\n      <use x=\"1132.421875\" xlink:href=\"#DejaVuSans-32\"/>\r\n      <use x=\"1164.208984\" xlink:href=\"#DejaVuSans-67\"/>\r\n      <use x=\"1234.033203\" xlink:href=\"#DejaVuSans-79\"/>\r\n      <use x=\"1310.994141\" xlink:href=\"#DejaVuSans-86\"/>\r\n      <use x=\"1379.402344\" xlink:href=\"#DejaVuSans-73\"/>\r\n      <use x=\"1408.894531\" xlink:href=\"#DejaVuSans-68\"/>\r\n      <use x=\"1485.896484\" xlink:href=\"#DejaVuSans-45\"/>\r\n      <use x=\"1521.980469\" xlink:href=\"#DejaVuSans-49\"/>\r\n      <use x=\"1585.603516\" xlink:href=\"#DejaVuSans-57\"/>\r\n      <use x=\"1649.226562\" xlink:href=\"#DejaVuSans-32\"/>\r\n      <use x=\"1681.013672\" xlink:href=\"#DejaVuSans-99\"/>\r\n      <use x=\"1735.994141\" xlink:href=\"#DejaVuSans-97\"/>\r\n      <use x=\"1797.273438\" xlink:href=\"#DejaVuSans-115\"/>\r\n      <use x=\"1849.373047\" xlink:href=\"#DejaVuSans-101\"/>\r\n      <use x=\"1910.896484\" xlink:href=\"#DejaVuSans-115\"/>\r\n      <use x=\"1962.996094\" xlink:href=\"#DejaVuSans-32\"/>\r\n      <use x=\"1994.783203\" xlink:href=\"#DejaVuSans-112\"/>\r\n      <use x=\"2058.259766\" xlink:href=\"#DejaVuSans-101\"/>\r\n      <use x=\"2119.783203\" xlink:href=\"#DejaVuSans-114\"/>\r\n      <use x=\"2160.896484\" xlink:href=\"#DejaVuSans-32\"/>\r\n      <use x=\"2192.683594\" xlink:href=\"#DejaVuSans-49\"/>\r\n      <use x=\"2256.306641\" xlink:href=\"#DejaVuSans-48\"/>\r\n      <use x=\"2319.929688\" xlink:href=\"#DejaVuSans-48\"/>\r\n      <use x=\"2383.552734\" xlink:href=\"#DejaVuSans-44\"/>\r\n      <use x=\"2415.339844\" xlink:href=\"#DejaVuSans-48\"/>\r\n      <use x=\"2478.962891\" xlink:href=\"#DejaVuSans-48\"/>\r\n      <use x=\"2542.585938\" xlink:href=\"#DejaVuSans-48\"/>\r\n     </g>\r\n    </g>\r\n   </g>\r\n   <g id=\"patch_21\">\r\n    <path d=\"M 66.053125 447.093125 \r\nL 66.053125 22.318125 \r\n\" style=\"fill:none;stroke:#000000;stroke-linecap:square;stroke-linejoin:miter;stroke-width:0.8;\"/>\r\n   </g>\r\n   <g id=\"patch_22\">\r\n    <path d=\"M 993.703125 447.093125 \r\nL 993.703125 22.318125 \r\n\" style=\"fill:none;stroke:#000000;stroke-linecap:square;stroke-linejoin:miter;stroke-width:0.8;\"/>\r\n   </g>\r\n   <g id=\"patch_23\">\r\n    <path d=\"M 66.053125 447.093125 \r\nL 993.703125 447.093125 \r\n\" style=\"fill:none;stroke:#000000;stroke-linecap:square;stroke-linejoin:miter;stroke-width:0.8;\"/>\r\n   </g>\r\n   <g id=\"patch_24\">\r\n    <path d=\"M 66.053125 22.318125 \r\nL 993.703125 22.318125 \r\n\" style=\"fill:none;stroke:#000000;stroke-linecap:square;stroke-linejoin:miter;stroke-width:0.8;\"/>\r\n   </g>\r\n   <g id=\"text_17\">\r\n    <!-- COVID-19 in Very Low vs Low Income -->\r\n    <g transform=\"translate(418.128125 16.318125)scale(0.12 -0.12)\">\r\n     <defs>\r\n      <path d=\"M 9.8125 72.90625 \r\nL 19.671875 72.90625 \r\nL 19.671875 8.296875 \r\nL 55.171875 8.296875 \r\nL 55.171875 0 \r\nL 9.8125 0 \r\nz\r\n\" id=\"DejaVuSans-76\"/>\r\n      <path d=\"M 4.203125 54.6875 \r\nL 13.1875 54.6875 \r\nL 24.421875 12.015625 \r\nL 35.59375 54.6875 \r\nL 46.1875 54.6875 \r\nL 57.421875 12.015625 \r\nL 68.609375 54.6875 \r\nL 77.59375 54.6875 \r\nL 63.28125 0 \r\nL 52.6875 0 \r\nL 40.921875 44.828125 \r\nL 29.109375 0 \r\nL 18.5 0 \r\nz\r\n\" id=\"DejaVuSans-119\"/>\r\n     </defs>\r\n     <use xlink:href=\"#DejaVuSans-67\"/>\r\n     <use x=\"69.824219\" xlink:href=\"#DejaVuSans-79\"/>\r\n     <use x=\"146.785156\" xlink:href=\"#DejaVuSans-86\"/>\r\n     <use x=\"215.193359\" xlink:href=\"#DejaVuSans-73\"/>\r\n     <use x=\"244.685547\" xlink:href=\"#DejaVuSans-68\"/>\r\n     <use x=\"321.6875\" xlink:href=\"#DejaVuSans-45\"/>\r\n     <use x=\"357.771484\" xlink:href=\"#DejaVuSans-49\"/>\r\n     <use x=\"421.394531\" xlink:href=\"#DejaVuSans-57\"/>\r\n     <use x=\"485.017578\" xlink:href=\"#DejaVuSans-32\"/>\r\n     <use x=\"516.804688\" xlink:href=\"#DejaVuSans-105\"/>\r\n     <use x=\"544.587891\" xlink:href=\"#DejaVuSans-110\"/>\r\n     <use x=\"607.966797\" xlink:href=\"#DejaVuSans-32\"/>\r\n     <use x=\"639.753906\" xlink:href=\"#DejaVuSans-86\"/>\r\n     <use x=\"700.412109\" xlink:href=\"#DejaVuSans-101\"/>\r\n     <use x=\"761.935547\" xlink:href=\"#DejaVuSans-114\"/>\r\n     <use x=\"803.048828\" xlink:href=\"#DejaVuSans-121\"/>\r\n     <use x=\"862.228516\" xlink:href=\"#DejaVuSans-32\"/>\r\n     <use x=\"894.015625\" xlink:href=\"#DejaVuSans-76\"/>\r\n     <use x=\"947.978516\" xlink:href=\"#DejaVuSans-111\"/>\r\n     <use x=\"1009.160156\" xlink:href=\"#DejaVuSans-119\"/>\r\n     <use x=\"1090.947266\" xlink:href=\"#DejaVuSans-32\"/>\r\n     <use x=\"1122.734375\" xlink:href=\"#DejaVuSans-118\"/>\r\n     <use x=\"1181.914062\" xlink:href=\"#DejaVuSans-115\"/>\r\n     <use x=\"1234.013672\" xlink:href=\"#DejaVuSans-32\"/>\r\n     <use x=\"1265.800781\" xlink:href=\"#DejaVuSans-76\"/>\r\n     <use x=\"1319.763672\" xlink:href=\"#DejaVuSans-111\"/>\r\n     <use x=\"1380.945312\" xlink:href=\"#DejaVuSans-119\"/>\r\n     <use x=\"1462.732422\" xlink:href=\"#DejaVuSans-32\"/>\r\n     <use x=\"1494.519531\" xlink:href=\"#DejaVuSans-73\"/>\r\n     <use x=\"1524.011719\" xlink:href=\"#DejaVuSans-110\"/>\r\n     <use x=\"1587.390625\" xlink:href=\"#DejaVuSans-99\"/>\r\n     <use x=\"1642.371094\" xlink:href=\"#DejaVuSans-111\"/>\r\n     <use x=\"1703.552734\" xlink:href=\"#DejaVuSans-109\"/>\r\n     <use x=\"1800.964844\" xlink:href=\"#DejaVuSans-101\"/>\r\n    </g>\r\n   </g>\r\n   <g id=\"legend_1\">\r\n    <g id=\"patch_25\">\r\n     <path d=\"M 73.053125 59.674375 \r\nL 237.165625 59.674375 \r\nQ 239.165625 59.674375 239.165625 57.674375 \r\nL 239.165625 29.318125 \r\nQ 239.165625 27.318125 237.165625 27.318125 \r\nL 73.053125 27.318125 \r\nQ 71.053125 27.318125 71.053125 29.318125 \r\nL 71.053125 57.674375 \r\nQ 71.053125 59.674375 73.053125 59.674375 \r\nz\r\n\" style=\"fill:#ffffff;opacity:0.8;stroke:#cccccc;stroke-linejoin:miter;\"/>\r\n    </g>\r\n    <g id=\"patch_26\">\r\n     <path d=\"M 75.053125 38.916562 \r\nL 95.053125 38.916562 \r\nL 95.053125 31.916562 \r\nL 75.053125 31.916562 \r\nz\r\n\" style=\"fill:#1f77b4;\"/>\r\n    </g>\r\n    <g id=\"text_18\">\r\n     <!-- Low Income Counties -->\r\n     <g transform=\"translate(103.053125 38.916562)scale(0.1 -0.1)\">\r\n      <use xlink:href=\"#DejaVuSans-76\"/>\r\n      <use x=\"53.962891\" xlink:href=\"#DejaVuSans-111\"/>\r\n      <use x=\"115.144531\" xlink:href=\"#DejaVuSans-119\"/>\r\n      <use x=\"196.931641\" xlink:href=\"#DejaVuSans-32\"/>\r\n      <use x=\"228.71875\" xlink:href=\"#DejaVuSans-73\"/>\r\n      <use x=\"258.210938\" xlink:href=\"#DejaVuSans-110\"/>\r\n      <use x=\"321.589844\" xlink:href=\"#DejaVuSans-99\"/>\r\n      <use x=\"376.570312\" xlink:href=\"#DejaVuSans-111\"/>\r\n      <use x=\"437.751953\" xlink:href=\"#DejaVuSans-109\"/>\r\n      <use x=\"535.164062\" xlink:href=\"#DejaVuSans-101\"/>\r\n      <use x=\"596.6875\" xlink:href=\"#DejaVuSans-32\"/>\r\n      <use x=\"628.474609\" xlink:href=\"#DejaVuSans-67\"/>\r\n      <use x=\"698.298828\" xlink:href=\"#DejaVuSans-111\"/>\r\n      <use x=\"759.480469\" xlink:href=\"#DejaVuSans-117\"/>\r\n      <use x=\"822.859375\" xlink:href=\"#DejaVuSans-110\"/>\r\n      <use x=\"886.238281\" xlink:href=\"#DejaVuSans-116\"/>\r\n      <use x=\"925.447266\" xlink:href=\"#DejaVuSans-105\"/>\r\n      <use x=\"953.230469\" xlink:href=\"#DejaVuSans-101\"/>\r\n      <use x=\"1014.753906\" xlink:href=\"#DejaVuSans-115\"/>\r\n     </g>\r\n    </g>\r\n    <g id=\"patch_27\">\r\n     <path d=\"M 75.053125 53.594687 \r\nL 95.053125 53.594687 \r\nL 95.053125 46.594687 \r\nL 75.053125 46.594687 \r\nz\r\n\" style=\"fill:#ff7f0e;\"/>\r\n    </g>\r\n    <g id=\"text_19\">\r\n     <!-- Very Low Income Counties -->\r\n     <g transform=\"translate(103.053125 53.594687)scale(0.1 -0.1)\">\r\n      <use xlink:href=\"#DejaVuSans-86\"/>\r\n      <use x=\"60.658203\" xlink:href=\"#DejaVuSans-101\"/>\r\n      <use x=\"122.181641\" xlink:href=\"#DejaVuSans-114\"/>\r\n      <use x=\"163.294922\" xlink:href=\"#DejaVuSans-121\"/>\r\n      <use x=\"222.474609\" xlink:href=\"#DejaVuSans-32\"/>\r\n      <use x=\"254.261719\" xlink:href=\"#DejaVuSans-76\"/>\r\n      <use x=\"308.224609\" xlink:href=\"#DejaVuSans-111\"/>\r\n      <use x=\"369.40625\" xlink:href=\"#DejaVuSans-119\"/>\r\n      <use x=\"451.193359\" xlink:href=\"#DejaVuSans-32\"/>\r\n      <use x=\"482.980469\" xlink:href=\"#DejaVuSans-73\"/>\r\n      <use x=\"512.472656\" xlink:href=\"#DejaVuSans-110\"/>\r\n      <use x=\"575.851562\" xlink:href=\"#DejaVuSans-99\"/>\r\n      <use x=\"630.832031\" xlink:href=\"#DejaVuSans-111\"/>\r\n      <use x=\"692.013672\" xlink:href=\"#DejaVuSans-109\"/>\r\n      <use x=\"789.425781\" xlink:href=\"#DejaVuSans-101\"/>\r\n      <use x=\"850.949219\" xlink:href=\"#DejaVuSans-32\"/>\r\n      <use x=\"882.736328\" xlink:href=\"#DejaVuSans-67\"/>\r\n      <use x=\"952.560547\" xlink:href=\"#DejaVuSans-111\"/>\r\n      <use x=\"1013.742188\" xlink:href=\"#DejaVuSans-117\"/>\r\n      <use x=\"1077.121094\" xlink:href=\"#DejaVuSans-110\"/>\r\n      <use x=\"1140.5\" xlink:href=\"#DejaVuSans-116\"/>\r\n      <use x=\"1179.708984\" xlink:href=\"#DejaVuSans-105\"/>\r\n      <use x=\"1207.492188\" xlink:href=\"#DejaVuSans-101\"/>\r\n      <use x=\"1269.015625\" xlink:href=\"#DejaVuSans-115\"/>\r\n     </g>\r\n    </g>\r\n   </g>\r\n  </g>\r\n </g>\r\n <defs>\r\n  <clipPath id=\"pb335ab033d\">\r\n   <rect height=\"424.775\" width=\"927.65\" x=\"66.053125\" y=\"22.318125\"/>\r\n  </clipPath>\r\n </defs>\r\n</svg>\r\n",
      "image/png": "[encoded data removed]"
     },
     "metadata": {
      "needs_background": "light"
     }
    }
   ],
   "source": [
    "fig, ax = plt.subplots(figsize=(14,7))\n",
    "low_bar = ax.bar(x - width/2, cumulative_numbers_cases_lowIncome, width, label='Low Income Counties')\n",
    "verylow_bar = ax.bar(x + width/2, cumulative_numbers_cases_verylowIncome, width, label='Very Low Income Counties')\n",
    "\n",
    "ax.set_ylabel('Number of Cumulative COVID-19 cases per 100,000')\n",
    "ax.set_xlabel('Months in 2020')\n",
    "ax.set_title('COVID-19 in Very Low vs Low Income')\n",
    "ax.set_xticks(x)\n",
    "ax.set_xticklabels(date)\n",
    "plt.xticks(rotation='vertical')\n",
    "ax.legend()\n",
    "\n",
    "fig.tight_layout()\n",
    "\n",
    "plt.show()"
   ]
  },
  {
   "source": [
    "# API Call and Display of Heat Map showing \"Confirmed\" cases hot zones in Texas "
   ],
   "cell_type": "markdown",
   "metadata": {}
  },
  {
   "cell_type": "code",
   "execution_count": 409,
   "metadata": {},
   "outputs": [],
   "source": [
    "locations = Texas_ConfirmedByCounty_Covid[['lat','lon']]\n",
    "confirmed = Texas_ConfirmedByCounty_Covid['confirmed']"
   ]
  },
  {
   "cell_type": "code",
   "execution_count": 410,
   "metadata": {},
   "outputs": [
    {
     "output_type": "display_data",
     "data": {
      "text/plain": "Figure(layout=FigureLayout(height='420px', margin='0 auto 0 auto', width='1050px'))",
      "application/vnd.jupyter.widget-view+json": {
       "version_major": 2,
       "version_minor": 0,
       "model_id": "cc6c68fbb282450bb93214694ac47666"
      }
     },
     "metadata": {}
    }
   ],
   "source": [
    "zero_coor = (31.81,-95.65)\n",
    "figure_layout = {'width': '1050px', 'margin': '0 auto 0 auto'}\n",
    "# Plot Heatmap\n",
    "fig = gmaps.figure(center=zero_coor,zoom_level=5.5,layout=figure_layout,map_type=\"TERRAIN\")\n",
    "\n",
    "# Create heat layer\n",
    "heat_layer = gmaps.heatmap_layer(locations, weights=confirmed,\n",
    "                                 dissipating=False, max_intensity=.5,\n",
    "                                 point_radius=.5)\n",
    "\n",
    "# Add layer\n",
    "fig.add_layer(heat_layer)\n",
    "\n",
    "# Display figure\n",
    "fig"
   ]
  },
  {
   "cell_type": "code",
   "execution_count": 411,
   "metadata": {},
   "outputs": [
    {
     "output_type": "stream",
     "name": "stdout",
     "text": [
      "Nothing done.\n"
     ]
    }
   ],
   "source": [
    "%reset"
   ]
  },
  {
   "cell_type": "code",
   "execution_count": null,
   "metadata": {},
   "outputs": [],
   "source": []
  }
 ]
}