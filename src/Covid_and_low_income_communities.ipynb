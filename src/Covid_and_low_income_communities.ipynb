{
 "cells": [
  {
   "cell_type": "code",
   "execution_count": 106,
   "metadata": {},
   "outputs": [],
   "source": [
    "# Dependencies and Setup\n",
    "import matplotlib.pyplot as plt\n",
    "import pandas as pd\n",
    "import scipy.stats as st\n",
    "import numpy as np\n",
    "import requests as rq\n",
    "import random as rnd\n",
    "import gmaps\n",
    "import os\n",
    "import json\n",
    "import time\n",
    "\n",
    "# Import API key\n",
    "import config\n",
    "\n",
    "# Configure gmaps\n",
    "gkey = config.gkey\n",
    "gmaps.configure(api_key=gkey)"
   ]
  },
  {
   "cell_type": "code",
   "execution_count": 107,
   "metadata": {},
   "outputs": [],
   "source": [
    "notebook_path = os.getcwd()\n",
    "parent_dir = notebook_path[0:-4]"
   ]
  },
  {
   "cell_type": "code",
   "execution_count": 108,
   "metadata": {},
   "outputs": [],
   "source": [
    "dataset_filelist = [\"1_county_level_confirmed_cases.csv\",\"2_cases_and_deaths_by_county_timeseries.csv\",\"weekly-claims-by-county-twc.csv\",\"texas_county_med_income.csv\"]\n",
    "for csv in dataset_filelist:   \n",
    "    for root, dirs, files in os.walk(parent_dir):\n",
    "        if csv in files:\n",
    "            if csv == dataset_filelist[0]:\n",
    "                covid_dataset1 = (os.path.join(root, csv))\n",
    "            elif csv == dataset_filelist[1]:\n",
    "               covid_dataset2 =  (os.path.join(root, csv))\n",
    "            elif csv == dataset_filelist[2]:\n",
    "               unemployemet_dataset =  (os.path.join(root, csv))\n",
    "            else:\n",
    "                texas_median_income = (os.path.join(root, csv))"
   ]
  },
  {
   "cell_type": "code",
   "execution_count": 109,
   "metadata": {},
   "outputs": [],
   "source": [
    "ConfirmedByCounty_Covid = pd.read_csv(covid_dataset1)\n",
    "CaseDeathsBy_County_timeseries = pd.read_csv(covid_dataset2, parse_dates=['date'])\n",
    "unemployemet_dataset = pd.read_csv(unemployemet_dataset)\n",
    "texas_median_income = pd.read_csv(texas_median_income)"
   ]
  },
  {
   "cell_type": "code",
   "execution_count": 110,
   "metadata": {},
   "outputs": [
    {
     "output_type": "execute_result",
     "data": {
      "text/plain": [
       "       Median Household Income\n",
       "count               254.000000\n",
       "mean              51301.976378\n",
       "std               12220.638423\n",
       "min               30007.000000\n",
       "25%               43253.750000\n",
       "50%               48541.500000\n",
       "75%               56199.250000\n",
       "max              102858.000000"
      ],
      "text/html": "<div>\n<style scoped>\n    .dataframe tbody tr th:only-of-type {\n        vertical-align: middle;\n    }\n\n    .dataframe tbody tr th {\n        vertical-align: top;\n    }\n\n    .dataframe thead th {\n        text-align: right;\n    }\n</style>\n<table border=\"1\" class=\"dataframe\">\n  <thead>\n    <tr style=\"text-align: right;\">\n      <th></th>\n      <th>Median Household Income</th>\n    </tr>\n  </thead>\n  <tbody>\n    <tr>\n      <th>count</th>\n      <td>254.000000</td>\n    </tr>\n    <tr>\n      <th>mean</th>\n      <td>51301.976378</td>\n    </tr>\n    <tr>\n      <th>std</th>\n      <td>12220.638423</td>\n    </tr>\n    <tr>\n      <th>min</th>\n      <td>30007.000000</td>\n    </tr>\n    <tr>\n      <th>25%</th>\n      <td>43253.750000</td>\n    </tr>\n    <tr>\n      <th>50%</th>\n      <td>48541.500000</td>\n    </tr>\n    <tr>\n      <th>75%</th>\n      <td>56199.250000</td>\n    </tr>\n    <tr>\n      <th>max</th>\n      <td>102858.000000</td>\n    </tr>\n  </tbody>\n</table>\n</div>"
     },
     "metadata": {},
     "execution_count": 110
    }
   ],
   "source": [
    "texas_median_income['Median Household Income'] = texas_median_income['Median Household Income'].str.replace('$','').str.replace(',','').astype(float)\n",
    "texas_median_income.describe()"
   ]
  },
  {
   "cell_type": "code",
   "execution_count": 111,
   "metadata": {},
   "outputs": [
    {
     "output_type": "execute_result",
     "data": {
      "text/plain": [
       "       Median Household Income\n",
       "count               189.000000\n",
       "mean              46768.005291\n",
       "std                5124.925818\n",
       "min               36176.000000\n",
       "25%               42701.000000\n",
       "50%               46912.000000\n",
       "75%               50539.000000\n",
       "max               56848.000000"
      ],
      "text/html": "<div>\n<style scoped>\n    .dataframe tbody tr th:only-of-type {\n        vertical-align: middle;\n    }\n\n    .dataframe tbody tr th {\n        vertical-align: top;\n    }\n\n    .dataframe thead th {\n        text-align: right;\n    }\n</style>\n<table border=\"1\" class=\"dataframe\">\n  <thead>\n    <tr style=\"text-align: right;\">\n      <th></th>\n      <th>Median Household Income</th>\n    </tr>\n  </thead>\n  <tbody>\n    <tr>\n      <th>count</th>\n      <td>189.000000</td>\n    </tr>\n    <tr>\n      <th>mean</th>\n      <td>46768.005291</td>\n    </tr>\n    <tr>\n      <th>std</th>\n      <td>5124.925818</td>\n    </tr>\n    <tr>\n      <th>min</th>\n      <td>36176.000000</td>\n    </tr>\n    <tr>\n      <th>25%</th>\n      <td>42701.000000</td>\n    </tr>\n    <tr>\n      <th>50%</th>\n      <td>46912.000000</td>\n    </tr>\n    <tr>\n      <th>75%</th>\n      <td>50539.000000</td>\n    </tr>\n    <tr>\n      <th>max</th>\n      <td>56848.000000</td>\n    </tr>\n  </tbody>\n</table>\n</div>"
     },
     "metadata": {},
     "execution_count": 111
    }
   ],
   "source": [
    "texas_low_income = texas_median_income.loc[(texas_median_income['Median Household Income'] <= 57000) & (texas_median_income['Median Household Income'] > 36000)]\n",
    "texas_low_income.describe()"
   ]
  },
  {
   "cell_type": "code",
   "execution_count": 112,
   "metadata": {},
   "outputs": [
    {
     "output_type": "execute_result",
     "data": {
      "text/plain": [
       "       Median Household Income\n",
       "count                 9.000000\n",
       "mean              32908.000000\n",
       "std                2329.002254\n",
       "min               30007.000000\n",
       "25%               30490.000000\n",
       "50%               33160.000000\n",
       "75%               35156.000000\n",
       "max               35881.000000"
      ],
      "text/html": "<div>\n<style scoped>\n    .dataframe tbody tr th:only-of-type {\n        vertical-align: middle;\n    }\n\n    .dataframe tbody tr th {\n        vertical-align: top;\n    }\n\n    .dataframe thead th {\n        text-align: right;\n    }\n</style>\n<table border=\"1\" class=\"dataframe\">\n  <thead>\n    <tr style=\"text-align: right;\">\n      <th></th>\n      <th>Median Household Income</th>\n    </tr>\n  </thead>\n  <tbody>\n    <tr>\n      <th>count</th>\n      <td>9.000000</td>\n    </tr>\n    <tr>\n      <th>mean</th>\n      <td>32908.000000</td>\n    </tr>\n    <tr>\n      <th>std</th>\n      <td>2329.002254</td>\n    </tr>\n    <tr>\n      <th>min</th>\n      <td>30007.000000</td>\n    </tr>\n    <tr>\n      <th>25%</th>\n      <td>30490.000000</td>\n    </tr>\n    <tr>\n      <th>50%</th>\n      <td>33160.000000</td>\n    </tr>\n    <tr>\n      <th>75%</th>\n      <td>35156.000000</td>\n    </tr>\n    <tr>\n      <th>max</th>\n      <td>35881.000000</td>\n    </tr>\n  </tbody>\n</table>\n</div>"
     },
     "metadata": {},
     "execution_count": 112
    }
   ],
   "source": [
    "texas_verylow_income = texas_median_income.loc[(texas_median_income['Median Household Income'] <= 36000) & (texas_median_income['Median Household Income'] > 26000)]\n",
    "texas_verylow_income.describe()"
   ]
  },
  {
   "cell_type": "code",
   "execution_count": 113,
   "metadata": {},
   "outputs": [
    {
     "output_type": "execute_result",
     "data": {
      "text/plain": [
       "Empty DataFrame\n",
       "Columns: [County, Median Household Income]\n",
       "Index: []"
      ],
      "text/html": "<div>\n<style scoped>\n    .dataframe tbody tr th:only-of-type {\n        vertical-align: middle;\n    }\n\n    .dataframe tbody tr th {\n        vertical-align: top;\n    }\n\n    .dataframe thead th {\n        text-align: right;\n    }\n</style>\n<table border=\"1\" class=\"dataframe\">\n  <thead>\n    <tr style=\"text-align: right;\">\n      <th></th>\n      <th>County</th>\n      <th>Median Household Income</th>\n    </tr>\n  </thead>\n  <tbody>\n  </tbody>\n</table>\n</div>"
     },
     "metadata": {},
     "execution_count": 113
    }
   ],
   "source": [
    "texas_exlow_income = texas_median_income.loc[(texas_median_income['Median Household Income'] <= 26000)]\n",
    "texas_exlow_income.head()"
   ]
  },
  {
   "cell_type": "code",
   "execution_count": 114,
   "metadata": {},
   "outputs": [
    {
     "output_type": "execute_result",
     "data": {
      "text/plain": [
       "                  last_update location_type  state county_name  \\\n",
       "2599  2020-11-13 00:26:19 UTC        county  Texas    Anderson   \n",
       "2600  2020-11-13 00:26:19 UTC        county  Texas     Andrews   \n",
       "2601  2020-11-13 00:26:19 UTC        county  Texas    Angelina   \n",
       "2602  2020-11-13 00:26:19 UTC        county  Texas     Aransas   \n",
       "2603  2020-11-13 00:26:19 UTC        county  Texas      Archer   \n",
       "\n",
       "         county_name_long  fips_code        lat         lon NCHS_urbanization  \\\n",
       "2599  Anderson, Texas, US    48001.0  31.815347  -95.653548      Micropolitan   \n",
       "2600   Andrews, Texas, US    48003.0  32.304686 -102.637655      Micropolitan   \n",
       "2601  Angelina, Texas, US    48005.0  31.254573  -94.609015      Micropolitan   \n",
       "2602   Aransas, Texas, US    48007.0  28.105562  -96.999505      Medium metro   \n",
       "2603    Archer, Texas, US    48009.0  33.615700  -98.687546       Small metro   \n",
       "\n",
       "      total_population  confirmed  confirmed_per_100000  deaths  \\\n",
       "2599           57863.0       3035               5245.15      42   \n",
       "2600           17818.0        781               4383.21      11   \n",
       "2601           87607.0       2380               2716.68      93   \n",
       "2602           24763.0        369               1490.13      18   \n",
       "2603            8789.0        187               2127.66       1   \n",
       "\n",
       "      deaths_per_100000  \n",
       "2599              72.59  \n",
       "2600              61.74  \n",
       "2601             106.16  \n",
       "2602              72.69  \n",
       "2603              11.38  "
      ],
      "text/html": "<div>\n<style scoped>\n    .dataframe tbody tr th:only-of-type {\n        vertical-align: middle;\n    }\n\n    .dataframe tbody tr th {\n        vertical-align: top;\n    }\n\n    .dataframe thead th {\n        text-align: right;\n    }\n</style>\n<table border=\"1\" class=\"dataframe\">\n  <thead>\n    <tr style=\"text-align: right;\">\n      <th></th>\n      <th>last_update</th>\n      <th>location_type</th>\n      <th>state</th>\n      <th>county_name</th>\n      <th>county_name_long</th>\n      <th>fips_code</th>\n      <th>lat</th>\n      <th>lon</th>\n      <th>NCHS_urbanization</th>\n      <th>total_population</th>\n      <th>confirmed</th>\n      <th>confirmed_per_100000</th>\n      <th>deaths</th>\n      <th>deaths_per_100000</th>\n    </tr>\n  </thead>\n  <tbody>\n    <tr>\n      <th>2599</th>\n      <td>2020-11-13 00:26:19 UTC</td>\n      <td>county</td>\n      <td>Texas</td>\n      <td>Anderson</td>\n      <td>Anderson, Texas, US</td>\n      <td>48001.0</td>\n      <td>31.815347</td>\n      <td>-95.653548</td>\n      <td>Micropolitan</td>\n      <td>57863.0</td>\n      <td>3035</td>\n      <td>5245.15</td>\n      <td>42</td>\n      <td>72.59</td>\n    </tr>\n    <tr>\n      <th>2600</th>\n      <td>2020-11-13 00:26:19 UTC</td>\n      <td>county</td>\n      <td>Texas</td>\n      <td>Andrews</td>\n      <td>Andrews, Texas, US</td>\n      <td>48003.0</td>\n      <td>32.304686</td>\n      <td>-102.637655</td>\n      <td>Micropolitan</td>\n      <td>17818.0</td>\n      <td>781</td>\n      <td>4383.21</td>\n      <td>11</td>\n      <td>61.74</td>\n    </tr>\n    <tr>\n      <th>2601</th>\n      <td>2020-11-13 00:26:19 UTC</td>\n      <td>county</td>\n      <td>Texas</td>\n      <td>Angelina</td>\n      <td>Angelina, Texas, US</td>\n      <td>48005.0</td>\n      <td>31.254573</td>\n      <td>-94.609015</td>\n      <td>Micropolitan</td>\n      <td>87607.0</td>\n      <td>2380</td>\n      <td>2716.68</td>\n      <td>93</td>\n      <td>106.16</td>\n    </tr>\n    <tr>\n      <th>2602</th>\n      <td>2020-11-13 00:26:19 UTC</td>\n      <td>county</td>\n      <td>Texas</td>\n      <td>Aransas</td>\n      <td>Aransas, Texas, US</td>\n      <td>48007.0</td>\n      <td>28.105562</td>\n      <td>-96.999505</td>\n      <td>Medium metro</td>\n      <td>24763.0</td>\n      <td>369</td>\n      <td>1490.13</td>\n      <td>18</td>\n      <td>72.69</td>\n    </tr>\n    <tr>\n      <th>2603</th>\n      <td>2020-11-13 00:26:19 UTC</td>\n      <td>county</td>\n      <td>Texas</td>\n      <td>Archer</td>\n      <td>Archer, Texas, US</td>\n      <td>48009.0</td>\n      <td>33.615700</td>\n      <td>-98.687546</td>\n      <td>Small metro</td>\n      <td>8789.0</td>\n      <td>187</td>\n      <td>2127.66</td>\n      <td>1</td>\n      <td>11.38</td>\n    </tr>\n  </tbody>\n</table>\n</div>"
     },
     "metadata": {},
     "execution_count": 114
    }
   ],
   "source": [
    "Texas_ConfirmedByCounty_Covid = ConfirmedByCounty_Covid.loc[ConfirmedByCounty_Covid['state'] == 'Texas'].dropna(subset=['lat','lon'])\n",
    "Texas_ConfirmedByCounty_Covid.head()"
   ]
  },
  {
   "cell_type": "code",
   "execution_count": 115,
   "metadata": {},
   "outputs": [],
   "source": [
    "CaseDeathsBy_County_timeseries = CaseDeathsBy_County_timeseries.set_index('date')"
   ]
  },
  {
   "cell_type": "code",
   "execution_count": 116,
   "metadata": {},
   "outputs": [
    {
     "output_type": "execute_result",
     "data": {
      "text/plain": [
       "                 uid location_type  fips_code location_name  state  \\\n",
       "date                                                                 \n",
       "2020-01-22  84048001        county    48001.0      Anderson  Texas   \n",
       "2020-01-23  84048001        county    48001.0      Anderson  Texas   \n",
       "2020-01-24  84048001        county    48001.0      Anderson  Texas   \n",
       "2020-01-25  84048001        county    48001.0      Anderson  Texas   \n",
       "2020-01-26  84048001        county    48001.0      Anderson  Texas   \n",
       "\n",
       "            total_population  cumulative_cases  cumulative_cases_per_100_000  \\\n",
       "date                                                                           \n",
       "2020-01-22           57863.0                 0                           0.0   \n",
       "2020-01-23           57863.0                 0                           0.0   \n",
       "2020-01-24           57863.0                 0                           0.0   \n",
       "2020-01-25           57863.0                 0                           0.0   \n",
       "2020-01-26           57863.0                 0                           0.0   \n",
       "\n",
       "            cumulative_deaths  cumulative_deaths_per_100_000  \n",
       "date                                                          \n",
       "2020-01-22                  0                            0.0  \n",
       "2020-01-23                  0                            0.0  \n",
       "2020-01-24                  0                            0.0  \n",
       "2020-01-25                  0                            0.0  \n",
       "2020-01-26                  0                            0.0  "
      ],
      "text/html": "<div>\n<style scoped>\n    .dataframe tbody tr th:only-of-type {\n        vertical-align: middle;\n    }\n\n    .dataframe tbody tr th {\n        vertical-align: top;\n    }\n\n    .dataframe thead th {\n        text-align: right;\n    }\n</style>\n<table border=\"1\" class=\"dataframe\">\n  <thead>\n    <tr style=\"text-align: right;\">\n      <th></th>\n      <th>uid</th>\n      <th>location_type</th>\n      <th>fips_code</th>\n      <th>location_name</th>\n      <th>state</th>\n      <th>total_population</th>\n      <th>cumulative_cases</th>\n      <th>cumulative_cases_per_100_000</th>\n      <th>cumulative_deaths</th>\n      <th>cumulative_deaths_per_100_000</th>\n    </tr>\n    <tr>\n      <th>date</th>\n      <th></th>\n      <th></th>\n      <th></th>\n      <th></th>\n      <th></th>\n      <th></th>\n      <th></th>\n      <th></th>\n      <th></th>\n      <th></th>\n    </tr>\n  </thead>\n  <tbody>\n    <tr>\n      <th>2020-01-22</th>\n      <td>84048001</td>\n      <td>county</td>\n      <td>48001.0</td>\n      <td>Anderson</td>\n      <td>Texas</td>\n      <td>57863.0</td>\n      <td>0</td>\n      <td>0.0</td>\n      <td>0</td>\n      <td>0.0</td>\n    </tr>\n    <tr>\n      <th>2020-01-23</th>\n      <td>84048001</td>\n      <td>county</td>\n      <td>48001.0</td>\n      <td>Anderson</td>\n      <td>Texas</td>\n      <td>57863.0</td>\n      <td>0</td>\n      <td>0.0</td>\n      <td>0</td>\n      <td>0.0</td>\n    </tr>\n    <tr>\n      <th>2020-01-24</th>\n      <td>84048001</td>\n      <td>county</td>\n      <td>48001.0</td>\n      <td>Anderson</td>\n      <td>Texas</td>\n      <td>57863.0</td>\n      <td>0</td>\n      <td>0.0</td>\n      <td>0</td>\n      <td>0.0</td>\n    </tr>\n    <tr>\n      <th>2020-01-25</th>\n      <td>84048001</td>\n      <td>county</td>\n      <td>48001.0</td>\n      <td>Anderson</td>\n      <td>Texas</td>\n      <td>57863.0</td>\n      <td>0</td>\n      <td>0.0</td>\n      <td>0</td>\n      <td>0.0</td>\n    </tr>\n    <tr>\n      <th>2020-01-26</th>\n      <td>84048001</td>\n      <td>county</td>\n      <td>48001.0</td>\n      <td>Anderson</td>\n      <td>Texas</td>\n      <td>57863.0</td>\n      <td>0</td>\n      <td>0.0</td>\n      <td>0</td>\n      <td>0.0</td>\n    </tr>\n  </tbody>\n</table>\n</div>"
     },
     "metadata": {},
     "execution_count": 116
    }
   ],
   "source": [
    "columns_todrop = []\n",
    "Texas_CaseDeathsBy_County_timeseries = CaseDeathsBy_County_timeseries.loc[CaseDeathsBy_County_timeseries['state'] == 'Texas']\n",
    "for column in Texas_CaseDeathsBy_County_timeseries.columns:\n",
    "    if column.startswith('new'):\n",
    "        columns_todrop.append(column)\n",
    "for drop in columns_todrop:\n",
    "    Texas_CaseDeathsBy_County_timeseries = Texas_CaseDeathsBy_County_timeseries.drop(columns=drop)\n",
    "Texas_CaseDeathsBy_County_timeseries.head()"
   ]
  },
  {
   "cell_type": "code",
   "execution_count": 118,
   "metadata": {},
   "outputs": [
    {
     "output_type": "execute_result",
     "data": {
      "text/plain": [
       "                 0        1         2        3       4          5         6    \\\n",
       "County      Anderson  Andrews  Angelina  Aransas  Archer  Armstrong  Atascosa   \n",
       "10/31/2020        42       17        77       32       3          1        46   \n",
       "10/24/2020        79       17        89       22       6        NaN        36   \n",
       "10/17/2020        54       17        80       40       5          1        35   \n",
       "10/10/2020        63       30        98       18      10          2        40   \n",
       "10/3/2020         64       25       103       26       6          1        55   \n",
       "9/26/2020         64       21       100       35       5          1        56   \n",
       "9/19/2020         61       18       119       25       4        NaN        70   \n",
       "9/12/2020         66       32       107       31       5        NaN        67   \n",
       "9/5/2020          85       22       171       50       6          3        96   \n",
       "8/29/2020         91       19       170       47       4        NaN        76   \n",
       "8/22/2020         96       34       157       45       8          5        96   \n",
       "8/15/2020         84       29       188       65      12          2        97   \n",
       "8/8/2020          92       33       147       38       5          3        66   \n",
       "8/1/2020          99       36       131       48      10          1        89   \n",
       "7/25/2020        104       45       204       59      11          3       113   \n",
       "7/18/2020         85       48       235       63      18          2       143   \n",
       "7/11/2020        147       67       258       85      13          3       147   \n",
       "7/4/2020         131       75       218       92      23          1       149   \n",
       "6/27/2020        103       43       187       70      13        NaN       129   \n",
       "6/20/2020        100       68       219       58       7          3       127   \n",
       "6/13/2020        108       50       201       63      11          2       147   \n",
       "6/6/2020         115       52       252       76      17          1       133   \n",
       "5/30/2020        134       61       250       59      12          2       119   \n",
       "5/23/2020        192       71       272       74      24          2       172   \n",
       "5/16/2020        123       94       304       80      23          4       194   \n",
       "5/9/2020         153       96       273       92      20          2       190   \n",
       "5/2/2020         181      117       463      154      32          5       291   \n",
       "4/25/2020        176      133       388      109      24        NaN       265   \n",
       "4/18/2020        183      143       449      160      41          5       302   \n",
       "4/11/2020        205      165       495      155      34         15       346   \n",
       "4/4/2020         252      143       689      230      58          6       409   \n",
       "3/28/2020        180       95       452      217      42          6       325   \n",
       "3/21/2020        101       50       227       70      20          1       177   \n",
       "3/14/2020         18       16        37       10       1        NaN        31   \n",
       "3/7/2020          20        1        37        9       2          2        20   \n",
       "\n",
       "               7       8        9    ...      244         245     246  \\\n",
       "County      Austin  Bailey  Bandera  ...  Willacy  Williamson  Wilson   \n",
       "10/31/2020      28       3       23  ...       24         422      28   \n",
       "10/24/2020      23       1       13  ...       51         409      34   \n",
       "10/17/2020      26       4       24  ...       43         434      30   \n",
       "10/10/2020      32       3       11  ...       24         484      41   \n",
       "10/3/2020       37       5       18  ...       15         574      41   \n",
       "9/26/2020       30       4       22  ...       26         564      39   \n",
       "9/19/2020       29       3       25  ...       23         526      42   \n",
       "9/12/2020       42       8        4  ...       19         524      41   \n",
       "9/5/2020        45       9       41  ...       29         800      54   \n",
       "8/29/2020       41       3       20  ...       29         654      45   \n",
       "8/22/2020       40       3       18  ...       28         630      46   \n",
       "8/15/2020       39       6       25  ...       40         678      60   \n",
       "8/8/2020        31       2       29  ...       49         641      53   \n",
       "8/1/2020        47       5       29  ...       47         678      55   \n",
       "7/25/2020       67       8       28  ...       43         838      86   \n",
       "7/18/2020       65       4       28  ...       38        1024      92   \n",
       "7/11/2020       61       8       44  ...       67        1202     109   \n",
       "7/4/2020        89      10       47  ...       60        1390     109   \n",
       "6/27/2020       51       6       39  ...       55        1149      63   \n",
       "6/20/2020       56       6       34  ...       42        1052     105   \n",
       "6/13/2020       57       3       34  ...       56         985      77   \n",
       "6/6/2020        49       5       27  ...       50        1130     100   \n",
       "5/30/2020       64       5       37  ...       72        1260     115   \n",
       "5/23/2020       85       6       54  ...       81        1537     132   \n",
       "5/16/2020       82       6       46  ...       75        1563     139   \n",
       "5/9/2020        72       5       53  ...       71        2016     184   \n",
       "5/2/2020       107       8       71  ...       76        2518     219   \n",
       "4/25/2020      114      10       82  ...       71        2735     193   \n",
       "4/18/2020      120      13       80  ...      101        3738     211   \n",
       "4/11/2020      122      10       81  ...      119        4848     236   \n",
       "4/4/2020       170      13      152  ...      109        5720     280   \n",
       "3/28/2020      109      11      117  ...       82        5725     242   \n",
       "3/21/2020      100       3       51  ...       35        3810     142   \n",
       "3/14/2020       28       4        4  ...       10         253      22   \n",
       "3/7/2020        17       3        5  ...       21         203      13   \n",
       "\n",
       "                247   248   249     250    251     252     253  \n",
       "County      Winkler  Wise  Wood  Yoakum  Young  Zapata  Zavala  \n",
       "10/31/2020        7    74    31      14     16      20      11  \n",
       "10/24/2020        8    65    33       8     17      27      18  \n",
       "10/17/2020       15    45    26       6     17      27      12  \n",
       "10/10/2020       11    57    38       6     19      22      16  \n",
       "10/3/2020        12    79    45       9     11      19      16  \n",
       "9/26/2020        18    59    46       7     18      29      11  \n",
       "9/19/2020        13    59    29       5      7      23      21  \n",
       "9/12/2020         8    51    56      12     13      23      20  \n",
       "9/5/2020         19    86    83      10     22      34      18  \n",
       "8/29/2020        12    77    53      11     12      37      21  \n",
       "8/22/2020        22    82    37      10     15      34      43  \n",
       "8/15/2020        19    84    48      13     19      40      17  \n",
       "8/8/2020         14    66    68       3     18      24      18  \n",
       "8/1/2020         14    80    51       8     24      26      16  \n",
       "7/25/2020        26   104    69      13     20      32      32  \n",
       "7/18/2020        25   118    87      19     18      31      34  \n",
       "7/11/2020        35   152    78      10     29      30      45  \n",
       "7/4/2020         40   157    90      13     36      39      43  \n",
       "6/27/2020        32   142    74      16     35      61      23  \n",
       "6/20/2020        38   130    74      14     32      68      35  \n",
       "6/13/2020        44   147    57      16     23      48      25  \n",
       "6/6/2020         33   177    89      22     24      63      41  \n",
       "5/30/2020        31   178    89      18     30      59      48  \n",
       "5/23/2020        51   196    91      31     29      56      60  \n",
       "5/16/2020        35   165   123      63     46      42      45  \n",
       "5/9/2020         37   247   135      46     39      73      79  \n",
       "5/2/2020         78   321   142      63     52      89      62  \n",
       "4/25/2020        56   236   130      57     43      57      57  \n",
       "4/18/2020        48   344   160      84     60      59      41  \n",
       "4/11/2020        50   368   219      75     91      55      30  \n",
       "4/4/2020         41   457   287     101     95      71      41  \n",
       "3/28/2020        41   457   201      53     84      45      47  \n",
       "3/21/2020        15   244    73      27     31      29      27  \n",
       "3/14/2020         8    25    15      11      9       7       7  \n",
       "3/7/2020          7   123    14       2      2       7       7  \n",
       "\n",
       "[36 rows x 254 columns]"
      ],
      "text/html": "<div>\n<style scoped>\n    .dataframe tbody tr th:only-of-type {\n        vertical-align: middle;\n    }\n\n    .dataframe tbody tr th {\n        vertical-align: top;\n    }\n\n    .dataframe thead th {\n        text-align: right;\n    }\n</style>\n<table border=\"1\" class=\"dataframe\">\n  <thead>\n    <tr style=\"text-align: right;\">\n      <th></th>\n      <th>0</th>\n      <th>1</th>\n      <th>2</th>\n      <th>3</th>\n      <th>4</th>\n      <th>5</th>\n      <th>6</th>\n      <th>7</th>\n      <th>8</th>\n      <th>9</th>\n      <th>...</th>\n      <th>244</th>\n      <th>245</th>\n      <th>246</th>\n      <th>247</th>\n      <th>248</th>\n      <th>249</th>\n      <th>250</th>\n      <th>251</th>\n      <th>252</th>\n      <th>253</th>\n    </tr>\n  </thead>\n  <tbody>\n    <tr>\n      <th>County</th>\n      <td>Anderson</td>\n      <td>Andrews</td>\n      <td>Angelina</td>\n      <td>Aransas</td>\n      <td>Archer</td>\n      <td>Armstrong</td>\n      <td>Atascosa</td>\n      <td>Austin</td>\n      <td>Bailey</td>\n      <td>Bandera</td>\n      <td>...</td>\n      <td>Willacy</td>\n      <td>Williamson</td>\n      <td>Wilson</td>\n      <td>Winkler</td>\n      <td>Wise</td>\n      <td>Wood</td>\n      <td>Yoakum</td>\n      <td>Young</td>\n      <td>Zapata</td>\n      <td>Zavala</td>\n    </tr>\n    <tr>\n      <th>10/31/2020</th>\n      <td>42</td>\n      <td>17</td>\n      <td>77</td>\n      <td>32</td>\n      <td>3</td>\n      <td>1</td>\n      <td>46</td>\n      <td>28</td>\n      <td>3</td>\n      <td>23</td>\n      <td>...</td>\n      <td>24</td>\n      <td>422</td>\n      <td>28</td>\n      <td>7</td>\n      <td>74</td>\n      <td>31</td>\n      <td>14</td>\n      <td>16</td>\n      <td>20</td>\n      <td>11</td>\n    </tr>\n    <tr>\n      <th>10/24/2020</th>\n      <td>79</td>\n      <td>17</td>\n      <td>89</td>\n      <td>22</td>\n      <td>6</td>\n      <td>NaN</td>\n      <td>36</td>\n      <td>23</td>\n      <td>1</td>\n      <td>13</td>\n      <td>...</td>\n      <td>51</td>\n      <td>409</td>\n      <td>34</td>\n      <td>8</td>\n      <td>65</td>\n      <td>33</td>\n      <td>8</td>\n      <td>17</td>\n      <td>27</td>\n      <td>18</td>\n    </tr>\n    <tr>\n      <th>10/17/2020</th>\n      <td>54</td>\n      <td>17</td>\n      <td>80</td>\n      <td>40</td>\n      <td>5</td>\n      <td>1</td>\n      <td>35</td>\n      <td>26</td>\n      <td>4</td>\n      <td>24</td>\n      <td>...</td>\n      <td>43</td>\n      <td>434</td>\n      <td>30</td>\n      <td>15</td>\n      <td>45</td>\n      <td>26</td>\n      <td>6</td>\n      <td>17</td>\n      <td>27</td>\n      <td>12</td>\n    </tr>\n    <tr>\n      <th>10/10/2020</th>\n      <td>63</td>\n      <td>30</td>\n      <td>98</td>\n      <td>18</td>\n      <td>10</td>\n      <td>2</td>\n      <td>40</td>\n      <td>32</td>\n      <td>3</td>\n      <td>11</td>\n      <td>...</td>\n      <td>24</td>\n      <td>484</td>\n      <td>41</td>\n      <td>11</td>\n      <td>57</td>\n      <td>38</td>\n      <td>6</td>\n      <td>19</td>\n      <td>22</td>\n      <td>16</td>\n    </tr>\n    <tr>\n      <th>10/3/2020</th>\n      <td>64</td>\n      <td>25</td>\n      <td>103</td>\n      <td>26</td>\n      <td>6</td>\n      <td>1</td>\n      <td>55</td>\n      <td>37</td>\n      <td>5</td>\n      <td>18</td>\n      <td>...</td>\n      <td>15</td>\n      <td>574</td>\n      <td>41</td>\n      <td>12</td>\n      <td>79</td>\n      <td>45</td>\n      <td>9</td>\n      <td>11</td>\n      <td>19</td>\n      <td>16</td>\n    </tr>\n    <tr>\n      <th>9/26/2020</th>\n      <td>64</td>\n      <td>21</td>\n      <td>100</td>\n      <td>35</td>\n      <td>5</td>\n      <td>1</td>\n      <td>56</td>\n      <td>30</td>\n      <td>4</td>\n      <td>22</td>\n      <td>...</td>\n      <td>26</td>\n      <td>564</td>\n      <td>39</td>\n      <td>18</td>\n      <td>59</td>\n      <td>46</td>\n      <td>7</td>\n      <td>18</td>\n      <td>29</td>\n      <td>11</td>\n    </tr>\n    <tr>\n      <th>9/19/2020</th>\n      <td>61</td>\n      <td>18</td>\n      <td>119</td>\n      <td>25</td>\n      <td>4</td>\n      <td>NaN</td>\n      <td>70</td>\n      <td>29</td>\n      <td>3</td>\n      <td>25</td>\n      <td>...</td>\n      <td>23</td>\n      <td>526</td>\n      <td>42</td>\n      <td>13</td>\n      <td>59</td>\n      <td>29</td>\n      <td>5</td>\n      <td>7</td>\n      <td>23</td>\n      <td>21</td>\n    </tr>\n    <tr>\n      <th>9/12/2020</th>\n      <td>66</td>\n      <td>32</td>\n      <td>107</td>\n      <td>31</td>\n      <td>5</td>\n      <td>NaN</td>\n      <td>67</td>\n      <td>42</td>\n      <td>8</td>\n      <td>4</td>\n      <td>...</td>\n      <td>19</td>\n      <td>524</td>\n      <td>41</td>\n      <td>8</td>\n      <td>51</td>\n      <td>56</td>\n      <td>12</td>\n      <td>13</td>\n      <td>23</td>\n      <td>20</td>\n    </tr>\n    <tr>\n      <th>9/5/2020</th>\n      <td>85</td>\n      <td>22</td>\n      <td>171</td>\n      <td>50</td>\n      <td>6</td>\n      <td>3</td>\n      <td>96</td>\n      <td>45</td>\n      <td>9</td>\n      <td>41</td>\n      <td>...</td>\n      <td>29</td>\n      <td>800</td>\n      <td>54</td>\n      <td>19</td>\n      <td>86</td>\n      <td>83</td>\n      <td>10</td>\n      <td>22</td>\n      <td>34</td>\n      <td>18</td>\n    </tr>\n    <tr>\n      <th>8/29/2020</th>\n      <td>91</td>\n      <td>19</td>\n      <td>170</td>\n      <td>47</td>\n      <td>4</td>\n      <td>NaN</td>\n      <td>76</td>\n      <td>41</td>\n      <td>3</td>\n      <td>20</td>\n      <td>...</td>\n      <td>29</td>\n      <td>654</td>\n      <td>45</td>\n      <td>12</td>\n      <td>77</td>\n      <td>53</td>\n      <td>11</td>\n      <td>12</td>\n      <td>37</td>\n      <td>21</td>\n    </tr>\n    <tr>\n      <th>8/22/2020</th>\n      <td>96</td>\n      <td>34</td>\n      <td>157</td>\n      <td>45</td>\n      <td>8</td>\n      <td>5</td>\n      <td>96</td>\n      <td>40</td>\n      <td>3</td>\n      <td>18</td>\n      <td>...</td>\n      <td>28</td>\n      <td>630</td>\n      <td>46</td>\n      <td>22</td>\n      <td>82</td>\n      <td>37</td>\n      <td>10</td>\n      <td>15</td>\n      <td>34</td>\n      <td>43</td>\n    </tr>\n    <tr>\n      <th>8/15/2020</th>\n      <td>84</td>\n      <td>29</td>\n      <td>188</td>\n      <td>65</td>\n      <td>12</td>\n      <td>2</td>\n      <td>97</td>\n      <td>39</td>\n      <td>6</td>\n      <td>25</td>\n      <td>...</td>\n      <td>40</td>\n      <td>678</td>\n      <td>60</td>\n      <td>19</td>\n      <td>84</td>\n      <td>48</td>\n      <td>13</td>\n      <td>19</td>\n      <td>40</td>\n      <td>17</td>\n    </tr>\n    <tr>\n      <th>8/8/2020</th>\n      <td>92</td>\n      <td>33</td>\n      <td>147</td>\n      <td>38</td>\n      <td>5</td>\n      <td>3</td>\n      <td>66</td>\n      <td>31</td>\n      <td>2</td>\n      <td>29</td>\n      <td>...</td>\n      <td>49</td>\n      <td>641</td>\n      <td>53</td>\n      <td>14</td>\n      <td>66</td>\n      <td>68</td>\n      <td>3</td>\n      <td>18</td>\n      <td>24</td>\n      <td>18</td>\n    </tr>\n    <tr>\n      <th>8/1/2020</th>\n      <td>99</td>\n      <td>36</td>\n      <td>131</td>\n      <td>48</td>\n      <td>10</td>\n      <td>1</td>\n      <td>89</td>\n      <td>47</td>\n      <td>5</td>\n      <td>29</td>\n      <td>...</td>\n      <td>47</td>\n      <td>678</td>\n      <td>55</td>\n      <td>14</td>\n      <td>80</td>\n      <td>51</td>\n      <td>8</td>\n      <td>24</td>\n      <td>26</td>\n      <td>16</td>\n    </tr>\n    <tr>\n      <th>7/25/2020</th>\n      <td>104</td>\n      <td>45</td>\n      <td>204</td>\n      <td>59</td>\n      <td>11</td>\n      <td>3</td>\n      <td>113</td>\n      <td>67</td>\n      <td>8</td>\n      <td>28</td>\n      <td>...</td>\n      <td>43</td>\n      <td>838</td>\n      <td>86</td>\n      <td>26</td>\n      <td>104</td>\n      <td>69</td>\n      <td>13</td>\n      <td>20</td>\n      <td>32</td>\n      <td>32</td>\n    </tr>\n    <tr>\n      <th>7/18/2020</th>\n      <td>85</td>\n      <td>48</td>\n      <td>235</td>\n      <td>63</td>\n      <td>18</td>\n      <td>2</td>\n      <td>143</td>\n      <td>65</td>\n      <td>4</td>\n      <td>28</td>\n      <td>...</td>\n      <td>38</td>\n      <td>1024</td>\n      <td>92</td>\n      <td>25</td>\n      <td>118</td>\n      <td>87</td>\n      <td>19</td>\n      <td>18</td>\n      <td>31</td>\n      <td>34</td>\n    </tr>\n    <tr>\n      <th>7/11/2020</th>\n      <td>147</td>\n      <td>67</td>\n      <td>258</td>\n      <td>85</td>\n      <td>13</td>\n      <td>3</td>\n      <td>147</td>\n      <td>61</td>\n      <td>8</td>\n      <td>44</td>\n      <td>...</td>\n      <td>67</td>\n      <td>1202</td>\n      <td>109</td>\n      <td>35</td>\n      <td>152</td>\n      <td>78</td>\n      <td>10</td>\n      <td>29</td>\n      <td>30</td>\n      <td>45</td>\n    </tr>\n    <tr>\n      <th>7/4/2020</th>\n      <td>131</td>\n      <td>75</td>\n      <td>218</td>\n      <td>92</td>\n      <td>23</td>\n      <td>1</td>\n      <td>149</td>\n      <td>89</td>\n      <td>10</td>\n      <td>47</td>\n      <td>...</td>\n      <td>60</td>\n      <td>1390</td>\n      <td>109</td>\n      <td>40</td>\n      <td>157</td>\n      <td>90</td>\n      <td>13</td>\n      <td>36</td>\n      <td>39</td>\n      <td>43</td>\n    </tr>\n    <tr>\n      <th>6/27/2020</th>\n      <td>103</td>\n      <td>43</td>\n      <td>187</td>\n      <td>70</td>\n      <td>13</td>\n      <td>NaN</td>\n      <td>129</td>\n      <td>51</td>\n      <td>6</td>\n      <td>39</td>\n      <td>...</td>\n      <td>55</td>\n      <td>1149</td>\n      <td>63</td>\n      <td>32</td>\n      <td>142</td>\n      <td>74</td>\n      <td>16</td>\n      <td>35</td>\n      <td>61</td>\n      <td>23</td>\n    </tr>\n    <tr>\n      <th>6/20/2020</th>\n      <td>100</td>\n      <td>68</td>\n      <td>219</td>\n      <td>58</td>\n      <td>7</td>\n      <td>3</td>\n      <td>127</td>\n      <td>56</td>\n      <td>6</td>\n      <td>34</td>\n      <td>...</td>\n      <td>42</td>\n      <td>1052</td>\n      <td>105</td>\n      <td>38</td>\n      <td>130</td>\n      <td>74</td>\n      <td>14</td>\n      <td>32</td>\n      <td>68</td>\n      <td>35</td>\n    </tr>\n    <tr>\n      <th>6/13/2020</th>\n      <td>108</td>\n      <td>50</td>\n      <td>201</td>\n      <td>63</td>\n      <td>11</td>\n      <td>2</td>\n      <td>147</td>\n      <td>57</td>\n      <td>3</td>\n      <td>34</td>\n      <td>...</td>\n      <td>56</td>\n      <td>985</td>\n      <td>77</td>\n      <td>44</td>\n      <td>147</td>\n      <td>57</td>\n      <td>16</td>\n      <td>23</td>\n      <td>48</td>\n      <td>25</td>\n    </tr>\n    <tr>\n      <th>6/6/2020</th>\n      <td>115</td>\n      <td>52</td>\n      <td>252</td>\n      <td>76</td>\n      <td>17</td>\n      <td>1</td>\n      <td>133</td>\n      <td>49</td>\n      <td>5</td>\n      <td>27</td>\n      <td>...</td>\n      <td>50</td>\n      <td>1130</td>\n      <td>100</td>\n      <td>33</td>\n      <td>177</td>\n      <td>89</td>\n      <td>22</td>\n      <td>24</td>\n      <td>63</td>\n      <td>41</td>\n    </tr>\n    <tr>\n      <th>5/30/2020</th>\n      <td>134</td>\n      <td>61</td>\n      <td>250</td>\n      <td>59</td>\n      <td>12</td>\n      <td>2</td>\n      <td>119</td>\n      <td>64</td>\n      <td>5</td>\n      <td>37</td>\n      <td>...</td>\n      <td>72</td>\n      <td>1260</td>\n      <td>115</td>\n      <td>31</td>\n      <td>178</td>\n      <td>89</td>\n      <td>18</td>\n      <td>30</td>\n      <td>59</td>\n      <td>48</td>\n    </tr>\n    <tr>\n      <th>5/23/2020</th>\n      <td>192</td>\n      <td>71</td>\n      <td>272</td>\n      <td>74</td>\n      <td>24</td>\n      <td>2</td>\n      <td>172</td>\n      <td>85</td>\n      <td>6</td>\n      <td>54</td>\n      <td>...</td>\n      <td>81</td>\n      <td>1537</td>\n      <td>132</td>\n      <td>51</td>\n      <td>196</td>\n      <td>91</td>\n      <td>31</td>\n      <td>29</td>\n      <td>56</td>\n      <td>60</td>\n    </tr>\n    <tr>\n      <th>5/16/2020</th>\n      <td>123</td>\n      <td>94</td>\n      <td>304</td>\n      <td>80</td>\n      <td>23</td>\n      <td>4</td>\n      <td>194</td>\n      <td>82</td>\n      <td>6</td>\n      <td>46</td>\n      <td>...</td>\n      <td>75</td>\n      <td>1563</td>\n      <td>139</td>\n      <td>35</td>\n      <td>165</td>\n      <td>123</td>\n      <td>63</td>\n      <td>46</td>\n      <td>42</td>\n      <td>45</td>\n    </tr>\n    <tr>\n      <th>5/9/2020</th>\n      <td>153</td>\n      <td>96</td>\n      <td>273</td>\n      <td>92</td>\n      <td>20</td>\n      <td>2</td>\n      <td>190</td>\n      <td>72</td>\n      <td>5</td>\n      <td>53</td>\n      <td>...</td>\n      <td>71</td>\n      <td>2016</td>\n      <td>184</td>\n      <td>37</td>\n      <td>247</td>\n      <td>135</td>\n      <td>46</td>\n      <td>39</td>\n      <td>73</td>\n      <td>79</td>\n    </tr>\n    <tr>\n      <th>5/2/2020</th>\n      <td>181</td>\n      <td>117</td>\n      <td>463</td>\n      <td>154</td>\n      <td>32</td>\n      <td>5</td>\n      <td>291</td>\n      <td>107</td>\n      <td>8</td>\n      <td>71</td>\n      <td>...</td>\n      <td>76</td>\n      <td>2518</td>\n      <td>219</td>\n      <td>78</td>\n      <td>321</td>\n      <td>142</td>\n      <td>63</td>\n      <td>52</td>\n      <td>89</td>\n      <td>62</td>\n    </tr>\n    <tr>\n      <th>4/25/2020</th>\n      <td>176</td>\n      <td>133</td>\n      <td>388</td>\n      <td>109</td>\n      <td>24</td>\n      <td>NaN</td>\n      <td>265</td>\n      <td>114</td>\n      <td>10</td>\n      <td>82</td>\n      <td>...</td>\n      <td>71</td>\n      <td>2735</td>\n      <td>193</td>\n      <td>56</td>\n      <td>236</td>\n      <td>130</td>\n      <td>57</td>\n      <td>43</td>\n      <td>57</td>\n      <td>57</td>\n    </tr>\n    <tr>\n      <th>4/18/2020</th>\n      <td>183</td>\n      <td>143</td>\n      <td>449</td>\n      <td>160</td>\n      <td>41</td>\n      <td>5</td>\n      <td>302</td>\n      <td>120</td>\n      <td>13</td>\n      <td>80</td>\n      <td>...</td>\n      <td>101</td>\n      <td>3738</td>\n      <td>211</td>\n      <td>48</td>\n      <td>344</td>\n      <td>160</td>\n      <td>84</td>\n      <td>60</td>\n      <td>59</td>\n      <td>41</td>\n    </tr>\n    <tr>\n      <th>4/11/2020</th>\n      <td>205</td>\n      <td>165</td>\n      <td>495</td>\n      <td>155</td>\n      <td>34</td>\n      <td>15</td>\n      <td>346</td>\n      <td>122</td>\n      <td>10</td>\n      <td>81</td>\n      <td>...</td>\n      <td>119</td>\n      <td>4848</td>\n      <td>236</td>\n      <td>50</td>\n      <td>368</td>\n      <td>219</td>\n      <td>75</td>\n      <td>91</td>\n      <td>55</td>\n      <td>30</td>\n    </tr>\n    <tr>\n      <th>4/4/2020</th>\n      <td>252</td>\n      <td>143</td>\n      <td>689</td>\n      <td>230</td>\n      <td>58</td>\n      <td>6</td>\n      <td>409</td>\n      <td>170</td>\n      <td>13</td>\n      <td>152</td>\n      <td>...</td>\n      <td>109</td>\n      <td>5720</td>\n      <td>280</td>\n      <td>41</td>\n      <td>457</td>\n      <td>287</td>\n      <td>101</td>\n      <td>95</td>\n      <td>71</td>\n      <td>41</td>\n    </tr>\n    <tr>\n      <th>3/28/2020</th>\n      <td>180</td>\n      <td>95</td>\n      <td>452</td>\n      <td>217</td>\n      <td>42</td>\n      <td>6</td>\n      <td>325</td>\n      <td>109</td>\n      <td>11</td>\n      <td>117</td>\n      <td>...</td>\n      <td>82</td>\n      <td>5725</td>\n      <td>242</td>\n      <td>41</td>\n      <td>457</td>\n      <td>201</td>\n      <td>53</td>\n      <td>84</td>\n      <td>45</td>\n      <td>47</td>\n    </tr>\n    <tr>\n      <th>3/21/2020</th>\n      <td>101</td>\n      <td>50</td>\n      <td>227</td>\n      <td>70</td>\n      <td>20</td>\n      <td>1</td>\n      <td>177</td>\n      <td>100</td>\n      <td>3</td>\n      <td>51</td>\n      <td>...</td>\n      <td>35</td>\n      <td>3810</td>\n      <td>142</td>\n      <td>15</td>\n      <td>244</td>\n      <td>73</td>\n      <td>27</td>\n      <td>31</td>\n      <td>29</td>\n      <td>27</td>\n    </tr>\n    <tr>\n      <th>3/14/2020</th>\n      <td>18</td>\n      <td>16</td>\n      <td>37</td>\n      <td>10</td>\n      <td>1</td>\n      <td>NaN</td>\n      <td>31</td>\n      <td>28</td>\n      <td>4</td>\n      <td>4</td>\n      <td>...</td>\n      <td>10</td>\n      <td>253</td>\n      <td>22</td>\n      <td>8</td>\n      <td>25</td>\n      <td>15</td>\n      <td>11</td>\n      <td>9</td>\n      <td>7</td>\n      <td>7</td>\n    </tr>\n    <tr>\n      <th>3/7/2020</th>\n      <td>20</td>\n      <td>1</td>\n      <td>37</td>\n      <td>9</td>\n      <td>2</td>\n      <td>2</td>\n      <td>20</td>\n      <td>17</td>\n      <td>3</td>\n      <td>5</td>\n      <td>...</td>\n      <td>21</td>\n      <td>203</td>\n      <td>13</td>\n      <td>7</td>\n      <td>123</td>\n      <td>14</td>\n      <td>2</td>\n      <td>2</td>\n      <td>7</td>\n      <td>7</td>\n    </tr>\n  </tbody>\n</table>\n<p>36 rows × 254 columns</p>\n</div>"
     },
     "metadata": {},
     "execution_count": 118
    }
   ],
   "source": [
    "test_copy_unemployment = unemployemet_dataset.copy()\n",
    "test_copy_unemployment = test_copy_unemployment.transpose()\n",
    "test_copy_unemployment"
   ]
  },
  {
   "cell_type": "code",
   "execution_count": 119,
   "metadata": {},
   "outputs": [],
   "source": [
    "locations = Texas_ConfirmedByCounty_Covid[['lat','lon']]\n",
    "confirmed = Texas_ConfirmedByCounty_Covid['confirmed']"
   ]
  },
  {
   "cell_type": "code",
   "execution_count": 120,
   "metadata": {},
   "outputs": [
    {
     "output_type": "display_data",
     "data": {
      "text/plain": "Figure(layout=FigureLayout(height='420px', margin='0 auto 0 auto', width='1050px'))",
      "application/vnd.jupyter.widget-view+json": {
       "version_major": 2,
       "version_minor": 0,
       "model_id": "7fcd0080e3924b93a5f70e9518d14417"
      }
     },
     "metadata": {}
    }
   ],
   "source": [
    "zero_coor = (31.81,-95.65)\n",
    "figure_layout = {'width': '1050px', 'margin': '0 auto 0 auto'}\n",
    "# Plot Heatmap\n",
    "fig = gmaps.figure(center=zero_coor,zoom_level=5.5,layout=figure_layout,map_type=\"TERRAIN\")\n",
    "\n",
    "# Create heat layer\n",
    "heat_layer = gmaps.heatmap_layer(locations, weights=confirmed,\n",
    "                                 dissipating=False, max_intensity=.5,\n",
    "                                 point_radius=.5)\n",
    "\n",
    "# Add layer\n",
    "fig.add_layer(heat_layer)\n",
    "\n",
    "# Display figure\n",
    "fig"
   ]
  },
  {
   "cell_type": "code",
   "execution_count": null,
   "metadata": {},
   "outputs": [],
   "source": [
    "%reset"
   ]
  },
  {
   "cell_type": "code",
   "execution_count": null,
   "metadata": {},
   "outputs": [],
   "source": []
  }
 ],
 "metadata": {
  "kernelspec": {
   "display_name": "Python 3",
   "language": "python",
   "name": "python3"
  },
  "language_info": {
   "codemirror_mode": {
    "name": "ipython",
    "version": 3
   },
   "file_extension": ".py",
   "mimetype": "text/x-python",
   "name": "python",
   "nbconvert_exporter": "python",
   "pygments_lexer": "ipython3",
   "version": "3.8.3-final"
  }
 },
 "nbformat": 4,
 "nbformat_minor": 4
}