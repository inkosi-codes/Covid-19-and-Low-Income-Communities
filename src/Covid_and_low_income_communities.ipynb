{
 "cells": [
  {
   "source": [
    "## Create Dependencies"
   ],
   "cell_type": "markdown",
   "metadata": {}
  },
  {
   "cell_type": "code",
   "execution_count": 96,
   "metadata": {},
   "outputs": [],
   "source": [
    "# Dependencies and Setup\n",
    "import matplotlib.pyplot as plt\n",
    "import pandas as pd\n",
    "import scipy.stats as st\n",
    "import numpy as np\n",
    "import requests as rq\n",
    "import random as rnd\n",
    "import gmaps\n",
    "import os\n",
    "import io\n",
    "import json\n",
    "import time\n",
    "\n",
    "# Import API key\n",
    "#import config\n",
    "\n",
    "# Configure gmaps\n",
    "#gkey = config.gkey\n",
    "#gmaps.configure(api_key=gkey)"
   ]
  },
  {
   "source": [
    "## Create and set the path"
   ],
   "cell_type": "markdown",
   "metadata": {}
  },
  {
   "cell_type": "code",
   "execution_count": 97,
   "metadata": {},
   "outputs": [],
   "source": [
    "notebook_path = os.getcwd()\n",
    "parent_dir = notebook_path[0:-4]"
   ]
  },
  {
   "source": [
    "## Store csv filenames. Iterate through the filename list and get csv from path and store in variables"
   ],
   "cell_type": "markdown",
   "metadata": {}
  },
  {
   "cell_type": "code",
   "execution_count": 98,
   "metadata": {},
   "outputs": [],
   "source": [
    "dataset_filelist = [\"1_county_level_confirmed_cases.csv\",\"2_cases_and_deaths_by_county_timeseries.csv\",\"weekly-claims-by-county-twc.csv\",\"texas_county_med_income.csv\"]\n",
    "for csv in dataset_filelist:   \n",
    "    for root, dirs, files in os.walk(parent_dir):\n",
    "        if csv in files:\n",
    "            if csv == dataset_filelist[0]:\n",
    "                covid_dataset1 = (os.path.join(root, csv))\n",
    "            elif csv == dataset_filelist[1]:\n",
    "               covid_dataset2 =  (os.path.join(root, csv))\n",
    "            elif csv == dataset_filelist[2]:\n",
    "               unemployment_dataset =  (os.path.join(root, csv))\n",
    "            else:\n",
    "                texas_median_income = (os.path.join(root, csv))"
   ]
  },
  {
   "source": [
    "## Use pandas and read contents of csv into a DataFrame"
   ],
   "cell_type": "markdown",
   "metadata": {}
  },
  {
   "cell_type": "code",
   "execution_count": 99,
   "metadata": {},
   "outputs": [],
   "source": [
    "ConfirmedByCounty_Covid = pd.read_csv(covid_dataset1)\n",
    "CaseDeathsBy_County_timeseries = pd.read_csv(covid_dataset2, parse_dates=['date'])\n",
    "unemployment_dataset = pd.read_csv(unemployment_dataset)\n",
    "texas_median_income = pd.read_csv(texas_median_income)"
   ]
  },
  {
   "source": [
    "## Remove (\"$\",\",\") characters from the Texas Median Income dataset and convert to float"
   ],
   "cell_type": "markdown",
   "metadata": {}
  },
  {
   "cell_type": "code",
   "execution_count": 100,
   "metadata": {},
   "outputs": [],
   "source": [
    "texas_median_income['Median Household Income'] = texas_median_income['Median Household Income'].str.replace('$','').str.replace(',','').astype(float)"
   ]
  },
  {
   "cell_type": "code",
   "execution_count": 101,
   "metadata": {},
   "outputs": [
    {
     "output_type": "execute_result",
     "data": {
      "text/plain": [
       "     County  Median Household Income\n",
       "0  Anderson                  45969.0\n",
       "1   Andrews                  84946.0\n",
       "2  Angelina                  46653.0\n",
       "3   Aransas                  46912.0\n",
       "4    Archer                  61190.0"
      ],
      "text/html": "<div>\n<style scoped>\n    .dataframe tbody tr th:only-of-type {\n        vertical-align: middle;\n    }\n\n    .dataframe tbody tr th {\n        vertical-align: top;\n    }\n\n    .dataframe thead th {\n        text-align: right;\n    }\n</style>\n<table border=\"1\" class=\"dataframe\">\n  <thead>\n    <tr style=\"text-align: right;\">\n      <th></th>\n      <th>County</th>\n      <th>Median Household Income</th>\n    </tr>\n  </thead>\n  <tbody>\n    <tr>\n      <th>0</th>\n      <td>Anderson</td>\n      <td>45969.0</td>\n    </tr>\n    <tr>\n      <th>1</th>\n      <td>Andrews</td>\n      <td>84946.0</td>\n    </tr>\n    <tr>\n      <th>2</th>\n      <td>Angelina</td>\n      <td>46653.0</td>\n    </tr>\n    <tr>\n      <th>3</th>\n      <td>Aransas</td>\n      <td>46912.0</td>\n    </tr>\n    <tr>\n      <th>4</th>\n      <td>Archer</td>\n      <td>61190.0</td>\n    </tr>\n  </tbody>\n</table>\n</div>"
     },
     "metadata": {},
     "execution_count": 101
    }
   ],
   "source": [
    "texas_median_income.head()"
   ]
  },
  {
   "cell_type": "code",
   "execution_count": 102,
   "metadata": {},
   "outputs": [
    {
     "output_type": "execute_result",
     "data": {
      "text/plain": [
       "       Median Household Income\n",
       "count                56.000000\n",
       "mean              69560.303571\n",
       "std               11444.745846\n",
       "min               57052.000000\n",
       "25%               60789.500000\n",
       "50%               66080.000000\n",
       "75%               76322.000000\n",
       "max              102858.000000"
      ],
      "text/html": "<div>\n<style scoped>\n    .dataframe tbody tr th:only-of-type {\n        vertical-align: middle;\n    }\n\n    .dataframe tbody tr th {\n        vertical-align: top;\n    }\n\n    .dataframe thead th {\n        text-align: right;\n    }\n</style>\n<table border=\"1\" class=\"dataframe\">\n  <thead>\n    <tr style=\"text-align: right;\">\n      <th></th>\n      <th>Median Household Income</th>\n    </tr>\n  </thead>\n  <tbody>\n    <tr>\n      <th>count</th>\n      <td>56.000000</td>\n    </tr>\n    <tr>\n      <th>mean</th>\n      <td>69560.303571</td>\n    </tr>\n    <tr>\n      <th>std</th>\n      <td>11444.745846</td>\n    </tr>\n    <tr>\n      <th>min</th>\n      <td>57052.000000</td>\n    </tr>\n    <tr>\n      <th>25%</th>\n      <td>60789.500000</td>\n    </tr>\n    <tr>\n      <th>50%</th>\n      <td>66080.000000</td>\n    </tr>\n    <tr>\n      <th>75%</th>\n      <td>76322.000000</td>\n    </tr>\n    <tr>\n      <th>max</th>\n      <td>102858.000000</td>\n    </tr>\n  </tbody>\n</table>\n</div>"
     },
     "metadata": {},
     "execution_count": 102
    }
   ],
   "source": [
    "texas_low_income = texas_median_income.loc[(texas_median_income['Median Household Income'] > 57000)]\n",
    "texas_low_income.describe()"
   ]
  },
  {
   "source": [
    "## Incomes that qualify as low imcome per HUD data. Less than or equal to 57K but greater than 36K"
   ],
   "cell_type": "markdown",
   "metadata": {}
  },
  {
   "cell_type": "code",
   "execution_count": 103,
   "metadata": {},
   "outputs": [
    {
     "output_type": "execute_result",
     "data": {
      "text/plain": [
       "     County  Median Household Income\n",
       "0  Anderson                  45969.0\n",
       "2  Angelina                  46653.0\n",
       "3   Aransas                  46912.0\n",
       "6  Atascosa                  50594.0\n",
       "8    Bailey                  45051.0"
      ],
      "text/html": "<div>\n<style scoped>\n    .dataframe tbody tr th:only-of-type {\n        vertical-align: middle;\n    }\n\n    .dataframe tbody tr th {\n        vertical-align: top;\n    }\n\n    .dataframe thead th {\n        text-align: right;\n    }\n</style>\n<table border=\"1\" class=\"dataframe\">\n  <thead>\n    <tr style=\"text-align: right;\">\n      <th></th>\n      <th>County</th>\n      <th>Median Household Income</th>\n    </tr>\n  </thead>\n  <tbody>\n    <tr>\n      <th>0</th>\n      <td>Anderson</td>\n      <td>45969.0</td>\n    </tr>\n    <tr>\n      <th>2</th>\n      <td>Angelina</td>\n      <td>46653.0</td>\n    </tr>\n    <tr>\n      <th>3</th>\n      <td>Aransas</td>\n      <td>46912.0</td>\n    </tr>\n    <tr>\n      <th>6</th>\n      <td>Atascosa</td>\n      <td>50594.0</td>\n    </tr>\n    <tr>\n      <th>8</th>\n      <td>Bailey</td>\n      <td>45051.0</td>\n    </tr>\n  </tbody>\n</table>\n</div>"
     },
     "metadata": {},
     "execution_count": 103
    }
   ],
   "source": [
    "texas_low_income = texas_median_income.loc[(texas_median_income['Median Household Income'] <= 57000) & (texas_median_income['Median Household Income'] > 36000)]\n",
    "texas_low_income.head()"
   ]
  },
  {
   "source": [
    "## Incomes that qualify as very low imcome per HUD data. Less than or equal to 36K but greater than 26K"
   ],
   "cell_type": "markdown",
   "metadata": {}
  },
  {
   "cell_type": "code",
   "execution_count": 104,
   "metadata": {},
   "outputs": [
    {
     "output_type": "execute_result",
     "data": {
      "text/plain": [
       "       County  Median Household Income\n",
       "23     Brooks                  30116.0\n",
       "65      Duval                  35156.0\n",
       "95       Hall                  32597.0\n",
       "161  Maverick                  35594.0\n",
       "163    Menard                  35881.0"
      ],
      "text/html": "<div>\n<style scoped>\n    .dataframe tbody tr th:only-of-type {\n        vertical-align: middle;\n    }\n\n    .dataframe tbody tr th {\n        vertical-align: top;\n    }\n\n    .dataframe thead th {\n        text-align: right;\n    }\n</style>\n<table border=\"1\" class=\"dataframe\">\n  <thead>\n    <tr style=\"text-align: right;\">\n      <th></th>\n      <th>County</th>\n      <th>Median Household Income</th>\n    </tr>\n  </thead>\n  <tbody>\n    <tr>\n      <th>23</th>\n      <td>Brooks</td>\n      <td>30116.0</td>\n    </tr>\n    <tr>\n      <th>65</th>\n      <td>Duval</td>\n      <td>35156.0</td>\n    </tr>\n    <tr>\n      <th>95</th>\n      <td>Hall</td>\n      <td>32597.0</td>\n    </tr>\n    <tr>\n      <th>161</th>\n      <td>Maverick</td>\n      <td>35594.0</td>\n    </tr>\n    <tr>\n      <th>163</th>\n      <td>Menard</td>\n      <td>35881.0</td>\n    </tr>\n  </tbody>\n</table>\n</div>"
     },
     "metadata": {},
     "execution_count": 104
    }
   ],
   "source": [
    "texas_verylow_income = texas_median_income.loc[(texas_median_income['Median Household Income'] <= 36000) & (texas_median_income['Median Household Income'] > 26000)]\n",
    "texas_verylow_income.head()"
   ]
  },
  {
   "source": [
    "## Covid-19 Dataset that gives most recent case and death numbers as of 2020-11-13\n",
    "* Cleansed Data to get rid of one row in Latitude and Longitude that had NaN"
   ],
   "cell_type": "markdown",
   "metadata": {}
  },
  {
   "cell_type": "code",
   "execution_count": 105,
   "metadata": {},
   "outputs": [
    {
     "output_type": "execute_result",
     "data": {
      "text/plain": [
       "                  last_update location_type  state county_name  \\\n",
       "2599  2020-11-13 00:26:19 UTC        county  Texas    Anderson   \n",
       "2600  2020-11-13 00:26:19 UTC        county  Texas     Andrews   \n",
       "2601  2020-11-13 00:26:19 UTC        county  Texas    Angelina   \n",
       "2602  2020-11-13 00:26:19 UTC        county  Texas     Aransas   \n",
       "2603  2020-11-13 00:26:19 UTC        county  Texas      Archer   \n",
       "\n",
       "         county_name_long  fips_code        lat         lon NCHS_urbanization  \\\n",
       "2599  Anderson, Texas, US    48001.0  31.815347  -95.653548      Micropolitan   \n",
       "2600   Andrews, Texas, US    48003.0  32.304686 -102.637655      Micropolitan   \n",
       "2601  Angelina, Texas, US    48005.0  31.254573  -94.609015      Micropolitan   \n",
       "2602   Aransas, Texas, US    48007.0  28.105562  -96.999505      Medium metro   \n",
       "2603    Archer, Texas, US    48009.0  33.615700  -98.687546       Small metro   \n",
       "\n",
       "      total_population  confirmed  confirmed_per_100000  deaths  \\\n",
       "2599           57863.0       3035               5245.15      42   \n",
       "2600           17818.0        781               4383.21      11   \n",
       "2601           87607.0       2380               2716.68      93   \n",
       "2602           24763.0        369               1490.13      18   \n",
       "2603            8789.0        187               2127.66       1   \n",
       "\n",
       "      deaths_per_100000  \n",
       "2599              72.59  \n",
       "2600              61.74  \n",
       "2601             106.16  \n",
       "2602              72.69  \n",
       "2603              11.38  "
      ],
      "text/html": "<div>\n<style scoped>\n    .dataframe tbody tr th:only-of-type {\n        vertical-align: middle;\n    }\n\n    .dataframe tbody tr th {\n        vertical-align: top;\n    }\n\n    .dataframe thead th {\n        text-align: right;\n    }\n</style>\n<table border=\"1\" class=\"dataframe\">\n  <thead>\n    <tr style=\"text-align: right;\">\n      <th></th>\n      <th>last_update</th>\n      <th>location_type</th>\n      <th>state</th>\n      <th>county_name</th>\n      <th>county_name_long</th>\n      <th>fips_code</th>\n      <th>lat</th>\n      <th>lon</th>\n      <th>NCHS_urbanization</th>\n      <th>total_population</th>\n      <th>confirmed</th>\n      <th>confirmed_per_100000</th>\n      <th>deaths</th>\n      <th>deaths_per_100000</th>\n    </tr>\n  </thead>\n  <tbody>\n    <tr>\n      <th>2599</th>\n      <td>2020-11-13 00:26:19 UTC</td>\n      <td>county</td>\n      <td>Texas</td>\n      <td>Anderson</td>\n      <td>Anderson, Texas, US</td>\n      <td>48001.0</td>\n      <td>31.815347</td>\n      <td>-95.653548</td>\n      <td>Micropolitan</td>\n      <td>57863.0</td>\n      <td>3035</td>\n      <td>5245.15</td>\n      <td>42</td>\n      <td>72.59</td>\n    </tr>\n    <tr>\n      <th>2600</th>\n      <td>2020-11-13 00:26:19 UTC</td>\n      <td>county</td>\n      <td>Texas</td>\n      <td>Andrews</td>\n      <td>Andrews, Texas, US</td>\n      <td>48003.0</td>\n      <td>32.304686</td>\n      <td>-102.637655</td>\n      <td>Micropolitan</td>\n      <td>17818.0</td>\n      <td>781</td>\n      <td>4383.21</td>\n      <td>11</td>\n      <td>61.74</td>\n    </tr>\n    <tr>\n      <th>2601</th>\n      <td>2020-11-13 00:26:19 UTC</td>\n      <td>county</td>\n      <td>Texas</td>\n      <td>Angelina</td>\n      <td>Angelina, Texas, US</td>\n      <td>48005.0</td>\n      <td>31.254573</td>\n      <td>-94.609015</td>\n      <td>Micropolitan</td>\n      <td>87607.0</td>\n      <td>2380</td>\n      <td>2716.68</td>\n      <td>93</td>\n      <td>106.16</td>\n    </tr>\n    <tr>\n      <th>2602</th>\n      <td>2020-11-13 00:26:19 UTC</td>\n      <td>county</td>\n      <td>Texas</td>\n      <td>Aransas</td>\n      <td>Aransas, Texas, US</td>\n      <td>48007.0</td>\n      <td>28.105562</td>\n      <td>-96.999505</td>\n      <td>Medium metro</td>\n      <td>24763.0</td>\n      <td>369</td>\n      <td>1490.13</td>\n      <td>18</td>\n      <td>72.69</td>\n    </tr>\n    <tr>\n      <th>2603</th>\n      <td>2020-11-13 00:26:19 UTC</td>\n      <td>county</td>\n      <td>Texas</td>\n      <td>Archer</td>\n      <td>Archer, Texas, US</td>\n      <td>48009.0</td>\n      <td>33.615700</td>\n      <td>-98.687546</td>\n      <td>Small metro</td>\n      <td>8789.0</td>\n      <td>187</td>\n      <td>2127.66</td>\n      <td>1</td>\n      <td>11.38</td>\n    </tr>\n  </tbody>\n</table>\n</div>"
     },
     "metadata": {},
     "execution_count": 105
    }
   ],
   "source": [
    "Texas_ConfirmedByCounty_Covid = ConfirmedByCounty_Covid.loc[ConfirmedByCounty_Covid['state'] == 'Texas'].dropna(subset=['lat','lon'])\n",
    "Texas_ConfirmedByCounty_Covid.head()"
   ]
  },
  {
   "cell_type": "code",
   "execution_count": 75,
   "metadata": {},
   "outputs": [],
   "source": [
    "Texas_ConfirmedByCounty_Covid = Texas_ConfirmedByCounty_Covid.drop(columns=[\"location_type\",\"state\",\"county_name_long\",\"fips_code\"])"
   ]
  },
  {
   "cell_type": "code",
   "execution_count": 106,
   "metadata": {},
   "outputs": [
    {
     "output_type": "execute_result",
     "data": {
      "text/plain": [
       "NCHS_urbanization\n",
       "Large central metro      6\n",
       "Large fringe metro      29\n",
       "Medium metro            25\n",
       "Micropolitan            46\n",
       "Non-core               126\n",
       "Small metro             22\n",
       "Name: county_name, dtype: int64"
      ]
     },
     "metadata": {},
     "execution_count": 106
    }
   ],
   "source": [
    "covid_cumlative_groupby = Texas_ConfirmedByCounty_Covid.groupby('NCHS_urbanization')\n",
    "covid_cumlative_groupby['county_name'].count()"
   ]
  },
  {
   "cell_type": "code",
   "execution_count": 77,
   "metadata": {},
   "outputs": [
    {
     "output_type": "execute_result",
     "data": {
      "text/plain": [
       "                  last_update county_name        lat        lon  \\\n",
       "2699  2020-11-17 22:25:35 UTC      Harris  29.858649 -95.393395   \n",
       "2655  2020-11-17 22:25:35 UTC      Dallas  32.766706 -96.777960   \n",
       "2818  2020-11-17 22:25:35 UTC     Tarrant  32.771438 -97.291016   \n",
       "2613  2020-11-17 22:25:35 UTC       Bexar  29.449287 -98.520197   \n",
       "2825  2020-11-17 22:25:35 UTC      Travis  30.334320 -97.785356   \n",
       "2641  2020-11-17 22:25:35 UTC      Collin  33.188201 -96.572644   \n",
       "\n",
       "        NCHS_urbanization  total_population  confirmed  confirmed_per_100000  \\\n",
       "2699  Large central metro         4602523.0     175414               3811.26   \n",
       "2655  Large central metro         2586552.0     109022               4214.95   \n",
       "2818  Large central metro         2019977.0      83647               4140.99   \n",
       "2613  Large central metro         1925865.0      70236               3646.98   \n",
       "2825  Large central metro         1203166.0      34769               2889.79   \n",
       "2641  Large central metro          944350.0      21665               2294.17   \n",
       "\n",
       "      deaths  deaths_per_100000  \n",
       "2699    2910              63.23  \n",
       "2655    1383              53.47  \n",
       "2818     929              45.99  \n",
       "2613    1451              75.34  \n",
       "2825     466              38.73  \n",
       "2641     218              23.08  "
      ],
      "text/html": "<div>\n<style scoped>\n    .dataframe tbody tr th:only-of-type {\n        vertical-align: middle;\n    }\n\n    .dataframe tbody tr th {\n        vertical-align: top;\n    }\n\n    .dataframe thead th {\n        text-align: right;\n    }\n</style>\n<table border=\"1\" class=\"dataframe\">\n  <thead>\n    <tr style=\"text-align: right;\">\n      <th></th>\n      <th>last_update</th>\n      <th>county_name</th>\n      <th>lat</th>\n      <th>lon</th>\n      <th>NCHS_urbanization</th>\n      <th>total_population</th>\n      <th>confirmed</th>\n      <th>confirmed_per_100000</th>\n      <th>deaths</th>\n      <th>deaths_per_100000</th>\n    </tr>\n  </thead>\n  <tbody>\n    <tr>\n      <th>2699</th>\n      <td>2020-11-17 22:25:35 UTC</td>\n      <td>Harris</td>\n      <td>29.858649</td>\n      <td>-95.393395</td>\n      <td>Large central metro</td>\n      <td>4602523.0</td>\n      <td>175414</td>\n      <td>3811.26</td>\n      <td>2910</td>\n      <td>63.23</td>\n    </tr>\n    <tr>\n      <th>2655</th>\n      <td>2020-11-17 22:25:35 UTC</td>\n      <td>Dallas</td>\n      <td>32.766706</td>\n      <td>-96.777960</td>\n      <td>Large central metro</td>\n      <td>2586552.0</td>\n      <td>109022</td>\n      <td>4214.95</td>\n      <td>1383</td>\n      <td>53.47</td>\n    </tr>\n    <tr>\n      <th>2818</th>\n      <td>2020-11-17 22:25:35 UTC</td>\n      <td>Tarrant</td>\n      <td>32.771438</td>\n      <td>-97.291016</td>\n      <td>Large central metro</td>\n      <td>2019977.0</td>\n      <td>83647</td>\n      <td>4140.99</td>\n      <td>929</td>\n      <td>45.99</td>\n    </tr>\n    <tr>\n      <th>2613</th>\n      <td>2020-11-17 22:25:35 UTC</td>\n      <td>Bexar</td>\n      <td>29.449287</td>\n      <td>-98.520197</td>\n      <td>Large central metro</td>\n      <td>1925865.0</td>\n      <td>70236</td>\n      <td>3646.98</td>\n      <td>1451</td>\n      <td>75.34</td>\n    </tr>\n    <tr>\n      <th>2825</th>\n      <td>2020-11-17 22:25:35 UTC</td>\n      <td>Travis</td>\n      <td>30.334320</td>\n      <td>-97.785356</td>\n      <td>Large central metro</td>\n      <td>1203166.0</td>\n      <td>34769</td>\n      <td>2889.79</td>\n      <td>466</td>\n      <td>38.73</td>\n    </tr>\n    <tr>\n      <th>2641</th>\n      <td>2020-11-17 22:25:35 UTC</td>\n      <td>Collin</td>\n      <td>33.188201</td>\n      <td>-96.572644</td>\n      <td>Large central metro</td>\n      <td>944350.0</td>\n      <td>21665</td>\n      <td>2294.17</td>\n      <td>218</td>\n      <td>23.08</td>\n    </tr>\n  </tbody>\n</table>\n</div>"
     },
     "metadata": {},
     "execution_count": 77
    }
   ],
   "source": [
    "Texas_ConfirmedByCounty_Covid.loc[Texas_ConfirmedByCounty_Covid['NCHS_urbanization'] == 'Large central metro'].sort_values('total_population',ascending=False)"
   ]
  },
  {
   "cell_type": "code",
   "execution_count": 107,
   "metadata": {},
   "outputs": [
    {
     "output_type": "execute_result",
     "data": {
      "text/plain": [
       "<matplotlib.axes._subplots.AxesSubplot at 0x2938b3a5e20>"
      ]
     },
     "metadata": {},
     "execution_count": 107
    },
    {
     "output_type": "display_data",
     "data": {
      "text/plain": "<Figure size 432x288 with 1 Axes>",
      "image/svg+xml": "<?xml version=\"1.0\" encoding=\"utf-8\" standalone=\"no\"?>\r\n<!DOCTYPE svg PUBLIC \"-//W3C//DTD SVG 1.1//EN\"\r\n  \"http://www.w3.org/Graphics/SVG/1.1/DTD/svg11.dtd\">\r\n<!-- Created with matplotlib (https://matplotlib.org/) -->\r\n<svg height=\"352.110131pt\" version=\"1.1\" viewBox=\"0 0 394.375 352.110131\" width=\"394.375pt\" xmlns=\"http://www.w3.org/2000/svg\" xmlns:xlink=\"http://www.w3.org/1999/xlink\">\r\n <defs>\r\n  <style type=\"text/css\">\r\n*{stroke-linecap:butt;stroke-linejoin:round;}\r\n  </style>\r\n </defs>\r\n <g id=\"figure_1\">\r\n  <g id=\"patch_1\">\r\n   <path d=\"M 0 352.110131 \r\nL 394.375 352.110131 \r\nL 394.375 0 \r\nL 0 0 \r\nz\r\n\" style=\"fill:none;\"/>\r\n  </g>\r\n  <g id=\"axes_1\">\r\n   <g id=\"patch_2\">\r\n    <path d=\"M 52.375 224.714818 \r\nL 387.175 224.714818 \r\nL 387.175 7.274818 \r\nL 52.375 7.274818 \r\nz\r\n\" style=\"fill:#ffffff;\"/>\r\n   </g>\r\n   <g id=\"patch_3\">\r\n    <path clip-path=\"url(#peaf66e0f1f)\" d=\"M 66.325 224.714818 \r\nL 94.225 224.714818 \r\nL 94.225 20.71302 \r\nL 66.325 20.71302 \r\nz\r\n\" style=\"fill:#1f77b4;\"/>\r\n   </g>\r\n   <g id=\"patch_4\">\r\n    <path clip-path=\"url(#peaf66e0f1f)\" d=\"M 122.125 224.714818 \r\nL 150.025 224.714818 \r\nL 150.025 166.271723 \r\nL 122.125 166.271723 \r\nz\r\n\" style=\"fill:#1f77b4;\"/>\r\n   </g>\r\n   <g id=\"patch_5\">\r\n    <path clip-path=\"url(#peaf66e0f1f)\" d=\"M 177.925 224.714818 \r\nL 205.825 224.714818 \r\nL 205.825 119.332938 \r\nL 177.925 119.332938 \r\nz\r\n\" style=\"fill:#1f77b4;\"/>\r\n   </g>\r\n   <g id=\"patch_6\">\r\n    <path clip-path=\"url(#peaf66e0f1f)\" d=\"M 233.725 224.714818 \r\nL 261.625 224.714818 \r\nL 261.625 197.672101 \r\nL 233.725 197.672101 \r\nz\r\n\" style=\"fill:#1f77b4;\"/>\r\n   </g>\r\n   <g id=\"patch_7\">\r\n    <path clip-path=\"url(#peaf66e0f1f)\" d=\"M 289.525 224.714818 \r\nL 317.425 224.714818 \r\nL 317.425 207.117476 \r\nL 289.525 207.117476 \r\nz\r\n\" style=\"fill:#1f77b4;\"/>\r\n   </g>\r\n   <g id=\"patch_8\">\r\n    <path clip-path=\"url(#peaf66e0f1f)\" d=\"M 345.325 224.714818 \r\nL 373.225 224.714818 \r\nL 373.225 199.506636 \r\nL 345.325 199.506636 \r\nz\r\n\" style=\"fill:#1f77b4;\"/>\r\n   </g>\r\n   <g id=\"patch_9\">\r\n    <path clip-path=\"url(#peaf66e0f1f)\" d=\"M 66.325 20.71302 \r\nL 94.225 20.71302 \r\nL 94.225 17.629104 \r\nL 66.325 17.629104 \r\nz\r\n\" style=\"fill:#ff7f0e;\"/>\r\n   </g>\r\n   <g id=\"patch_10\">\r\n    <path clip-path=\"url(#peaf66e0f1f)\" d=\"M 122.125 166.271723 \r\nL 150.025 166.271723 \r\nL 150.025 165.313422 \r\nL 122.125 165.313422 \r\nz\r\n\" style=\"fill:#ff7f0e;\"/>\r\n   </g>\r\n   <g id=\"patch_11\">\r\n    <path clip-path=\"url(#peaf66e0f1f)\" d=\"M 177.925 119.332938 \r\nL 205.825 119.332938 \r\nL 205.825 116.869652 \r\nL 177.925 116.869652 \r\nz\r\n\" style=\"fill:#ff7f0e;\"/>\r\n   </g>\r\n   <g id=\"patch_12\">\r\n    <path clip-path=\"url(#peaf66e0f1f)\" d=\"M 233.725 197.672101 \r\nL 261.625 197.672101 \r\nL 261.625 196.871095 \r\nL 233.725 196.871095 \r\nz\r\n\" style=\"fill:#ff7f0e;\"/>\r\n   </g>\r\n   <g id=\"patch_13\">\r\n    <path clip-path=\"url(#peaf66e0f1f)\" d=\"M 289.525 207.117476 \r\nL 317.425 207.117476 \r\nL 317.425 206.600712 \r\nL 289.525 206.600712 \r\nz\r\n\" style=\"fill:#ff7f0e;\"/>\r\n   </g>\r\n   <g id=\"patch_14\">\r\n    <path clip-path=\"url(#peaf66e0f1f)\" d=\"M 345.325 199.506636 \r\nL 373.225 199.506636 \r\nL 373.225 199.006114 \r\nL 345.325 199.006114 \r\nz\r\n\" style=\"fill:#ff7f0e;\"/>\r\n   </g>\r\n   <g id=\"matplotlib.axis_1\">\r\n    <g id=\"xtick_1\">\r\n     <g id=\"line2d_1\">\r\n      <defs>\r\n       <path d=\"M 0 0 \r\nL 0 3.5 \r\n\" id=\"m564afdd59c\" style=\"stroke:#000000;stroke-width:0.8;\"/>\r\n      </defs>\r\n      <g>\r\n       <use style=\"stroke:#000000;stroke-width:0.8;\" x=\"80.275\" xlink:href=\"#m564afdd59c\" y=\"224.714818\"/>\r\n      </g>\r\n     </g>\r\n     <g id=\"text_1\">\r\n      <!-- Large central metro -->\r\n      <defs>\r\n       <path d=\"M 9.8125 72.90625 \r\nL 19.671875 72.90625 \r\nL 19.671875 8.296875 \r\nL 55.171875 8.296875 \r\nL 55.171875 0 \r\nL 9.8125 0 \r\nz\r\n\" id=\"DejaVuSans-76\"/>\r\n       <path d=\"M 34.28125 27.484375 \r\nQ 23.390625 27.484375 19.1875 25 \r\nQ 14.984375 22.515625 14.984375 16.5 \r\nQ 14.984375 11.71875 18.140625 8.90625 \r\nQ 21.296875 6.109375 26.703125 6.109375 \r\nQ 34.1875 6.109375 38.703125 11.40625 \r\nQ 43.21875 16.703125 43.21875 25.484375 \r\nL 43.21875 27.484375 \r\nz\r\nM 52.203125 31.203125 \r\nL 52.203125 0 \r\nL 43.21875 0 \r\nL 43.21875 8.296875 \r\nQ 40.140625 3.328125 35.546875 0.953125 \r\nQ 30.953125 -1.421875 24.3125 -1.421875 \r\nQ 15.921875 -1.421875 10.953125 3.296875 \r\nQ 6 8.015625 6 15.921875 \r\nQ 6 25.140625 12.171875 29.828125 \r\nQ 18.359375 34.515625 30.609375 34.515625 \r\nL 43.21875 34.515625 \r\nL 43.21875 35.40625 \r\nQ 43.21875 41.609375 39.140625 45 \r\nQ 35.0625 48.390625 27.6875 48.390625 \r\nQ 23 48.390625 18.546875 47.265625 \r\nQ 14.109375 46.140625 10.015625 43.890625 \r\nL 10.015625 52.203125 \r\nQ 14.9375 54.109375 19.578125 55.046875 \r\nQ 24.21875 56 28.609375 56 \r\nQ 40.484375 56 46.34375 49.84375 \r\nQ 52.203125 43.703125 52.203125 31.203125 \r\nz\r\n\" id=\"DejaVuSans-97\"/>\r\n       <path d=\"M 41.109375 46.296875 \r\nQ 39.59375 47.171875 37.8125 47.578125 \r\nQ 36.03125 48 33.890625 48 \r\nQ 26.265625 48 22.1875 43.046875 \r\nQ 18.109375 38.09375 18.109375 28.8125 \r\nL 18.109375 0 \r\nL 9.078125 0 \r\nL 9.078125 54.6875 \r\nL 18.109375 54.6875 \r\nL 18.109375 46.1875 \r\nQ 20.953125 51.171875 25.484375 53.578125 \r\nQ 30.03125 56 36.53125 56 \r\nQ 37.453125 56 38.578125 55.875 \r\nQ 39.703125 55.765625 41.0625 55.515625 \r\nz\r\n\" id=\"DejaVuSans-114\"/>\r\n       <path d=\"M 45.40625 27.984375 \r\nQ 45.40625 37.75 41.375 43.109375 \r\nQ 37.359375 48.484375 30.078125 48.484375 \r\nQ 22.859375 48.484375 18.828125 43.109375 \r\nQ 14.796875 37.75 14.796875 27.984375 \r\nQ 14.796875 18.265625 18.828125 12.890625 \r\nQ 22.859375 7.515625 30.078125 7.515625 \r\nQ 37.359375 7.515625 41.375 12.890625 \r\nQ 45.40625 18.265625 45.40625 27.984375 \r\nz\r\nM 54.390625 6.78125 \r\nQ 54.390625 -7.171875 48.1875 -13.984375 \r\nQ 42 -20.796875 29.203125 -20.796875 \r\nQ 24.46875 -20.796875 20.265625 -20.09375 \r\nQ 16.0625 -19.390625 12.109375 -17.921875 \r\nL 12.109375 -9.1875 \r\nQ 16.0625 -11.328125 19.921875 -12.34375 \r\nQ 23.78125 -13.375 27.78125 -13.375 \r\nQ 36.625 -13.375 41.015625 -8.765625 \r\nQ 45.40625 -4.15625 45.40625 5.171875 \r\nL 45.40625 9.625 \r\nQ 42.625 4.78125 38.28125 2.390625 \r\nQ 33.9375 0 27.875 0 \r\nQ 17.828125 0 11.671875 7.65625 \r\nQ 5.515625 15.328125 5.515625 27.984375 \r\nQ 5.515625 40.671875 11.671875 48.328125 \r\nQ 17.828125 56 27.875 56 \r\nQ 33.9375 56 38.28125 53.609375 \r\nQ 42.625 51.21875 45.40625 46.390625 \r\nL 45.40625 54.6875 \r\nL 54.390625 54.6875 \r\nz\r\n\" id=\"DejaVuSans-103\"/>\r\n       <path d=\"M 56.203125 29.59375 \r\nL 56.203125 25.203125 \r\nL 14.890625 25.203125 \r\nQ 15.484375 15.921875 20.484375 11.0625 \r\nQ 25.484375 6.203125 34.421875 6.203125 \r\nQ 39.59375 6.203125 44.453125 7.46875 \r\nQ 49.3125 8.734375 54.109375 11.28125 \r\nL 54.109375 2.78125 \r\nQ 49.265625 0.734375 44.1875 -0.34375 \r\nQ 39.109375 -1.421875 33.890625 -1.421875 \r\nQ 20.796875 -1.421875 13.15625 6.1875 \r\nQ 5.515625 13.8125 5.515625 26.8125 \r\nQ 5.515625 40.234375 12.765625 48.109375 \r\nQ 20.015625 56 32.328125 56 \r\nQ 43.359375 56 49.78125 48.890625 \r\nQ 56.203125 41.796875 56.203125 29.59375 \r\nz\r\nM 47.21875 32.234375 \r\nQ 47.125 39.59375 43.09375 43.984375 \r\nQ 39.0625 48.390625 32.421875 48.390625 \r\nQ 24.90625 48.390625 20.390625 44.140625 \r\nQ 15.875 39.890625 15.1875 32.171875 \r\nz\r\n\" id=\"DejaVuSans-101\"/>\r\n       <path id=\"DejaVuSans-32\"/>\r\n       <path d=\"M 48.78125 52.59375 \r\nL 48.78125 44.1875 \r\nQ 44.96875 46.296875 41.140625 47.34375 \r\nQ 37.3125 48.390625 33.40625 48.390625 \r\nQ 24.65625 48.390625 19.8125 42.84375 \r\nQ 14.984375 37.3125 14.984375 27.296875 \r\nQ 14.984375 17.28125 19.8125 11.734375 \r\nQ 24.65625 6.203125 33.40625 6.203125 \r\nQ 37.3125 6.203125 41.140625 7.25 \r\nQ 44.96875 8.296875 48.78125 10.40625 \r\nL 48.78125 2.09375 \r\nQ 45.015625 0.34375 40.984375 -0.53125 \r\nQ 36.96875 -1.421875 32.421875 -1.421875 \r\nQ 20.0625 -1.421875 12.78125 6.34375 \r\nQ 5.515625 14.109375 5.515625 27.296875 \r\nQ 5.515625 40.671875 12.859375 48.328125 \r\nQ 20.21875 56 33.015625 56 \r\nQ 37.15625 56 41.109375 55.140625 \r\nQ 45.0625 54.296875 48.78125 52.59375 \r\nz\r\n\" id=\"DejaVuSans-99\"/>\r\n       <path d=\"M 54.890625 33.015625 \r\nL 54.890625 0 \r\nL 45.90625 0 \r\nL 45.90625 32.71875 \r\nQ 45.90625 40.484375 42.875 44.328125 \r\nQ 39.84375 48.1875 33.796875 48.1875 \r\nQ 26.515625 48.1875 22.3125 43.546875 \r\nQ 18.109375 38.921875 18.109375 30.90625 \r\nL 18.109375 0 \r\nL 9.078125 0 \r\nL 9.078125 54.6875 \r\nL 18.109375 54.6875 \r\nL 18.109375 46.1875 \r\nQ 21.34375 51.125 25.703125 53.5625 \r\nQ 30.078125 56 35.796875 56 \r\nQ 45.21875 56 50.046875 50.171875 \r\nQ 54.890625 44.34375 54.890625 33.015625 \r\nz\r\n\" id=\"DejaVuSans-110\"/>\r\n       <path d=\"M 18.3125 70.21875 \r\nL 18.3125 54.6875 \r\nL 36.8125 54.6875 \r\nL 36.8125 47.703125 \r\nL 18.3125 47.703125 \r\nL 18.3125 18.015625 \r\nQ 18.3125 11.328125 20.140625 9.421875 \r\nQ 21.96875 7.515625 27.59375 7.515625 \r\nL 36.8125 7.515625 \r\nL 36.8125 0 \r\nL 27.59375 0 \r\nQ 17.1875 0 13.234375 3.875 \r\nQ 9.28125 7.765625 9.28125 18.015625 \r\nL 9.28125 47.703125 \r\nL 2.6875 47.703125 \r\nL 2.6875 54.6875 \r\nL 9.28125 54.6875 \r\nL 9.28125 70.21875 \r\nz\r\n\" id=\"DejaVuSans-116\"/>\r\n       <path d=\"M 9.421875 75.984375 \r\nL 18.40625 75.984375 \r\nL 18.40625 0 \r\nL 9.421875 0 \r\nz\r\n\" id=\"DejaVuSans-108\"/>\r\n       <path d=\"M 52 44.1875 \r\nQ 55.375 50.25 60.0625 53.125 \r\nQ 64.75 56 71.09375 56 \r\nQ 79.640625 56 84.28125 50.015625 \r\nQ 88.921875 44.046875 88.921875 33.015625 \r\nL 88.921875 0 \r\nL 79.890625 0 \r\nL 79.890625 32.71875 \r\nQ 79.890625 40.578125 77.09375 44.375 \r\nQ 74.3125 48.1875 68.609375 48.1875 \r\nQ 61.625 48.1875 57.5625 43.546875 \r\nQ 53.515625 38.921875 53.515625 30.90625 \r\nL 53.515625 0 \r\nL 44.484375 0 \r\nL 44.484375 32.71875 \r\nQ 44.484375 40.625 41.703125 44.40625 \r\nQ 38.921875 48.1875 33.109375 48.1875 \r\nQ 26.21875 48.1875 22.15625 43.53125 \r\nQ 18.109375 38.875 18.109375 30.90625 \r\nL 18.109375 0 \r\nL 9.078125 0 \r\nL 9.078125 54.6875 \r\nL 18.109375 54.6875 \r\nL 18.109375 46.1875 \r\nQ 21.1875 51.21875 25.484375 53.609375 \r\nQ 29.78125 56 35.6875 56 \r\nQ 41.65625 56 45.828125 52.96875 \r\nQ 50 49.953125 52 44.1875 \r\nz\r\n\" id=\"DejaVuSans-109\"/>\r\n       <path d=\"M 30.609375 48.390625 \r\nQ 23.390625 48.390625 19.1875 42.75 \r\nQ 14.984375 37.109375 14.984375 27.296875 \r\nQ 14.984375 17.484375 19.15625 11.84375 \r\nQ 23.34375 6.203125 30.609375 6.203125 \r\nQ 37.796875 6.203125 41.984375 11.859375 \r\nQ 46.1875 17.53125 46.1875 27.296875 \r\nQ 46.1875 37.015625 41.984375 42.703125 \r\nQ 37.796875 48.390625 30.609375 48.390625 \r\nz\r\nM 30.609375 56 \r\nQ 42.328125 56 49.015625 48.375 \r\nQ 55.71875 40.765625 55.71875 27.296875 \r\nQ 55.71875 13.875 49.015625 6.21875 \r\nQ 42.328125 -1.421875 30.609375 -1.421875 \r\nQ 18.84375 -1.421875 12.171875 6.21875 \r\nQ 5.515625 13.875 5.515625 27.296875 \r\nQ 5.515625 40.765625 12.171875 48.375 \r\nQ 18.84375 56 30.609375 56 \r\nz\r\n\" id=\"DejaVuSans-111\"/>\r\n      </defs>\r\n      <g transform=\"translate(83.034375 330.953881)rotate(-90)scale(0.1 -0.1)\">\r\n       <use xlink:href=\"#DejaVuSans-76\"/>\r\n       <use x=\"55.712891\" xlink:href=\"#DejaVuSans-97\"/>\r\n       <use x=\"116.992188\" xlink:href=\"#DejaVuSans-114\"/>\r\n       <use x=\"156.355469\" xlink:href=\"#DejaVuSans-103\"/>\r\n       <use x=\"219.832031\" xlink:href=\"#DejaVuSans-101\"/>\r\n       <use x=\"281.355469\" xlink:href=\"#DejaVuSans-32\"/>\r\n       <use x=\"313.142578\" xlink:href=\"#DejaVuSans-99\"/>\r\n       <use x=\"368.123047\" xlink:href=\"#DejaVuSans-101\"/>\r\n       <use x=\"429.646484\" xlink:href=\"#DejaVuSans-110\"/>\r\n       <use x=\"493.025391\" xlink:href=\"#DejaVuSans-116\"/>\r\n       <use x=\"532.234375\" xlink:href=\"#DejaVuSans-114\"/>\r\n       <use x=\"573.347656\" xlink:href=\"#DejaVuSans-97\"/>\r\n       <use x=\"634.626953\" xlink:href=\"#DejaVuSans-108\"/>\r\n       <use x=\"662.410156\" xlink:href=\"#DejaVuSans-32\"/>\r\n       <use x=\"694.197266\" xlink:href=\"#DejaVuSans-109\"/>\r\n       <use x=\"791.609375\" xlink:href=\"#DejaVuSans-101\"/>\r\n       <use x=\"853.132812\" xlink:href=\"#DejaVuSans-116\"/>\r\n       <use x=\"892.341797\" xlink:href=\"#DejaVuSans-114\"/>\r\n       <use x=\"931.205078\" xlink:href=\"#DejaVuSans-111\"/>\r\n      </g>\r\n     </g>\r\n    </g>\r\n    <g id=\"xtick_2\">\r\n     <g id=\"line2d_2\">\r\n      <g>\r\n       <use style=\"stroke:#000000;stroke-width:0.8;\" x=\"136.075\" xlink:href=\"#m564afdd59c\" y=\"224.714818\"/>\r\n      </g>\r\n     </g>\r\n     <g id=\"text_2\">\r\n      <!-- Large fringe metro -->\r\n      <defs>\r\n       <path d=\"M 37.109375 75.984375 \r\nL 37.109375 68.5 \r\nL 28.515625 68.5 \r\nQ 23.6875 68.5 21.796875 66.546875 \r\nQ 19.921875 64.59375 19.921875 59.515625 \r\nL 19.921875 54.6875 \r\nL 34.71875 54.6875 \r\nL 34.71875 47.703125 \r\nL 19.921875 47.703125 \r\nL 19.921875 0 \r\nL 10.890625 0 \r\nL 10.890625 47.703125 \r\nL 2.296875 47.703125 \r\nL 2.296875 54.6875 \r\nL 10.890625 54.6875 \r\nL 10.890625 58.5 \r\nQ 10.890625 67.625 15.140625 71.796875 \r\nQ 19.390625 75.984375 28.609375 75.984375 \r\nz\r\n\" id=\"DejaVuSans-102\"/>\r\n       <path d=\"M 9.421875 54.6875 \r\nL 18.40625 54.6875 \r\nL 18.40625 0 \r\nL 9.421875 0 \r\nz\r\nM 9.421875 75.984375 \r\nL 18.40625 75.984375 \r\nL 18.40625 64.59375 \r\nL 9.421875 64.59375 \r\nz\r\n\" id=\"DejaVuSans-105\"/>\r\n      </defs>\r\n      <g transform=\"translate(138.834375 325.275756)rotate(-90)scale(0.1 -0.1)\">\r\n       <use xlink:href=\"#DejaVuSans-76\"/>\r\n       <use x=\"55.712891\" xlink:href=\"#DejaVuSans-97\"/>\r\n       <use x=\"116.992188\" xlink:href=\"#DejaVuSans-114\"/>\r\n       <use x=\"156.355469\" xlink:href=\"#DejaVuSans-103\"/>\r\n       <use x=\"219.832031\" xlink:href=\"#DejaVuSans-101\"/>\r\n       <use x=\"281.355469\" xlink:href=\"#DejaVuSans-32\"/>\r\n       <use x=\"313.142578\" xlink:href=\"#DejaVuSans-102\"/>\r\n       <use x=\"348.347656\" xlink:href=\"#DejaVuSans-114\"/>\r\n       <use x=\"389.460938\" xlink:href=\"#DejaVuSans-105\"/>\r\n       <use x=\"417.244141\" xlink:href=\"#DejaVuSans-110\"/>\r\n       <use x=\"480.623047\" xlink:href=\"#DejaVuSans-103\"/>\r\n       <use x=\"544.099609\" xlink:href=\"#DejaVuSans-101\"/>\r\n       <use x=\"605.623047\" xlink:href=\"#DejaVuSans-32\"/>\r\n       <use x=\"637.410156\" xlink:href=\"#DejaVuSans-109\"/>\r\n       <use x=\"734.822266\" xlink:href=\"#DejaVuSans-101\"/>\r\n       <use x=\"796.345703\" xlink:href=\"#DejaVuSans-116\"/>\r\n       <use x=\"835.554688\" xlink:href=\"#DejaVuSans-114\"/>\r\n       <use x=\"874.417969\" xlink:href=\"#DejaVuSans-111\"/>\r\n      </g>\r\n     </g>\r\n    </g>\r\n    <g id=\"xtick_3\">\r\n     <g id=\"line2d_3\">\r\n      <g>\r\n       <use style=\"stroke:#000000;stroke-width:0.8;\" x=\"191.875\" xlink:href=\"#m564afdd59c\" y=\"224.714818\"/>\r\n      </g>\r\n     </g>\r\n     <g id=\"text_3\">\r\n      <!-- Medium metro -->\r\n      <defs>\r\n       <path d=\"M 9.8125 72.90625 \r\nL 24.515625 72.90625 \r\nL 43.109375 23.296875 \r\nL 61.8125 72.90625 \r\nL 76.515625 72.90625 \r\nL 76.515625 0 \r\nL 66.890625 0 \r\nL 66.890625 64.015625 \r\nL 48.09375 14.015625 \r\nL 38.1875 14.015625 \r\nL 19.390625 64.015625 \r\nL 19.390625 0 \r\nL 9.8125 0 \r\nz\r\n\" id=\"DejaVuSans-77\"/>\r\n       <path d=\"M 45.40625 46.390625 \r\nL 45.40625 75.984375 \r\nL 54.390625 75.984375 \r\nL 54.390625 0 \r\nL 45.40625 0 \r\nL 45.40625 8.203125 \r\nQ 42.578125 3.328125 38.25 0.953125 \r\nQ 33.9375 -1.421875 27.875 -1.421875 \r\nQ 17.96875 -1.421875 11.734375 6.484375 \r\nQ 5.515625 14.40625 5.515625 27.296875 \r\nQ 5.515625 40.1875 11.734375 48.09375 \r\nQ 17.96875 56 27.875 56 \r\nQ 33.9375 56 38.25 53.625 \r\nQ 42.578125 51.265625 45.40625 46.390625 \r\nz\r\nM 14.796875 27.296875 \r\nQ 14.796875 17.390625 18.875 11.75 \r\nQ 22.953125 6.109375 30.078125 6.109375 \r\nQ 37.203125 6.109375 41.296875 11.75 \r\nQ 45.40625 17.390625 45.40625 27.296875 \r\nQ 45.40625 37.203125 41.296875 42.84375 \r\nQ 37.203125 48.484375 30.078125 48.484375 \r\nQ 22.953125 48.484375 18.875 42.84375 \r\nQ 14.796875 37.203125 14.796875 27.296875 \r\nz\r\n\" id=\"DejaVuSans-100\"/>\r\n       <path d=\"M 8.5 21.578125 \r\nL 8.5 54.6875 \r\nL 17.484375 54.6875 \r\nL 17.484375 21.921875 \r\nQ 17.484375 14.15625 20.5 10.265625 \r\nQ 23.53125 6.390625 29.59375 6.390625 \r\nQ 36.859375 6.390625 41.078125 11.03125 \r\nQ 45.3125 15.671875 45.3125 23.6875 \r\nL 45.3125 54.6875 \r\nL 54.296875 54.6875 \r\nL 54.296875 0 \r\nL 45.3125 0 \r\nL 45.3125 8.40625 \r\nQ 42.046875 3.421875 37.71875 1 \r\nQ 33.40625 -1.421875 27.6875 -1.421875 \r\nQ 18.265625 -1.421875 13.375 4.4375 \r\nQ 8.5 10.296875 8.5 21.578125 \r\nz\r\nM 31.109375 56 \r\nz\r\n\" id=\"DejaVuSans-117\"/>\r\n      </defs>\r\n      <g transform=\"translate(194.634375 304.697631)rotate(-90)scale(0.1 -0.1)\">\r\n       <use xlink:href=\"#DejaVuSans-77\"/>\r\n       <use x=\"86.279297\" xlink:href=\"#DejaVuSans-101\"/>\r\n       <use x=\"147.802734\" xlink:href=\"#DejaVuSans-100\"/>\r\n       <use x=\"211.279297\" xlink:href=\"#DejaVuSans-105\"/>\r\n       <use x=\"239.0625\" xlink:href=\"#DejaVuSans-117\"/>\r\n       <use x=\"302.441406\" xlink:href=\"#DejaVuSans-109\"/>\r\n       <use x=\"399.853516\" xlink:href=\"#DejaVuSans-32\"/>\r\n       <use x=\"431.640625\" xlink:href=\"#DejaVuSans-109\"/>\r\n       <use x=\"529.052734\" xlink:href=\"#DejaVuSans-101\"/>\r\n       <use x=\"590.576172\" xlink:href=\"#DejaVuSans-116\"/>\r\n       <use x=\"629.785156\" xlink:href=\"#DejaVuSans-114\"/>\r\n       <use x=\"668.648438\" xlink:href=\"#DejaVuSans-111\"/>\r\n      </g>\r\n     </g>\r\n    </g>\r\n    <g id=\"xtick_4\">\r\n     <g id=\"line2d_4\">\r\n      <g>\r\n       <use style=\"stroke:#000000;stroke-width:0.8;\" x=\"247.675\" xlink:href=\"#m564afdd59c\" y=\"224.714818\"/>\r\n      </g>\r\n     </g>\r\n     <g id=\"text_4\">\r\n      <!-- Micropolitan -->\r\n      <defs>\r\n       <path d=\"M 18.109375 8.203125 \r\nL 18.109375 -20.796875 \r\nL 9.078125 -20.796875 \r\nL 9.078125 54.6875 \r\nL 18.109375 54.6875 \r\nL 18.109375 46.390625 \r\nQ 20.953125 51.265625 25.265625 53.625 \r\nQ 29.59375 56 35.59375 56 \r\nQ 45.5625 56 51.78125 48.09375 \r\nQ 58.015625 40.1875 58.015625 27.296875 \r\nQ 58.015625 14.40625 51.78125 6.484375 \r\nQ 45.5625 -1.421875 35.59375 -1.421875 \r\nQ 29.59375 -1.421875 25.265625 0.953125 \r\nQ 20.953125 3.328125 18.109375 8.203125 \r\nz\r\nM 48.6875 27.296875 \r\nQ 48.6875 37.203125 44.609375 42.84375 \r\nQ 40.53125 48.484375 33.40625 48.484375 \r\nQ 26.265625 48.484375 22.1875 42.84375 \r\nQ 18.109375 37.203125 18.109375 27.296875 \r\nQ 18.109375 17.390625 22.1875 11.75 \r\nQ 26.265625 6.109375 33.40625 6.109375 \r\nQ 40.53125 6.109375 44.609375 11.75 \r\nQ 48.6875 17.390625 48.6875 27.296875 \r\nz\r\n\" id=\"DejaVuSans-112\"/>\r\n      </defs>\r\n      <g transform=\"translate(250.434375 293.033568)rotate(-90)scale(0.1 -0.1)\">\r\n       <use xlink:href=\"#DejaVuSans-77\"/>\r\n       <use x=\"86.279297\" xlink:href=\"#DejaVuSans-105\"/>\r\n       <use x=\"114.0625\" xlink:href=\"#DejaVuSans-99\"/>\r\n       <use x=\"169.042969\" xlink:href=\"#DejaVuSans-114\"/>\r\n       <use x=\"207.90625\" xlink:href=\"#DejaVuSans-111\"/>\r\n       <use x=\"269.087891\" xlink:href=\"#DejaVuSans-112\"/>\r\n       <use x=\"332.564453\" xlink:href=\"#DejaVuSans-111\"/>\r\n       <use x=\"393.746094\" xlink:href=\"#DejaVuSans-108\"/>\r\n       <use x=\"421.529297\" xlink:href=\"#DejaVuSans-105\"/>\r\n       <use x=\"449.3125\" xlink:href=\"#DejaVuSans-116\"/>\r\n       <use x=\"488.521484\" xlink:href=\"#DejaVuSans-97\"/>\r\n       <use x=\"549.800781\" xlink:href=\"#DejaVuSans-110\"/>\r\n      </g>\r\n     </g>\r\n    </g>\r\n    <g id=\"xtick_5\">\r\n     <g id=\"line2d_5\">\r\n      <g>\r\n       <use style=\"stroke:#000000;stroke-width:0.8;\" x=\"303.475\" xlink:href=\"#m564afdd59c\" y=\"224.714818\"/>\r\n      </g>\r\n     </g>\r\n     <g id=\"text_5\">\r\n      <!-- Non-core -->\r\n      <defs>\r\n       <path d=\"M 9.8125 72.90625 \r\nL 23.09375 72.90625 \r\nL 55.421875 11.921875 \r\nL 55.421875 72.90625 \r\nL 64.984375 72.90625 \r\nL 64.984375 0 \r\nL 51.703125 0 \r\nL 19.390625 60.984375 \r\nL 19.390625 0 \r\nL 9.8125 0 \r\nz\r\n\" id=\"DejaVuSans-78\"/>\r\n       <path d=\"M 4.890625 31.390625 \r\nL 31.203125 31.390625 \r\nL 31.203125 23.390625 \r\nL 4.890625 23.390625 \r\nz\r\n\" id=\"DejaVuSans-45\"/>\r\n      </defs>\r\n      <g transform=\"translate(306.234375 276.916381)rotate(-90)scale(0.1 -0.1)\">\r\n       <use xlink:href=\"#DejaVuSans-78\"/>\r\n       <use x=\"74.804688\" xlink:href=\"#DejaVuSans-111\"/>\r\n       <use x=\"135.986328\" xlink:href=\"#DejaVuSans-110\"/>\r\n       <use x=\"199.365234\" xlink:href=\"#DejaVuSans-45\"/>\r\n       <use x=\"235.449219\" xlink:href=\"#DejaVuSans-99\"/>\r\n       <use x=\"290.429688\" xlink:href=\"#DejaVuSans-111\"/>\r\n       <use x=\"351.611328\" xlink:href=\"#DejaVuSans-114\"/>\r\n       <use x=\"390.474609\" xlink:href=\"#DejaVuSans-101\"/>\r\n      </g>\r\n     </g>\r\n    </g>\r\n    <g id=\"xtick_6\">\r\n     <g id=\"line2d_6\">\r\n      <g>\r\n       <use style=\"stroke:#000000;stroke-width:0.8;\" x=\"359.275\" xlink:href=\"#m564afdd59c\" y=\"224.714818\"/>\r\n      </g>\r\n     </g>\r\n     <g id=\"text_6\">\r\n      <!-- Small metro -->\r\n      <defs>\r\n       <path d=\"M 53.515625 70.515625 \r\nL 53.515625 60.890625 \r\nQ 47.90625 63.578125 42.921875 64.890625 \r\nQ 37.9375 66.21875 33.296875 66.21875 \r\nQ 25.25 66.21875 20.875 63.09375 \r\nQ 16.5 59.96875 16.5 54.203125 \r\nQ 16.5 49.359375 19.40625 46.890625 \r\nQ 22.3125 44.4375 30.421875 42.921875 \r\nL 36.375 41.703125 \r\nQ 47.40625 39.59375 52.65625 34.296875 \r\nQ 57.90625 29 57.90625 20.125 \r\nQ 57.90625 9.515625 50.796875 4.046875 \r\nQ 43.703125 -1.421875 29.984375 -1.421875 \r\nQ 24.8125 -1.421875 18.96875 -0.25 \r\nQ 13.140625 0.921875 6.890625 3.21875 \r\nL 6.890625 13.375 \r\nQ 12.890625 10.015625 18.65625 8.296875 \r\nQ 24.421875 6.59375 29.984375 6.59375 \r\nQ 38.421875 6.59375 43.015625 9.90625 \r\nQ 47.609375 13.234375 47.609375 19.390625 \r\nQ 47.609375 24.75 44.3125 27.78125 \r\nQ 41.015625 30.8125 33.5 32.328125 \r\nL 27.484375 33.5 \r\nQ 16.453125 35.6875 11.515625 40.375 \r\nQ 6.59375 45.0625 6.59375 53.421875 \r\nQ 6.59375 63.09375 13.40625 68.65625 \r\nQ 20.21875 74.21875 32.171875 74.21875 \r\nQ 37.3125 74.21875 42.625 73.28125 \r\nQ 47.953125 72.359375 53.515625 70.515625 \r\nz\r\n\" id=\"DejaVuSans-83\"/>\r\n      </defs>\r\n      <g transform=\"translate(362.034375 292.485131)rotate(-90)scale(0.1 -0.1)\">\r\n       <use xlink:href=\"#DejaVuSans-83\"/>\r\n       <use x=\"63.476562\" xlink:href=\"#DejaVuSans-109\"/>\r\n       <use x=\"160.888672\" xlink:href=\"#DejaVuSans-97\"/>\r\n       <use x=\"222.167969\" xlink:href=\"#DejaVuSans-108\"/>\r\n       <use x=\"249.951172\" xlink:href=\"#DejaVuSans-108\"/>\r\n       <use x=\"277.734375\" xlink:href=\"#DejaVuSans-32\"/>\r\n       <use x=\"309.521484\" xlink:href=\"#DejaVuSans-109\"/>\r\n       <use x=\"406.933594\" xlink:href=\"#DejaVuSans-101\"/>\r\n       <use x=\"468.457031\" xlink:href=\"#DejaVuSans-116\"/>\r\n       <use x=\"507.666016\" xlink:href=\"#DejaVuSans-114\"/>\r\n       <use x=\"546.529297\" xlink:href=\"#DejaVuSans-111\"/>\r\n      </g>\r\n     </g>\r\n    </g>\r\n    <g id=\"text_7\">\r\n     <!-- NCHS_urbanization -->\r\n     <defs>\r\n      <path d=\"M 64.40625 67.28125 \r\nL 64.40625 56.890625 \r\nQ 59.421875 61.53125 53.78125 63.8125 \r\nQ 48.140625 66.109375 41.796875 66.109375 \r\nQ 29.296875 66.109375 22.65625 58.46875 \r\nQ 16.015625 50.828125 16.015625 36.375 \r\nQ 16.015625 21.96875 22.65625 14.328125 \r\nQ 29.296875 6.6875 41.796875 6.6875 \r\nQ 48.140625 6.6875 53.78125 8.984375 \r\nQ 59.421875 11.28125 64.40625 15.921875 \r\nL 64.40625 5.609375 \r\nQ 59.234375 2.09375 53.4375 0.328125 \r\nQ 47.65625 -1.421875 41.21875 -1.421875 \r\nQ 24.65625 -1.421875 15.125 8.703125 \r\nQ 5.609375 18.84375 5.609375 36.375 \r\nQ 5.609375 53.953125 15.125 64.078125 \r\nQ 24.65625 74.21875 41.21875 74.21875 \r\nQ 47.75 74.21875 53.53125 72.484375 \r\nQ 59.328125 70.75 64.40625 67.28125 \r\nz\r\n\" id=\"DejaVuSans-67\"/>\r\n      <path d=\"M 9.8125 72.90625 \r\nL 19.671875 72.90625 \r\nL 19.671875 43.015625 \r\nL 55.515625 43.015625 \r\nL 55.515625 72.90625 \r\nL 65.375 72.90625 \r\nL 65.375 0 \r\nL 55.515625 0 \r\nL 55.515625 34.71875 \r\nL 19.671875 34.71875 \r\nL 19.671875 0 \r\nL 9.8125 0 \r\nz\r\n\" id=\"DejaVuSans-72\"/>\r\n      <path d=\"M 50.984375 -16.609375 \r\nL 50.984375 -23.578125 \r\nL -0.984375 -23.578125 \r\nL -0.984375 -16.609375 \r\nz\r\n\" id=\"DejaVuSans-95\"/>\r\n      <path d=\"M 48.6875 27.296875 \r\nQ 48.6875 37.203125 44.609375 42.84375 \r\nQ 40.53125 48.484375 33.40625 48.484375 \r\nQ 26.265625 48.484375 22.1875 42.84375 \r\nQ 18.109375 37.203125 18.109375 27.296875 \r\nQ 18.109375 17.390625 22.1875 11.75 \r\nQ 26.265625 6.109375 33.40625 6.109375 \r\nQ 40.53125 6.109375 44.609375 11.75 \r\nQ 48.6875 17.390625 48.6875 27.296875 \r\nz\r\nM 18.109375 46.390625 \r\nQ 20.953125 51.265625 25.265625 53.625 \r\nQ 29.59375 56 35.59375 56 \r\nQ 45.5625 56 51.78125 48.09375 \r\nQ 58.015625 40.1875 58.015625 27.296875 \r\nQ 58.015625 14.40625 51.78125 6.484375 \r\nQ 45.5625 -1.421875 35.59375 -1.421875 \r\nQ 29.59375 -1.421875 25.265625 0.953125 \r\nQ 20.953125 3.328125 18.109375 8.203125 \r\nL 18.109375 0 \r\nL 9.078125 0 \r\nL 9.078125 75.984375 \r\nL 18.109375 75.984375 \r\nz\r\n\" id=\"DejaVuSans-98\"/>\r\n      <path d=\"M 5.515625 54.6875 \r\nL 48.1875 54.6875 \r\nL 48.1875 46.484375 \r\nL 14.40625 7.171875 \r\nL 48.1875 7.171875 \r\nL 48.1875 0 \r\nL 4.296875 0 \r\nL 4.296875 8.203125 \r\nL 38.09375 47.515625 \r\nL 5.515625 47.515625 \r\nz\r\n\" id=\"DejaVuSans-122\"/>\r\n     </defs>\r\n     <g transform=\"translate(171.822656 342.552318)scale(0.1 -0.1)\">\r\n      <use xlink:href=\"#DejaVuSans-78\"/>\r\n      <use x=\"74.804688\" xlink:href=\"#DejaVuSans-67\"/>\r\n      <use x=\"144.628906\" xlink:href=\"#DejaVuSans-72\"/>\r\n      <use x=\"219.824219\" xlink:href=\"#DejaVuSans-83\"/>\r\n      <use x=\"283.300781\" xlink:href=\"#DejaVuSans-95\"/>\r\n      <use x=\"333.300781\" xlink:href=\"#DejaVuSans-117\"/>\r\n      <use x=\"396.679688\" xlink:href=\"#DejaVuSans-114\"/>\r\n      <use x=\"437.792969\" xlink:href=\"#DejaVuSans-98\"/>\r\n      <use x=\"501.269531\" xlink:href=\"#DejaVuSans-97\"/>\r\n      <use x=\"562.548828\" xlink:href=\"#DejaVuSans-110\"/>\r\n      <use x=\"625.927734\" xlink:href=\"#DejaVuSans-105\"/>\r\n      <use x=\"653.710938\" xlink:href=\"#DejaVuSans-122\"/>\r\n      <use x=\"706.201172\" xlink:href=\"#DejaVuSans-97\"/>\r\n      <use x=\"767.480469\" xlink:href=\"#DejaVuSans-116\"/>\r\n      <use x=\"806.689453\" xlink:href=\"#DejaVuSans-105\"/>\r\n      <use x=\"834.472656\" xlink:href=\"#DejaVuSans-111\"/>\r\n      <use x=\"895.654297\" xlink:href=\"#DejaVuSans-110\"/>\r\n     </g>\r\n    </g>\r\n   </g>\r\n   <g id=\"matplotlib.axis_2\">\r\n    <g id=\"ytick_1\">\r\n     <g id=\"line2d_7\">\r\n      <defs>\r\n       <path d=\"M 0 0 \r\nL -3.5 0 \r\n\" id=\"ma7552b5be9\" style=\"stroke:#000000;stroke-width:0.8;\"/>\r\n      </defs>\r\n      <g>\r\n       <use style=\"stroke:#000000;stroke-width:0.8;\" x=\"52.375\" xlink:href=\"#ma7552b5be9\" y=\"224.714818\"/>\r\n      </g>\r\n     </g>\r\n     <g id=\"text_8\">\r\n      <!-- 0 -->\r\n      <defs>\r\n       <path d=\"M 31.78125 66.40625 \r\nQ 24.171875 66.40625 20.328125 58.90625 \r\nQ 16.5 51.421875 16.5 36.375 \r\nQ 16.5 21.390625 20.328125 13.890625 \r\nQ 24.171875 6.390625 31.78125 6.390625 \r\nQ 39.453125 6.390625 43.28125 13.890625 \r\nQ 47.125 21.390625 47.125 36.375 \r\nQ 47.125 51.421875 43.28125 58.90625 \r\nQ 39.453125 66.40625 31.78125 66.40625 \r\nz\r\nM 31.78125 74.21875 \r\nQ 44.046875 74.21875 50.515625 64.515625 \r\nQ 56.984375 54.828125 56.984375 36.375 \r\nQ 56.984375 17.96875 50.515625 8.265625 \r\nQ 44.046875 -1.421875 31.78125 -1.421875 \r\nQ 19.53125 -1.421875 13.0625 8.265625 \r\nQ 6.59375 17.96875 6.59375 36.375 \r\nQ 6.59375 54.828125 13.0625 64.515625 \r\nQ 19.53125 74.21875 31.78125 74.21875 \r\nz\r\n\" id=\"DejaVuSans-48\"/>\r\n      </defs>\r\n      <g transform=\"translate(39.0125 228.514037)scale(0.1 -0.1)\">\r\n       <use xlink:href=\"#DejaVuSans-48\"/>\r\n      </g>\r\n     </g>\r\n    </g>\r\n    <g id=\"ytick_2\">\r\n     <g id=\"line2d_8\">\r\n      <g>\r\n       <use style=\"stroke:#000000;stroke-width:0.8;\" x=\"52.375\" xlink:href=\"#ma7552b5be9\" y=\"181.971698\"/>\r\n      </g>\r\n     </g>\r\n     <g id=\"text_9\">\r\n      <!-- 100000 -->\r\n      <defs>\r\n       <path d=\"M 12.40625 8.296875 \r\nL 28.515625 8.296875 \r\nL 28.515625 63.921875 \r\nL 10.984375 60.40625 \r\nL 10.984375 69.390625 \r\nL 28.421875 72.90625 \r\nL 38.28125 72.90625 \r\nL 38.28125 8.296875 \r\nL 54.390625 8.296875 \r\nL 54.390625 0 \r\nL 12.40625 0 \r\nz\r\n\" id=\"DejaVuSans-49\"/>\r\n      </defs>\r\n      <g transform=\"translate(7.2 185.770917)scale(0.1 -0.1)\">\r\n       <use xlink:href=\"#DejaVuSans-49\"/>\r\n       <use x=\"63.623047\" xlink:href=\"#DejaVuSans-48\"/>\r\n       <use x=\"127.246094\" xlink:href=\"#DejaVuSans-48\"/>\r\n       <use x=\"190.869141\" xlink:href=\"#DejaVuSans-48\"/>\r\n       <use x=\"254.492188\" xlink:href=\"#DejaVuSans-48\"/>\r\n       <use x=\"318.115234\" xlink:href=\"#DejaVuSans-48\"/>\r\n      </g>\r\n     </g>\r\n    </g>\r\n    <g id=\"ytick_3\">\r\n     <g id=\"line2d_9\">\r\n      <g>\r\n       <use style=\"stroke:#000000;stroke-width:0.8;\" x=\"52.375\" xlink:href=\"#ma7552b5be9\" y=\"139.228579\"/>\r\n      </g>\r\n     </g>\r\n     <g id=\"text_10\">\r\n      <!-- 200000 -->\r\n      <defs>\r\n       <path d=\"M 19.1875 8.296875 \r\nL 53.609375 8.296875 \r\nL 53.609375 0 \r\nL 7.328125 0 \r\nL 7.328125 8.296875 \r\nQ 12.9375 14.109375 22.625 23.890625 \r\nQ 32.328125 33.6875 34.8125 36.53125 \r\nQ 39.546875 41.84375 41.421875 45.53125 \r\nQ 43.3125 49.21875 43.3125 52.78125 \r\nQ 43.3125 58.59375 39.234375 62.25 \r\nQ 35.15625 65.921875 28.609375 65.921875 \r\nQ 23.96875 65.921875 18.8125 64.3125 \r\nQ 13.671875 62.703125 7.8125 59.421875 \r\nL 7.8125 69.390625 \r\nQ 13.765625 71.78125 18.9375 73 \r\nQ 24.125 74.21875 28.421875 74.21875 \r\nQ 39.75 74.21875 46.484375 68.546875 \r\nQ 53.21875 62.890625 53.21875 53.421875 \r\nQ 53.21875 48.921875 51.53125 44.890625 \r\nQ 49.859375 40.875 45.40625 35.40625 \r\nQ 44.1875 33.984375 37.640625 27.21875 \r\nQ 31.109375 20.453125 19.1875 8.296875 \r\nz\r\n\" id=\"DejaVuSans-50\"/>\r\n      </defs>\r\n      <g transform=\"translate(7.2 143.027797)scale(0.1 -0.1)\">\r\n       <use xlink:href=\"#DejaVuSans-50\"/>\r\n       <use x=\"63.623047\" xlink:href=\"#DejaVuSans-48\"/>\r\n       <use x=\"127.246094\" xlink:href=\"#DejaVuSans-48\"/>\r\n       <use x=\"190.869141\" xlink:href=\"#DejaVuSans-48\"/>\r\n       <use x=\"254.492188\" xlink:href=\"#DejaVuSans-48\"/>\r\n       <use x=\"318.115234\" xlink:href=\"#DejaVuSans-48\"/>\r\n      </g>\r\n     </g>\r\n    </g>\r\n    <g id=\"ytick_4\">\r\n     <g id=\"line2d_10\">\r\n      <g>\r\n       <use style=\"stroke:#000000;stroke-width:0.8;\" x=\"52.375\" xlink:href=\"#ma7552b5be9\" y=\"96.485459\"/>\r\n      </g>\r\n     </g>\r\n     <g id=\"text_11\">\r\n      <!-- 300000 -->\r\n      <defs>\r\n       <path d=\"M 40.578125 39.3125 \r\nQ 47.65625 37.796875 51.625 33 \r\nQ 55.609375 28.21875 55.609375 21.1875 \r\nQ 55.609375 10.40625 48.1875 4.484375 \r\nQ 40.765625 -1.421875 27.09375 -1.421875 \r\nQ 22.515625 -1.421875 17.65625 -0.515625 \r\nQ 12.796875 0.390625 7.625 2.203125 \r\nL 7.625 11.71875 \r\nQ 11.71875 9.328125 16.59375 8.109375 \r\nQ 21.484375 6.890625 26.8125 6.890625 \r\nQ 36.078125 6.890625 40.9375 10.546875 \r\nQ 45.796875 14.203125 45.796875 21.1875 \r\nQ 45.796875 27.640625 41.28125 31.265625 \r\nQ 36.765625 34.90625 28.71875 34.90625 \r\nL 20.21875 34.90625 \r\nL 20.21875 43.015625 \r\nL 29.109375 43.015625 \r\nQ 36.375 43.015625 40.234375 45.921875 \r\nQ 44.09375 48.828125 44.09375 54.296875 \r\nQ 44.09375 59.90625 40.109375 62.90625 \r\nQ 36.140625 65.921875 28.71875 65.921875 \r\nQ 24.65625 65.921875 20.015625 65.03125 \r\nQ 15.375 64.15625 9.8125 62.3125 \r\nL 9.8125 71.09375 \r\nQ 15.4375 72.65625 20.34375 73.4375 \r\nQ 25.25 74.21875 29.59375 74.21875 \r\nQ 40.828125 74.21875 47.359375 69.109375 \r\nQ 53.90625 64.015625 53.90625 55.328125 \r\nQ 53.90625 49.265625 50.4375 45.09375 \r\nQ 46.96875 40.921875 40.578125 39.3125 \r\nz\r\n\" id=\"DejaVuSans-51\"/>\r\n      </defs>\r\n      <g transform=\"translate(7.2 100.284677)scale(0.1 -0.1)\">\r\n       <use xlink:href=\"#DejaVuSans-51\"/>\r\n       <use x=\"63.623047\" xlink:href=\"#DejaVuSans-48\"/>\r\n       <use x=\"127.246094\" xlink:href=\"#DejaVuSans-48\"/>\r\n       <use x=\"190.869141\" xlink:href=\"#DejaVuSans-48\"/>\r\n       <use x=\"254.492188\" xlink:href=\"#DejaVuSans-48\"/>\r\n       <use x=\"318.115234\" xlink:href=\"#DejaVuSans-48\"/>\r\n      </g>\r\n     </g>\r\n    </g>\r\n    <g id=\"ytick_5\">\r\n     <g id=\"line2d_11\">\r\n      <g>\r\n       <use style=\"stroke:#000000;stroke-width:0.8;\" x=\"52.375\" xlink:href=\"#ma7552b5be9\" y=\"53.742339\"/>\r\n      </g>\r\n     </g>\r\n     <g id=\"text_12\">\r\n      <!-- 400000 -->\r\n      <defs>\r\n       <path d=\"M 37.796875 64.3125 \r\nL 12.890625 25.390625 \r\nL 37.796875 25.390625 \r\nz\r\nM 35.203125 72.90625 \r\nL 47.609375 72.90625 \r\nL 47.609375 25.390625 \r\nL 58.015625 25.390625 \r\nL 58.015625 17.1875 \r\nL 47.609375 17.1875 \r\nL 47.609375 0 \r\nL 37.796875 0 \r\nL 37.796875 17.1875 \r\nL 4.890625 17.1875 \r\nL 4.890625 26.703125 \r\nz\r\n\" id=\"DejaVuSans-52\"/>\r\n      </defs>\r\n      <g transform=\"translate(7.2 57.541557)scale(0.1 -0.1)\">\r\n       <use xlink:href=\"#DejaVuSans-52\"/>\r\n       <use x=\"63.623047\" xlink:href=\"#DejaVuSans-48\"/>\r\n       <use x=\"127.246094\" xlink:href=\"#DejaVuSans-48\"/>\r\n       <use x=\"190.869141\" xlink:href=\"#DejaVuSans-48\"/>\r\n       <use x=\"254.492188\" xlink:href=\"#DejaVuSans-48\"/>\r\n       <use x=\"318.115234\" xlink:href=\"#DejaVuSans-48\"/>\r\n      </g>\r\n     </g>\r\n    </g>\r\n    <g id=\"ytick_6\">\r\n     <g id=\"line2d_12\">\r\n      <g>\r\n       <use style=\"stroke:#000000;stroke-width:0.8;\" x=\"52.375\" xlink:href=\"#ma7552b5be9\" y=\"10.999219\"/>\r\n      </g>\r\n     </g>\r\n     <g id=\"text_13\">\r\n      <!-- 500000 -->\r\n      <defs>\r\n       <path d=\"M 10.796875 72.90625 \r\nL 49.515625 72.90625 \r\nL 49.515625 64.59375 \r\nL 19.828125 64.59375 \r\nL 19.828125 46.734375 \r\nQ 21.96875 47.46875 24.109375 47.828125 \r\nQ 26.265625 48.1875 28.421875 48.1875 \r\nQ 40.625 48.1875 47.75 41.5 \r\nQ 54.890625 34.8125 54.890625 23.390625 \r\nQ 54.890625 11.625 47.5625 5.09375 \r\nQ 40.234375 -1.421875 26.90625 -1.421875 \r\nQ 22.3125 -1.421875 17.546875 -0.640625 \r\nQ 12.796875 0.140625 7.71875 1.703125 \r\nL 7.71875 11.625 \r\nQ 12.109375 9.234375 16.796875 8.0625 \r\nQ 21.484375 6.890625 26.703125 6.890625 \r\nQ 35.15625 6.890625 40.078125 11.328125 \r\nQ 45.015625 15.765625 45.015625 23.390625 \r\nQ 45.015625 31 40.078125 35.4375 \r\nQ 35.15625 39.890625 26.703125 39.890625 \r\nQ 22.75 39.890625 18.8125 39.015625 \r\nQ 14.890625 38.140625 10.796875 36.28125 \r\nz\r\n\" id=\"DejaVuSans-53\"/>\r\n      </defs>\r\n      <g transform=\"translate(7.2 14.798437)scale(0.1 -0.1)\">\r\n       <use xlink:href=\"#DejaVuSans-53\"/>\r\n       <use x=\"63.623047\" xlink:href=\"#DejaVuSans-48\"/>\r\n       <use x=\"127.246094\" xlink:href=\"#DejaVuSans-48\"/>\r\n       <use x=\"190.869141\" xlink:href=\"#DejaVuSans-48\"/>\r\n       <use x=\"254.492188\" xlink:href=\"#DejaVuSans-48\"/>\r\n       <use x=\"318.115234\" xlink:href=\"#DejaVuSans-48\"/>\r\n      </g>\r\n     </g>\r\n    </g>\r\n   </g>\r\n   <g id=\"patch_15\">\r\n    <path d=\"M 52.375 224.714818 \r\nL 52.375 7.274818 \r\n\" style=\"fill:none;stroke:#000000;stroke-linecap:square;stroke-linejoin:miter;stroke-width:0.8;\"/>\r\n   </g>\r\n   <g id=\"patch_16\">\r\n    <path d=\"M 387.175 224.714818 \r\nL 387.175 7.274818 \r\n\" style=\"fill:none;stroke:#000000;stroke-linecap:square;stroke-linejoin:miter;stroke-width:0.8;\"/>\r\n   </g>\r\n   <g id=\"patch_17\">\r\n    <path d=\"M 52.375 224.714818 \r\nL 387.175 224.714818 \r\n\" style=\"fill:none;stroke:#000000;stroke-linecap:square;stroke-linejoin:miter;stroke-width:0.8;\"/>\r\n   </g>\r\n   <g id=\"patch_18\">\r\n    <path d=\"M 52.375 7.274818 \r\nL 387.175 7.274818 \r\n\" style=\"fill:none;stroke:#000000;stroke-linecap:square;stroke-linejoin:miter;stroke-width:0.8;\"/>\r\n   </g>\r\n   <g id=\"legend_1\">\r\n    <g id=\"patch_19\">\r\n     <path d=\"M 297.74375 44.631068 \r\nL 380.175 44.631068 \r\nQ 382.175 44.631068 382.175 42.631068 \r\nL 382.175 14.274818 \r\nQ 382.175 12.274818 380.175 12.274818 \r\nL 297.74375 12.274818 \r\nQ 295.74375 12.274818 295.74375 14.274818 \r\nL 295.74375 42.631068 \r\nQ 295.74375 44.631068 297.74375 44.631068 \r\nz\r\n\" style=\"fill:#ffffff;opacity:0.8;stroke:#cccccc;stroke-linejoin:miter;\"/>\r\n    </g>\r\n    <g id=\"patch_20\">\r\n     <path d=\"M 299.74375 23.873256 \r\nL 319.74375 23.873256 \r\nL 319.74375 16.873256 \r\nL 299.74375 16.873256 \r\nz\r\n\" style=\"fill:#1f77b4;\"/>\r\n    </g>\r\n    <g id=\"text_14\">\r\n     <!-- confirmed -->\r\n     <g transform=\"translate(327.74375 23.873256)scale(0.1 -0.1)\">\r\n      <use xlink:href=\"#DejaVuSans-99\"/>\r\n      <use x=\"54.980469\" xlink:href=\"#DejaVuSans-111\"/>\r\n      <use x=\"116.162109\" xlink:href=\"#DejaVuSans-110\"/>\r\n      <use x=\"179.541016\" xlink:href=\"#DejaVuSans-102\"/>\r\n      <use x=\"214.746094\" xlink:href=\"#DejaVuSans-105\"/>\r\n      <use x=\"242.529297\" xlink:href=\"#DejaVuSans-114\"/>\r\n      <use x=\"281.892578\" xlink:href=\"#DejaVuSans-109\"/>\r\n      <use x=\"379.304688\" xlink:href=\"#DejaVuSans-101\"/>\r\n      <use x=\"440.828125\" xlink:href=\"#DejaVuSans-100\"/>\r\n     </g>\r\n    </g>\r\n    <g id=\"patch_21\">\r\n     <path d=\"M 299.74375 38.551381 \r\nL 319.74375 38.551381 \r\nL 319.74375 31.551381 \r\nL 299.74375 31.551381 \r\nz\r\n\" style=\"fill:#ff7f0e;\"/>\r\n    </g>\r\n    <g id=\"text_15\">\r\n     <!-- deaths -->\r\n     <defs>\r\n      <path d=\"M 54.890625 33.015625 \r\nL 54.890625 0 \r\nL 45.90625 0 \r\nL 45.90625 32.71875 \r\nQ 45.90625 40.484375 42.875 44.328125 \r\nQ 39.84375 48.1875 33.796875 48.1875 \r\nQ 26.515625 48.1875 22.3125 43.546875 \r\nQ 18.109375 38.921875 18.109375 30.90625 \r\nL 18.109375 0 \r\nL 9.078125 0 \r\nL 9.078125 75.984375 \r\nL 18.109375 75.984375 \r\nL 18.109375 46.1875 \r\nQ 21.34375 51.125 25.703125 53.5625 \r\nQ 30.078125 56 35.796875 56 \r\nQ 45.21875 56 50.046875 50.171875 \r\nQ 54.890625 44.34375 54.890625 33.015625 \r\nz\r\n\" id=\"DejaVuSans-104\"/>\r\n      <path d=\"M 44.28125 53.078125 \r\nL 44.28125 44.578125 \r\nQ 40.484375 46.53125 36.375 47.5 \r\nQ 32.28125 48.484375 27.875 48.484375 \r\nQ 21.1875 48.484375 17.84375 46.4375 \r\nQ 14.5 44.390625 14.5 40.28125 \r\nQ 14.5 37.15625 16.890625 35.375 \r\nQ 19.28125 33.59375 26.515625 31.984375 \r\nL 29.59375 31.296875 \r\nQ 39.15625 29.25 43.1875 25.515625 \r\nQ 47.21875 21.78125 47.21875 15.09375 \r\nQ 47.21875 7.46875 41.1875 3.015625 \r\nQ 35.15625 -1.421875 24.609375 -1.421875 \r\nQ 20.21875 -1.421875 15.453125 -0.5625 \r\nQ 10.6875 0.296875 5.421875 2 \r\nL 5.421875 11.28125 \r\nQ 10.40625 8.6875 15.234375 7.390625 \r\nQ 20.0625 6.109375 24.8125 6.109375 \r\nQ 31.15625 6.109375 34.5625 8.28125 \r\nQ 37.984375 10.453125 37.984375 14.40625 \r\nQ 37.984375 18.0625 35.515625 20.015625 \r\nQ 33.0625 21.96875 24.703125 23.78125 \r\nL 21.578125 24.515625 \r\nQ 13.234375 26.265625 9.515625 29.90625 \r\nQ 5.8125 33.546875 5.8125 39.890625 \r\nQ 5.8125 47.609375 11.28125 51.796875 \r\nQ 16.75 56 26.8125 56 \r\nQ 31.78125 56 36.171875 55.265625 \r\nQ 40.578125 54.546875 44.28125 53.078125 \r\nz\r\n\" id=\"DejaVuSans-115\"/>\r\n     </defs>\r\n     <g transform=\"translate(327.74375 38.551381)scale(0.1 -0.1)\">\r\n      <use xlink:href=\"#DejaVuSans-100\"/>\r\n      <use x=\"63.476562\" xlink:href=\"#DejaVuSans-101\"/>\r\n      <use x=\"125\" xlink:href=\"#DejaVuSans-97\"/>\r\n      <use x=\"186.279297\" xlink:href=\"#DejaVuSans-116\"/>\r\n      <use x=\"225.488281\" xlink:href=\"#DejaVuSans-104\"/>\r\n      <use x=\"288.867188\" xlink:href=\"#DejaVuSans-115\"/>\r\n     </g>\r\n    </g>\r\n   </g>\r\n  </g>\r\n </g>\r\n <defs>\r\n  <clipPath id=\"peaf66e0f1f\">\r\n   <rect height=\"217.44\" width=\"334.8\" x=\"52.375\" y=\"7.274818\"/>\r\n  </clipPath>\r\n </defs>\r\n</svg>\r\n",
      "image/png": "[encoded data removed]"
     },
     "metadata": {
      "needs_background": "light"
     }
    }
   ],
   "source": [
    "combined = covid_cumlative_groupby['confirmed','deaths'].sum()\n",
    "combined.plot(kind='bar', stacked=True)"
   ]
  },
  {
   "cell_type": "code",
   "execution_count": 108,
   "metadata": {},
   "outputs": [],
   "source": [
    "urban_death = covid_cumlative_groupby['deaths'].mean()"
   ]
  },
  {
   "cell_type": "code",
   "execution_count": 109,
   "metadata": {},
   "outputs": [
    {
     "output_type": "execute_result",
     "data": {
      "text/plain": [
       "NCHS_urbanization\n",
       "Large central metro    1202.500000\n",
       "Large fringe metro       77.310345\n",
       "Medium metro            230.520000\n",
       "Micropolitan             40.739130\n",
       "Non-core                  9.595238\n",
       "Small metro              53.227273\n",
       "Name: deaths, dtype: float64"
      ]
     },
     "metadata": {},
     "execution_count": 109
    }
   ],
   "source": [
    "urban_death"
   ]
  },
  {
   "cell_type": "code",
   "execution_count": 110,
   "metadata": {},
   "outputs": [
    {
     "output_type": "error",
     "ename": "NameError",
     "evalue": "name 'urban_cases' is not defined",
     "traceback": [
      "\u001b[1;31m---------------------------------------------------------------------------\u001b[0m",
      "\u001b[1;31mNameError\u001b[0m                                 Traceback (most recent call last)",
      "\u001b[1;32m<ipython-input-110-31bd5f2445fa>\u001b[0m in \u001b[0;36m<module>\u001b[1;34m\u001b[0m\n\u001b[1;32m----> 1\u001b[1;33m \u001b[0murban_cases\u001b[0m\u001b[1;33m.\u001b[0m\u001b[0mplot\u001b[0m\u001b[1;33m.\u001b[0m\u001b[0mbar\u001b[0m\u001b[1;33m(\u001b[0m\u001b[1;33m)\u001b[0m\u001b[1;33m\u001b[0m\u001b[1;33m\u001b[0m\u001b[0m\n\u001b[0m",
      "\u001b[1;31mNameError\u001b[0m: name 'urban_cases' is not defined"
     ]
    }
   ],
   "source": [
    "urban_cases.plot.bar()"
   ]
  },
  {
   "cell_type": "code",
   "execution_count": 111,
   "metadata": {},
   "outputs": [
    {
     "output_type": "execute_result",
     "data": {
      "text/plain": [
       "NCHS_urbanization\n",
       "Large central metro    79545.666667\n",
       "Large fringe metro      4714.862069\n",
       "Medium metro            9861.880000\n",
       "Micropolitan            1375.391304\n",
       "Non-core                 326.746032\n",
       "Small metro             2680.727273\n",
       "Name: confirmed, dtype: float64"
      ]
     },
     "metadata": {},
     "execution_count": 111
    }
   ],
   "source": [
    "covid_cumlative_groupby['confirmed'].mean()"
   ]
  },
  {
   "source": [
    "## Select only data related to the state of Texas and drop all column with headers starting with \"new\""
   ],
   "cell_type": "markdown",
   "metadata": {}
  },
  {
   "cell_type": "code",
   "execution_count": 112,
   "metadata": {},
   "outputs": [
    {
     "output_type": "execute_result",
     "data": {
      "text/plain": [
       "             uid location_type  fips_code location_name  state       date  \\\n",
       "767924  84048001        county    48001.0      Anderson  Texas 2020-03-01   \n",
       "767925  84048001        county    48001.0      Anderson  Texas 2020-03-02   \n",
       "767926  84048001        county    48001.0      Anderson  Texas 2020-03-03   \n",
       "767927  84048001        county    48001.0      Anderson  Texas 2020-03-04   \n",
       "767928  84048001        county    48001.0      Anderson  Texas 2020-03-05   \n",
       "\n",
       "        total_population  cumulative_cases  cumulative_cases_per_100_000  \\\n",
       "767924           57863.0                 0                           0.0   \n",
       "767925           57863.0                 0                           0.0   \n",
       "767926           57863.0                 0                           0.0   \n",
       "767927           57863.0                 0                           0.0   \n",
       "767928           57863.0                 0                           0.0   \n",
       "\n",
       "        cumulative_deaths  cumulative_deaths_per_100_000  \n",
       "767924                  0                            0.0  \n",
       "767925                  0                            0.0  \n",
       "767926                  0                            0.0  \n",
       "767927                  0                            0.0  \n",
       "767928                  0                            0.0  "
      ],
      "text/html": "<div>\n<style scoped>\n    .dataframe tbody tr th:only-of-type {\n        vertical-align: middle;\n    }\n\n    .dataframe tbody tr th {\n        vertical-align: top;\n    }\n\n    .dataframe thead th {\n        text-align: right;\n    }\n</style>\n<table border=\"1\" class=\"dataframe\">\n  <thead>\n    <tr style=\"text-align: right;\">\n      <th></th>\n      <th>uid</th>\n      <th>location_type</th>\n      <th>fips_code</th>\n      <th>location_name</th>\n      <th>state</th>\n      <th>date</th>\n      <th>total_population</th>\n      <th>cumulative_cases</th>\n      <th>cumulative_cases_per_100_000</th>\n      <th>cumulative_deaths</th>\n      <th>cumulative_deaths_per_100_000</th>\n    </tr>\n  </thead>\n  <tbody>\n    <tr>\n      <th>767924</th>\n      <td>84048001</td>\n      <td>county</td>\n      <td>48001.0</td>\n      <td>Anderson</td>\n      <td>Texas</td>\n      <td>2020-03-01</td>\n      <td>57863.0</td>\n      <td>0</td>\n      <td>0.0</td>\n      <td>0</td>\n      <td>0.0</td>\n    </tr>\n    <tr>\n      <th>767925</th>\n      <td>84048001</td>\n      <td>county</td>\n      <td>48001.0</td>\n      <td>Anderson</td>\n      <td>Texas</td>\n      <td>2020-03-02</td>\n      <td>57863.0</td>\n      <td>0</td>\n      <td>0.0</td>\n      <td>0</td>\n      <td>0.0</td>\n    </tr>\n    <tr>\n      <th>767926</th>\n      <td>84048001</td>\n      <td>county</td>\n      <td>48001.0</td>\n      <td>Anderson</td>\n      <td>Texas</td>\n      <td>2020-03-03</td>\n      <td>57863.0</td>\n      <td>0</td>\n      <td>0.0</td>\n      <td>0</td>\n      <td>0.0</td>\n    </tr>\n    <tr>\n      <th>767927</th>\n      <td>84048001</td>\n      <td>county</td>\n      <td>48001.0</td>\n      <td>Anderson</td>\n      <td>Texas</td>\n      <td>2020-03-04</td>\n      <td>57863.0</td>\n      <td>0</td>\n      <td>0.0</td>\n      <td>0</td>\n      <td>0.0</td>\n    </tr>\n    <tr>\n      <th>767928</th>\n      <td>84048001</td>\n      <td>county</td>\n      <td>48001.0</td>\n      <td>Anderson</td>\n      <td>Texas</td>\n      <td>2020-03-05</td>\n      <td>57863.0</td>\n      <td>0</td>\n      <td>0.0</td>\n      <td>0</td>\n      <td>0.0</td>\n    </tr>\n  </tbody>\n</table>\n</div>"
     },
     "metadata": {},
     "execution_count": 112
    }
   ],
   "source": [
    "columns_todrop = []\n",
    "Texas_CaseDeathsBy_County_timeseries = CaseDeathsBy_County_timeseries.loc[(CaseDeathsBy_County_timeseries['state'] == 'Texas') & (CaseDeathsBy_County_timeseries['location_name'] != 'Unassigned') & (CaseDeathsBy_County_timeseries['location_name'] != 'Out of TX')]\n",
    "Texas_CaseDeathsBy_County_timeseries = Texas_CaseDeathsBy_County_timeseries.loc[Texas_CaseDeathsBy_County_timeseries['date'] >= '2020-03-01']\n",
    "for column in Texas_CaseDeathsBy_County_timeseries.columns:\n",
    "    if column.startswith('new'):\n",
    "        columns_todrop.append(column)\n",
    "for drop in columns_todrop:\n",
    "    Texas_CaseDeathsBy_County_timeseries = Texas_CaseDeathsBy_County_timeseries.drop(columns=drop)\n",
    "Texas_CaseDeathsBy_County_timeseries.head()"
   ]
  },
  {
   "source": [
    "## Drop all other unused columns"
   ],
   "cell_type": "markdown",
   "metadata": {}
  },
  {
   "cell_type": "code",
   "execution_count": 113,
   "metadata": {},
   "outputs": [],
   "source": [
    "Texas_CaseDeathsBy_County_timeseries = Texas_CaseDeathsBy_County_timeseries.drop(columns=[\"uid\",\"location_type\",\"state\"]).set_index('date')"
   ]
  },
  {
   "cell_type": "code",
   "execution_count": 115,
   "metadata": {},
   "outputs": [
    {
     "output_type": "execute_result",
     "data": {
      "text/plain": [
       "            fips_code location_name  total_population  cumulative_cases  \\\n",
       "date                                                                      \n",
       "2020-03-01    48001.0      Anderson           57863.0                 0   \n",
       "2020-03-02    48001.0      Anderson           57863.0                 0   \n",
       "2020-03-03    48001.0      Anderson           57863.0                 0   \n",
       "2020-03-04    48001.0      Anderson           57863.0                 0   \n",
       "2020-03-05    48001.0      Anderson           57863.0                 0   \n",
       "...               ...           ...               ...               ...   \n",
       "2020-11-11    48507.0        Zavala           12131.0               498   \n",
       "2020-11-12    48507.0        Zavala           12131.0               498   \n",
       "2020-11-13    48507.0        Zavala           12131.0               501   \n",
       "2020-11-14    48507.0        Zavala           12131.0               527   \n",
       "2020-11-15    48507.0        Zavala           12131.0               527   \n",
       "\n",
       "            cumulative_cases_per_100_000  cumulative_deaths  \\\n",
       "date                                                          \n",
       "2020-03-01                          0.00                  0   \n",
       "2020-03-02                          0.00                  0   \n",
       "2020-03-03                          0.00                  0   \n",
       "2020-03-04                          0.00                  0   \n",
       "2020-03-05                          0.00                  0   \n",
       "...                                  ...                ...   \n",
       "2020-11-11                       4105.19                 20   \n",
       "2020-11-12                       4105.19                 21   \n",
       "2020-11-13                       4129.92                 21   \n",
       "2020-11-14                       4344.24                 21   \n",
       "2020-11-15                       4344.24                 21   \n",
       "\n",
       "            cumulative_deaths_per_100_000  \n",
       "date                                       \n",
       "2020-03-01                           0.00  \n",
       "2020-03-02                           0.00  \n",
       "2020-03-03                           0.00  \n",
       "2020-03-04                           0.00  \n",
       "2020-03-05                           0.00  \n",
       "...                                   ...  \n",
       "2020-11-11                         164.87  \n",
       "2020-11-12                         173.11  \n",
       "2020-11-13                         173.11  \n",
       "2020-11-14                         173.11  \n",
       "2020-11-15                         173.11  \n",
       "\n",
       "[66040 rows x 7 columns]"
      ],
      "text/html": "<div>\n<style scoped>\n    .dataframe tbody tr th:only-of-type {\n        vertical-align: middle;\n    }\n\n    .dataframe tbody tr th {\n        vertical-align: top;\n    }\n\n    .dataframe thead th {\n        text-align: right;\n    }\n</style>\n<table border=\"1\" class=\"dataframe\">\n  <thead>\n    <tr style=\"text-align: right;\">\n      <th></th>\n      <th>fips_code</th>\n      <th>location_name</th>\n      <th>total_population</th>\n      <th>cumulative_cases</th>\n      <th>cumulative_cases_per_100_000</th>\n      <th>cumulative_deaths</th>\n      <th>cumulative_deaths_per_100_000</th>\n    </tr>\n    <tr>\n      <th>date</th>\n      <th></th>\n      <th></th>\n      <th></th>\n      <th></th>\n      <th></th>\n      <th></th>\n      <th></th>\n    </tr>\n  </thead>\n  <tbody>\n    <tr>\n      <th>2020-03-01</th>\n      <td>48001.0</td>\n      <td>Anderson</td>\n      <td>57863.0</td>\n      <td>0</td>\n      <td>0.00</td>\n      <td>0</td>\n      <td>0.00</td>\n    </tr>\n    <tr>\n      <th>2020-03-02</th>\n      <td>48001.0</td>\n      <td>Anderson</td>\n      <td>57863.0</td>\n      <td>0</td>\n      <td>0.00</td>\n      <td>0</td>\n      <td>0.00</td>\n    </tr>\n    <tr>\n      <th>2020-03-03</th>\n      <td>48001.0</td>\n      <td>Anderson</td>\n      <td>57863.0</td>\n      <td>0</td>\n      <td>0.00</td>\n      <td>0</td>\n      <td>0.00</td>\n    </tr>\n    <tr>\n      <th>2020-03-04</th>\n      <td>48001.0</td>\n      <td>Anderson</td>\n      <td>57863.0</td>\n      <td>0</td>\n      <td>0.00</td>\n      <td>0</td>\n      <td>0.00</td>\n    </tr>\n    <tr>\n      <th>2020-03-05</th>\n      <td>48001.0</td>\n      <td>Anderson</td>\n      <td>57863.0</td>\n      <td>0</td>\n      <td>0.00</td>\n      <td>0</td>\n      <td>0.00</td>\n    </tr>\n    <tr>\n      <th>...</th>\n      <td>...</td>\n      <td>...</td>\n      <td>...</td>\n      <td>...</td>\n      <td>...</td>\n      <td>...</td>\n      <td>...</td>\n    </tr>\n    <tr>\n      <th>2020-11-11</th>\n      <td>48507.0</td>\n      <td>Zavala</td>\n      <td>12131.0</td>\n      <td>498</td>\n      <td>4105.19</td>\n      <td>20</td>\n      <td>164.87</td>\n    </tr>\n    <tr>\n      <th>2020-11-12</th>\n      <td>48507.0</td>\n      <td>Zavala</td>\n      <td>12131.0</td>\n      <td>498</td>\n      <td>4105.19</td>\n      <td>21</td>\n      <td>173.11</td>\n    </tr>\n    <tr>\n      <th>2020-11-13</th>\n      <td>48507.0</td>\n      <td>Zavala</td>\n      <td>12131.0</td>\n      <td>501</td>\n      <td>4129.92</td>\n      <td>21</td>\n      <td>173.11</td>\n    </tr>\n    <tr>\n      <th>2020-11-14</th>\n      <td>48507.0</td>\n      <td>Zavala</td>\n      <td>12131.0</td>\n      <td>527</td>\n      <td>4344.24</td>\n      <td>21</td>\n      <td>173.11</td>\n    </tr>\n    <tr>\n      <th>2020-11-15</th>\n      <td>48507.0</td>\n      <td>Zavala</td>\n      <td>12131.0</td>\n      <td>527</td>\n      <td>4344.24</td>\n      <td>21</td>\n      <td>173.11</td>\n    </tr>\n  </tbody>\n</table>\n<p>66040 rows × 7 columns</p>\n</div>"
     },
     "metadata": {},
     "execution_count": 115
    }
   ],
   "source": [
    "Texas_CaseDeathsBy_County_timeseries"
   ]
  },
  {
   "cell_type": "code",
   "execution_count": 114,
   "metadata": {},
   "outputs": [],
   "source": [
    "unemployment_claims = unemployment_dataset.copy()\n",
    "unemployment_claims = unemployment_claims.transpose()\n",
    "unemployment_claims = unemployment_claims.fillna(0)"
   ]
  },
  {
   "cell_type": "code",
   "execution_count": 115,
   "metadata": {},
   "outputs": [],
   "source": [
    "unemployment_claims.columns = [''] * len(unemployment_claims.columns)\n",
    "unemployment_header = unemployment_claims.iloc[0]\n",
    "unemployment_claims = unemployment_claims[1:]\n",
    "unemployment_claims.columns = unemployment_header\n",
    "unemployment_claims.index.names = ['Date']\n",
    "unemployment_claims.columns.names = ['']"
   ]
  },
  {
   "cell_type": "code",
   "execution_count": 118,
   "metadata": {},
   "outputs": [
    {
     "output_type": "execute_result",
     "data": {
      "text/plain": [
       "           Anderson Andrews Angelina Aransas Archer Armstrong Atascosa Austin  \\\n",
       "Date                                                                            \n",
       "10/31/2020       42      17       77      32      3         1       46     28   \n",
       "10/24/2020       79      17       89      22      6         0       36     23   \n",
       "10/17/2020       54      17       80      40      5         1       35     26   \n",
       "10/10/2020       63      30       98      18     10         2       40     32   \n",
       "10/3/2020        64      25      103      26      6         1       55     37   \n",
       "9/26/2020        64      21      100      35      5         1       56     30   \n",
       "9/19/2020        61      18      119      25      4         0       70     29   \n",
       "9/12/2020        66      32      107      31      5         0       67     42   \n",
       "9/5/2020         85      22      171      50      6         3       96     45   \n",
       "8/29/2020        91      19      170      47      4         0       76     41   \n",
       "8/22/2020        96      34      157      45      8         5       96     40   \n",
       "8/15/2020        84      29      188      65     12         2       97     39   \n",
       "8/8/2020         92      33      147      38      5         3       66     31   \n",
       "8/1/2020         99      36      131      48     10         1       89     47   \n",
       "7/25/2020       104      45      204      59     11         3      113     67   \n",
       "7/18/2020        85      48      235      63     18         2      143     65   \n",
       "7/11/2020       147      67      258      85     13         3      147     61   \n",
       "7/4/2020        131      75      218      92     23         1      149     89   \n",
       "6/27/2020       103      43      187      70     13         0      129     51   \n",
       "6/20/2020       100      68      219      58      7         3      127     56   \n",
       "6/13/2020       108      50      201      63     11         2      147     57   \n",
       "6/6/2020        115      52      252      76     17         1      133     49   \n",
       "5/30/2020       134      61      250      59     12         2      119     64   \n",
       "5/23/2020       192      71      272      74     24         2      172     85   \n",
       "5/16/2020       123      94      304      80     23         4      194     82   \n",
       "5/9/2020        153      96      273      92     20         2      190     72   \n",
       "5/2/2020        181     117      463     154     32         5      291    107   \n",
       "4/25/2020       176     133      388     109     24         0      265    114   \n",
       "4/18/2020       183     143      449     160     41         5      302    120   \n",
       "4/11/2020       205     165      495     155     34        15      346    122   \n",
       "4/4/2020        252     143      689     230     58         6      409    170   \n",
       "3/28/2020       180      95      452     217     42         6      325    109   \n",
       "3/21/2020       101      50      227      70     20         1      177    100   \n",
       "3/14/2020        18      16       37      10      1         0       31     28   \n",
       "3/7/2020         20       1       37       9      2         2       20     17   \n",
       "\n",
       "           Bailey Bandera  ... Willacy Williamson Wilson Winkler Wise Wood  \\\n",
       "Date                       ...                                               \n",
       "10/31/2020      3      23  ...      24        422     28       7   74   31   \n",
       "10/24/2020      1      13  ...      51        409     34       8   65   33   \n",
       "10/17/2020      4      24  ...      43        434     30      15   45   26   \n",
       "10/10/2020      3      11  ...      24        484     41      11   57   38   \n",
       "10/3/2020       5      18  ...      15        574     41      12   79   45   \n",
       "9/26/2020       4      22  ...      26        564     39      18   59   46   \n",
       "9/19/2020       3      25  ...      23        526     42      13   59   29   \n",
       "9/12/2020       8       4  ...      19        524     41       8   51   56   \n",
       "9/5/2020        9      41  ...      29        800     54      19   86   83   \n",
       "8/29/2020       3      20  ...      29        654     45      12   77   53   \n",
       "8/22/2020       3      18  ...      28        630     46      22   82   37   \n",
       "8/15/2020       6      25  ...      40        678     60      19   84   48   \n",
       "8/8/2020        2      29  ...      49        641     53      14   66   68   \n",
       "8/1/2020        5      29  ...      47        678     55      14   80   51   \n",
       "7/25/2020       8      28  ...      43        838     86      26  104   69   \n",
       "7/18/2020       4      28  ...      38       1024     92      25  118   87   \n",
       "7/11/2020       8      44  ...      67       1202    109      35  152   78   \n",
       "7/4/2020       10      47  ...      60       1390    109      40  157   90   \n",
       "6/27/2020       6      39  ...      55       1149     63      32  142   74   \n",
       "6/20/2020       6      34  ...      42       1052    105      38  130   74   \n",
       "6/13/2020       3      34  ...      56        985     77      44  147   57   \n",
       "6/6/2020        5      27  ...      50       1130    100      33  177   89   \n",
       "5/30/2020       5      37  ...      72       1260    115      31  178   89   \n",
       "5/23/2020       6      54  ...      81       1537    132      51  196   91   \n",
       "5/16/2020       6      46  ...      75       1563    139      35  165  123   \n",
       "5/9/2020        5      53  ...      71       2016    184      37  247  135   \n",
       "5/2/2020        8      71  ...      76       2518    219      78  321  142   \n",
       "4/25/2020      10      82  ...      71       2735    193      56  236  130   \n",
       "4/18/2020      13      80  ...     101       3738    211      48  344  160   \n",
       "4/11/2020      10      81  ...     119       4848    236      50  368  219   \n",
       "4/4/2020       13     152  ...     109       5720    280      41  457  287   \n",
       "3/28/2020      11     117  ...      82       5725    242      41  457  201   \n",
       "3/21/2020       3      51  ...      35       3810    142      15  244   73   \n",
       "3/14/2020       4       4  ...      10        253     22       8   25   15   \n",
       "3/7/2020        3       5  ...      21        203     13       7  123   14   \n",
       "\n",
       "           Yoakum Young Zapata Zavala  \n",
       "Date                                   \n",
       "10/31/2020     14    16     20     11  \n",
       "10/24/2020      8    17     27     18  \n",
       "10/17/2020      6    17     27     12  \n",
       "10/10/2020      6    19     22     16  \n",
       "10/3/2020       9    11     19     16  \n",
       "9/26/2020       7    18     29     11  \n",
       "9/19/2020       5     7     23     21  \n",
       "9/12/2020      12    13     23     20  \n",
       "9/5/2020       10    22     34     18  \n",
       "8/29/2020      11    12     37     21  \n",
       "8/22/2020      10    15     34     43  \n",
       "8/15/2020      13    19     40     17  \n",
       "8/8/2020        3    18     24     18  \n",
       "8/1/2020        8    24     26     16  \n",
       "7/25/2020      13    20     32     32  \n",
       "7/18/2020      19    18     31     34  \n",
       "7/11/2020      10    29     30     45  \n",
       "7/4/2020       13    36     39     43  \n",
       "6/27/2020      16    35     61     23  \n",
       "6/20/2020      14    32     68     35  \n",
       "6/13/2020      16    23     48     25  \n",
       "6/6/2020       22    24     63     41  \n",
       "5/30/2020      18    30     59     48  \n",
       "5/23/2020      31    29     56     60  \n",
       "5/16/2020      63    46     42     45  \n",
       "5/9/2020       46    39     73     79  \n",
       "5/2/2020       63    52     89     62  \n",
       "4/25/2020      57    43     57     57  \n",
       "4/18/2020      84    60     59     41  \n",
       "4/11/2020      75    91     55     30  \n",
       "4/4/2020      101    95     71     41  \n",
       "3/28/2020      53    84     45     47  \n",
       "3/21/2020      27    31     29     27  \n",
       "3/14/2020      11     9      7      7  \n",
       "3/7/2020        2     2      7      7  \n",
       "\n",
       "[35 rows x 254 columns]"
      ],
      "text/html": "<div>\n<style scoped>\n    .dataframe tbody tr th:only-of-type {\n        vertical-align: middle;\n    }\n\n    .dataframe tbody tr th {\n        vertical-align: top;\n    }\n\n    .dataframe thead th {\n        text-align: right;\n    }\n</style>\n<table border=\"1\" class=\"dataframe\">\n  <thead>\n    <tr style=\"text-align: right;\">\n      <th></th>\n      <th>Anderson</th>\n      <th>Andrews</th>\n      <th>Angelina</th>\n      <th>Aransas</th>\n      <th>Archer</th>\n      <th>Armstrong</th>\n      <th>Atascosa</th>\n      <th>Austin</th>\n      <th>Bailey</th>\n      <th>Bandera</th>\n      <th>...</th>\n      <th>Willacy</th>\n      <th>Williamson</th>\n      <th>Wilson</th>\n      <th>Winkler</th>\n      <th>Wise</th>\n      <th>Wood</th>\n      <th>Yoakum</th>\n      <th>Young</th>\n      <th>Zapata</th>\n      <th>Zavala</th>\n    </tr>\n    <tr>\n      <th>Date</th>\n      <th></th>\n      <th></th>\n      <th></th>\n      <th></th>\n      <th></th>\n      <th></th>\n      <th></th>\n      <th></th>\n      <th></th>\n      <th></th>\n      <th></th>\n      <th></th>\n      <th></th>\n      <th></th>\n      <th></th>\n      <th></th>\n      <th></th>\n      <th></th>\n      <th></th>\n      <th></th>\n      <th></th>\n    </tr>\n  </thead>\n  <tbody>\n    <tr>\n      <th>10/31/2020</th>\n      <td>42</td>\n      <td>17</td>\n      <td>77</td>\n      <td>32</td>\n      <td>3</td>\n      <td>1</td>\n      <td>46</td>\n      <td>28</td>\n      <td>3</td>\n      <td>23</td>\n      <td>...</td>\n      <td>24</td>\n      <td>422</td>\n      <td>28</td>\n      <td>7</td>\n      <td>74</td>\n      <td>31</td>\n      <td>14</td>\n      <td>16</td>\n      <td>20</td>\n      <td>11</td>\n    </tr>\n    <tr>\n      <th>10/24/2020</th>\n      <td>79</td>\n      <td>17</td>\n      <td>89</td>\n      <td>22</td>\n      <td>6</td>\n      <td>0</td>\n      <td>36</td>\n      <td>23</td>\n      <td>1</td>\n      <td>13</td>\n      <td>...</td>\n      <td>51</td>\n      <td>409</td>\n      <td>34</td>\n      <td>8</td>\n      <td>65</td>\n      <td>33</td>\n      <td>8</td>\n      <td>17</td>\n      <td>27</td>\n      <td>18</td>\n    </tr>\n    <tr>\n      <th>10/17/2020</th>\n      <td>54</td>\n      <td>17</td>\n      <td>80</td>\n      <td>40</td>\n      <td>5</td>\n      <td>1</td>\n      <td>35</td>\n      <td>26</td>\n      <td>4</td>\n      <td>24</td>\n      <td>...</td>\n      <td>43</td>\n      <td>434</td>\n      <td>30</td>\n      <td>15</td>\n      <td>45</td>\n      <td>26</td>\n      <td>6</td>\n      <td>17</td>\n      <td>27</td>\n      <td>12</td>\n    </tr>\n    <tr>\n      <th>10/10/2020</th>\n      <td>63</td>\n      <td>30</td>\n      <td>98</td>\n      <td>18</td>\n      <td>10</td>\n      <td>2</td>\n      <td>40</td>\n      <td>32</td>\n      <td>3</td>\n      <td>11</td>\n      <td>...</td>\n      <td>24</td>\n      <td>484</td>\n      <td>41</td>\n      <td>11</td>\n      <td>57</td>\n      <td>38</td>\n      <td>6</td>\n      <td>19</td>\n      <td>22</td>\n      <td>16</td>\n    </tr>\n    <tr>\n      <th>10/3/2020</th>\n      <td>64</td>\n      <td>25</td>\n      <td>103</td>\n      <td>26</td>\n      <td>6</td>\n      <td>1</td>\n      <td>55</td>\n      <td>37</td>\n      <td>5</td>\n      <td>18</td>\n      <td>...</td>\n      <td>15</td>\n      <td>574</td>\n      <td>41</td>\n      <td>12</td>\n      <td>79</td>\n      <td>45</td>\n      <td>9</td>\n      <td>11</td>\n      <td>19</td>\n      <td>16</td>\n    </tr>\n    <tr>\n      <th>9/26/2020</th>\n      <td>64</td>\n      <td>21</td>\n      <td>100</td>\n      <td>35</td>\n      <td>5</td>\n      <td>1</td>\n      <td>56</td>\n      <td>30</td>\n      <td>4</td>\n      <td>22</td>\n      <td>...</td>\n      <td>26</td>\n      <td>564</td>\n      <td>39</td>\n      <td>18</td>\n      <td>59</td>\n      <td>46</td>\n      <td>7</td>\n      <td>18</td>\n      <td>29</td>\n      <td>11</td>\n    </tr>\n    <tr>\n      <th>9/19/2020</th>\n      <td>61</td>\n      <td>18</td>\n      <td>119</td>\n      <td>25</td>\n      <td>4</td>\n      <td>0</td>\n      <td>70</td>\n      <td>29</td>\n      <td>3</td>\n      <td>25</td>\n      <td>...</td>\n      <td>23</td>\n      <td>526</td>\n      <td>42</td>\n      <td>13</td>\n      <td>59</td>\n      <td>29</td>\n      <td>5</td>\n      <td>7</td>\n      <td>23</td>\n      <td>21</td>\n    </tr>\n    <tr>\n      <th>9/12/2020</th>\n      <td>66</td>\n      <td>32</td>\n      <td>107</td>\n      <td>31</td>\n      <td>5</td>\n      <td>0</td>\n      <td>67</td>\n      <td>42</td>\n      <td>8</td>\n      <td>4</td>\n      <td>...</td>\n      <td>19</td>\n      <td>524</td>\n      <td>41</td>\n      <td>8</td>\n      <td>51</td>\n      <td>56</td>\n      <td>12</td>\n      <td>13</td>\n      <td>23</td>\n      <td>20</td>\n    </tr>\n    <tr>\n      <th>9/5/2020</th>\n      <td>85</td>\n      <td>22</td>\n      <td>171</td>\n      <td>50</td>\n      <td>6</td>\n      <td>3</td>\n      <td>96</td>\n      <td>45</td>\n      <td>9</td>\n      <td>41</td>\n      <td>...</td>\n      <td>29</td>\n      <td>800</td>\n      <td>54</td>\n      <td>19</td>\n      <td>86</td>\n      <td>83</td>\n      <td>10</td>\n      <td>22</td>\n      <td>34</td>\n      <td>18</td>\n    </tr>\n    <tr>\n      <th>8/29/2020</th>\n      <td>91</td>\n      <td>19</td>\n      <td>170</td>\n      <td>47</td>\n      <td>4</td>\n      <td>0</td>\n      <td>76</td>\n      <td>41</td>\n      <td>3</td>\n      <td>20</td>\n      <td>...</td>\n      <td>29</td>\n      <td>654</td>\n      <td>45</td>\n      <td>12</td>\n      <td>77</td>\n      <td>53</td>\n      <td>11</td>\n      <td>12</td>\n      <td>37</td>\n      <td>21</td>\n    </tr>\n    <tr>\n      <th>8/22/2020</th>\n      <td>96</td>\n      <td>34</td>\n      <td>157</td>\n      <td>45</td>\n      <td>8</td>\n      <td>5</td>\n      <td>96</td>\n      <td>40</td>\n      <td>3</td>\n      <td>18</td>\n      <td>...</td>\n      <td>28</td>\n      <td>630</td>\n      <td>46</td>\n      <td>22</td>\n      <td>82</td>\n      <td>37</td>\n      <td>10</td>\n      <td>15</td>\n      <td>34</td>\n      <td>43</td>\n    </tr>\n    <tr>\n      <th>8/15/2020</th>\n      <td>84</td>\n      <td>29</td>\n      <td>188</td>\n      <td>65</td>\n      <td>12</td>\n      <td>2</td>\n      <td>97</td>\n      <td>39</td>\n      <td>6</td>\n      <td>25</td>\n      <td>...</td>\n      <td>40</td>\n      <td>678</td>\n      <td>60</td>\n      <td>19</td>\n      <td>84</td>\n      <td>48</td>\n      <td>13</td>\n      <td>19</td>\n      <td>40</td>\n      <td>17</td>\n    </tr>\n    <tr>\n      <th>8/8/2020</th>\n      <td>92</td>\n      <td>33</td>\n      <td>147</td>\n      <td>38</td>\n      <td>5</td>\n      <td>3</td>\n      <td>66</td>\n      <td>31</td>\n      <td>2</td>\n      <td>29</td>\n      <td>...</td>\n      <td>49</td>\n      <td>641</td>\n      <td>53</td>\n      <td>14</td>\n      <td>66</td>\n      <td>68</td>\n      <td>3</td>\n      <td>18</td>\n      <td>24</td>\n      <td>18</td>\n    </tr>\n    <tr>\n      <th>8/1/2020</th>\n      <td>99</td>\n      <td>36</td>\n      <td>131</td>\n      <td>48</td>\n      <td>10</td>\n      <td>1</td>\n      <td>89</td>\n      <td>47</td>\n      <td>5</td>\n      <td>29</td>\n      <td>...</td>\n      <td>47</td>\n      <td>678</td>\n      <td>55</td>\n      <td>14</td>\n      <td>80</td>\n      <td>51</td>\n      <td>8</td>\n      <td>24</td>\n      <td>26</td>\n      <td>16</td>\n    </tr>\n    <tr>\n      <th>7/25/2020</th>\n      <td>104</td>\n      <td>45</td>\n      <td>204</td>\n      <td>59</td>\n      <td>11</td>\n      <td>3</td>\n      <td>113</td>\n      <td>67</td>\n      <td>8</td>\n      <td>28</td>\n      <td>...</td>\n      <td>43</td>\n      <td>838</td>\n      <td>86</td>\n      <td>26</td>\n      <td>104</td>\n      <td>69</td>\n      <td>13</td>\n      <td>20</td>\n      <td>32</td>\n      <td>32</td>\n    </tr>\n    <tr>\n      <th>7/18/2020</th>\n      <td>85</td>\n      <td>48</td>\n      <td>235</td>\n      <td>63</td>\n      <td>18</td>\n      <td>2</td>\n      <td>143</td>\n      <td>65</td>\n      <td>4</td>\n      <td>28</td>\n      <td>...</td>\n      <td>38</td>\n      <td>1024</td>\n      <td>92</td>\n      <td>25</td>\n      <td>118</td>\n      <td>87</td>\n      <td>19</td>\n      <td>18</td>\n      <td>31</td>\n      <td>34</td>\n    </tr>\n    <tr>\n      <th>7/11/2020</th>\n      <td>147</td>\n      <td>67</td>\n      <td>258</td>\n      <td>85</td>\n      <td>13</td>\n      <td>3</td>\n      <td>147</td>\n      <td>61</td>\n      <td>8</td>\n      <td>44</td>\n      <td>...</td>\n      <td>67</td>\n      <td>1202</td>\n      <td>109</td>\n      <td>35</td>\n      <td>152</td>\n      <td>78</td>\n      <td>10</td>\n      <td>29</td>\n      <td>30</td>\n      <td>45</td>\n    </tr>\n    <tr>\n      <th>7/4/2020</th>\n      <td>131</td>\n      <td>75</td>\n      <td>218</td>\n      <td>92</td>\n      <td>23</td>\n      <td>1</td>\n      <td>149</td>\n      <td>89</td>\n      <td>10</td>\n      <td>47</td>\n      <td>...</td>\n      <td>60</td>\n      <td>1390</td>\n      <td>109</td>\n      <td>40</td>\n      <td>157</td>\n      <td>90</td>\n      <td>13</td>\n      <td>36</td>\n      <td>39</td>\n      <td>43</td>\n    </tr>\n    <tr>\n      <th>6/27/2020</th>\n      <td>103</td>\n      <td>43</td>\n      <td>187</td>\n      <td>70</td>\n      <td>13</td>\n      <td>0</td>\n      <td>129</td>\n      <td>51</td>\n      <td>6</td>\n      <td>39</td>\n      <td>...</td>\n      <td>55</td>\n      <td>1149</td>\n      <td>63</td>\n      <td>32</td>\n      <td>142</td>\n      <td>74</td>\n      <td>16</td>\n      <td>35</td>\n      <td>61</td>\n      <td>23</td>\n    </tr>\n    <tr>\n      <th>6/20/2020</th>\n      <td>100</td>\n      <td>68</td>\n      <td>219</td>\n      <td>58</td>\n      <td>7</td>\n      <td>3</td>\n      <td>127</td>\n      <td>56</td>\n      <td>6</td>\n      <td>34</td>\n      <td>...</td>\n      <td>42</td>\n      <td>1052</td>\n      <td>105</td>\n      <td>38</td>\n      <td>130</td>\n      <td>74</td>\n      <td>14</td>\n      <td>32</td>\n      <td>68</td>\n      <td>35</td>\n    </tr>\n    <tr>\n      <th>6/13/2020</th>\n      <td>108</td>\n      <td>50</td>\n      <td>201</td>\n      <td>63</td>\n      <td>11</td>\n      <td>2</td>\n      <td>147</td>\n      <td>57</td>\n      <td>3</td>\n      <td>34</td>\n      <td>...</td>\n      <td>56</td>\n      <td>985</td>\n      <td>77</td>\n      <td>44</td>\n      <td>147</td>\n      <td>57</td>\n      <td>16</td>\n      <td>23</td>\n      <td>48</td>\n      <td>25</td>\n    </tr>\n    <tr>\n      <th>6/6/2020</th>\n      <td>115</td>\n      <td>52</td>\n      <td>252</td>\n      <td>76</td>\n      <td>17</td>\n      <td>1</td>\n      <td>133</td>\n      <td>49</td>\n      <td>5</td>\n      <td>27</td>\n      <td>...</td>\n      <td>50</td>\n      <td>1130</td>\n      <td>100</td>\n      <td>33</td>\n      <td>177</td>\n      <td>89</td>\n      <td>22</td>\n      <td>24</td>\n      <td>63</td>\n      <td>41</td>\n    </tr>\n    <tr>\n      <th>5/30/2020</th>\n      <td>134</td>\n      <td>61</td>\n      <td>250</td>\n      <td>59</td>\n      <td>12</td>\n      <td>2</td>\n      <td>119</td>\n      <td>64</td>\n      <td>5</td>\n      <td>37</td>\n      <td>...</td>\n      <td>72</td>\n      <td>1260</td>\n      <td>115</td>\n      <td>31</td>\n      <td>178</td>\n      <td>89</td>\n      <td>18</td>\n      <td>30</td>\n      <td>59</td>\n      <td>48</td>\n    </tr>\n    <tr>\n      <th>5/23/2020</th>\n      <td>192</td>\n      <td>71</td>\n      <td>272</td>\n      <td>74</td>\n      <td>24</td>\n      <td>2</td>\n      <td>172</td>\n      <td>85</td>\n      <td>6</td>\n      <td>54</td>\n      <td>...</td>\n      <td>81</td>\n      <td>1537</td>\n      <td>132</td>\n      <td>51</td>\n      <td>196</td>\n      <td>91</td>\n      <td>31</td>\n      <td>29</td>\n      <td>56</td>\n      <td>60</td>\n    </tr>\n    <tr>\n      <th>5/16/2020</th>\n      <td>123</td>\n      <td>94</td>\n      <td>304</td>\n      <td>80</td>\n      <td>23</td>\n      <td>4</td>\n      <td>194</td>\n      <td>82</td>\n      <td>6</td>\n      <td>46</td>\n      <td>...</td>\n      <td>75</td>\n      <td>1563</td>\n      <td>139</td>\n      <td>35</td>\n      <td>165</td>\n      <td>123</td>\n      <td>63</td>\n      <td>46</td>\n      <td>42</td>\n      <td>45</td>\n    </tr>\n    <tr>\n      <th>5/9/2020</th>\n      <td>153</td>\n      <td>96</td>\n      <td>273</td>\n      <td>92</td>\n      <td>20</td>\n      <td>2</td>\n      <td>190</td>\n      <td>72</td>\n      <td>5</td>\n      <td>53</td>\n      <td>...</td>\n      <td>71</td>\n      <td>2016</td>\n      <td>184</td>\n      <td>37</td>\n      <td>247</td>\n      <td>135</td>\n      <td>46</td>\n      <td>39</td>\n      <td>73</td>\n      <td>79</td>\n    </tr>\n    <tr>\n      <th>5/2/2020</th>\n      <td>181</td>\n      <td>117</td>\n      <td>463</td>\n      <td>154</td>\n      <td>32</td>\n      <td>5</td>\n      <td>291</td>\n      <td>107</td>\n      <td>8</td>\n      <td>71</td>\n      <td>...</td>\n      <td>76</td>\n      <td>2518</td>\n      <td>219</td>\n      <td>78</td>\n      <td>321</td>\n      <td>142</td>\n      <td>63</td>\n      <td>52</td>\n      <td>89</td>\n      <td>62</td>\n    </tr>\n    <tr>\n      <th>4/25/2020</th>\n      <td>176</td>\n      <td>133</td>\n      <td>388</td>\n      <td>109</td>\n      <td>24</td>\n      <td>0</td>\n      <td>265</td>\n      <td>114</td>\n      <td>10</td>\n      <td>82</td>\n      <td>...</td>\n      <td>71</td>\n      <td>2735</td>\n      <td>193</td>\n      <td>56</td>\n      <td>236</td>\n      <td>130</td>\n      <td>57</td>\n      <td>43</td>\n      <td>57</td>\n      <td>57</td>\n    </tr>\n    <tr>\n      <th>4/18/2020</th>\n      <td>183</td>\n      <td>143</td>\n      <td>449</td>\n      <td>160</td>\n      <td>41</td>\n      <td>5</td>\n      <td>302</td>\n      <td>120</td>\n      <td>13</td>\n      <td>80</td>\n      <td>...</td>\n      <td>101</td>\n      <td>3738</td>\n      <td>211</td>\n      <td>48</td>\n      <td>344</td>\n      <td>160</td>\n      <td>84</td>\n      <td>60</td>\n      <td>59</td>\n      <td>41</td>\n    </tr>\n    <tr>\n      <th>4/11/2020</th>\n      <td>205</td>\n      <td>165</td>\n      <td>495</td>\n      <td>155</td>\n      <td>34</td>\n      <td>15</td>\n      <td>346</td>\n      <td>122</td>\n      <td>10</td>\n      <td>81</td>\n      <td>...</td>\n      <td>119</td>\n      <td>4848</td>\n      <td>236</td>\n      <td>50</td>\n      <td>368</td>\n      <td>219</td>\n      <td>75</td>\n      <td>91</td>\n      <td>55</td>\n      <td>30</td>\n    </tr>\n    <tr>\n      <th>4/4/2020</th>\n      <td>252</td>\n      <td>143</td>\n      <td>689</td>\n      <td>230</td>\n      <td>58</td>\n      <td>6</td>\n      <td>409</td>\n      <td>170</td>\n      <td>13</td>\n      <td>152</td>\n      <td>...</td>\n      <td>109</td>\n      <td>5720</td>\n      <td>280</td>\n      <td>41</td>\n      <td>457</td>\n      <td>287</td>\n      <td>101</td>\n      <td>95</td>\n      <td>71</td>\n      <td>41</td>\n    </tr>\n    <tr>\n      <th>3/28/2020</th>\n      <td>180</td>\n      <td>95</td>\n      <td>452</td>\n      <td>217</td>\n      <td>42</td>\n      <td>6</td>\n      <td>325</td>\n      <td>109</td>\n      <td>11</td>\n      <td>117</td>\n      <td>...</td>\n      <td>82</td>\n      <td>5725</td>\n      <td>242</td>\n      <td>41</td>\n      <td>457</td>\n      <td>201</td>\n      <td>53</td>\n      <td>84</td>\n      <td>45</td>\n      <td>47</td>\n    </tr>\n    <tr>\n      <th>3/21/2020</th>\n      <td>101</td>\n      <td>50</td>\n      <td>227</td>\n      <td>70</td>\n      <td>20</td>\n      <td>1</td>\n      <td>177</td>\n      <td>100</td>\n      <td>3</td>\n      <td>51</td>\n      <td>...</td>\n      <td>35</td>\n      <td>3810</td>\n      <td>142</td>\n      <td>15</td>\n      <td>244</td>\n      <td>73</td>\n      <td>27</td>\n      <td>31</td>\n      <td>29</td>\n      <td>27</td>\n    </tr>\n    <tr>\n      <th>3/14/2020</th>\n      <td>18</td>\n      <td>16</td>\n      <td>37</td>\n      <td>10</td>\n      <td>1</td>\n      <td>0</td>\n      <td>31</td>\n      <td>28</td>\n      <td>4</td>\n      <td>4</td>\n      <td>...</td>\n      <td>10</td>\n      <td>253</td>\n      <td>22</td>\n      <td>8</td>\n      <td>25</td>\n      <td>15</td>\n      <td>11</td>\n      <td>9</td>\n      <td>7</td>\n      <td>7</td>\n    </tr>\n    <tr>\n      <th>3/7/2020</th>\n      <td>20</td>\n      <td>1</td>\n      <td>37</td>\n      <td>9</td>\n      <td>2</td>\n      <td>2</td>\n      <td>20</td>\n      <td>17</td>\n      <td>3</td>\n      <td>5</td>\n      <td>...</td>\n      <td>21</td>\n      <td>203</td>\n      <td>13</td>\n      <td>7</td>\n      <td>123</td>\n      <td>14</td>\n      <td>2</td>\n      <td>2</td>\n      <td>7</td>\n      <td>7</td>\n    </tr>\n  </tbody>\n</table>\n<p>35 rows × 254 columns</p>\n</div>"
     },
     "metadata": {},
     "execution_count": 118
    }
   ],
   "source": [
    "unemployment_claims"
   ]
  },
  {
   "cell_type": "code",
   "execution_count": 116,
   "metadata": {},
   "outputs": [],
   "source": [
    "locations = Texas_ConfirmedByCounty_Covid[['lat','lon']]\n",
    "confirmed = Texas_ConfirmedByCounty_Covid['confirmed']"
   ]
  },
  {
   "cell_type": "code",
   "execution_count": 117,
   "metadata": {},
   "outputs": [
    {
     "output_type": "display_data",
     "data": {
      "text/plain": "Figure(layout=FigureLayout(height='420px', margin='0 auto 0 auto', width='1050px'))",
      "application/vnd.jupyter.widget-view+json": {
       "version_major": 2,
       "version_minor": 0,
       "model_id": "2601ca0d1bc340ba8963f06be5223157"
      }
     },
     "metadata": {}
    }
   ],
   "source": [
    "zero_coor = (31.81,-95.65)\n",
    "figure_layout = {'width': '1050px', 'margin': '0 auto 0 auto'}\n",
    "# Plot Heatmap\n",
    "fig = gmaps.figure(center=zero_coor,zoom_level=5.5,layout=figure_layout,map_type=\"TERRAIN\")\n",
    "\n",
    "# Create heat layer\n",
    "heat_layer = gmaps.heatmap_layer(locations, weights=confirmed,\n",
    "                                 dissipating=False, max_intensity=.5,\n",
    "                                 point_radius=.5)\n",
    "\n",
    "# Add layer\n",
    "fig.add_layer(heat_layer)\n",
    "\n",
    "# Display figure\n",
    "fig"
   ]
  },
  {
   "cell_type": "code",
   "execution_count": 4,
   "metadata": {},
   "outputs": [],
   "source": [
    "## COVID-19 in Low Income Communities\n",
    "\n"
   ]
  },
  {
   "cell_type": "code",
   "execution_count": 188,
   "metadata": {},
   "outputs": [
    {
     "output_type": "execute_result",
     "data": {
      "text/plain": [
       "               County  Median Household Income  fips_code  total_population  \\\n",
       "2020-03-31   Anderson                  45969.0    48001.0           57863.0   \n",
       "2020-04-30   Anderson                  45969.0    48001.0           57863.0   \n",
       "2020-05-31   Anderson                  45969.0    48001.0           57863.0   \n",
       "2020-06-30   Anderson                  45969.0    48001.0           57863.0   \n",
       "2020-07-31   Anderson                  45969.0    48001.0           57863.0   \n",
       "...               ...                      ...        ...               ...   \n",
       "2020-11-11    Wichita                  47477.0    48485.0          131818.0   \n",
       "2020-11-11  Wilbarger                  44735.0    48487.0           12906.0   \n",
       "2020-11-11    Winkler                  56781.0    48495.0            7802.0   \n",
       "2020-11-11       Wood                  48384.0    48499.0           43815.0   \n",
       "2020-11-11      Young                  49301.0    48503.0           18114.0   \n",
       "\n",
       "            cumulative_cases  cumulative_cases_per_100_000  cumulative_deaths  \\\n",
       "2020-03-31                 1                          1.73                  0   \n",
       "2020-04-30                29                         50.12                  0   \n",
       "2020-05-31                72                        124.43                  0   \n",
       "2020-06-30              1032                       1783.52                  2   \n",
       "2020-07-31              2196                       3795.17                  8   \n",
       "...                      ...                           ...                ...   \n",
       "2020-11-11              4966                       3767.32                 74   \n",
       "2020-11-11               470                       3641.72                  6   \n",
       "2020-11-11               180                       2307.10                  5   \n",
       "2020-11-11               722                       1647.84                 44   \n",
       "2020-11-11               704                       3886.50                 13   \n",
       "\n",
       "            cumulative_deaths_per_100_000  \n",
       "2020-03-31                           0.00  \n",
       "2020-04-30                           0.00  \n",
       "2020-05-31                           0.00  \n",
       "2020-06-30                           3.46  \n",
       "2020-07-31                          13.83  \n",
       "...                                   ...  \n",
       "2020-11-11                          56.14  \n",
       "2020-11-11                          46.49  \n",
       "2020-11-11                          64.09  \n",
       "2020-11-11                         100.42  \n",
       "2020-11-11                          71.77  \n",
       "\n",
       "[1701 rows x 8 columns]"
      ],
      "text/html": "<div>\n<style scoped>\n    .dataframe tbody tr th:only-of-type {\n        vertical-align: middle;\n    }\n\n    .dataframe tbody tr th {\n        vertical-align: top;\n    }\n\n    .dataframe thead th {\n        text-align: right;\n    }\n</style>\n<table border=\"1\" class=\"dataframe\">\n  <thead>\n    <tr style=\"text-align: right;\">\n      <th></th>\n      <th>County</th>\n      <th>Median Household Income</th>\n      <th>fips_code</th>\n      <th>total_population</th>\n      <th>cumulative_cases</th>\n      <th>cumulative_cases_per_100_000</th>\n      <th>cumulative_deaths</th>\n      <th>cumulative_deaths_per_100_000</th>\n    </tr>\n  </thead>\n  <tbody>\n    <tr>\n      <th>2020-03-31</th>\n      <td>Anderson</td>\n      <td>45969.0</td>\n      <td>48001.0</td>\n      <td>57863.0</td>\n      <td>1</td>\n      <td>1.73</td>\n      <td>0</td>\n      <td>0.00</td>\n    </tr>\n    <tr>\n      <th>2020-04-30</th>\n      <td>Anderson</td>\n      <td>45969.0</td>\n      <td>48001.0</td>\n      <td>57863.0</td>\n      <td>29</td>\n      <td>50.12</td>\n      <td>0</td>\n      <td>0.00</td>\n    </tr>\n    <tr>\n      <th>2020-05-31</th>\n      <td>Anderson</td>\n      <td>45969.0</td>\n      <td>48001.0</td>\n      <td>57863.0</td>\n      <td>72</td>\n      <td>124.43</td>\n      <td>0</td>\n      <td>0.00</td>\n    </tr>\n    <tr>\n      <th>2020-06-30</th>\n      <td>Anderson</td>\n      <td>45969.0</td>\n      <td>48001.0</td>\n      <td>57863.0</td>\n      <td>1032</td>\n      <td>1783.52</td>\n      <td>2</td>\n      <td>3.46</td>\n    </tr>\n    <tr>\n      <th>2020-07-31</th>\n      <td>Anderson</td>\n      <td>45969.0</td>\n      <td>48001.0</td>\n      <td>57863.0</td>\n      <td>2196</td>\n      <td>3795.17</td>\n      <td>8</td>\n      <td>13.83</td>\n    </tr>\n    <tr>\n      <th>...</th>\n      <td>...</td>\n      <td>...</td>\n      <td>...</td>\n      <td>...</td>\n      <td>...</td>\n      <td>...</td>\n      <td>...</td>\n      <td>...</td>\n    </tr>\n    <tr>\n      <th>2020-11-11</th>\n      <td>Wichita</td>\n      <td>47477.0</td>\n      <td>48485.0</td>\n      <td>131818.0</td>\n      <td>4966</td>\n      <td>3767.32</td>\n      <td>74</td>\n      <td>56.14</td>\n    </tr>\n    <tr>\n      <th>2020-11-11</th>\n      <td>Wilbarger</td>\n      <td>44735.0</td>\n      <td>48487.0</td>\n      <td>12906.0</td>\n      <td>470</td>\n      <td>3641.72</td>\n      <td>6</td>\n      <td>46.49</td>\n    </tr>\n    <tr>\n      <th>2020-11-11</th>\n      <td>Winkler</td>\n      <td>56781.0</td>\n      <td>48495.0</td>\n      <td>7802.0</td>\n      <td>180</td>\n      <td>2307.10</td>\n      <td>5</td>\n      <td>64.09</td>\n    </tr>\n    <tr>\n      <th>2020-11-11</th>\n      <td>Wood</td>\n      <td>48384.0</td>\n      <td>48499.0</td>\n      <td>43815.0</td>\n      <td>722</td>\n      <td>1647.84</td>\n      <td>44</td>\n      <td>100.42</td>\n    </tr>\n    <tr>\n      <th>2020-11-11</th>\n      <td>Young</td>\n      <td>49301.0</td>\n      <td>48503.0</td>\n      <td>18114.0</td>\n      <td>704</td>\n      <td>3886.50</td>\n      <td>13</td>\n      <td>71.77</td>\n    </tr>\n  </tbody>\n</table>\n<p>1701 rows × 8 columns</p>\n</div>"
     },
     "metadata": {},
     "execution_count": 188
    }
   ],
   "source": [
    "#combined_low = texas_median_income.loc[(texas_median_income['Median Household Income'] < 57000)]\n",
    "COPY_TXCaseDeathsBy_County_timeseries = Texas_CaseDeathsBy_County_timeseries.rename(columns={\"location_name\": \"County\"})\n",
    "\n",
    "#COPY_TXCaseDeathsBy_County_timeseries\n",
    "index = Texas_CaseDeathsBy_County_timeseries.index.values\n",
    "combined_low_covidcases = pd.merge(texas_low_income, COPY_TXCaseDeathsBy_County_timeseries, on='County', how='outer').set_index(index)\n",
    "combined_low_covidcases = combined_low_covidcases.dropna(how='any')\n",
    "combined_low_covidcases\n",
    "\n",
    "#lastday_month_low_covidcases = combined_low_covidcases.filter(like='2020-03-31', axis=0)\n",
    "#lastday_month_low_covidcases\n",
    "#lastday_march_low_covidcases = combined_low_covidcases['2020-03-31']\n",
    "#lastday_sum_march_low_covidcases = lastday_march_low_covidcases['cumulative_cases'].sum()\n",
    "#lastday_sum_march_low_covidcases\n",
    "\n",
    "#loop covid Numbers\n",
    "#Dates = combined_low_covidcases[(combined_low_covidcases.index + pd.Timedelta(days=1)).day == 1]\n",
    "#Dates.head(50)\n",
    "Dates = combined_low_covidcases[(combined_low_covidcases.index + pd.Timedelta(days=1)).day == 1]\n",
    "test2 = combined_low_covidcases.loc['2020-11-11']\n",
    "Dates = Dates.append(test2)\n",
    "Dates\n",
    "#Dates = ['2020-03-31', '2020-04-30', '2020-05-31', '2020-06-30', '2020-07-31', '2020-08-31', ]\n",
    "#Dates.append('2020-11-11')\n",
    "#from pandas.tseries.offsets import MonthEnd\n",
    "#df['Date'] = pd.to_datetime(df['Date'], format=\"%Y%m\") + MonthEnd(1)\n",
    "#Dates.append(pd.Series(pd.date_range('2020-3-31',periods = 8, freq = 'M')))\n",
    "#Dates.append('2020-11-11').astype(datetime64)\n",
    "#print(Dates)\n",
    "\n",
    "#Texas_CaseDeathsBy_County_timeseries\n",
    "#combined_low_covidcases.insert(4, \"\") -come back to this thought about adding difference in covid cases per day\n",
    "\n",
    "# sort data by month?\n",
    "#march_combined_low_covidcases = combined_low_covidcases.filter(like='2020-03', axis=0)\n",
    "#march_combined_low_covidcases\n",
    "#keep last day of month for every county to keep most recent cumulative cases per 100,000\n"
   ]
  },
  {
   "cell_type": "code",
   "execution_count": 150,
   "metadata": {},
   "outputs": [
    {
     "output_type": "execute_result",
     "data": {
      "text/plain": [
       "            County  Median Household Income  fips_code  total_population  \\\n",
       "2020-03-01  Brooks                  30116.0    48047.0            7180.0   \n",
       "2020-03-02  Brooks                  30116.0    48047.0            7180.0   \n",
       "2020-03-03  Brooks                  30116.0    48047.0            7180.0   \n",
       "2020-03-04  Brooks                  30116.0    48047.0            7180.0   \n",
       "2020-03-05  Brooks                  30116.0    48047.0            7180.0   \n",
       "...            ...                      ...        ...               ...   \n",
       "2020-11-07  Zavala                  30007.0    48507.0           12131.0   \n",
       "2020-11-08  Zavala                  30007.0    48507.0           12131.0   \n",
       "2020-11-09  Zavala                  30007.0    48507.0           12131.0   \n",
       "2020-11-10  Zavala                  30007.0    48507.0           12131.0   \n",
       "2020-11-11  Zavala                  30007.0    48507.0           12131.0   \n",
       "\n",
       "            cumulative_cases  cumulative_cases_per_100_000  cumulative_deaths  \\\n",
       "2020-03-01                 0                          0.00                  0   \n",
       "2020-03-02                 0                          0.00                  0   \n",
       "2020-03-03                 0                          0.00                  0   \n",
       "2020-03-04                 0                          0.00                  0   \n",
       "2020-03-05                 0                          0.00                  0   \n",
       "...                      ...                           ...                ...   \n",
       "2020-11-07               483                       3981.53                 19   \n",
       "2020-11-08               483                       3981.53                 19   \n",
       "2020-11-09               492                       4055.73                 19   \n",
       "2020-11-10               498                       4105.19                 19   \n",
       "2020-11-11               498                       4105.19                 20   \n",
       "\n",
       "            cumulative_deaths_per_100_000  \n",
       "2020-03-01                           0.00  \n",
       "2020-03-02                           0.00  \n",
       "2020-03-03                           0.00  \n",
       "2020-03-04                           0.00  \n",
       "2020-03-05                           0.00  \n",
       "...                                   ...  \n",
       "2020-11-07                         156.62  \n",
       "2020-11-08                         156.62  \n",
       "2020-11-09                         156.62  \n",
       "2020-11-10                         156.62  \n",
       "2020-11-11                         164.87  \n",
       "\n",
       "[2304 rows x 8 columns]"
      ],
      "text/html": "<div>\n<style scoped>\n    .dataframe tbody tr th:only-of-type {\n        vertical-align: middle;\n    }\n\n    .dataframe tbody tr th {\n        vertical-align: top;\n    }\n\n    .dataframe thead th {\n        text-align: right;\n    }\n</style>\n<table border=\"1\" class=\"dataframe\">\n  <thead>\n    <tr style=\"text-align: right;\">\n      <th></th>\n      <th>County</th>\n      <th>Median Household Income</th>\n      <th>fips_code</th>\n      <th>total_population</th>\n      <th>cumulative_cases</th>\n      <th>cumulative_cases_per_100_000</th>\n      <th>cumulative_deaths</th>\n      <th>cumulative_deaths_per_100_000</th>\n    </tr>\n  </thead>\n  <tbody>\n    <tr>\n      <th>2020-03-01</th>\n      <td>Brooks</td>\n      <td>30116.0</td>\n      <td>48047.0</td>\n      <td>7180.0</td>\n      <td>0</td>\n      <td>0.00</td>\n      <td>0</td>\n      <td>0.00</td>\n    </tr>\n    <tr>\n      <th>2020-03-02</th>\n      <td>Brooks</td>\n      <td>30116.0</td>\n      <td>48047.0</td>\n      <td>7180.0</td>\n      <td>0</td>\n      <td>0.00</td>\n      <td>0</td>\n      <td>0.00</td>\n    </tr>\n    <tr>\n      <th>2020-03-03</th>\n      <td>Brooks</td>\n      <td>30116.0</td>\n      <td>48047.0</td>\n      <td>7180.0</td>\n      <td>0</td>\n      <td>0.00</td>\n      <td>0</td>\n      <td>0.00</td>\n    </tr>\n    <tr>\n      <th>2020-03-04</th>\n      <td>Brooks</td>\n      <td>30116.0</td>\n      <td>48047.0</td>\n      <td>7180.0</td>\n      <td>0</td>\n      <td>0.00</td>\n      <td>0</td>\n      <td>0.00</td>\n    </tr>\n    <tr>\n      <th>2020-03-05</th>\n      <td>Brooks</td>\n      <td>30116.0</td>\n      <td>48047.0</td>\n      <td>7180.0</td>\n      <td>0</td>\n      <td>0.00</td>\n      <td>0</td>\n      <td>0.00</td>\n    </tr>\n    <tr>\n      <th>...</th>\n      <td>...</td>\n      <td>...</td>\n      <td>...</td>\n      <td>...</td>\n      <td>...</td>\n      <td>...</td>\n      <td>...</td>\n      <td>...</td>\n    </tr>\n    <tr>\n      <th>2020-11-07</th>\n      <td>Zavala</td>\n      <td>30007.0</td>\n      <td>48507.0</td>\n      <td>12131.0</td>\n      <td>483</td>\n      <td>3981.53</td>\n      <td>19</td>\n      <td>156.62</td>\n    </tr>\n    <tr>\n      <th>2020-11-08</th>\n      <td>Zavala</td>\n      <td>30007.0</td>\n      <td>48507.0</td>\n      <td>12131.0</td>\n      <td>483</td>\n      <td>3981.53</td>\n      <td>19</td>\n      <td>156.62</td>\n    </tr>\n    <tr>\n      <th>2020-11-09</th>\n      <td>Zavala</td>\n      <td>30007.0</td>\n      <td>48507.0</td>\n      <td>12131.0</td>\n      <td>492</td>\n      <td>4055.73</td>\n      <td>19</td>\n      <td>156.62</td>\n    </tr>\n    <tr>\n      <th>2020-11-10</th>\n      <td>Zavala</td>\n      <td>30007.0</td>\n      <td>48507.0</td>\n      <td>12131.0</td>\n      <td>498</td>\n      <td>4105.19</td>\n      <td>19</td>\n      <td>156.62</td>\n    </tr>\n    <tr>\n      <th>2020-11-11</th>\n      <td>Zavala</td>\n      <td>30007.0</td>\n      <td>48507.0</td>\n      <td>12131.0</td>\n      <td>498</td>\n      <td>4105.19</td>\n      <td>20</td>\n      <td>164.87</td>\n    </tr>\n  </tbody>\n</table>\n<p>2304 rows × 8 columns</p>\n</div>"
     },
     "metadata": {},
     "execution_count": 150
    }
   ],
   "source": [
    "combined_verylow_covidcases = pd.merge(texas_verylow_income, COPY_TXCaseDeathsBy_County_timeseries, on='County', how='outer').set_index(index)\n",
    "combined_verylow_covidcases = combined_verylow_covidcases.dropna(how='any')\n",
    "combined_verylow_covidcases"
   ]
  },
  {
   "cell_type": "code",
   "execution_count": 143,
   "metadata": {},
   "outputs": [
    {
     "output_type": "error",
     "ename": "ValueError",
     "evalue": "shape mismatch: objects cannot be broadcast to a single shape",
     "traceback": [
      "\u001b[1;31m---------------------------------------------------------------------------\u001b[0m",
      "\u001b[1;31mValueError\u001b[0m                                Traceback (most recent call last)",
      "\u001b[1;32m<ipython-input-143-7f307b60a2ce>\u001b[0m in \u001b[0;36m<module>\u001b[1;34m\u001b[0m\n\u001b[0;32m      1\u001b[0m \u001b[1;31m#plt.scatter(index, combined_low_covidcases['confirmed'], c='red', marker='o')\u001b[0m\u001b[1;33m\u001b[0m\u001b[1;33m\u001b[0m\u001b[1;33m\u001b[0m\u001b[0m\n\u001b[1;32m----> 2\u001b[1;33m \u001b[0mplt\u001b[0m\u001b[1;33m.\u001b[0m\u001b[0mbar\u001b[0m\u001b[1;33m(\u001b[0m\u001b[0mindex\u001b[0m\u001b[1;33m,\u001b[0m \u001b[0mcombined_low_covidcases\u001b[0m\u001b[1;33m[\u001b[0m\u001b[1;34m'cumulative_cases'\u001b[0m\u001b[1;33m]\u001b[0m\u001b[1;33m)\u001b[0m\u001b[1;33m\u001b[0m\u001b[1;33m\u001b[0m\u001b[0m\n\u001b[0m",
      "\u001b[1;32m~\\anaconda3\\lib\\site-packages\\matplotlib\\pyplot.py\u001b[0m in \u001b[0;36mbar\u001b[1;34m(x, height, width, bottom, align, data, **kwargs)\u001b[0m\n\u001b[0;32m   2405\u001b[0m         \u001b[0mx\u001b[0m\u001b[1;33m,\u001b[0m \u001b[0mheight\u001b[0m\u001b[1;33m,\u001b[0m \u001b[0mwidth\u001b[0m\u001b[1;33m=\u001b[0m\u001b[1;36m0.8\u001b[0m\u001b[1;33m,\u001b[0m \u001b[0mbottom\u001b[0m\u001b[1;33m=\u001b[0m\u001b[1;32mNone\u001b[0m\u001b[1;33m,\u001b[0m \u001b[1;33m*\u001b[0m\u001b[1;33m,\u001b[0m \u001b[0malign\u001b[0m\u001b[1;33m=\u001b[0m\u001b[1;34m'center'\u001b[0m\u001b[1;33m,\u001b[0m\u001b[1;33m\u001b[0m\u001b[1;33m\u001b[0m\u001b[0m\n\u001b[0;32m   2406\u001b[0m         data=None, **kwargs):\n\u001b[1;32m-> 2407\u001b[1;33m     return gca().bar(\n\u001b[0m\u001b[0;32m   2408\u001b[0m         \u001b[0mx\u001b[0m\u001b[1;33m,\u001b[0m \u001b[0mheight\u001b[0m\u001b[1;33m,\u001b[0m \u001b[0mwidth\u001b[0m\u001b[1;33m=\u001b[0m\u001b[0mwidth\u001b[0m\u001b[1;33m,\u001b[0m \u001b[0mbottom\u001b[0m\u001b[1;33m=\u001b[0m\u001b[0mbottom\u001b[0m\u001b[1;33m,\u001b[0m \u001b[0malign\u001b[0m\u001b[1;33m=\u001b[0m\u001b[0malign\u001b[0m\u001b[1;33m,\u001b[0m\u001b[1;33m\u001b[0m\u001b[1;33m\u001b[0m\u001b[0m\n\u001b[0;32m   2409\u001b[0m         **({\"data\": data} if data is not None else {}), **kwargs)\n",
      "\u001b[1;32m~\\anaconda3\\lib\\site-packages\\matplotlib\\__init__.py\u001b[0m in \u001b[0;36minner\u001b[1;34m(ax, data, *args, **kwargs)\u001b[0m\n\u001b[0;32m   1563\u001b[0m     \u001b[1;32mdef\u001b[0m \u001b[0minner\u001b[0m\u001b[1;33m(\u001b[0m\u001b[0max\u001b[0m\u001b[1;33m,\u001b[0m \u001b[1;33m*\u001b[0m\u001b[0margs\u001b[0m\u001b[1;33m,\u001b[0m \u001b[0mdata\u001b[0m\u001b[1;33m=\u001b[0m\u001b[1;32mNone\u001b[0m\u001b[1;33m,\u001b[0m \u001b[1;33m**\u001b[0m\u001b[0mkwargs\u001b[0m\u001b[1;33m)\u001b[0m\u001b[1;33m:\u001b[0m\u001b[1;33m\u001b[0m\u001b[1;33m\u001b[0m\u001b[0m\n\u001b[0;32m   1564\u001b[0m         \u001b[1;32mif\u001b[0m \u001b[0mdata\u001b[0m \u001b[1;32mis\u001b[0m \u001b[1;32mNone\u001b[0m\u001b[1;33m:\u001b[0m\u001b[1;33m\u001b[0m\u001b[1;33m\u001b[0m\u001b[0m\n\u001b[1;32m-> 1565\u001b[1;33m             \u001b[1;32mreturn\u001b[0m \u001b[0mfunc\u001b[0m\u001b[1;33m(\u001b[0m\u001b[0max\u001b[0m\u001b[1;33m,\u001b[0m \u001b[1;33m*\u001b[0m\u001b[0mmap\u001b[0m\u001b[1;33m(\u001b[0m\u001b[0msanitize_sequence\u001b[0m\u001b[1;33m,\u001b[0m \u001b[0margs\u001b[0m\u001b[1;33m)\u001b[0m\u001b[1;33m,\u001b[0m \u001b[1;33m**\u001b[0m\u001b[0mkwargs\u001b[0m\u001b[1;33m)\u001b[0m\u001b[1;33m\u001b[0m\u001b[1;33m\u001b[0m\u001b[0m\n\u001b[0m\u001b[0;32m   1566\u001b[0m \u001b[1;33m\u001b[0m\u001b[0m\n\u001b[0;32m   1567\u001b[0m         \u001b[0mbound\u001b[0m \u001b[1;33m=\u001b[0m \u001b[0mnew_sig\u001b[0m\u001b[1;33m.\u001b[0m\u001b[0mbind\u001b[0m\u001b[1;33m(\u001b[0m\u001b[0max\u001b[0m\u001b[1;33m,\u001b[0m \u001b[1;33m*\u001b[0m\u001b[0margs\u001b[0m\u001b[1;33m,\u001b[0m \u001b[1;33m**\u001b[0m\u001b[0mkwargs\u001b[0m\u001b[1;33m)\u001b[0m\u001b[1;33m\u001b[0m\u001b[1;33m\u001b[0m\u001b[0m\n",
      "\u001b[1;32m~\\anaconda3\\lib\\site-packages\\matplotlib\\axes\\_axes.py\u001b[0m in \u001b[0;36mbar\u001b[1;34m(self, x, height, width, bottom, align, **kwargs)\u001b[0m\n\u001b[0;32m   2338\u001b[0m                 \u001b[0myerr\u001b[0m \u001b[1;33m=\u001b[0m \u001b[0mself\u001b[0m\u001b[1;33m.\u001b[0m\u001b[0m_convert_dx\u001b[0m\u001b[1;33m(\u001b[0m\u001b[0myerr\u001b[0m\u001b[1;33m,\u001b[0m \u001b[0my0\u001b[0m\u001b[1;33m,\u001b[0m \u001b[0my\u001b[0m\u001b[1;33m,\u001b[0m \u001b[0mself\u001b[0m\u001b[1;33m.\u001b[0m\u001b[0mconvert_yunits\u001b[0m\u001b[1;33m)\u001b[0m\u001b[1;33m\u001b[0m\u001b[1;33m\u001b[0m\u001b[0m\n\u001b[0;32m   2339\u001b[0m \u001b[1;33m\u001b[0m\u001b[0m\n\u001b[1;32m-> 2340\u001b[1;33m         x, height, width, y, linewidth = np.broadcast_arrays(\n\u001b[0m\u001b[0;32m   2341\u001b[0m             \u001b[1;31m# Make args iterable too.\u001b[0m\u001b[1;33m\u001b[0m\u001b[1;33m\u001b[0m\u001b[1;33m\u001b[0m\u001b[0m\n\u001b[0;32m   2342\u001b[0m             np.atleast_1d(x), height, width, y, linewidth)\n",
      "\u001b[1;32m<__array_function__ internals>\u001b[0m in \u001b[0;36mbroadcast_arrays\u001b[1;34m(*args, **kwargs)\u001b[0m\n",
      "\u001b[1;32m~\\anaconda3\\lib\\site-packages\\numpy\\lib\\stride_tricks.py\u001b[0m in \u001b[0;36mbroadcast_arrays\u001b[1;34m(*args, **kwargs)\u001b[0m\n\u001b[0;32m    262\u001b[0m     \u001b[0margs\u001b[0m \u001b[1;33m=\u001b[0m \u001b[1;33m[\u001b[0m\u001b[0mnp\u001b[0m\u001b[1;33m.\u001b[0m\u001b[0marray\u001b[0m\u001b[1;33m(\u001b[0m\u001b[0m_m\u001b[0m\u001b[1;33m,\u001b[0m \u001b[0mcopy\u001b[0m\u001b[1;33m=\u001b[0m\u001b[1;32mFalse\u001b[0m\u001b[1;33m,\u001b[0m \u001b[0msubok\u001b[0m\u001b[1;33m=\u001b[0m\u001b[0msubok\u001b[0m\u001b[1;33m)\u001b[0m \u001b[1;32mfor\u001b[0m \u001b[0m_m\u001b[0m \u001b[1;32min\u001b[0m \u001b[0margs\u001b[0m\u001b[1;33m]\u001b[0m\u001b[1;33m\u001b[0m\u001b[1;33m\u001b[0m\u001b[0m\n\u001b[0;32m    263\u001b[0m \u001b[1;33m\u001b[0m\u001b[0m\n\u001b[1;32m--> 264\u001b[1;33m     \u001b[0mshape\u001b[0m \u001b[1;33m=\u001b[0m \u001b[0m_broadcast_shape\u001b[0m\u001b[1;33m(\u001b[0m\u001b[1;33m*\u001b[0m\u001b[0margs\u001b[0m\u001b[1;33m)\u001b[0m\u001b[1;33m\u001b[0m\u001b[1;33m\u001b[0m\u001b[0m\n\u001b[0m\u001b[0;32m    265\u001b[0m \u001b[1;33m\u001b[0m\u001b[0m\n\u001b[0;32m    266\u001b[0m     \u001b[1;32mif\u001b[0m \u001b[0mall\u001b[0m\u001b[1;33m(\u001b[0m\u001b[0marray\u001b[0m\u001b[1;33m.\u001b[0m\u001b[0mshape\u001b[0m \u001b[1;33m==\u001b[0m \u001b[0mshape\u001b[0m \u001b[1;32mfor\u001b[0m \u001b[0marray\u001b[0m \u001b[1;32min\u001b[0m \u001b[0margs\u001b[0m\u001b[1;33m)\u001b[0m\u001b[1;33m:\u001b[0m\u001b[1;33m\u001b[0m\u001b[1;33m\u001b[0m\u001b[0m\n",
      "\u001b[1;32m~\\anaconda3\\lib\\site-packages\\numpy\\lib\\stride_tricks.py\u001b[0m in \u001b[0;36m_broadcast_shape\u001b[1;34m(*args)\u001b[0m\n\u001b[0;32m    189\u001b[0m     \u001b[1;31m# use the old-iterator because np.nditer does not handle size 0 arrays\u001b[0m\u001b[1;33m\u001b[0m\u001b[1;33m\u001b[0m\u001b[1;33m\u001b[0m\u001b[0m\n\u001b[0;32m    190\u001b[0m     \u001b[1;31m# consistently\u001b[0m\u001b[1;33m\u001b[0m\u001b[1;33m\u001b[0m\u001b[1;33m\u001b[0m\u001b[0m\n\u001b[1;32m--> 191\u001b[1;33m     \u001b[0mb\u001b[0m \u001b[1;33m=\u001b[0m \u001b[0mnp\u001b[0m\u001b[1;33m.\u001b[0m\u001b[0mbroadcast\u001b[0m\u001b[1;33m(\u001b[0m\u001b[1;33m*\u001b[0m\u001b[0margs\u001b[0m\u001b[1;33m[\u001b[0m\u001b[1;33m:\u001b[0m\u001b[1;36m32\u001b[0m\u001b[1;33m]\u001b[0m\u001b[1;33m)\u001b[0m\u001b[1;33m\u001b[0m\u001b[1;33m\u001b[0m\u001b[0m\n\u001b[0m\u001b[0;32m    192\u001b[0m     \u001b[1;31m# unfortunately, it cannot handle 32 or more arguments directly\u001b[0m\u001b[1;33m\u001b[0m\u001b[1;33m\u001b[0m\u001b[1;33m\u001b[0m\u001b[0m\n\u001b[0;32m    193\u001b[0m     \u001b[1;32mfor\u001b[0m \u001b[0mpos\u001b[0m \u001b[1;32min\u001b[0m \u001b[0mrange\u001b[0m\u001b[1;33m(\u001b[0m\u001b[1;36m32\u001b[0m\u001b[1;33m,\u001b[0m \u001b[0mlen\u001b[0m\u001b[1;33m(\u001b[0m\u001b[0margs\u001b[0m\u001b[1;33m)\u001b[0m\u001b[1;33m,\u001b[0m \u001b[1;36m31\u001b[0m\u001b[1;33m)\u001b[0m\u001b[1;33m:\u001b[0m\u001b[1;33m\u001b[0m\u001b[1;33m\u001b[0m\u001b[0m\n",
      "\u001b[1;31mValueError\u001b[0m: shape mismatch: objects cannot be broadcast to a single shape"
     ]
    }
   ],
   "source": [
    "#plt.scatter(index, combined_low_covidcases['confirmed'], c='red', marker='o')\n",
    "#plt.bar(index, combined_low_covidcases['cumulative_cases'])"
   ]
  },
  {
   "cell_type": "code",
   "execution_count": 95,
   "metadata": {},
   "outputs": [],
   "source": [
    "%reset"
   ]
  },
  {
   "cell_type": "code",
   "execution_count": null,
   "metadata": {},
   "outputs": [],
   "source": []
  }
 ],
 "metadata": {
  "kernelspec": {
   "name": "python3",
   "display_name": "Python 3"
  },
  "language_info": {
   "codemirror_mode": {
    "name": "ipython",
    "version": 3
   },
   "file_extension": ".py",
   "mimetype": "text/x-python",
   "name": "python",
   "nbconvert_exporter": "python",
   "pygments_lexer": "ipython3",
   "version": "3.8.3-final"
  }
 },
 "nbformat": 4,
 "nbformat_minor": 4
}